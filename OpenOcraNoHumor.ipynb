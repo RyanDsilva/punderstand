{
 "cells": [
  {
   "cell_type": "code",
   "execution_count": 3,
   "metadata": {},
   "outputs": [],
   "source": [
    "from llama_cpp import Llama\n",
    "import pandas as pd\n",
    "import json\n",
    "import random\n",
    "from sklearn.metrics import classification_report"
   ]
  },
  {
   "cell_type": "code",
   "execution_count": 23,
   "metadata": {},
   "outputs": [
    {
     "data": {
      "text/html": [
       "<div>\n",
       "<style scoped>\n",
       "    .dataframe tbody tr th:only-of-type {\n",
       "        vertical-align: middle;\n",
       "    }\n",
       "\n",
       "    .dataframe tbody tr th {\n",
       "        vertical-align: top;\n",
       "    }\n",
       "\n",
       "    .dataframe thead th {\n",
       "        text-align: right;\n",
       "    }\n",
       "</style>\n",
       "<table border=\"1\" class=\"dataframe\">\n",
       "  <thead>\n",
       "    <tr style=\"text-align: right;\">\n",
       "      <th></th>\n",
       "      <th>id</th>\n",
       "      <th>text</th>\n",
       "      <th>label</th>\n",
       "    </tr>\n",
       "  </thead>\n",
       "  <tbody>\n",
       "    <tr>\n",
       "      <th>0</th>\n",
       "      <td>het_857</td>\n",
       "      <td>Those whose child is going through a'phase'may...</td>\n",
       "      <td>1</td>\n",
       "    </tr>\n",
       "    <tr>\n",
       "      <th>1</th>\n",
       "      <td>het_368</td>\n",
       "      <td>Bureaucrats cut red tape-- lengthwise.</td>\n",
       "      <td>0</td>\n",
       "    </tr>\n",
       "    <tr>\n",
       "      <th>2</th>\n",
       "      <td>het_1204</td>\n",
       "      <td>If they say you look good in glasses that woul...</td>\n",
       "      <td>1</td>\n",
       "    </tr>\n",
       "    <tr>\n",
       "      <th>3</th>\n",
       "      <td>het_1043</td>\n",
       "      <td>Nearing the end of his sentence, the convicted...</td>\n",
       "      <td>1</td>\n",
       "    </tr>\n",
       "    <tr>\n",
       "      <th>4</th>\n",
       "      <td>het_1098</td>\n",
       "      <td>A logger went to his doctor because of a probl...</td>\n",
       "      <td>1</td>\n",
       "    </tr>\n",
       "  </tbody>\n",
       "</table>\n",
       "</div>"
      ],
      "text/plain": [
       "         id                                               text  label\n",
       "0   het_857  Those whose child is going through a'phase'may...      1\n",
       "1   het_368             Bureaucrats cut red tape-- lengthwise.      0\n",
       "2  het_1204  If they say you look good in glasses that woul...      1\n",
       "3  het_1043  Nearing the end of his sentence, the convicted...      1\n",
       "4  het_1098  A logger went to his doctor because of a probl...      1"
      ]
     },
     "execution_count": 23,
     "metadata": {},
     "output_type": "execute_result"
    }
   ],
   "source": [
    "df = pd.read_json('data/llm_task1_hetero.json', orient=\"records\")\n",
    "df.head()"
   ]
  },
  {
   "cell_type": "code",
   "execution_count": 24,
   "metadata": {},
   "outputs": [
    {
     "data": {
      "text/plain": [
       "445"
      ]
     },
     "execution_count": 24,
     "metadata": {},
     "output_type": "execute_result"
    }
   ],
   "source": [
    "test = df\n",
    "len(test)"
   ]
  },
  {
   "cell_type": "code",
   "execution_count": 4,
   "metadata": {},
   "outputs": [
    {
     "name": "stderr",
     "output_type": "stream",
     "text": [
      "llama_model_loader: loaded meta data with 20 key-value pairs and 291 tensors from models/mistral-7b-openorca.Q6_K.gguf (version GGUF V2)\n",
      "llama_model_loader: - tensor    0:                token_embd.weight q6_K     [  4096, 32002,     1,     1 ]\n",
      "llama_model_loader: - tensor    1:              blk.0.attn_q.weight q6_K     [  4096,  4096,     1,     1 ]\n",
      "llama_model_loader: - tensor    2:              blk.0.attn_k.weight q6_K     [  4096,  1024,     1,     1 ]\n",
      "llama_model_loader: - tensor    3:              blk.0.attn_v.weight q6_K     [  4096,  1024,     1,     1 ]\n",
      "llama_model_loader: - tensor    4:         blk.0.attn_output.weight q6_K     [  4096,  4096,     1,     1 ]\n",
      "llama_model_loader: - tensor    5:            blk.0.ffn_gate.weight q6_K     [  4096, 14336,     1,     1 ]\n",
      "llama_model_loader: - tensor    6:              blk.0.ffn_up.weight q6_K     [  4096, 14336,     1,     1 ]\n",
      "llama_model_loader: - tensor    7:            blk.0.ffn_down.weight q6_K     [ 14336,  4096,     1,     1 ]\n",
      "llama_model_loader: - tensor    8:           blk.0.attn_norm.weight f32      [  4096,     1,     1,     1 ]\n",
      "llama_model_loader: - tensor    9:            blk.0.ffn_norm.weight f32      [  4096,     1,     1,     1 ]\n",
      "llama_model_loader: - tensor   10:              blk.1.attn_q.weight q6_K     [  4096,  4096,     1,     1 ]\n",
      "llama_model_loader: - tensor   11:              blk.1.attn_k.weight q6_K     [  4096,  1024,     1,     1 ]\n",
      "llama_model_loader: - tensor   12:              blk.1.attn_v.weight q6_K     [  4096,  1024,     1,     1 ]\n",
      "llama_model_loader: - tensor   13:         blk.1.attn_output.weight q6_K     [  4096,  4096,     1,     1 ]\n",
      "llama_model_loader: - tensor   14:            blk.1.ffn_gate.weight q6_K     [  4096, 14336,     1,     1 ]\n",
      "llama_model_loader: - tensor   15:              blk.1.ffn_up.weight q6_K     [  4096, 14336,     1,     1 ]\n",
      "llama_model_loader: - tensor   16:            blk.1.ffn_down.weight q6_K     [ 14336,  4096,     1,     1 ]\n",
      "llama_model_loader: - tensor   17:           blk.1.attn_norm.weight f32      [  4096,     1,     1,     1 ]\n",
      "llama_model_loader: - tensor   18:            blk.1.ffn_norm.weight f32      [  4096,     1,     1,     1 ]\n",
      "llama_model_loader: - tensor   19:              blk.2.attn_q.weight q6_K     [  4096,  4096,     1,     1 ]\n",
      "llama_model_loader: - tensor   20:              blk.2.attn_k.weight q6_K     [  4096,  1024,     1,     1 ]\n",
      "llama_model_loader: - tensor   21:              blk.2.attn_v.weight q6_K     [  4096,  1024,     1,     1 ]\n",
      "llama_model_loader: - tensor   22:         blk.2.attn_output.weight q6_K     [  4096,  4096,     1,     1 ]\n",
      "llama_model_loader: - tensor   23:            blk.2.ffn_gate.weight q6_K     [  4096, 14336,     1,     1 ]\n",
      "llama_model_loader: - tensor   24:              blk.2.ffn_up.weight q6_K     [  4096, 14336,     1,     1 ]\n",
      "llama_model_loader: - tensor   25:            blk.2.ffn_down.weight q6_K     [ 14336,  4096,     1,     1 ]\n",
      "llama_model_loader: - tensor   26:           blk.2.attn_norm.weight f32      [  4096,     1,     1,     1 ]\n",
      "llama_model_loader: - tensor   27:            blk.2.ffn_norm.weight f32      [  4096,     1,     1,     1 ]\n",
      "llama_model_loader: - tensor   28:              blk.3.attn_q.weight q6_K     [  4096,  4096,     1,     1 ]\n",
      "llama_model_loader: - tensor   29:              blk.3.attn_k.weight q6_K     [  4096,  1024,     1,     1 ]\n",
      "llama_model_loader: - tensor   30:              blk.3.attn_v.weight q6_K     [  4096,  1024,     1,     1 ]\n",
      "llama_model_loader: - tensor   31:         blk.3.attn_output.weight q6_K     [  4096,  4096,     1,     1 ]\n",
      "llama_model_loader: - tensor   32:            blk.3.ffn_gate.weight q6_K     [  4096, 14336,     1,     1 ]\n",
      "llama_model_loader: - tensor   33:              blk.3.ffn_up.weight q6_K     [  4096, 14336,     1,     1 ]\n",
      "llama_model_loader: - tensor   34:            blk.3.ffn_down.weight q6_K     [ 14336,  4096,     1,     1 ]\n",
      "llama_model_loader: - tensor   35:           blk.3.attn_norm.weight f32      [  4096,     1,     1,     1 ]\n",
      "llama_model_loader: - tensor   36:            blk.3.ffn_norm.weight f32      [  4096,     1,     1,     1 ]\n",
      "llama_model_loader: - tensor   37:              blk.4.attn_q.weight q6_K     [  4096,  4096,     1,     1 ]\n",
      "llama_model_loader: - tensor   38:              blk.4.attn_k.weight q6_K     [  4096,  1024,     1,     1 ]\n",
      "llama_model_loader: - tensor   39:              blk.4.attn_v.weight q6_K     [  4096,  1024,     1,     1 ]\n",
      "llama_model_loader: - tensor   40:         blk.4.attn_output.weight q6_K     [  4096,  4096,     1,     1 ]\n",
      "llama_model_loader: - tensor   41:            blk.4.ffn_gate.weight q6_K     [  4096, 14336,     1,     1 ]\n",
      "llama_model_loader: - tensor   42:              blk.4.ffn_up.weight q6_K     [  4096, 14336,     1,     1 ]\n",
      "llama_model_loader: - tensor   43:            blk.4.ffn_down.weight q6_K     [ 14336,  4096,     1,     1 ]\n",
      "llama_model_loader: - tensor   44:           blk.4.attn_norm.weight f32      [  4096,     1,     1,     1 ]\n",
      "llama_model_loader: - tensor   45:            blk.4.ffn_norm.weight f32      [  4096,     1,     1,     1 ]\n",
      "llama_model_loader: - tensor   46:              blk.5.attn_q.weight q6_K     [  4096,  4096,     1,     1 ]\n",
      "llama_model_loader: - tensor   47:              blk.5.attn_k.weight q6_K     [  4096,  1024,     1,     1 ]\n",
      "llama_model_loader: - tensor   48:              blk.5.attn_v.weight q6_K     [  4096,  1024,     1,     1 ]\n",
      "llama_model_loader: - tensor   49:         blk.5.attn_output.weight q6_K     [  4096,  4096,     1,     1 ]\n",
      "llama_model_loader: - tensor   50:            blk.5.ffn_gate.weight q6_K     [  4096, 14336,     1,     1 ]\n",
      "llama_model_loader: - tensor   51:              blk.5.ffn_up.weight q6_K     [  4096, 14336,     1,     1 ]\n",
      "llama_model_loader: - tensor   52:            blk.5.ffn_down.weight q6_K     [ 14336,  4096,     1,     1 ]\n",
      "llama_model_loader: - tensor   53:           blk.5.attn_norm.weight f32      [  4096,     1,     1,     1 ]\n",
      "llama_model_loader: - tensor   54:            blk.5.ffn_norm.weight f32      [  4096,     1,     1,     1 ]\n",
      "llama_model_loader: - tensor   55:              blk.6.attn_q.weight q6_K     [  4096,  4096,     1,     1 ]\n",
      "llama_model_loader: - tensor   56:              blk.6.attn_k.weight q6_K     [  4096,  1024,     1,     1 ]\n",
      "llama_model_loader: - tensor   57:              blk.6.attn_v.weight q6_K     [  4096,  1024,     1,     1 ]\n",
      "llama_model_loader: - tensor   58:         blk.6.attn_output.weight q6_K     [  4096,  4096,     1,     1 ]\n",
      "llama_model_loader: - tensor   59:            blk.6.ffn_gate.weight q6_K     [  4096, 14336,     1,     1 ]\n",
      "llama_model_loader: - tensor   60:              blk.6.ffn_up.weight q6_K     [  4096, 14336,     1,     1 ]\n",
      "llama_model_loader: - tensor   61:            blk.6.ffn_down.weight q6_K     [ 14336,  4096,     1,     1 ]\n",
      "llama_model_loader: - tensor   62:           blk.6.attn_norm.weight f32      [  4096,     1,     1,     1 ]\n",
      "llama_model_loader: - tensor   63:            blk.6.ffn_norm.weight f32      [  4096,     1,     1,     1 ]\n",
      "llama_model_loader: - tensor   64:              blk.7.attn_q.weight q6_K     [  4096,  4096,     1,     1 ]\n",
      "llama_model_loader: - tensor   65:              blk.7.attn_k.weight q6_K     [  4096,  1024,     1,     1 ]\n",
      "llama_model_loader: - tensor   66:              blk.7.attn_v.weight q6_K     [  4096,  1024,     1,     1 ]\n",
      "llama_model_loader: - tensor   67:         blk.7.attn_output.weight q6_K     [  4096,  4096,     1,     1 ]\n",
      "llama_model_loader: - tensor   68:            blk.7.ffn_gate.weight q6_K     [  4096, 14336,     1,     1 ]\n",
      "llama_model_loader: - tensor   69:              blk.7.ffn_up.weight q6_K     [  4096, 14336,     1,     1 ]\n",
      "llama_model_loader: - tensor   70:            blk.7.ffn_down.weight q6_K     [ 14336,  4096,     1,     1 ]\n",
      "llama_model_loader: - tensor   71:           blk.7.attn_norm.weight f32      [  4096,     1,     1,     1 ]\n",
      "llama_model_loader: - tensor   72:            blk.7.ffn_norm.weight f32      [  4096,     1,     1,     1 ]\n",
      "llama_model_loader: - tensor   73:              blk.8.attn_q.weight q6_K     [  4096,  4096,     1,     1 ]\n",
      "llama_model_loader: - tensor   74:              blk.8.attn_k.weight q6_K     [  4096,  1024,     1,     1 ]\n",
      "llama_model_loader: - tensor   75:              blk.8.attn_v.weight q6_K     [  4096,  1024,     1,     1 ]\n",
      "llama_model_loader: - tensor   76:         blk.8.attn_output.weight q6_K     [  4096,  4096,     1,     1 ]\n",
      "llama_model_loader: - tensor   77:            blk.8.ffn_gate.weight q6_K     [  4096, 14336,     1,     1 ]\n",
      "llama_model_loader: - tensor   78:              blk.8.ffn_up.weight q6_K     [  4096, 14336,     1,     1 ]\n",
      "llama_model_loader: - tensor   79:            blk.8.ffn_down.weight q6_K     [ 14336,  4096,     1,     1 ]\n",
      "llama_model_loader: - tensor   80:           blk.8.attn_norm.weight f32      [  4096,     1,     1,     1 ]\n",
      "llama_model_loader: - tensor   81:            blk.8.ffn_norm.weight f32      [  4096,     1,     1,     1 ]\n",
      "llama_model_loader: - tensor   82:              blk.9.attn_q.weight q6_K     [  4096,  4096,     1,     1 ]\n",
      "llama_model_loader: - tensor   83:              blk.9.attn_k.weight q6_K     [  4096,  1024,     1,     1 ]\n",
      "llama_model_loader: - tensor   84:              blk.9.attn_v.weight q6_K     [  4096,  1024,     1,     1 ]\n",
      "llama_model_loader: - tensor   85:         blk.9.attn_output.weight q6_K     [  4096,  4096,     1,     1 ]\n",
      "llama_model_loader: - tensor   86:            blk.9.ffn_gate.weight q6_K     [  4096, 14336,     1,     1 ]\n",
      "llama_model_loader: - tensor   87:              blk.9.ffn_up.weight q6_K     [  4096, 14336,     1,     1 ]\n",
      "llama_model_loader: - tensor   88:            blk.9.ffn_down.weight q6_K     [ 14336,  4096,     1,     1 ]\n",
      "llama_model_loader: - tensor   89:           blk.9.attn_norm.weight f32      [  4096,     1,     1,     1 ]\n",
      "llama_model_loader: - tensor   90:            blk.9.ffn_norm.weight f32      [  4096,     1,     1,     1 ]\n",
      "llama_model_loader: - tensor   91:             blk.10.attn_q.weight q6_K     [  4096,  4096,     1,     1 ]\n",
      "llama_model_loader: - tensor   92:             blk.10.attn_k.weight q6_K     [  4096,  1024,     1,     1 ]\n",
      "llama_model_loader: - tensor   93:             blk.10.attn_v.weight q6_K     [  4096,  1024,     1,     1 ]\n",
      "llama_model_loader: - tensor   94:        blk.10.attn_output.weight q6_K     [  4096,  4096,     1,     1 ]\n",
      "llama_model_loader: - tensor   95:           blk.10.ffn_gate.weight q6_K     [  4096, 14336,     1,     1 ]\n",
      "llama_model_loader: - tensor   96:             blk.10.ffn_up.weight q6_K     [  4096, 14336,     1,     1 ]\n",
      "llama_model_loader: - tensor   97:           blk.10.ffn_down.weight q6_K     [ 14336,  4096,     1,     1 ]\n",
      "llama_model_loader: - tensor   98:          blk.10.attn_norm.weight f32      [  4096,     1,     1,     1 ]\n",
      "llama_model_loader: - tensor   99:           blk.10.ffn_norm.weight f32      [  4096,     1,     1,     1 ]\n",
      "llama_model_loader: - tensor  100:             blk.11.attn_q.weight q6_K     [  4096,  4096,     1,     1 ]\n",
      "llama_model_loader: - tensor  101:             blk.11.attn_k.weight q6_K     [  4096,  1024,     1,     1 ]\n",
      "llama_model_loader: - tensor  102:             blk.11.attn_v.weight q6_K     [  4096,  1024,     1,     1 ]\n",
      "llama_model_loader: - tensor  103:        blk.11.attn_output.weight q6_K     [  4096,  4096,     1,     1 ]\n",
      "llama_model_loader: - tensor  104:           blk.11.ffn_gate.weight q6_K     [  4096, 14336,     1,     1 ]\n",
      "llama_model_loader: - tensor  105:             blk.11.ffn_up.weight q6_K     [  4096, 14336,     1,     1 ]\n",
      "llama_model_loader: - tensor  106:           blk.11.ffn_down.weight q6_K     [ 14336,  4096,     1,     1 ]\n",
      "llama_model_loader: - tensor  107:          blk.11.attn_norm.weight f32      [  4096,     1,     1,     1 ]\n",
      "llama_model_loader: - tensor  108:           blk.11.ffn_norm.weight f32      [  4096,     1,     1,     1 ]\n",
      "llama_model_loader: - tensor  109:             blk.12.attn_q.weight q6_K     [  4096,  4096,     1,     1 ]\n",
      "llama_model_loader: - tensor  110:             blk.12.attn_k.weight q6_K     [  4096,  1024,     1,     1 ]\n",
      "llama_model_loader: - tensor  111:             blk.12.attn_v.weight q6_K     [  4096,  1024,     1,     1 ]\n",
      "llama_model_loader: - tensor  112:        blk.12.attn_output.weight q6_K     [  4096,  4096,     1,     1 ]\n",
      "llama_model_loader: - tensor  113:           blk.12.ffn_gate.weight q6_K     [  4096, 14336,     1,     1 ]\n",
      "llama_model_loader: - tensor  114:             blk.12.ffn_up.weight q6_K     [  4096, 14336,     1,     1 ]\n",
      "llama_model_loader: - tensor  115:           blk.12.ffn_down.weight q6_K     [ 14336,  4096,     1,     1 ]\n",
      "llama_model_loader: - tensor  116:          blk.12.attn_norm.weight f32      [  4096,     1,     1,     1 ]\n",
      "llama_model_loader: - tensor  117:           blk.12.ffn_norm.weight f32      [  4096,     1,     1,     1 ]\n",
      "llama_model_loader: - tensor  118:             blk.13.attn_q.weight q6_K     [  4096,  4096,     1,     1 ]\n",
      "llama_model_loader: - tensor  119:             blk.13.attn_k.weight q6_K     [  4096,  1024,     1,     1 ]\n",
      "llama_model_loader: - tensor  120:             blk.13.attn_v.weight q6_K     [  4096,  1024,     1,     1 ]\n",
      "llama_model_loader: - tensor  121:        blk.13.attn_output.weight q6_K     [  4096,  4096,     1,     1 ]\n",
      "llama_model_loader: - tensor  122:           blk.13.ffn_gate.weight q6_K     [  4096, 14336,     1,     1 ]\n",
      "llama_model_loader: - tensor  123:             blk.13.ffn_up.weight q6_K     [  4096, 14336,     1,     1 ]\n",
      "llama_model_loader: - tensor  124:           blk.13.ffn_down.weight q6_K     [ 14336,  4096,     1,     1 ]\n",
      "llama_model_loader: - tensor  125:          blk.13.attn_norm.weight f32      [  4096,     1,     1,     1 ]\n",
      "llama_model_loader: - tensor  126:           blk.13.ffn_norm.weight f32      [  4096,     1,     1,     1 ]\n",
      "llama_model_loader: - tensor  127:             blk.14.attn_q.weight q6_K     [  4096,  4096,     1,     1 ]\n",
      "llama_model_loader: - tensor  128:             blk.14.attn_k.weight q6_K     [  4096,  1024,     1,     1 ]\n",
      "llama_model_loader: - tensor  129:             blk.14.attn_v.weight q6_K     [  4096,  1024,     1,     1 ]\n",
      "llama_model_loader: - tensor  130:        blk.14.attn_output.weight q6_K     [  4096,  4096,     1,     1 ]\n",
      "llama_model_loader: - tensor  131:           blk.14.ffn_gate.weight q6_K     [  4096, 14336,     1,     1 ]\n",
      "llama_model_loader: - tensor  132:             blk.14.ffn_up.weight q6_K     [  4096, 14336,     1,     1 ]\n",
      "llama_model_loader: - tensor  133:           blk.14.ffn_down.weight q6_K     [ 14336,  4096,     1,     1 ]\n",
      "llama_model_loader: - tensor  134:          blk.14.attn_norm.weight f32      [  4096,     1,     1,     1 ]\n",
      "llama_model_loader: - tensor  135:           blk.14.ffn_norm.weight f32      [  4096,     1,     1,     1 ]\n",
      "llama_model_loader: - tensor  136:             blk.15.attn_q.weight q6_K     [  4096,  4096,     1,     1 ]\n",
      "llama_model_loader: - tensor  137:             blk.15.attn_k.weight q6_K     [  4096,  1024,     1,     1 ]\n",
      "llama_model_loader: - tensor  138:             blk.15.attn_v.weight q6_K     [  4096,  1024,     1,     1 ]\n",
      "llama_model_loader: - tensor  139:        blk.15.attn_output.weight q6_K     [  4096,  4096,     1,     1 ]\n",
      "llama_model_loader: - tensor  140:           blk.15.ffn_gate.weight q6_K     [  4096, 14336,     1,     1 ]\n",
      "llama_model_loader: - tensor  141:             blk.15.ffn_up.weight q6_K     [  4096, 14336,     1,     1 ]\n",
      "llama_model_loader: - tensor  142:           blk.15.ffn_down.weight q6_K     [ 14336,  4096,     1,     1 ]\n",
      "llama_model_loader: - tensor  143:          blk.15.attn_norm.weight f32      [  4096,     1,     1,     1 ]\n",
      "llama_model_loader: - tensor  144:           blk.15.ffn_norm.weight f32      [  4096,     1,     1,     1 ]\n",
      "llama_model_loader: - tensor  145:             blk.16.attn_q.weight q6_K     [  4096,  4096,     1,     1 ]\n",
      "llama_model_loader: - tensor  146:             blk.16.attn_k.weight q6_K     [  4096,  1024,     1,     1 ]\n",
      "llama_model_loader: - tensor  147:             blk.16.attn_v.weight q6_K     [  4096,  1024,     1,     1 ]\n",
      "llama_model_loader: - tensor  148:        blk.16.attn_output.weight q6_K     [  4096,  4096,     1,     1 ]\n",
      "llama_model_loader: - tensor  149:           blk.16.ffn_gate.weight q6_K     [  4096, 14336,     1,     1 ]\n",
      "llama_model_loader: - tensor  150:             blk.16.ffn_up.weight q6_K     [  4096, 14336,     1,     1 ]\n",
      "llama_model_loader: - tensor  151:           blk.16.ffn_down.weight q6_K     [ 14336,  4096,     1,     1 ]\n",
      "llama_model_loader: - tensor  152:          blk.16.attn_norm.weight f32      [  4096,     1,     1,     1 ]\n",
      "llama_model_loader: - tensor  153:           blk.16.ffn_norm.weight f32      [  4096,     1,     1,     1 ]\n",
      "llama_model_loader: - tensor  154:             blk.17.attn_q.weight q6_K     [  4096,  4096,     1,     1 ]\n",
      "llama_model_loader: - tensor  155:             blk.17.attn_k.weight q6_K     [  4096,  1024,     1,     1 ]\n",
      "llama_model_loader: - tensor  156:             blk.17.attn_v.weight q6_K     [  4096,  1024,     1,     1 ]\n",
      "llama_model_loader: - tensor  157:        blk.17.attn_output.weight q6_K     [  4096,  4096,     1,     1 ]\n",
      "llama_model_loader: - tensor  158:           blk.17.ffn_gate.weight q6_K     [  4096, 14336,     1,     1 ]\n",
      "llama_model_loader: - tensor  159:             blk.17.ffn_up.weight q6_K     [  4096, 14336,     1,     1 ]\n",
      "llama_model_loader: - tensor  160:           blk.17.ffn_down.weight q6_K     [ 14336,  4096,     1,     1 ]\n",
      "llama_model_loader: - tensor  161:          blk.17.attn_norm.weight f32      [  4096,     1,     1,     1 ]\n",
      "llama_model_loader: - tensor  162:           blk.17.ffn_norm.weight f32      [  4096,     1,     1,     1 ]\n",
      "llama_model_loader: - tensor  163:             blk.18.attn_q.weight q6_K     [  4096,  4096,     1,     1 ]\n",
      "llama_model_loader: - tensor  164:             blk.18.attn_k.weight q6_K     [  4096,  1024,     1,     1 ]\n",
      "llama_model_loader: - tensor  165:             blk.18.attn_v.weight q6_K     [  4096,  1024,     1,     1 ]\n",
      "llama_model_loader: - tensor  166:        blk.18.attn_output.weight q6_K     [  4096,  4096,     1,     1 ]\n",
      "llama_model_loader: - tensor  167:           blk.18.ffn_gate.weight q6_K     [  4096, 14336,     1,     1 ]\n",
      "llama_model_loader: - tensor  168:             blk.18.ffn_up.weight q6_K     [  4096, 14336,     1,     1 ]\n",
      "llama_model_loader: - tensor  169:           blk.18.ffn_down.weight q6_K     [ 14336,  4096,     1,     1 ]\n",
      "llama_model_loader: - tensor  170:          blk.18.attn_norm.weight f32      [  4096,     1,     1,     1 ]\n",
      "llama_model_loader: - tensor  171:           blk.18.ffn_norm.weight f32      [  4096,     1,     1,     1 ]\n",
      "llama_model_loader: - tensor  172:             blk.19.attn_q.weight q6_K     [  4096,  4096,     1,     1 ]\n",
      "llama_model_loader: - tensor  173:             blk.19.attn_k.weight q6_K     [  4096,  1024,     1,     1 ]\n",
      "llama_model_loader: - tensor  174:             blk.19.attn_v.weight q6_K     [  4096,  1024,     1,     1 ]\n",
      "llama_model_loader: - tensor  175:        blk.19.attn_output.weight q6_K     [  4096,  4096,     1,     1 ]\n",
      "llama_model_loader: - tensor  176:           blk.19.ffn_gate.weight q6_K     [  4096, 14336,     1,     1 ]\n",
      "llama_model_loader: - tensor  177:             blk.19.ffn_up.weight q6_K     [  4096, 14336,     1,     1 ]\n",
      "llama_model_loader: - tensor  178:           blk.19.ffn_down.weight q6_K     [ 14336,  4096,     1,     1 ]\n",
      "llama_model_loader: - tensor  179:          blk.19.attn_norm.weight f32      [  4096,     1,     1,     1 ]\n",
      "llama_model_loader: - tensor  180:           blk.19.ffn_norm.weight f32      [  4096,     1,     1,     1 ]\n",
      "llama_model_loader: - tensor  181:             blk.20.attn_q.weight q6_K     [  4096,  4096,     1,     1 ]\n",
      "llama_model_loader: - tensor  182:             blk.20.attn_k.weight q6_K     [  4096,  1024,     1,     1 ]\n",
      "llama_model_loader: - tensor  183:             blk.20.attn_v.weight q6_K     [  4096,  1024,     1,     1 ]\n",
      "llama_model_loader: - tensor  184:        blk.20.attn_output.weight q6_K     [  4096,  4096,     1,     1 ]\n",
      "llama_model_loader: - tensor  185:           blk.20.ffn_gate.weight q6_K     [  4096, 14336,     1,     1 ]\n",
      "llama_model_loader: - tensor  186:             blk.20.ffn_up.weight q6_K     [  4096, 14336,     1,     1 ]\n",
      "llama_model_loader: - tensor  187:           blk.20.ffn_down.weight q6_K     [ 14336,  4096,     1,     1 ]\n",
      "llama_model_loader: - tensor  188:          blk.20.attn_norm.weight f32      [  4096,     1,     1,     1 ]\n",
      "llama_model_loader: - tensor  189:           blk.20.ffn_norm.weight f32      [  4096,     1,     1,     1 ]\n",
      "llama_model_loader: - tensor  190:             blk.21.attn_q.weight q6_K     [  4096,  4096,     1,     1 ]\n",
      "llama_model_loader: - tensor  191:             blk.21.attn_k.weight q6_K     [  4096,  1024,     1,     1 ]\n",
      "llama_model_loader: - tensor  192:             blk.21.attn_v.weight q6_K     [  4096,  1024,     1,     1 ]\n",
      "llama_model_loader: - tensor  193:        blk.21.attn_output.weight q6_K     [  4096,  4096,     1,     1 ]\n",
      "llama_model_loader: - tensor  194:           blk.21.ffn_gate.weight q6_K     [  4096, 14336,     1,     1 ]\n",
      "llama_model_loader: - tensor  195:             blk.21.ffn_up.weight q6_K     [  4096, 14336,     1,     1 ]\n",
      "llama_model_loader: - tensor  196:           blk.21.ffn_down.weight q6_K     [ 14336,  4096,     1,     1 ]\n",
      "llama_model_loader: - tensor  197:          blk.21.attn_norm.weight f32      [  4096,     1,     1,     1 ]\n",
      "llama_model_loader: - tensor  198:           blk.21.ffn_norm.weight f32      [  4096,     1,     1,     1 ]\n",
      "llama_model_loader: - tensor  199:             blk.22.attn_q.weight q6_K     [  4096,  4096,     1,     1 ]\n",
      "llama_model_loader: - tensor  200:             blk.22.attn_k.weight q6_K     [  4096,  1024,     1,     1 ]\n",
      "llama_model_loader: - tensor  201:             blk.22.attn_v.weight q6_K     [  4096,  1024,     1,     1 ]\n",
      "llama_model_loader: - tensor  202:        blk.22.attn_output.weight q6_K     [  4096,  4096,     1,     1 ]\n",
      "llama_model_loader: - tensor  203:           blk.22.ffn_gate.weight q6_K     [  4096, 14336,     1,     1 ]\n",
      "llama_model_loader: - tensor  204:             blk.22.ffn_up.weight q6_K     [  4096, 14336,     1,     1 ]\n",
      "llama_model_loader: - tensor  205:           blk.22.ffn_down.weight q6_K     [ 14336,  4096,     1,     1 ]\n",
      "llama_model_loader: - tensor  206:          blk.22.attn_norm.weight f32      [  4096,     1,     1,     1 ]\n",
      "llama_model_loader: - tensor  207:           blk.22.ffn_norm.weight f32      [  4096,     1,     1,     1 ]\n",
      "llama_model_loader: - tensor  208:             blk.23.attn_q.weight q6_K     [  4096,  4096,     1,     1 ]\n",
      "llama_model_loader: - tensor  209:             blk.23.attn_k.weight q6_K     [  4096,  1024,     1,     1 ]\n",
      "llama_model_loader: - tensor  210:             blk.23.attn_v.weight q6_K     [  4096,  1024,     1,     1 ]\n",
      "llama_model_loader: - tensor  211:        blk.23.attn_output.weight q6_K     [  4096,  4096,     1,     1 ]\n",
      "llama_model_loader: - tensor  212:           blk.23.ffn_gate.weight q6_K     [  4096, 14336,     1,     1 ]\n",
      "llama_model_loader: - tensor  213:             blk.23.ffn_up.weight q6_K     [  4096, 14336,     1,     1 ]\n",
      "llama_model_loader: - tensor  214:           blk.23.ffn_down.weight q6_K     [ 14336,  4096,     1,     1 ]\n",
      "llama_model_loader: - tensor  215:          blk.23.attn_norm.weight f32      [  4096,     1,     1,     1 ]\n",
      "llama_model_loader: - tensor  216:           blk.23.ffn_norm.weight f32      [  4096,     1,     1,     1 ]\n",
      "llama_model_loader: - tensor  217:             blk.24.attn_q.weight q6_K     [  4096,  4096,     1,     1 ]\n",
      "llama_model_loader: - tensor  218:             blk.24.attn_k.weight q6_K     [  4096,  1024,     1,     1 ]\n",
      "llama_model_loader: - tensor  219:             blk.24.attn_v.weight q6_K     [  4096,  1024,     1,     1 ]\n",
      "llama_model_loader: - tensor  220:        blk.24.attn_output.weight q6_K     [  4096,  4096,     1,     1 ]\n",
      "llama_model_loader: - tensor  221:           blk.24.ffn_gate.weight q6_K     [  4096, 14336,     1,     1 ]\n",
      "llama_model_loader: - tensor  222:             blk.24.ffn_up.weight q6_K     [  4096, 14336,     1,     1 ]\n",
      "llama_model_loader: - tensor  223:           blk.24.ffn_down.weight q6_K     [ 14336,  4096,     1,     1 ]\n",
      "llama_model_loader: - tensor  224:          blk.24.attn_norm.weight f32      [  4096,     1,     1,     1 ]\n",
      "llama_model_loader: - tensor  225:           blk.24.ffn_norm.weight f32      [  4096,     1,     1,     1 ]\n",
      "llama_model_loader: - tensor  226:             blk.25.attn_q.weight q6_K     [  4096,  4096,     1,     1 ]\n",
      "llama_model_loader: - tensor  227:             blk.25.attn_k.weight q6_K     [  4096,  1024,     1,     1 ]\n",
      "llama_model_loader: - tensor  228:             blk.25.attn_v.weight q6_K     [  4096,  1024,     1,     1 ]\n",
      "llama_model_loader: - tensor  229:        blk.25.attn_output.weight q6_K     [  4096,  4096,     1,     1 ]\n",
      "llama_model_loader: - tensor  230:           blk.25.ffn_gate.weight q6_K     [  4096, 14336,     1,     1 ]\n",
      "llama_model_loader: - tensor  231:             blk.25.ffn_up.weight q6_K     [  4096, 14336,     1,     1 ]\n",
      "llama_model_loader: - tensor  232:           blk.25.ffn_down.weight q6_K     [ 14336,  4096,     1,     1 ]\n",
      "llama_model_loader: - tensor  233:          blk.25.attn_norm.weight f32      [  4096,     1,     1,     1 ]\n",
      "llama_model_loader: - tensor  234:           blk.25.ffn_norm.weight f32      [  4096,     1,     1,     1 ]\n",
      "llama_model_loader: - tensor  235:             blk.26.attn_q.weight q6_K     [  4096,  4096,     1,     1 ]\n",
      "llama_model_loader: - tensor  236:             blk.26.attn_k.weight q6_K     [  4096,  1024,     1,     1 ]\n",
      "llama_model_loader: - tensor  237:             blk.26.attn_v.weight q6_K     [  4096,  1024,     1,     1 ]\n",
      "llama_model_loader: - tensor  238:        blk.26.attn_output.weight q6_K     [  4096,  4096,     1,     1 ]\n",
      "llama_model_loader: - tensor  239:           blk.26.ffn_gate.weight q6_K     [  4096, 14336,     1,     1 ]\n",
      "llama_model_loader: - tensor  240:             blk.26.ffn_up.weight q6_K     [  4096, 14336,     1,     1 ]\n",
      "llama_model_loader: - tensor  241:           blk.26.ffn_down.weight q6_K     [ 14336,  4096,     1,     1 ]\n",
      "llama_model_loader: - tensor  242:          blk.26.attn_norm.weight f32      [  4096,     1,     1,     1 ]\n",
      "llama_model_loader: - tensor  243:           blk.26.ffn_norm.weight f32      [  4096,     1,     1,     1 ]\n",
      "llama_model_loader: - tensor  244:             blk.27.attn_q.weight q6_K     [  4096,  4096,     1,     1 ]\n",
      "llama_model_loader: - tensor  245:             blk.27.attn_k.weight q6_K     [  4096,  1024,     1,     1 ]\n",
      "llama_model_loader: - tensor  246:             blk.27.attn_v.weight q6_K     [  4096,  1024,     1,     1 ]\n",
      "llama_model_loader: - tensor  247:        blk.27.attn_output.weight q6_K     [  4096,  4096,     1,     1 ]\n",
      "llama_model_loader: - tensor  248:           blk.27.ffn_gate.weight q6_K     [  4096, 14336,     1,     1 ]\n",
      "llama_model_loader: - tensor  249:             blk.27.ffn_up.weight q6_K     [  4096, 14336,     1,     1 ]\n",
      "llama_model_loader: - tensor  250:           blk.27.ffn_down.weight q6_K     [ 14336,  4096,     1,     1 ]\n",
      "llama_model_loader: - tensor  251:          blk.27.attn_norm.weight f32      [  4096,     1,     1,     1 ]\n",
      "llama_model_loader: - tensor  252:           blk.27.ffn_norm.weight f32      [  4096,     1,     1,     1 ]\n",
      "llama_model_loader: - tensor  253:             blk.28.attn_q.weight q6_K     [  4096,  4096,     1,     1 ]\n",
      "llama_model_loader: - tensor  254:             blk.28.attn_k.weight q6_K     [  4096,  1024,     1,     1 ]\n",
      "llama_model_loader: - tensor  255:             blk.28.attn_v.weight q6_K     [  4096,  1024,     1,     1 ]\n",
      "llama_model_loader: - tensor  256:        blk.28.attn_output.weight q6_K     [  4096,  4096,     1,     1 ]\n",
      "llama_model_loader: - tensor  257:           blk.28.ffn_gate.weight q6_K     [  4096, 14336,     1,     1 ]\n",
      "llama_model_loader: - tensor  258:             blk.28.ffn_up.weight q6_K     [  4096, 14336,     1,     1 ]\n",
      "llama_model_loader: - tensor  259:           blk.28.ffn_down.weight q6_K     [ 14336,  4096,     1,     1 ]\n",
      "llama_model_loader: - tensor  260:          blk.28.attn_norm.weight f32      [  4096,     1,     1,     1 ]\n",
      "llama_model_loader: - tensor  261:           blk.28.ffn_norm.weight f32      [  4096,     1,     1,     1 ]\n",
      "llama_model_loader: - tensor  262:             blk.29.attn_q.weight q6_K     [  4096,  4096,     1,     1 ]\n",
      "llama_model_loader: - tensor  263:             blk.29.attn_k.weight q6_K     [  4096,  1024,     1,     1 ]\n",
      "llama_model_loader: - tensor  264:             blk.29.attn_v.weight q6_K     [  4096,  1024,     1,     1 ]\n",
      "llama_model_loader: - tensor  265:        blk.29.attn_output.weight q6_K     [  4096,  4096,     1,     1 ]\n",
      "llama_model_loader: - tensor  266:           blk.29.ffn_gate.weight q6_K     [  4096, 14336,     1,     1 ]\n",
      "llama_model_loader: - tensor  267:             blk.29.ffn_up.weight q6_K     [  4096, 14336,     1,     1 ]\n",
      "llama_model_loader: - tensor  268:           blk.29.ffn_down.weight q6_K     [ 14336,  4096,     1,     1 ]\n",
      "llama_model_loader: - tensor  269:          blk.29.attn_norm.weight f32      [  4096,     1,     1,     1 ]\n",
      "llama_model_loader: - tensor  270:           blk.29.ffn_norm.weight f32      [  4096,     1,     1,     1 ]\n",
      "llama_model_loader: - tensor  271:             blk.30.attn_q.weight q6_K     [  4096,  4096,     1,     1 ]\n",
      "llama_model_loader: - tensor  272:             blk.30.attn_k.weight q6_K     [  4096,  1024,     1,     1 ]\n",
      "llama_model_loader: - tensor  273:             blk.30.attn_v.weight q6_K     [  4096,  1024,     1,     1 ]\n",
      "llama_model_loader: - tensor  274:        blk.30.attn_output.weight q6_K     [  4096,  4096,     1,     1 ]\n",
      "llama_model_loader: - tensor  275:           blk.30.ffn_gate.weight q6_K     [  4096, 14336,     1,     1 ]\n",
      "llama_model_loader: - tensor  276:             blk.30.ffn_up.weight q6_K     [  4096, 14336,     1,     1 ]\n",
      "llama_model_loader: - tensor  277:           blk.30.ffn_down.weight q6_K     [ 14336,  4096,     1,     1 ]\n",
      "llama_model_loader: - tensor  278:          blk.30.attn_norm.weight f32      [  4096,     1,     1,     1 ]\n",
      "llama_model_loader: - tensor  279:           blk.30.ffn_norm.weight f32      [  4096,     1,     1,     1 ]\n",
      "llama_model_loader: - tensor  280:             blk.31.attn_q.weight q6_K     [  4096,  4096,     1,     1 ]\n",
      "llama_model_loader: - tensor  281:             blk.31.attn_k.weight q6_K     [  4096,  1024,     1,     1 ]\n",
      "llama_model_loader: - tensor  282:             blk.31.attn_v.weight q6_K     [  4096,  1024,     1,     1 ]\n",
      "llama_model_loader: - tensor  283:        blk.31.attn_output.weight q6_K     [  4096,  4096,     1,     1 ]\n",
      "llama_model_loader: - tensor  284:           blk.31.ffn_gate.weight q6_K     [  4096, 14336,     1,     1 ]\n",
      "llama_model_loader: - tensor  285:             blk.31.ffn_up.weight q6_K     [  4096, 14336,     1,     1 ]\n",
      "llama_model_loader: - tensor  286:           blk.31.ffn_down.weight q6_K     [ 14336,  4096,     1,     1 ]\n",
      "llama_model_loader: - tensor  287:          blk.31.attn_norm.weight f32      [  4096,     1,     1,     1 ]\n",
      "llama_model_loader: - tensor  288:           blk.31.ffn_norm.weight f32      [  4096,     1,     1,     1 ]\n",
      "llama_model_loader: - tensor  289:               output_norm.weight f32      [  4096,     1,     1,     1 ]\n",
      "llama_model_loader: - tensor  290:                    output.weight q6_K     [  4096, 32002,     1,     1 ]\n",
      "llama_model_loader: - kv   0:                       general.architecture str              = llama\n",
      "llama_model_loader: - kv   1:                               general.name str              = open-orca_mistral-7b-openorca\n",
      "llama_model_loader: - kv   2:                       llama.context_length u32              = 32768\n",
      "llama_model_loader: - kv   3:                     llama.embedding_length u32              = 4096\n",
      "llama_model_loader: - kv   4:                          llama.block_count u32              = 32\n",
      "llama_model_loader: - kv   5:                  llama.feed_forward_length u32              = 14336\n",
      "llama_model_loader: - kv   6:                 llama.rope.dimension_count u32              = 128\n",
      "llama_model_loader: - kv   7:                 llama.attention.head_count u32              = 32\n",
      "llama_model_loader: - kv   8:              llama.attention.head_count_kv u32              = 8\n",
      "llama_model_loader: - kv   9:     llama.attention.layer_norm_rms_epsilon f32              = 0.000010\n",
      "llama_model_loader: - kv  10:                       llama.rope.freq_base f32              = 10000.000000\n",
      "llama_model_loader: - kv  11:                          general.file_type u32              = 18\n",
      "llama_model_loader: - kv  12:                       tokenizer.ggml.model str              = llama\n",
      "llama_model_loader: - kv  13:                      tokenizer.ggml.tokens arr[str,32002]   = [\"<unk>\", \"<s>\", \"</s>\", \"<0x00>\", \"<...\n",
      "llama_model_loader: - kv  14:                      tokenizer.ggml.scores arr[f32,32002]   = [0.000000, 0.000000, 0.000000, 0.0000...\n",
      "llama_model_loader: - kv  15:                  tokenizer.ggml.token_type arr[i32,32002]   = [2, 3, 3, 6, 6, 6, 6, 6, 6, 6, 6, 6, ...\n",
      "llama_model_loader: - kv  16:                tokenizer.ggml.bos_token_id u32              = 1\n",
      "llama_model_loader: - kv  17:                tokenizer.ggml.eos_token_id u32              = 32000\n",
      "llama_model_loader: - kv  18:            tokenizer.ggml.unknown_token_id u32              = 0\n",
      "llama_model_loader: - kv  19:               general.quantization_version u32              = 2\n",
      "llama_model_loader: - type  f32:   65 tensors\n",
      "llama_model_loader: - type q6_K:  226 tensors\n",
      "llm_load_vocab: special tokens definition check successful ( 261/32002 ).\n",
      "llm_load_print_meta: format           = GGUF V2\n",
      "llm_load_print_meta: arch             = llama\n",
      "llm_load_print_meta: vocab type       = SPM\n",
      "llm_load_print_meta: n_vocab          = 32002\n",
      "llm_load_print_meta: n_merges         = 0\n",
      "llm_load_print_meta: n_ctx_train      = 32768\n",
      "llm_load_print_meta: n_embd           = 4096\n",
      "llm_load_print_meta: n_head           = 32\n",
      "llm_load_print_meta: n_head_kv        = 8\n",
      "llm_load_print_meta: n_layer          = 32\n",
      "llm_load_print_meta: n_rot            = 128\n",
      "llm_load_print_meta: n_gqa            = 4\n",
      "llm_load_print_meta: f_norm_eps       = 0.0e+00\n",
      "llm_load_print_meta: f_norm_rms_eps   = 1.0e-05\n",
      "llm_load_print_meta: f_clamp_kqv      = 0.0e+00\n",
      "llm_load_print_meta: f_max_alibi_bias = 0.0e+00\n",
      "llm_load_print_meta: n_ff             = 14336\n",
      "llm_load_print_meta: rope scaling     = linear\n",
      "llm_load_print_meta: freq_base_train  = 10000.0\n",
      "llm_load_print_meta: freq_scale_train = 1\n",
      "llm_load_print_meta: n_yarn_orig_ctx  = 32768\n",
      "llm_load_print_meta: rope_finetuned   = unknown\n",
      "llm_load_print_meta: model type       = 7B\n",
      "llm_load_print_meta: model ftype      = mostly Q6_K\n",
      "llm_load_print_meta: model params     = 7.24 B\n",
      "llm_load_print_meta: model size       = 5.53 GiB (6.56 BPW) \n",
      "llm_load_print_meta: general.name   = open-orca_mistral-7b-openorca\n",
      "llm_load_print_meta: BOS token = 1 '<s>'\n",
      "llm_load_print_meta: EOS token = 32000 '<dummy32000>'\n",
      "llm_load_print_meta: UNK token = 0 '<unk>'\n",
      "llm_load_print_meta: LF token  = 13 '<0x0A>'\n",
      "llm_load_tensors: ggml ctx size =    0.11 MiB\n",
      "llm_load_tensors: mem required  = 5666.21 MiB\n",
      "...................................................................................................\n",
      "llama_new_context_with_model: n_ctx      = 2048\n",
      "llama_new_context_with_model: freq_base  = 10000.0\n",
      "llama_new_context_with_model: freq_scale = 1\n",
      "llama_new_context_with_model: kv self size  =  256.00 MiB\n",
      "llama_build_graph: non-view tensors processed: 740/740\n",
      "ggml_metal_init: allocating\n",
      "ggml_metal_init: found device: Apple M1 Pro\n",
      "ggml_metal_init: picking default device: Apple M1 Pro\n",
      "ggml_metal_init: default.metallib not found, loading from source\n",
      "ggml_metal_init: loading '/Users/ryan/.local/lib/python3.9/site-packages/llama_cpp/ggml-metal.metal'\n",
      "ggml_metal_init: GPU name:   Apple M1 Pro\n",
      "ggml_metal_init: GPU family: MTLGPUFamilyApple7 (1007)\n",
      "ggml_metal_init: hasUnifiedMemory              = true\n",
      "ggml_metal_init: recommendedMaxWorkingSetSize  = 10922.67 MiB\n",
      "ggml_metal_init: maxTransferRate               = built-in GPU\n",
      "llama_new_context_with_model: compute buffer total size = 159.07 MiB\n",
      "llama_new_context_with_model: max tensor size =   102.55 MiB\n",
      "ggml_metal_add_buffer: allocated 'data            ' buffer, size =  5666.81 MiB, ( 5667.44 / 10922.67)\n",
      "ggml_metal_add_buffer: allocated 'kv              ' buffer, size =   256.02 MiB, ( 5923.45 / 10922.67)\n",
      "ggml_metal_add_buffer: allocated 'alloc           ' buffer, size =   156.02 MiB, ( 6079.47 / 10922.67)\n",
      "AVX = 0 | AVX2 = 0 | AVX512 = 0 | AVX512_VBMI = 0 | AVX512_VNNI = 0 | FMA = 0 | NEON = 1 | ARM_FMA = 1 | F16C = 0 | FP16_VA = 1 | WASM_SIMD = 0 | BLAS = 1 | SSE3 = 0 | SSSE3 = 0 | VSX = 0 | \n"
     ]
    }
   ],
   "source": [
    "PATH = 'models/mistral-7b-openorca.Q6_K.gguf'\n",
    "llm = Llama(model_path=PATH, n_gpu_layers=75, n_ctx=2048)"
   ]
  },
  {
   "cell_type": "code",
   "execution_count": 5,
   "metadata": {},
   "outputs": [],
   "source": [
    "def is_json(strJson):\n",
    "  try:\n",
    "    json.loads(strJson)\n",
    "  except ValueError as e:\n",
    "    return False\n",
    "  return True"
   ]
  },
  {
   "cell_type": "code",
   "execution_count": 6,
   "metadata": {},
   "outputs": [],
   "source": [
    "def generate(prompt, attempt):\n",
    "  if attempt == 1:\n",
    "    temp = 0.2\n",
    "  else:\n",
    "    temp = round(random.uniform(0.3, 0.6), 1)\n",
    "  output = llm(prompt, max_tokens=-1, temperature=temp)\n",
    "  return output['choices'][0]['text']\n",
    "\n",
    "def parseResult(jsonStr, row):\n",
    "  if not is_json(jsonStr.strip()):\n",
    "    return None\n",
    "  else:\n",
    "    parsedJson = json.loads(jsonStr.strip())\n",
    "    return parsedJson"
   ]
  },
  {
   "cell_type": "markdown",
   "metadata": {},
   "source": [
    "### Task 1: Pun Detection"
   ]
  },
  {
   "cell_type": "code",
   "execution_count": 15,
   "metadata": {},
   "outputs": [],
   "source": [
    "prompt = f''' ### INSTRUCTION:\n",
    "You are to classify whether a given sentence is a pun:\n",
    "Here are examples of the cases you will encounter:\n",
    "1. An example of a pun - \n",
    "The magician got so mad that he pulled his hare out.\n",
    "{{\n",
    "  \"output\": true,\n",
    "  \"explanation\": \"The pun word 'hare' supports two plausible interpretations of 'hare' meaning a rabbit and 'hair' meaning human hair. In the given sentence, the words 'magician' relates to 'hare' while 'pulled' refers to the second interpretation of 'hair'. Both of these are distinct where one refers to a magician's animal while the other refers to an action done in anger which is pulling your hair.\"\n",
    "}}\n",
    "2. An example of no pun -\n",
    "I went to the bank.\n",
    "{{\n",
    "  \"output\": false,\n",
    "  \"explanation\": \"The word 'bank' does have ambiguity here where it supports two plausible interpretations of bank as in a financial institution and bank as in the banks of a river. There are no other words in the sentence that realize both interpretations, hence the sentence is not a pun.\"\n",
    "}}\n",
    "3. An example of no pun -\n",
    "Let us go home.\n",
    "{{\n",
    "  \"output\": false,\n",
    "  \"explanation\": \"There is no pun word in the sentence.\"\n",
    "}}\n",
    "Identify whether the input sentence is a pun and explain the result in valid JSON format. Generate a response in the form of a valid JSON object with two keys: output and explanation.\\n\n",
    "### INPUT:\\n\n",
    "'''"
   ]
  },
  {
   "cell_type": "code",
   "execution_count": 25,
   "metadata": {},
   "outputs": [
    {
     "name": "stderr",
     "output_type": "stream",
     "text": [
      "Llama.generate: prefix-match hit\n"
     ]
    },
    {
     "name": "stdout",
     "output_type": "stream",
     "text": [
      "0 -- 1\n"
     ]
    },
    {
     "name": "stderr",
     "output_type": "stream",
     "text": [
      "\n",
      "llama_print_timings:        load time =    2260.34 ms\n",
      "llama_print_timings:      sample time =      12.21 ms /   108 runs   (    0.11 ms per token,  8848.11 tokens per second)\n",
      "llama_print_timings: prompt eval time =    2870.89 ms /    25 tokens (  114.84 ms per token,     8.71 tokens per second)\n",
      "llama_print_timings:        eval time =    5558.63 ms /   107 runs   (   51.95 ms per token,    19.25 tokens per second)\n",
      "llama_print_timings:       total time =    8608.77 ms\n",
      "Llama.generate: prefix-match hit\n"
     ]
    },
    {
     "name": "stdout",
     "output_type": "stream",
     "text": [
      "1 -- 1\n"
     ]
    },
    {
     "name": "stderr",
     "output_type": "stream",
     "text": [
      "\n",
      "llama_print_timings:        load time =    2260.34 ms\n",
      "llama_print_timings:      sample time =      14.97 ms /   127 runs   (    0.12 ms per token,  8484.77 tokens per second)\n",
      "llama_print_timings: prompt eval time =     185.06 ms /    17 tokens (   10.89 ms per token,    91.86 tokens per second)\n",
      "llama_print_timings:        eval time =    6585.02 ms /   126 runs   (   52.26 ms per token,    19.13 tokens per second)\n",
      "llama_print_timings:       total time =    6974.11 ms\n",
      "Llama.generate: prefix-match hit\n"
     ]
    },
    {
     "name": "stdout",
     "output_type": "stream",
     "text": [
      "2 -- 1\n"
     ]
    },
    {
     "name": "stderr",
     "output_type": "stream",
     "text": [
      "\n",
      "llama_print_timings:        load time =    2260.34 ms\n",
      "llama_print_timings:      sample time =      16.98 ms /   123 runs   (    0.14 ms per token,  7241.68 tokens per second)\n",
      "llama_print_timings: prompt eval time =     188.55 ms /    22 tokens (    8.57 ms per token,   116.68 tokens per second)\n",
      "llama_print_timings:        eval time =    6396.75 ms /   122 runs   (   52.43 ms per token,    19.07 tokens per second)\n",
      "llama_print_timings:       total time =    6813.64 ms\n",
      "Llama.generate: prefix-match hit\n"
     ]
    },
    {
     "name": "stdout",
     "output_type": "stream",
     "text": [
      "3 -- 1\n"
     ]
    },
    {
     "name": "stderr",
     "output_type": "stream",
     "text": [
      "\n",
      "llama_print_timings:        load time =    2260.34 ms\n",
      "llama_print_timings:      sample time =       4.00 ms /    29 runs   (    0.14 ms per token,  7248.19 tokens per second)\n",
      "llama_print_timings: prompt eval time =     493.72 ms /    67 tokens (    7.37 ms per token,   135.70 tokens per second)\n",
      "llama_print_timings:        eval time =    1456.50 ms /    28 runs   (   52.02 ms per token,    19.22 tokens per second)\n",
      "llama_print_timings:       total time =    2016.89 ms\n",
      "Llama.generate: prefix-match hit\n"
     ]
    },
    {
     "name": "stdout",
     "output_type": "stream",
     "text": [
      "4 -- 1\n"
     ]
    },
    {
     "name": "stderr",
     "output_type": "stream",
     "text": [
      "\n",
      "llama_print_timings:        load time =    2260.34 ms\n",
      "llama_print_timings:      sample time =      10.28 ms /   100 runs   (    0.10 ms per token,  9723.84 tokens per second)\n",
      "llama_print_timings: prompt eval time =     189.01 ms /    21 tokens (    9.00 ms per token,   111.11 tokens per second)\n",
      "llama_print_timings:        eval time =    5111.18 ms /    99 runs   (   51.63 ms per token,    19.37 tokens per second)\n",
      "llama_print_timings:       total time =    5437.80 ms\n",
      "Llama.generate: prefix-match hit\n"
     ]
    },
    {
     "name": "stdout",
     "output_type": "stream",
     "text": [
      "5 -- 1\n"
     ]
    },
    {
     "name": "stderr",
     "output_type": "stream",
     "text": [
      "\n",
      "llama_print_timings:        load time =    2260.34 ms\n",
      "llama_print_timings:      sample time =      12.69 ms /   119 runs   (    0.11 ms per token,  9380.42 tokens per second)\n",
      "llama_print_timings: prompt eval time =     199.23 ms /    31 tokens (    6.43 ms per token,   155.60 tokens per second)\n",
      "llama_print_timings:        eval time =    6115.92 ms /   118 runs   (   51.83 ms per token,    19.29 tokens per second)\n",
      "llama_print_timings:       total time =    6489.49 ms\n",
      "Llama.generate: prefix-match hit\n"
     ]
    },
    {
     "name": "stdout",
     "output_type": "stream",
     "text": [
      "6 -- 1\n"
     ]
    },
    {
     "name": "stderr",
     "output_type": "stream",
     "text": [
      "\n",
      "llama_print_timings:        load time =    2260.34 ms\n",
      "llama_print_timings:      sample time =       3.66 ms /    29 runs   (    0.13 ms per token,  7932.17 tokens per second)\n",
      "llama_print_timings: prompt eval time =     184.87 ms /    17 tokens (   10.87 ms per token,    91.96 tokens per second)\n",
      "llama_print_timings:        eval time =    1452.37 ms /    28 runs   (   51.87 ms per token,    19.28 tokens per second)\n",
      "llama_print_timings:       total time =    1685.02 ms\n",
      "Llama.generate: prefix-match hit\n"
     ]
    },
    {
     "name": "stdout",
     "output_type": "stream",
     "text": [
      "7 -- 1\n"
     ]
    },
    {
     "name": "stderr",
     "output_type": "stream",
     "text": [
      "\n",
      "llama_print_timings:        load time =    2260.34 ms\n",
      "llama_print_timings:      sample time =       4.73 ms /    38 runs   (    0.12 ms per token,  8028.73 tokens per second)\n",
      "llama_print_timings: prompt eval time =     194.23 ms /    25 tokens (    7.77 ms per token,   128.71 tokens per second)\n",
      "llama_print_timings:        eval time =    1926.37 ms /    37 runs   (   52.06 ms per token,    19.21 tokens per second)\n",
      "llama_print_timings:       total time =    2183.86 ms\n",
      "Llama.generate: prefix-match hit\n"
     ]
    },
    {
     "name": "stdout",
     "output_type": "stream",
     "text": [
      "8 -- 1\n"
     ]
    },
    {
     "name": "stderr",
     "output_type": "stream",
     "text": [
      "\n",
      "llama_print_timings:        load time =    2260.34 ms\n",
      "llama_print_timings:      sample time =       4.28 ms /    38 runs   (    0.11 ms per token,  8878.50 tokens per second)\n",
      "llama_print_timings: prompt eval time =     189.51 ms /    22 tokens (    8.61 ms per token,   116.09 tokens per second)\n",
      "llama_print_timings:        eval time =    1918.52 ms /    37 runs   (   51.85 ms per token,    19.29 tokens per second)\n",
      "llama_print_timings:       total time =    2163.87 ms\n",
      "Llama.generate: prefix-match hit\n"
     ]
    },
    {
     "name": "stdout",
     "output_type": "stream",
     "text": [
      "9 -- 1\n"
     ]
    },
    {
     "name": "stderr",
     "output_type": "stream",
     "text": [
      "\n",
      "llama_print_timings:        load time =    2260.34 ms\n",
      "llama_print_timings:      sample time =      11.53 ms /   110 runs   (    0.10 ms per token,  9537.02 tokens per second)\n",
      "llama_print_timings: prompt eval time =     187.83 ms /    20 tokens (    9.39 ms per token,   106.48 tokens per second)\n",
      "llama_print_timings:        eval time =    5663.62 ms /   109 runs   (   51.96 ms per token,    19.25 tokens per second)\n",
      "llama_print_timings:       total time =    6007.97 ms\n",
      "Llama.generate: prefix-match hit\n"
     ]
    },
    {
     "name": "stdout",
     "output_type": "stream",
     "text": [
      "10 -- 1\n"
     ]
    },
    {
     "name": "stderr",
     "output_type": "stream",
     "text": [
      "\n",
      "llama_print_timings:        load time =    2260.34 ms\n",
      "llama_print_timings:      sample time =       3.31 ms /    29 runs   (    0.11 ms per token,  8771.93 tokens per second)\n",
      "llama_print_timings: prompt eval time =     183.89 ms /    15 tokens (   12.26 ms per token,    81.57 tokens per second)\n",
      "llama_print_timings:        eval time =    1452.61 ms /    28 runs   (   51.88 ms per token,    19.28 tokens per second)\n",
      "llama_print_timings:       total time =    1679.97 ms\n",
      "Llama.generate: prefix-match hit\n"
     ]
    },
    {
     "name": "stdout",
     "output_type": "stream",
     "text": [
      "11 -- 1\n"
     ]
    },
    {
     "name": "stderr",
     "output_type": "stream",
     "text": [
      "\n",
      "llama_print_timings:        load time =    2260.34 ms\n",
      "llama_print_timings:      sample time =       3.79 ms /    29 runs   (    0.13 ms per token,  7647.68 tokens per second)\n",
      "llama_print_timings: prompt eval time =     196.13 ms /    28 tokens (    7.00 ms per token,   142.77 tokens per second)\n",
      "llama_print_timings:        eval time =    1454.93 ms /    28 runs   (   51.96 ms per token,    19.24 tokens per second)\n",
      "llama_print_timings:       total time =    1700.97 ms\n",
      "Llama.generate: prefix-match hit\n"
     ]
    },
    {
     "name": "stdout",
     "output_type": "stream",
     "text": [
      "12 -- 1\n"
     ]
    },
    {
     "name": "stderr",
     "output_type": "stream",
     "text": [
      "\n",
      "llama_print_timings:        load time =    2260.34 ms\n",
      "llama_print_timings:      sample time =      16.60 ms /   129 runs   (    0.13 ms per token,  7769.68 tokens per second)\n",
      "llama_print_timings: prompt eval time =     184.21 ms /    18 tokens (   10.23 ms per token,    97.71 tokens per second)\n",
      "llama_print_timings:        eval time =    6653.33 ms /   128 runs   (   51.98 ms per token,    19.24 tokens per second)\n",
      "llama_print_timings:       total time =    7062.32 ms\n",
      "Llama.generate: prefix-match hit\n"
     ]
    },
    {
     "name": "stdout",
     "output_type": "stream",
     "text": [
      "13 -- 1\n"
     ]
    },
    {
     "name": "stderr",
     "output_type": "stream",
     "text": [
      "\n",
      "llama_print_timings:        load time =    2260.34 ms\n",
      "llama_print_timings:      sample time =       4.51 ms /    29 runs   (    0.16 ms per token,  6427.30 tokens per second)\n",
      "llama_print_timings: prompt eval time =     333.32 ms /    33 tokens (   10.10 ms per token,    99.00 tokens per second)\n",
      "llama_print_timings:        eval time =    1448.42 ms /    28 runs   (   51.73 ms per token,    19.33 tokens per second)\n",
      "llama_print_timings:       total time =    1838.95 ms\n",
      "Llama.generate: prefix-match hit\n"
     ]
    },
    {
     "name": "stdout",
     "output_type": "stream",
     "text": [
      "14 -- 1\n"
     ]
    },
    {
     "name": "stderr",
     "output_type": "stream",
     "text": [
      "\n",
      "llama_print_timings:        load time =    2260.34 ms\n",
      "llama_print_timings:      sample time =       4.82 ms /    34 runs   (    0.14 ms per token,  7048.09 tokens per second)\n",
      "llama_print_timings: prompt eval time =     182.58 ms /    15 tokens (   12.17 ms per token,    82.16 tokens per second)\n",
      "llama_print_timings:        eval time =    1706.01 ms /    33 runs   (   51.70 ms per token,    19.34 tokens per second)\n",
      "llama_print_timings:       total time =    1949.42 ms\n",
      "Llama.generate: prefix-match hit\n"
     ]
    },
    {
     "name": "stdout",
     "output_type": "stream",
     "text": [
      "15 -- 1\n"
     ]
    },
    {
     "name": "stderr",
     "output_type": "stream",
     "text": [
      "\n",
      "llama_print_timings:        load time =    2260.34 ms\n",
      "llama_print_timings:      sample time =       4.34 ms /    28 runs   (    0.16 ms per token,  6450.13 tokens per second)\n",
      "llama_print_timings: prompt eval time =     191.12 ms /    23 tokens (    8.31 ms per token,   120.34 tokens per second)\n",
      "llama_print_timings:        eval time =    1399.10 ms /    27 runs   (   51.82 ms per token,    19.30 tokens per second)\n",
      "llama_print_timings:       total time =    1645.91 ms\n",
      "Llama.generate: prefix-match hit\n"
     ]
    },
    {
     "name": "stdout",
     "output_type": "stream",
     "text": [
      "16 -- 1\n"
     ]
    },
    {
     "name": "stderr",
     "output_type": "stream",
     "text": [
      "\n",
      "llama_print_timings:        load time =    2260.34 ms\n",
      "llama_print_timings:      sample time =      17.58 ms /   153 runs   (    0.11 ms per token,  8701.09 tokens per second)\n",
      "llama_print_timings: prompt eval time =     188.82 ms /    22 tokens (    8.58 ms per token,   116.51 tokens per second)\n",
      "llama_print_timings:        eval time =    7905.38 ms /   152 runs   (   52.01 ms per token,    19.23 tokens per second)\n",
      "llama_print_timings:       total time =    8348.05 ms\n",
      "Llama.generate: prefix-match hit\n"
     ]
    },
    {
     "name": "stdout",
     "output_type": "stream",
     "text": [
      "17 -- 1\n"
     ]
    },
    {
     "name": "stderr",
     "output_type": "stream",
     "text": [
      "\n",
      "llama_print_timings:        load time =    2260.34 ms\n",
      "llama_print_timings:      sample time =      12.16 ms /   113 runs   (    0.11 ms per token,  9296.59 tokens per second)\n",
      "llama_print_timings: prompt eval time =     188.20 ms /    20 tokens (    9.41 ms per token,   106.27 tokens per second)\n",
      "llama_print_timings:        eval time =    5840.07 ms /   112 runs   (   52.14 ms per token,    19.18 tokens per second)\n",
      "llama_print_timings:       total time =    6194.45 ms\n",
      "Llama.generate: prefix-match hit\n"
     ]
    },
    {
     "name": "stdout",
     "output_type": "stream",
     "text": [
      "18 -- 1\n"
     ]
    },
    {
     "name": "stderr",
     "output_type": "stream",
     "text": [
      "\n",
      "llama_print_timings:        load time =    2260.34 ms\n",
      "llama_print_timings:      sample time =      60.27 ms /   120 runs   (    0.50 ms per token,  1991.04 tokens per second)\n",
      "llama_print_timings: prompt eval time =     196.52 ms /    32 tokens (    6.14 ms per token,   162.83 tokens per second)\n",
      "llama_print_timings:        eval time =    6425.65 ms /   119 runs   (   54.00 ms per token,    18.52 tokens per second)\n",
      "llama_print_timings:       total time =    7373.76 ms\n",
      "Llama.generate: prefix-match hit\n",
      "\n",
      "llama_print_timings:        load time =    2260.34 ms\n",
      "llama_print_timings:      sample time =      74.83 ms /   143 runs   (    0.52 ms per token,  1910.90 tokens per second)\n",
      "llama_print_timings: prompt eval time =     186.76 ms /    18 tokens (   10.38 ms per token,    96.38 tokens per second)\n",
      "llama_print_timings:        eval time =    7676.89 ms /   142 runs   (   54.06 ms per token,    18.50 tokens per second)\n",
      "llama_print_timings:       total time =    8758.83 ms\n",
      "Llama.generate: prefix-match hit\n"
     ]
    },
    {
     "name": "stdout",
     "output_type": "stream",
     "text": [
      "19 -- 1\n",
      "20 -- 1\n"
     ]
    },
    {
     "name": "stderr",
     "output_type": "stream",
     "text": [
      "\n",
      "llama_print_timings:        load time =    2260.34 ms\n",
      "llama_print_timings:      sample time =      17.43 ms /   161 runs   (    0.11 ms per token,  9239.60 tokens per second)\n",
      "llama_print_timings: prompt eval time =     191.89 ms /    23 tokens (    8.34 ms per token,   119.86 tokens per second)\n",
      "llama_print_timings:        eval time =    8316.94 ms /   160 runs   (   51.98 ms per token,    19.24 tokens per second)\n",
      "llama_print_timings:       total time =    8751.05 ms\n",
      "Llama.generate: prefix-match hit\n"
     ]
    },
    {
     "name": "stdout",
     "output_type": "stream",
     "text": [
      "21 -- 1\n"
     ]
    },
    {
     "name": "stderr",
     "output_type": "stream",
     "text": [
      "\n",
      "llama_print_timings:        load time =    2260.34 ms\n",
      "llama_print_timings:      sample time =       7.77 ms /    84 runs   (    0.09 ms per token, 10813.59 tokens per second)\n",
      "llama_print_timings: prompt eval time =     184.57 ms /    18 tokens (   10.25 ms per token,    97.53 tokens per second)\n",
      "llama_print_timings:        eval time =    4305.86 ms /    83 runs   (   51.88 ms per token,    19.28 tokens per second)\n",
      "llama_print_timings:       total time =    4605.83 ms\n",
      "Llama.generate: prefix-match hit\n"
     ]
    },
    {
     "name": "stdout",
     "output_type": "stream",
     "text": [
      "22 -- 1\n"
     ]
    },
    {
     "name": "stderr",
     "output_type": "stream",
     "text": [
      "\n",
      "llama_print_timings:        load time =    2260.34 ms\n",
      "llama_print_timings:      sample time =      12.36 ms /    82 runs   (    0.15 ms per token,  6636.45 tokens per second)\n",
      "llama_print_timings: prompt eval time =     187.02 ms /    19 tokens (    9.84 ms per token,   101.59 tokens per second)\n",
      "llama_print_timings:        eval time =    4232.97 ms /    81 runs   (   52.26 ms per token,    19.14 tokens per second)\n",
      "llama_print_timings:       total time =    4599.50 ms\n",
      "Llama.generate: prefix-match hit\n"
     ]
    },
    {
     "name": "stdout",
     "output_type": "stream",
     "text": [
      "23 -- 1\n"
     ]
    },
    {
     "name": "stderr",
     "output_type": "stream",
     "text": [
      "\n",
      "llama_print_timings:        load time =    2260.34 ms\n",
      "llama_print_timings:      sample time =       3.59 ms /    34 runs   (    0.11 ms per token,  9465.48 tokens per second)\n",
      "llama_print_timings: prompt eval time =     184.14 ms /    16 tokens (   11.51 ms per token,    86.89 tokens per second)\n",
      "llama_print_timings:        eval time =    1715.71 ms /    33 runs   (   51.99 ms per token,    19.23 tokens per second)\n",
      "llama_print_timings:       total time =    1946.58 ms\n",
      "Llama.generate: prefix-match hit\n",
      "\n",
      "llama_print_timings:        load time =    2260.34 ms\n",
      "llama_print_timings:      sample time =      25.74 ms /    38 runs   (    0.68 ms per token,  1476.47 tokens per second)\n",
      "llama_print_timings: prompt eval time =     184.75 ms /    18 tokens (   10.26 ms per token,    97.43 tokens per second)\n",
      "llama_print_timings:        eval time =    2005.78 ms /    37 runs   (   54.21 ms per token,    18.45 tokens per second)\n",
      "llama_print_timings:       total time =    2442.65 ms\n",
      "Llama.generate: prefix-match hit\n"
     ]
    },
    {
     "name": "stdout",
     "output_type": "stream",
     "text": [
      "24 -- 1\n"
     ]
    },
    {
     "name": "stderr",
     "output_type": "stream",
     "text": [
      "\n",
      "llama_print_timings:        load time =    2260.34 ms\n",
      "llama_print_timings:      sample time =      16.61 ms /   114 runs   (    0.15 ms per token,  6862.51 tokens per second)\n",
      "llama_print_timings: prompt eval time =     335.51 ms /    33 tokens (   10.17 ms per token,    98.36 tokens per second)\n",
      "llama_print_timings:        eval time =    5924.53 ms /   113 runs   (   52.43 ms per token,    19.07 tokens per second)\n",
      "llama_print_timings:       total time =    6494.33 ms\n",
      "Llama.generate: prefix-match hit\n"
     ]
    },
    {
     "name": "stdout",
     "output_type": "stream",
     "text": [
      "25 -- 1\n",
      "26 -- 1\n"
     ]
    },
    {
     "name": "stderr",
     "output_type": "stream",
     "text": [
      "\n",
      "llama_print_timings:        load time =    2260.34 ms\n",
      "llama_print_timings:      sample time =       4.19 ms /    38 runs   (    0.11 ms per token,  9064.89 tokens per second)\n",
      "llama_print_timings: prompt eval time =     187.98 ms /    19 tokens (    9.89 ms per token,   101.07 tokens per second)\n",
      "llama_print_timings:        eval time =    1924.37 ms /    37 runs   (   52.01 ms per token,    19.23 tokens per second)\n",
      "llama_print_timings:       total time =    2167.41 ms\n",
      "Llama.generate: prefix-match hit\n"
     ]
    },
    {
     "name": "stdout",
     "output_type": "stream",
     "text": [
      "27 -- 1\n"
     ]
    },
    {
     "name": "stderr",
     "output_type": "stream",
     "text": [
      "\n",
      "llama_print_timings:        load time =    2260.34 ms\n",
      "llama_print_timings:      sample time =       4.90 ms /    48 runs   (    0.10 ms per token,  9801.92 tokens per second)\n",
      "llama_print_timings: prompt eval time =     184.35 ms /    16 tokens (   11.52 ms per token,    86.79 tokens per second)\n",
      "llama_print_timings:        eval time =    2441.27 ms /    47 runs   (   51.94 ms per token,    19.25 tokens per second)\n",
      "llama_print_timings:       total time =    2690.92 ms\n",
      "Llama.generate: prefix-match hit\n"
     ]
    },
    {
     "name": "stdout",
     "output_type": "stream",
     "text": [
      "28 -- 1\n"
     ]
    },
    {
     "name": "stderr",
     "output_type": "stream",
     "text": [
      "\n",
      "llama_print_timings:        load time =    2260.34 ms\n",
      "llama_print_timings:      sample time =      62.10 ms /   134 runs   (    0.46 ms per token,  2157.88 tokens per second)\n",
      "llama_print_timings: prompt eval time =     185.70 ms /    18 tokens (   10.32 ms per token,    96.93 tokens per second)\n",
      "llama_print_timings:        eval time =    7251.27 ms /   133 runs   (   54.52 ms per token,    18.34 tokens per second)\n",
      "llama_print_timings:       total time =    8276.21 ms\n",
      "Llama.generate: prefix-match hit\n"
     ]
    },
    {
     "name": "stdout",
     "output_type": "stream",
     "text": [
      "29 -- 1\n"
     ]
    },
    {
     "name": "stderr",
     "output_type": "stream",
     "text": [
      "\n",
      "llama_print_timings:        load time =    2260.34 ms\n",
      "llama_print_timings:      sample time =      20.86 ms /   120 runs   (    0.17 ms per token,  5752.09 tokens per second)\n",
      "llama_print_timings: prompt eval time =     358.69 ms /    53 tokens (    6.77 ms per token,   147.76 tokens per second)\n",
      "llama_print_timings:        eval time =    6276.03 ms /   119 runs   (   52.74 ms per token,    18.96 tokens per second)\n",
      "llama_print_timings:       total time =    6930.28 ms\n",
      "Llama.generate: prefix-match hit\n",
      "\n",
      "llama_print_timings:        load time =    2260.34 ms\n",
      "llama_print_timings:      sample time =      50.41 ms /   116 runs   (    0.43 ms per token,  2300.99 tokens per second)\n",
      "llama_print_timings: prompt eval time =     180.84 ms /    14 tokens (   12.92 ms per token,    77.42 tokens per second)\n",
      "llama_print_timings:        eval time =    6275.15 ms /   115 runs   (   54.57 ms per token,    18.33 tokens per second)\n",
      "llama_print_timings:       total time =    7170.16 ms\n",
      "Llama.generate: prefix-match hit\n"
     ]
    },
    {
     "name": "stdout",
     "output_type": "stream",
     "text": [
      "30 -- 1\n",
      "31 -- 1\n"
     ]
    },
    {
     "name": "stderr",
     "output_type": "stream",
     "text": [
      "\n",
      "llama_print_timings:        load time =    2260.34 ms\n",
      "llama_print_timings:      sample time =      30.73 ms /    72 runs   (    0.43 ms per token,  2342.68 tokens per second)\n",
      "llama_print_timings: prompt eval time =     189.22 ms /    17 tokens (   11.13 ms per token,    89.84 tokens per second)\n",
      "llama_print_timings:        eval time =    3830.09 ms /    71 runs   (   53.94 ms per token,    18.54 tokens per second)\n",
      "llama_print_timings:       total time =    4473.72 ms\n",
      "Llama.generate: prefix-match hit\n"
     ]
    },
    {
     "name": "stdout",
     "output_type": "stream",
     "text": [
      "32 -- 1\n"
     ]
    },
    {
     "name": "stderr",
     "output_type": "stream",
     "text": [
      "\n",
      "llama_print_timings:        load time =    2260.34 ms\n",
      "llama_print_timings:      sample time =      16.81 ms /    29 runs   (    0.58 ms per token,  1725.16 tokens per second)\n",
      "llama_print_timings: prompt eval time =     195.85 ms /    25 tokens (    7.83 ms per token,   127.65 tokens per second)\n",
      "llama_print_timings:        eval time =    1514.56 ms /    28 runs   (   54.09 ms per token,    18.49 tokens per second)\n",
      "llama_print_timings:       total time =    1870.68 ms\n",
      "Llama.generate: prefix-match hit\n",
      "\n",
      "llama_print_timings:        load time =    2260.34 ms\n",
      "llama_print_timings:      sample time =      20.74 ms /   106 runs   (    0.20 ms per token,  5111.88 tokens per second)\n",
      "llama_print_timings: prompt eval time =     189.99 ms /    20 tokens (    9.50 ms per token,   105.27 tokens per second)\n",
      "llama_print_timings:        eval time =    5503.27 ms /   105 runs   (   52.41 ms per token,    19.08 tokens per second)\n",
      "llama_print_timings:       total time =    5931.15 ms\n",
      "Llama.generate: prefix-match hit\n"
     ]
    },
    {
     "name": "stdout",
     "output_type": "stream",
     "text": [
      "33 -- 1\n",
      "34 -- 1\n"
     ]
    },
    {
     "name": "stderr",
     "output_type": "stream",
     "text": [
      "\n",
      "llama_print_timings:        load time =    2260.34 ms\n",
      "llama_print_timings:      sample time =      16.66 ms /    29 runs   (    0.57 ms per token,  1740.91 tokens per second)\n",
      "llama_print_timings: prompt eval time =     180.31 ms /    12 tokens (   15.03 ms per token,    66.55 tokens per second)\n",
      "llama_print_timings:        eval time =    1492.48 ms /    28 runs   (   53.30 ms per token,    18.76 tokens per second)\n",
      "llama_print_timings:       total time =    1816.93 ms\n",
      "Llama.generate: prefix-match hit\n",
      "\n",
      "llama_print_timings:        load time =    2260.34 ms\n",
      "llama_print_timings:      sample time =      28.11 ms /    46 runs   (    0.61 ms per token,  1636.49 tokens per second)\n",
      "llama_print_timings: prompt eval time =     186.90 ms /    16 tokens (   11.68 ms per token,    85.61 tokens per second)\n",
      "llama_print_timings:        eval time =    2458.32 ms /    45 runs   (   54.63 ms per token,    18.31 tokens per second)\n",
      "llama_print_timings:       total time =    2924.97 ms\n",
      "Llama.generate: prefix-match hit\n"
     ]
    },
    {
     "name": "stdout",
     "output_type": "stream",
     "text": [
      "35 -- 1\n",
      "36 -- 1\n"
     ]
    },
    {
     "name": "stderr",
     "output_type": "stream",
     "text": [
      "\n",
      "llama_print_timings:        load time =    2260.34 ms\n",
      "llama_print_timings:      sample time =      14.62 ms /   109 runs   (    0.13 ms per token,  7456.05 tokens per second)\n",
      "llama_print_timings: prompt eval time =     190.40 ms /    21 tokens (    9.07 ms per token,   110.30 tokens per second)\n",
      "llama_print_timings:        eval time =    5609.12 ms /   108 runs   (   51.94 ms per token,    19.25 tokens per second)\n",
      "llama_print_timings:       total time =    6005.35 ms\n",
      "Llama.generate: prefix-match hit\n"
     ]
    },
    {
     "name": "stdout",
     "output_type": "stream",
     "text": [
      "37 -- 1\n"
     ]
    },
    {
     "name": "stderr",
     "output_type": "stream",
     "text": [
      "\n",
      "llama_print_timings:        load time =    2260.34 ms\n",
      "llama_print_timings:      sample time =       8.88 ms /    39 runs   (    0.23 ms per token,  4391.89 tokens per second)\n",
      "llama_print_timings: prompt eval time =     189.15 ms /    21 tokens (    9.01 ms per token,   111.02 tokens per second)\n",
      "llama_print_timings:        eval time =    1994.57 ms /    38 runs   (   52.49 ms per token,    19.05 tokens per second)\n",
      "llama_print_timings:       total time =    2297.53 ms\n",
      "Llama.generate: prefix-match hit\n"
     ]
    },
    {
     "name": "stdout",
     "output_type": "stream",
     "text": [
      "38 -- 1\n"
     ]
    },
    {
     "name": "stderr",
     "output_type": "stream",
     "text": [
      "\n",
      "llama_print_timings:        load time =    2260.34 ms\n",
      "llama_print_timings:      sample time =      69.23 ms /   123 runs   (    0.56 ms per token,  1776.56 tokens per second)\n",
      "llama_print_timings: prompt eval time =     196.25 ms /    27 tokens (    7.27 ms per token,   137.58 tokens per second)\n",
      "llama_print_timings:        eval time =    6671.13 ms /   122 runs   (   54.68 ms per token,    18.29 tokens per second)\n",
      "llama_print_timings:       total time =    7687.10 ms\n",
      "Llama.generate: prefix-match hit\n"
     ]
    },
    {
     "name": "stdout",
     "output_type": "stream",
     "text": [
      "39 -- 1\n"
     ]
    },
    {
     "name": "stderr",
     "output_type": "stream",
     "text": [
      "\n",
      "llama_print_timings:        load time =    2260.34 ms\n",
      "llama_print_timings:      sample time =      12.69 ms /    34 runs   (    0.37 ms per token,  2678.64 tokens per second)\n",
      "llama_print_timings: prompt eval time =     187.73 ms /    20 tokens (    9.39 ms per token,   106.53 tokens per second)\n",
      "llama_print_timings:        eval time =    1804.12 ms /    33 runs   (   54.67 ms per token,    18.29 tokens per second)\n",
      "llama_print_timings:       total time =    2185.67 ms\n",
      "Llama.generate: prefix-match hit\n"
     ]
    },
    {
     "name": "stdout",
     "output_type": "stream",
     "text": [
      "40 -- 1\n"
     ]
    },
    {
     "name": "stderr",
     "output_type": "stream",
     "text": [
      "\n",
      "llama_print_timings:        load time =    2260.34 ms\n",
      "llama_print_timings:      sample time =       9.15 ms /    29 runs   (    0.32 ms per token,  3169.75 tokens per second)\n",
      "llama_print_timings: prompt eval time =     191.45 ms /    21 tokens (    9.12 ms per token,   109.69 tokens per second)\n",
      "llama_print_timings:        eval time =    1508.18 ms /    28 runs   (   53.86 ms per token,    18.57 tokens per second)\n",
      "llama_print_timings:       total time =    1828.04 ms\n",
      "Llama.generate: prefix-match hit\n"
     ]
    },
    {
     "name": "stdout",
     "output_type": "stream",
     "text": [
      "41 -- 1\n"
     ]
    },
    {
     "name": "stderr",
     "output_type": "stream",
     "text": [
      "\n",
      "llama_print_timings:        load time =    2260.34 ms\n",
      "llama_print_timings:      sample time =      53.23 ms /    94 runs   (    0.57 ms per token,  1765.82 tokens per second)\n",
      "llama_print_timings: prompt eval time =     182.99 ms /    15 tokens (   12.20 ms per token,    81.97 tokens per second)\n",
      "llama_print_timings:        eval time =    5060.81 ms /    93 runs   (   54.42 ms per token,    18.38 tokens per second)\n",
      "llama_print_timings:       total time =    5824.73 ms\n",
      "Llama.generate: prefix-match hit\n",
      "\n",
      "llama_print_timings:        load time =    2260.34 ms\n",
      "llama_print_timings:      sample time =      25.89 ms /    39 runs   (    0.66 ms per token,  1506.49 tokens per second)\n",
      "llama_print_timings: prompt eval time =     187.25 ms /    17 tokens (   11.01 ms per token,    90.79 tokens per second)\n",
      "llama_print_timings:        eval time =    2040.63 ms /    38 runs   (   53.70 ms per token,    18.62 tokens per second)\n",
      "llama_print_timings:       total time =    2452.72 ms\n",
      "Llama.generate: prefix-match hit\n"
     ]
    },
    {
     "name": "stdout",
     "output_type": "stream",
     "text": [
      "42 -- 1\n",
      "43 -- 1\n"
     ]
    },
    {
     "name": "stderr",
     "output_type": "stream",
     "text": [
      "\n",
      "llama_print_timings:        load time =    2260.34 ms\n",
      "llama_print_timings:      sample time =       9.94 ms /    28 runs   (    0.36 ms per token,  2815.77 tokens per second)\n",
      "llama_print_timings: prompt eval time =     201.50 ms /    31 tokens (    6.50 ms per token,   153.85 tokens per second)\n",
      "llama_print_timings:        eval time =    1461.67 ms /    27 runs   (   54.14 ms per token,    18.47 tokens per second)\n",
      "llama_print_timings:       total time =    1827.89 ms\n",
      "Llama.generate: prefix-match hit\n"
     ]
    },
    {
     "name": "stdout",
     "output_type": "stream",
     "text": [
      "44 -- 1\n"
     ]
    },
    {
     "name": "stderr",
     "output_type": "stream",
     "text": [
      "\n",
      "llama_print_timings:        load time =    2260.34 ms\n",
      "llama_print_timings:      sample time =      17.48 ms /    29 runs   (    0.60 ms per token,  1659.13 tokens per second)\n",
      "llama_print_timings: prompt eval time =     188.61 ms /    18 tokens (   10.48 ms per token,    95.44 tokens per second)\n",
      "llama_print_timings:        eval time =    1506.54 ms /    28 runs   (   53.81 ms per token,    18.59 tokens per second)\n",
      "llama_print_timings:       total time =    1858.80 ms\n",
      "Llama.generate: prefix-match hit\n"
     ]
    },
    {
     "name": "stdout",
     "output_type": "stream",
     "text": [
      "45 -- 1\n"
     ]
    },
    {
     "name": "stderr",
     "output_type": "stream",
     "text": [
      "\n",
      "llama_print_timings:        load time =    2260.34 ms\n",
      "llama_print_timings:      sample time =      14.33 ms /    31 runs   (    0.46 ms per token,  2163.44 tokens per second)\n",
      "llama_print_timings: prompt eval time =     190.57 ms /    19 tokens (   10.03 ms per token,    99.70 tokens per second)\n",
      "llama_print_timings:        eval time =    1610.44 ms /    30 runs   (   53.68 ms per token,    18.63 tokens per second)\n",
      "llama_print_timings:       total time =    1988.72 ms\n",
      "Llama.generate: prefix-match hit\n",
      "\n",
      "llama_print_timings:        load time =    2260.34 ms\n",
      "llama_print_timings:      sample time =      10.47 ms /    28 runs   (    0.37 ms per token,  2675.33 tokens per second)\n",
      "llama_print_timings: prompt eval time =     195.74 ms /    26 tokens (    7.53 ms per token,   132.83 tokens per second)\n",
      "llama_print_timings:        eval time =    1445.17 ms /    27 runs   (   53.52 ms per token,    18.68 tokens per second)\n",
      "llama_print_timings:       total time =    1789.53 ms\n",
      "Llama.generate: prefix-match hit\n"
     ]
    },
    {
     "name": "stdout",
     "output_type": "stream",
     "text": [
      "46 -- 1\n"
     ]
    },
    {
     "name": "stderr",
     "output_type": "stream",
     "text": [
      "\n",
      "llama_print_timings:        load time =    2260.34 ms\n",
      "llama_print_timings:      sample time =      68.66 ms /   121 runs   (    0.57 ms per token,  1762.38 tokens per second)\n",
      "llama_print_timings: prompt eval time =     203.04 ms /    19 tokens (   10.69 ms per token,    93.58 tokens per second)\n",
      "llama_print_timings:        eval time =    6531.41 ms /   120 runs   (   54.43 ms per token,    18.37 tokens per second)\n",
      "llama_print_timings:       total time =    7513.49 ms\n",
      "Llama.generate: prefix-match hit\n"
     ]
    },
    {
     "name": "stdout",
     "output_type": "stream",
     "text": [
      "47 -- 1\n"
     ]
    },
    {
     "name": "stderr",
     "output_type": "stream",
     "text": [
      "\n",
      "llama_print_timings:        load time =    2260.34 ms\n",
      "llama_print_timings:      sample time =      31.59 ms /    63 runs   (    0.50 ms per token,  1994.05 tokens per second)\n",
      "llama_print_timings: prompt eval time =     185.31 ms /    16 tokens (   11.58 ms per token,    86.34 tokens per second)\n",
      "llama_print_timings:        eval time =    3350.93 ms /    62 runs   (   54.05 ms per token,    18.50 tokens per second)\n",
      "llama_print_timings:       total time =    3911.95 ms\n",
      "Llama.generate: prefix-match hit\n"
     ]
    },
    {
     "name": "stdout",
     "output_type": "stream",
     "text": [
      "48 -- 1\n",
      "49 -- 1\n"
     ]
    },
    {
     "name": "stderr",
     "output_type": "stream",
     "text": [
      "\n",
      "llama_print_timings:        load time =    2260.34 ms\n",
      "llama_print_timings:      sample time =      10.41 ms /    28 runs   (    0.37 ms per token,  2689.46 tokens per second)\n",
      "llama_print_timings: prompt eval time =     202.16 ms /    30 tokens (    6.74 ms per token,   148.40 tokens per second)\n",
      "llama_print_timings:        eval time =    1480.19 ms /    27 runs   (   54.82 ms per token,    18.24 tokens per second)\n",
      "llama_print_timings:       total time =    1840.15 ms\n",
      "Llama.generate: prefix-match hit\n"
     ]
    },
    {
     "name": "stdout",
     "output_type": "stream",
     "text": [
      "50 -- 1\n"
     ]
    },
    {
     "name": "stderr",
     "output_type": "stream",
     "text": [
      "\n",
      "llama_print_timings:        load time =    2260.34 ms\n",
      "llama_print_timings:      sample time =      63.65 ms /   125 runs   (    0.51 ms per token,  1963.99 tokens per second)\n",
      "llama_print_timings: prompt eval time =     185.39 ms /    18 tokens (   10.30 ms per token,    97.09 tokens per second)\n",
      "llama_print_timings:        eval time =    6703.59 ms /   124 runs   (   54.06 ms per token,    18.50 tokens per second)\n",
      "llama_print_timings:       total time =    7725.74 ms\n",
      "Llama.generate: prefix-match hit\n"
     ]
    },
    {
     "name": "stdout",
     "output_type": "stream",
     "text": [
      "51 -- 1\n"
     ]
    },
    {
     "name": "stderr",
     "output_type": "stream",
     "text": [
      "\n",
      "llama_print_timings:        load time =    2260.34 ms\n",
      "llama_print_timings:      sample time =      56.20 ms /   112 runs   (    0.50 ms per token,  1992.81 tokens per second)\n",
      "llama_print_timings: prompt eval time =     190.33 ms /    22 tokens (    8.65 ms per token,   115.59 tokens per second)\n",
      "llama_print_timings:        eval time =    5976.97 ms /   111 runs   (   53.85 ms per token,    18.57 tokens per second)\n",
      "llama_print_timings:       total time =    6843.92 ms\n",
      "Llama.generate: prefix-match hit\n"
     ]
    },
    {
     "name": "stdout",
     "output_type": "stream",
     "text": [
      "52 -- 1\n"
     ]
    },
    {
     "name": "stderr",
     "output_type": "stream",
     "text": [
      "\n",
      "llama_print_timings:        load time =    2260.34 ms\n",
      "llama_print_timings:      sample time =      13.67 ms /    31 runs   (    0.44 ms per token,  2267.57 tokens per second)\n",
      "llama_print_timings: prompt eval time =     198.97 ms /    29 tokens (    6.86 ms per token,   145.75 tokens per second)\n",
      "llama_print_timings:        eval time =    1600.18 ms /    30 runs   (   53.34 ms per token,    18.75 tokens per second)\n",
      "llama_print_timings:       total time =    1961.70 ms\n",
      "Llama.generate: prefix-match hit\n"
     ]
    },
    {
     "name": "stdout",
     "output_type": "stream",
     "text": [
      "53 -- 1\n"
     ]
    },
    {
     "name": "stderr",
     "output_type": "stream",
     "text": [
      "\n",
      "llama_print_timings:        load time =    2260.34 ms\n",
      "llama_print_timings:      sample time =      13.36 ms /    28 runs   (    0.48 ms per token,  2095.65 tokens per second)\n",
      "llama_print_timings: prompt eval time =     196.60 ms /    32 tokens (    6.14 ms per token,   162.76 tokens per second)\n",
      "llama_print_timings:        eval time =    1445.00 ms /    27 runs   (   53.52 ms per token,    18.69 tokens per second)\n",
      "llama_print_timings:       total time =    1800.48 ms\n",
      "Llama.generate: prefix-match hit\n"
     ]
    },
    {
     "name": "stdout",
     "output_type": "stream",
     "text": [
      "54 -- 1\n"
     ]
    },
    {
     "name": "stderr",
     "output_type": "stream",
     "text": [
      "\n",
      "llama_print_timings:        load time =    2260.34 ms\n",
      "llama_print_timings:      sample time =       4.14 ms /    33 runs   (    0.13 ms per token,  7965.24 tokens per second)\n",
      "llama_print_timings: prompt eval time =     186.09 ms /    18 tokens (   10.34 ms per token,    96.73 tokens per second)\n",
      "llama_print_timings:        eval time =    1662.78 ms /    32 runs   (   51.96 ms per token,    19.24 tokens per second)\n",
      "llama_print_timings:       total time =    1905.39 ms\n",
      "Llama.generate: prefix-match hit\n"
     ]
    },
    {
     "name": "stdout",
     "output_type": "stream",
     "text": [
      "55 -- 1\n"
     ]
    },
    {
     "name": "stderr",
     "output_type": "stream",
     "text": [
      "\n",
      "llama_print_timings:        load time =    2260.34 ms\n",
      "llama_print_timings:      sample time =      12.37 ms /    28 runs   (    0.44 ms per token,  2263.91 tokens per second)\n",
      "llama_print_timings: prompt eval time =     183.48 ms /    16 tokens (   11.47 ms per token,    87.20 tokens per second)\n",
      "llama_print_timings:        eval time =    1440.71 ms /    27 runs   (   53.36 ms per token,    18.74 tokens per second)\n",
      "llama_print_timings:       total time =    1809.59 ms\n",
      "Llama.generate: prefix-match hit\n"
     ]
    },
    {
     "name": "stdout",
     "output_type": "stream",
     "text": [
      "56 -- 1\n"
     ]
    },
    {
     "name": "stderr",
     "output_type": "stream",
     "text": [
      "\n",
      "llama_print_timings:        load time =    2260.34 ms\n",
      "llama_print_timings:      sample time =      12.88 ms /    29 runs   (    0.44 ms per token,  2251.55 tokens per second)\n",
      "llama_print_timings: prompt eval time =     187.84 ms /    20 tokens (    9.39 ms per token,   106.47 tokens per second)\n",
      "llama_print_timings:        eval time =    1495.54 ms /    28 runs   (   53.41 ms per token,    18.72 tokens per second)\n",
      "llama_print_timings:       total time =    1852.76 ms\n",
      "Llama.generate: prefix-match hit\n"
     ]
    },
    {
     "name": "stdout",
     "output_type": "stream",
     "text": [
      "57 -- 1\n"
     ]
    },
    {
     "name": "stderr",
     "output_type": "stream",
     "text": [
      "\n",
      "llama_print_timings:        load time =    2260.34 ms\n",
      "llama_print_timings:      sample time =      60.21 ms /   117 runs   (    0.51 ms per token,  1943.10 tokens per second)\n",
      "llama_print_timings: prompt eval time =     191.76 ms /    23 tokens (    8.34 ms per token,   119.94 tokens per second)\n",
      "llama_print_timings:        eval time =    6247.07 ms /   116 runs   (   53.85 ms per token,    18.57 tokens per second)\n",
      "llama_print_timings:       total time =    7160.40 ms\n",
      "Llama.generate: prefix-match hit\n"
     ]
    },
    {
     "name": "stdout",
     "output_type": "stream",
     "text": [
      "58 -- 1\n"
     ]
    },
    {
     "name": "stderr",
     "output_type": "stream",
     "text": [
      "\n",
      "llama_print_timings:        load time =    2260.34 ms\n",
      "llama_print_timings:      sample time =      15.05 ms /   130 runs   (    0.12 ms per token,  8635.58 tokens per second)\n",
      "llama_print_timings: prompt eval time =     192.25 ms /    23 tokens (    8.36 ms per token,   119.64 tokens per second)\n",
      "llama_print_timings:        eval time =    6728.74 ms /   129 runs   (   52.16 ms per token,    19.17 tokens per second)\n",
      "llama_print_timings:       total time =    7123.61 ms\n",
      "Llama.generate: prefix-match hit\n"
     ]
    },
    {
     "name": "stdout",
     "output_type": "stream",
     "text": [
      "59 -- 1\n"
     ]
    },
    {
     "name": "stderr",
     "output_type": "stream",
     "text": [
      "\n",
      "llama_print_timings:        load time =    2260.34 ms\n",
      "llama_print_timings:      sample time =      12.97 ms /    29 runs   (    0.45 ms per token,  2235.24 tokens per second)\n",
      "llama_print_timings: prompt eval time =     188.10 ms /    20 tokens (    9.40 ms per token,   106.33 tokens per second)\n",
      "llama_print_timings:        eval time =    1507.55 ms /    28 runs   (   53.84 ms per token,    18.57 tokens per second)\n",
      "llama_print_timings:       total time =    1852.30 ms\n",
      "Llama.generate: prefix-match hit\n"
     ]
    },
    {
     "name": "stdout",
     "output_type": "stream",
     "text": [
      "60 -- 1\n"
     ]
    },
    {
     "name": "stderr",
     "output_type": "stream",
     "text": [
      "\n",
      "llama_print_timings:        load time =    2260.34 ms\n",
      "llama_print_timings:      sample time =       8.44 ms /    29 runs   (    0.29 ms per token,  3435.20 tokens per second)\n",
      "llama_print_timings: prompt eval time =     186.82 ms /    18 tokens (   10.38 ms per token,    96.35 tokens per second)\n",
      "llama_print_timings:        eval time =    1481.26 ms /    28 runs   (   52.90 ms per token,    18.90 tokens per second)\n",
      "llama_print_timings:       total time =    1759.93 ms\n",
      "Llama.generate: prefix-match hit\n"
     ]
    },
    {
     "name": "stdout",
     "output_type": "stream",
     "text": [
      "61 -- 1\n"
     ]
    },
    {
     "name": "stderr",
     "output_type": "stream",
     "text": [
      "\n",
      "llama_print_timings:        load time =    2260.34 ms\n",
      "llama_print_timings:      sample time =      40.92 ms /    93 runs   (    0.44 ms per token,  2272.78 tokens per second)\n",
      "llama_print_timings: prompt eval time =     185.28 ms /    17 tokens (   10.90 ms per token,    91.75 tokens per second)\n",
      "llama_print_timings:        eval time =    4973.34 ms /    92 runs   (   54.06 ms per token,    18.50 tokens per second)\n",
      "llama_print_timings:       total time =    5650.82 ms\n",
      "Llama.generate: prefix-match hit\n"
     ]
    },
    {
     "name": "stdout",
     "output_type": "stream",
     "text": [
      "62 -- 1\n"
     ]
    },
    {
     "name": "stderr",
     "output_type": "stream",
     "text": [
      "\n",
      "llama_print_timings:        load time =    2260.34 ms\n",
      "llama_print_timings:      sample time =      10.97 ms /    29 runs   (    0.38 ms per token,  2644.06 tokens per second)\n",
      "llama_print_timings: prompt eval time =     186.27 ms /    18 tokens (   10.35 ms per token,    96.63 tokens per second)\n",
      "llama_print_timings:        eval time =    1525.46 ms /    28 runs   (   54.48 ms per token,    18.36 tokens per second)\n",
      "llama_print_timings:       total time =    1838.20 ms\n",
      "Llama.generate: prefix-match hit\n"
     ]
    },
    {
     "name": "stdout",
     "output_type": "stream",
     "text": [
      "63 -- 1\n"
     ]
    },
    {
     "name": "stderr",
     "output_type": "stream",
     "text": [
      "\n",
      "llama_print_timings:        load time =    2260.34 ms\n",
      "llama_print_timings:      sample time =       3.67 ms /    35 runs   (    0.10 ms per token,  9531.59 tokens per second)\n",
      "llama_print_timings: prompt eval time =     185.34 ms /    17 tokens (   10.90 ms per token,    91.72 tokens per second)\n",
      "llama_print_timings:        eval time =    1763.33 ms /    34 runs   (   51.86 ms per token,    19.28 tokens per second)\n",
      "llama_print_timings:       total time =    1996.80 ms\n",
      "Llama.generate: prefix-match hit\n"
     ]
    },
    {
     "name": "stdout",
     "output_type": "stream",
     "text": [
      "64 -- 1\n"
     ]
    },
    {
     "name": "stderr",
     "output_type": "stream",
     "text": [
      "\n",
      "llama_print_timings:        load time =    2260.34 ms\n",
      "llama_print_timings:      sample time =      25.78 ms /    58 runs   (    0.44 ms per token,  2249.72 tokens per second)\n",
      "llama_print_timings: prompt eval time =     185.50 ms /    18 tokens (   10.31 ms per token,    97.03 tokens per second)\n",
      "llama_print_timings:        eval time =    3121.67 ms /    57 runs   (   54.77 ms per token,    18.26 tokens per second)\n",
      "llama_print_timings:       total time =    3661.67 ms\n",
      "Llama.generate: prefix-match hit\n"
     ]
    },
    {
     "name": "stdout",
     "output_type": "stream",
     "text": [
      "65 -- 1\n"
     ]
    },
    {
     "name": "stderr",
     "output_type": "stream",
     "text": [
      "\n",
      "llama_print_timings:        load time =    2260.34 ms\n",
      "llama_print_timings:      sample time =      15.12 ms /    29 runs   (    0.52 ms per token,  1918.62 tokens per second)\n",
      "llama_print_timings: prompt eval time =     194.37 ms /    24 tokens (    8.10 ms per token,   123.48 tokens per second)\n",
      "llama_print_timings:        eval time =    1524.05 ms /    28 runs   (   54.43 ms per token,    18.37 tokens per second)\n",
      "llama_print_timings:       total time =    1879.88 ms\n",
      "Llama.generate: prefix-match hit\n"
     ]
    },
    {
     "name": "stdout",
     "output_type": "stream",
     "text": [
      "66 -- 1\n"
     ]
    },
    {
     "name": "stderr",
     "output_type": "stream",
     "text": [
      "\n",
      "llama_print_timings:        load time =    2260.34 ms\n",
      "llama_print_timings:      sample time =      14.16 ms /   111 runs   (    0.13 ms per token,  7840.09 tokens per second)\n",
      "llama_print_timings: prompt eval time =     198.35 ms /    25 tokens (    7.93 ms per token,   126.04 tokens per second)\n",
      "llama_print_timings:        eval time =    5754.97 ms /   110 runs   (   52.32 ms per token,    19.11 tokens per second)\n",
      "llama_print_timings:       total time =    6137.04 ms\n",
      "Llama.generate: prefix-match hit\n"
     ]
    },
    {
     "name": "stdout",
     "output_type": "stream",
     "text": [
      "67 -- 1\n"
     ]
    },
    {
     "name": "stderr",
     "output_type": "stream",
     "text": [
      "\n",
      "llama_print_timings:        load time =    2260.34 ms\n",
      "llama_print_timings:      sample time =      29.61 ms /   108 runs   (    0.27 ms per token,  3647.05 tokens per second)\n",
      "llama_print_timings: prompt eval time =     187.55 ms /    18 tokens (   10.42 ms per token,    95.98 tokens per second)\n",
      "llama_print_timings:        eval time =    5701.24 ms /   107 runs   (   53.28 ms per token,    18.77 tokens per second)\n",
      "llama_print_timings:       total time =    6317.58 ms\n",
      "Llama.generate: prefix-match hit\n"
     ]
    },
    {
     "name": "stdout",
     "output_type": "stream",
     "text": [
      "68 -- 1\n"
     ]
    },
    {
     "name": "stderr",
     "output_type": "stream",
     "text": [
      "\n",
      "llama_print_timings:        load time =    2260.34 ms\n",
      "llama_print_timings:      sample time =      18.71 ms /    45 runs   (    0.42 ms per token,  2405.39 tokens per second)\n",
      "llama_print_timings: prompt eval time =     188.60 ms /    20 tokens (    9.43 ms per token,   106.04 tokens per second)\n",
      "llama_print_timings:        eval time =    2390.50 ms /    44 runs   (   54.33 ms per token,    18.41 tokens per second)\n",
      "llama_print_timings:       total time =    2839.14 ms\n",
      "Llama.generate: prefix-match hit\n"
     ]
    },
    {
     "name": "stdout",
     "output_type": "stream",
     "text": [
      "69 -- 1\n"
     ]
    },
    {
     "name": "stderr",
     "output_type": "stream",
     "text": [
      "\n",
      "llama_print_timings:        load time =    2260.34 ms\n",
      "llama_print_timings:      sample time =      14.64 ms /    29 runs   (    0.50 ms per token,  1981.42 tokens per second)\n",
      "llama_print_timings: prompt eval time =     185.70 ms /    16 tokens (   11.61 ms per token,    86.16 tokens per second)\n",
      "llama_print_timings:        eval time =    1521.41 ms /    28 runs   (   54.34 ms per token,    18.40 tokens per second)\n",
      "llama_print_timings:       total time =    1902.00 ms\n",
      "Llama.generate: prefix-match hit\n",
      "\n",
      "llama_print_timings:        load time =    2260.34 ms\n",
      "llama_print_timings:      sample time =      30.13 ms /   124 runs   (    0.24 ms per token,  4115.23 tokens per second)\n",
      "llama_print_timings: prompt eval time =     194.97 ms /    25 tokens (    7.80 ms per token,   128.23 tokens per second)\n",
      "llama_print_timings:        eval time =    6508.31 ms /   123 runs   (   52.91 ms per token,    18.90 tokens per second)\n",
      "llama_print_timings:       total time =    7077.35 ms\n",
      "Llama.generate: prefix-match hit\n"
     ]
    },
    {
     "name": "stdout",
     "output_type": "stream",
     "text": [
      "70 -- 1\n",
      "71 -- 1\n"
     ]
    },
    {
     "name": "stderr",
     "output_type": "stream",
     "text": [
      "\n",
      "llama_print_timings:        load time =    2260.34 ms\n",
      "llama_print_timings:      sample time =      14.88 ms /    34 runs   (    0.44 ms per token,  2284.64 tokens per second)\n",
      "llama_print_timings: prompt eval time =     183.53 ms /    15 tokens (   12.24 ms per token,    81.73 tokens per second)\n",
      "llama_print_timings:        eval time =    1774.65 ms /    33 runs   (   53.78 ms per token,    18.60 tokens per second)\n",
      "llama_print_timings:       total time =    2123.38 ms\n",
      "Llama.generate: prefix-match hit\n"
     ]
    },
    {
     "name": "stdout",
     "output_type": "stream",
     "text": [
      "72 -- 1\n"
     ]
    },
    {
     "name": "stderr",
     "output_type": "stream",
     "text": [
      "\n",
      "llama_print_timings:        load time =    2260.34 ms\n",
      "llama_print_timings:      sample time =       6.59 ms /    29 runs   (    0.23 ms per token,  4397.27 tokens per second)\n",
      "llama_print_timings: prompt eval time =     185.25 ms /    17 tokens (   10.90 ms per token,    91.77 tokens per second)\n",
      "llama_print_timings:        eval time =    1475.55 ms /    28 runs   (   52.70 ms per token,    18.98 tokens per second)\n",
      "llama_print_timings:       total time =    1752.73 ms\n",
      "Llama.generate: prefix-match hit\n"
     ]
    },
    {
     "name": "stdout",
     "output_type": "stream",
     "text": [
      "73 -- 1\n"
     ]
    },
    {
     "name": "stderr",
     "output_type": "stream",
     "text": [
      "\n",
      "llama_print_timings:        load time =    2260.34 ms\n",
      "llama_print_timings:      sample time =      66.86 ms /   127 runs   (    0.53 ms per token,  1899.43 tokens per second)\n",
      "llama_print_timings: prompt eval time =     334.19 ms /    34 tokens (    9.83 ms per token,   101.74 tokens per second)\n",
      "llama_print_timings:        eval time =    6847.50 ms /   126 runs   (   54.35 ms per token,    18.40 tokens per second)\n",
      "llama_print_timings:       total time =    8013.83 ms\n",
      "Llama.generate: prefix-match hit\n"
     ]
    },
    {
     "name": "stdout",
     "output_type": "stream",
     "text": [
      "74 -- 1\n"
     ]
    },
    {
     "name": "stderr",
     "output_type": "stream",
     "text": [
      "\n",
      "llama_print_timings:        load time =    2260.34 ms\n",
      "llama_print_timings:      sample time =      11.42 ms /    29 runs   (    0.39 ms per token,  2539.85 tokens per second)\n",
      "llama_print_timings: prompt eval time =     191.39 ms /    21 tokens (    9.11 ms per token,   109.72 tokens per second)\n",
      "llama_print_timings:        eval time =    1513.57 ms /    28 runs   (   54.06 ms per token,    18.50 tokens per second)\n",
      "llama_print_timings:       total time =    1833.54 ms\n",
      "Llama.generate: prefix-match hit\n"
     ]
    },
    {
     "name": "stdout",
     "output_type": "stream",
     "text": [
      "75 -- 1\n"
     ]
    },
    {
     "name": "stderr",
     "output_type": "stream",
     "text": [
      "\n",
      "llama_print_timings:        load time =    2260.34 ms\n",
      "llama_print_timings:      sample time =      12.52 ms /    29 runs   (    0.43 ms per token,  2316.85 tokens per second)\n",
      "llama_print_timings: prompt eval time =     193.88 ms /    25 tokens (    7.76 ms per token,   128.94 tokens per second)\n",
      "llama_print_timings:        eval time =    1522.12 ms /    28 runs   (   54.36 ms per token,    18.40 tokens per second)\n",
      "llama_print_timings:       total time =    1875.62 ms\n",
      "Llama.generate: prefix-match hit\n"
     ]
    },
    {
     "name": "stdout",
     "output_type": "stream",
     "text": [
      "76 -- 1\n"
     ]
    },
    {
     "name": "stderr",
     "output_type": "stream",
     "text": [
      "\n",
      "llama_print_timings:        load time =    2260.34 ms\n",
      "llama_print_timings:      sample time =      60.12 ms /   117 runs   (    0.51 ms per token,  1946.24 tokens per second)\n",
      "llama_print_timings: prompt eval time =     193.68 ms /    18 tokens (   10.76 ms per token,    92.94 tokens per second)\n",
      "llama_print_timings:        eval time =    6305.02 ms /   116 runs   (   54.35 ms per token,    18.40 tokens per second)\n",
      "llama_print_timings:       total time =    7258.47 ms\n",
      "Llama.generate: prefix-match hit\n"
     ]
    },
    {
     "name": "stdout",
     "output_type": "stream",
     "text": [
      "77 -- 1\n"
     ]
    },
    {
     "name": "stderr",
     "output_type": "stream",
     "text": [
      "\n",
      "llama_print_timings:        load time =    2260.34 ms\n",
      "llama_print_timings:      sample time =      13.66 ms /    29 runs   (    0.47 ms per token,  2123.76 tokens per second)\n",
      "llama_print_timings: prompt eval time =     202.72 ms /    31 tokens (    6.54 ms per token,   152.92 tokens per second)\n",
      "llama_print_timings:        eval time =    1511.74 ms /    28 runs   (   53.99 ms per token,    18.52 tokens per second)\n",
      "llama_print_timings:       total time =    1839.75 ms\n",
      "Llama.generate: prefix-match hit\n"
     ]
    },
    {
     "name": "stdout",
     "output_type": "stream",
     "text": [
      "78 -- 1\n"
     ]
    },
    {
     "name": "stderr",
     "output_type": "stream",
     "text": [
      "\n",
      "llama_print_timings:        load time =    2260.34 ms\n",
      "llama_print_timings:      sample time =      25.81 ms /   114 runs   (    0.23 ms per token,  4417.41 tokens per second)\n",
      "llama_print_timings: prompt eval time =     188.71 ms /    20 tokens (    9.44 ms per token,   105.98 tokens per second)\n",
      "llama_print_timings:        eval time =    6284.68 ms /   113 runs   (   55.62 ms per token,    17.98 tokens per second)\n",
      "llama_print_timings:       total time =    6818.84 ms\n",
      "Llama.generate: prefix-match hit\n"
     ]
    },
    {
     "name": "stdout",
     "output_type": "stream",
     "text": [
      "79 -- 1\n"
     ]
    },
    {
     "name": "stderr",
     "output_type": "stream",
     "text": [
      "\n",
      "llama_print_timings:        load time =    2260.34 ms\n",
      "llama_print_timings:      sample time =      11.48 ms /    96 runs   (    0.12 ms per token,  8360.91 tokens per second)\n",
      "llama_print_timings: prompt eval time =     220.49 ms /    19 tokens (   11.60 ms per token,    86.17 tokens per second)\n",
      "llama_print_timings:        eval time =    4988.82 ms /    95 runs   (   52.51 ms per token,    19.04 tokens per second)\n",
      "llama_print_timings:       total time =    5368.27 ms\n",
      "Llama.generate: prefix-match hit\n"
     ]
    },
    {
     "name": "stdout",
     "output_type": "stream",
     "text": [
      "80 -- 1\n"
     ]
    },
    {
     "name": "stderr",
     "output_type": "stream",
     "text": [
      "\n",
      "llama_print_timings:        load time =    2260.34 ms\n",
      "llama_print_timings:      sample time =      13.93 ms /   116 runs   (    0.12 ms per token,  8330.34 tokens per second)\n",
      "llama_print_timings: prompt eval time =     192.89 ms /    26 tokens (    7.42 ms per token,   134.79 tokens per second)\n",
      "llama_print_timings:        eval time =    6079.33 ms /   115 runs   (   52.86 ms per token,    18.92 tokens per second)\n",
      "llama_print_timings:       total time =    6461.44 ms\n",
      "Llama.generate: prefix-match hit\n"
     ]
    },
    {
     "name": "stdout",
     "output_type": "stream",
     "text": [
      "81 -- 1\n"
     ]
    },
    {
     "name": "stderr",
     "output_type": "stream",
     "text": [
      "\n",
      "llama_print_timings:        load time =    2260.34 ms\n",
      "llama_print_timings:      sample time =       3.97 ms /    38 runs   (    0.10 ms per token,  9574.20 tokens per second)\n",
      "llama_print_timings: prompt eval time =     183.32 ms /    16 tokens (   11.46 ms per token,    87.28 tokens per second)\n",
      "llama_print_timings:        eval time =    1905.85 ms /    37 runs   (   51.51 ms per token,    19.41 tokens per second)\n",
      "llama_print_timings:       total time =    2141.14 ms\n",
      "Llama.generate: prefix-match hit\n"
     ]
    },
    {
     "name": "stdout",
     "output_type": "stream",
     "text": [
      "82 -- 1\n"
     ]
    },
    {
     "name": "stderr",
     "output_type": "stream",
     "text": [
      "\n",
      "llama_print_timings:        load time =    2260.34 ms\n",
      "llama_print_timings:      sample time =       3.72 ms /    29 runs   (    0.13 ms per token,  7787.33 tokens per second)\n",
      "llama_print_timings: prompt eval time =     184.07 ms /    18 tokens (   10.23 ms per token,    97.79 tokens per second)\n",
      "llama_print_timings:        eval time =    1447.41 ms /    28 runs   (   51.69 ms per token,    19.34 tokens per second)\n",
      "llama_print_timings:       total time =    1678.23 ms\n",
      "Llama.generate: prefix-match hit\n"
     ]
    },
    {
     "name": "stdout",
     "output_type": "stream",
     "text": [
      "83 -- 1\n"
     ]
    },
    {
     "name": "stderr",
     "output_type": "stream",
     "text": [
      "\n",
      "llama_print_timings:        load time =    2260.34 ms\n",
      "llama_print_timings:      sample time =      12.57 ms /   126 runs   (    0.10 ms per token, 10025.46 tokens per second)\n",
      "llama_print_timings: prompt eval time =     344.76 ms /    43 tokens (    8.02 ms per token,   124.72 tokens per second)\n",
      "llama_print_timings:        eval time =    6557.52 ms /   125 runs   (   52.46 ms per token,    19.06 tokens per second)\n",
      "llama_print_timings:       total time =    7086.27 ms\n",
      "Llama.generate: prefix-match hit\n",
      "\n",
      "llama_print_timings:        load time =    2260.34 ms\n",
      "llama_print_timings:      sample time =      15.32 ms /   129 runs   (    0.12 ms per token,  8419.27 tokens per second)\n",
      "llama_print_timings: prompt eval time =     191.59 ms /    23 tokens (    8.33 ms per token,   120.05 tokens per second)\n",
      "llama_print_timings:        eval time =    6692.16 ms /   128 runs   (   52.28 ms per token,    19.13 tokens per second)\n",
      "llama_print_timings:       total time =    7101.05 ms\n",
      "Llama.generate: prefix-match hit\n"
     ]
    },
    {
     "name": "stdout",
     "output_type": "stream",
     "text": [
      "84 -- 1\n",
      "85 -- 1\n"
     ]
    },
    {
     "name": "stderr",
     "output_type": "stream",
     "text": [
      "\n",
      "llama_print_timings:        load time =    2260.34 ms\n",
      "llama_print_timings:      sample time =      14.34 ms /   122 runs   (    0.12 ms per token,  8509.45 tokens per second)\n",
      "llama_print_timings: prompt eval time =     195.77 ms /    25 tokens (    7.83 ms per token,   127.70 tokens per second)\n",
      "llama_print_timings:        eval time =    6562.36 ms /   121 runs   (   54.23 ms per token,    18.44 tokens per second)\n",
      "llama_print_timings:       total time =    6963.79 ms\n",
      "Llama.generate: prefix-match hit\n"
     ]
    },
    {
     "name": "stdout",
     "output_type": "stream",
     "text": [
      "86 -- 1\n"
     ]
    },
    {
     "name": "stderr",
     "output_type": "stream",
     "text": [
      "\n",
      "llama_print_timings:        load time =    2260.34 ms\n",
      "llama_print_timings:      sample time =      15.58 ms /    86 runs   (    0.18 ms per token,  5520.61 tokens per second)\n",
      "llama_print_timings: prompt eval time =     195.19 ms /    27 tokens (    7.23 ms per token,   138.33 tokens per second)\n",
      "llama_print_timings:        eval time =    4429.16 ms /    85 runs   (   52.11 ms per token,    19.19 tokens per second)\n",
      "llama_print_timings:       total time =    4831.48 ms\n",
      "Llama.generate: prefix-match hit\n"
     ]
    },
    {
     "name": "stdout",
     "output_type": "stream",
     "text": [
      "87 -- 1\n"
     ]
    },
    {
     "name": "stderr",
     "output_type": "stream",
     "text": [
      "\n",
      "llama_print_timings:        load time =    2260.34 ms\n",
      "llama_print_timings:      sample time =      17.61 ms /    34 runs   (    0.52 ms per token,  1930.72 tokens per second)\n",
      "llama_print_timings: prompt eval time =     183.59 ms /    15 tokens (   12.24 ms per token,    81.71 tokens per second)\n",
      "llama_print_timings:        eval time =    1764.84 ms /    33 runs   (   53.48 ms per token,    18.70 tokens per second)\n",
      "llama_print_timings:       total time =    2113.09 ms\n",
      "Llama.generate: prefix-match hit\n"
     ]
    },
    {
     "name": "stdout",
     "output_type": "stream",
     "text": [
      "88 -- 1\n"
     ]
    },
    {
     "name": "stderr",
     "output_type": "stream",
     "text": [
      "\n",
      "llama_print_timings:        load time =    2260.34 ms\n",
      "llama_print_timings:      sample time =      11.44 ms /    97 runs   (    0.12 ms per token,  8480.50 tokens per second)\n",
      "llama_print_timings: prompt eval time =     191.90 ms /    23 tokens (    8.34 ms per token,   119.85 tokens per second)\n",
      "llama_print_timings:        eval time =    5014.69 ms /    96 runs   (   52.24 ms per token,    19.14 tokens per second)\n",
      "llama_print_timings:       total time =    5371.72 ms\n",
      "Llama.generate: prefix-match hit\n"
     ]
    },
    {
     "name": "stdout",
     "output_type": "stream",
     "text": [
      "89 -- 1\n"
     ]
    },
    {
     "name": "stderr",
     "output_type": "stream",
     "text": [
      "\n",
      "llama_print_timings:        load time =    2260.34 ms\n",
      "llama_print_timings:      sample time =      16.35 ms /   119 runs   (    0.14 ms per token,  7277.40 tokens per second)\n",
      "llama_print_timings: prompt eval time =     192.91 ms /    26 tokens (    7.42 ms per token,   134.78 tokens per second)\n",
      "llama_print_timings:        eval time =    6150.57 ms /   118 runs   (   52.12 ms per token,    19.19 tokens per second)\n",
      "llama_print_timings:       total time =    6567.82 ms\n",
      "Llama.generate: prefix-match hit\n"
     ]
    },
    {
     "name": "stdout",
     "output_type": "stream",
     "text": [
      "90 -- 1\n"
     ]
    },
    {
     "name": "stderr",
     "output_type": "stream",
     "text": [
      "\n",
      "llama_print_timings:        load time =    2260.34 ms\n",
      "llama_print_timings:      sample time =       3.47 ms /    34 runs   (    0.10 ms per token,  9789.81 tokens per second)\n",
      "llama_print_timings: prompt eval time =     189.27 ms /    22 tokens (    8.60 ms per token,   116.24 tokens per second)\n",
      "llama_print_timings:        eval time =    1702.54 ms /    33 runs   (   51.59 ms per token,    19.38 tokens per second)\n",
      "llama_print_timings:       total time =    1937.22 ms\n",
      "Llama.generate: prefix-match hit\n"
     ]
    },
    {
     "name": "stdout",
     "output_type": "stream",
     "text": [
      "91 -- 1\n"
     ]
    },
    {
     "name": "stderr",
     "output_type": "stream",
     "text": [
      "\n",
      "llama_print_timings:        load time =    2260.34 ms\n",
      "llama_print_timings:      sample time =      20.12 ms /    39 runs   (    0.52 ms per token,  1938.27 tokens per second)\n",
      "llama_print_timings: prompt eval time =     187.59 ms /    20 tokens (    9.38 ms per token,   106.62 tokens per second)\n",
      "llama_print_timings:        eval time =    2036.19 ms /    38 runs   (   53.58 ms per token,    18.66 tokens per second)\n",
      "llama_print_timings:       total time =    2454.57 ms\n",
      "Llama.generate: prefix-match hit\n"
     ]
    },
    {
     "name": "stdout",
     "output_type": "stream",
     "text": [
      "92 -- 1\n"
     ]
    },
    {
     "name": "stderr",
     "output_type": "stream",
     "text": [
      "\n",
      "llama_print_timings:        load time =    2260.34 ms\n",
      "llama_print_timings:      sample time =      14.39 ms /   127 runs   (    0.11 ms per token,  8827.41 tokens per second)\n",
      "llama_print_timings: prompt eval time =     183.56 ms /    15 tokens (   12.24 ms per token,    81.72 tokens per second)\n",
      "llama_print_timings:        eval time =    6533.16 ms /   126 runs   (   51.85 ms per token,    19.29 tokens per second)\n",
      "llama_print_timings:       total time =    6919.61 ms\n",
      "Llama.generate: prefix-match hit\n"
     ]
    },
    {
     "name": "stdout",
     "output_type": "stream",
     "text": [
      "93 -- 1\n"
     ]
    },
    {
     "name": "stderr",
     "output_type": "stream",
     "text": [
      "\n",
      "llama_print_timings:        load time =    2260.34 ms\n",
      "llama_print_timings:      sample time =       7.28 ms /    44 runs   (    0.17 ms per token,  6048.11 tokens per second)\n",
      "llama_print_timings: prompt eval time =     187.03 ms /    20 tokens (    9.35 ms per token,   106.94 tokens per second)\n",
      "llama_print_timings:        eval time =    2259.99 ms /    43 runs   (   52.56 ms per token,    19.03 tokens per second)\n",
      "llama_print_timings:       total time =    2534.67 ms\n",
      "Llama.generate: prefix-match hit\n"
     ]
    },
    {
     "name": "stdout",
     "output_type": "stream",
     "text": [
      "94 -- 1\n"
     ]
    },
    {
     "name": "stderr",
     "output_type": "stream",
     "text": [
      "\n",
      "llama_print_timings:        load time =    2260.34 ms\n",
      "llama_print_timings:      sample time =       4.32 ms /    28 runs   (    0.15 ms per token,  6478.48 tokens per second)\n",
      "llama_print_timings: prompt eval time =     189.66 ms /    21 tokens (    9.03 ms per token,   110.73 tokens per second)\n",
      "llama_print_timings:        eval time =    1402.13 ms /    27 runs   (   51.93 ms per token,    19.26 tokens per second)\n",
      "llama_print_timings:       total time =    1648.13 ms\n",
      "Llama.generate: prefix-match hit\n"
     ]
    },
    {
     "name": "stdout",
     "output_type": "stream",
     "text": [
      "95 -- 1\n"
     ]
    },
    {
     "name": "stderr",
     "output_type": "stream",
     "text": [
      "\n",
      "llama_print_timings:        load time =    2260.34 ms\n",
      "llama_print_timings:      sample time =       3.48 ms /    34 runs   (    0.10 ms per token,  9770.11 tokens per second)\n",
      "llama_print_timings: prompt eval time =     188.95 ms /    22 tokens (    8.59 ms per token,   116.43 tokens per second)\n",
      "llama_print_timings:        eval time =    1710.58 ms /    33 runs   (   51.84 ms per token,    19.29 tokens per second)\n",
      "llama_print_timings:       total time =    1945.16 ms\n",
      "Llama.generate: prefix-match hit\n"
     ]
    },
    {
     "name": "stdout",
     "output_type": "stream",
     "text": [
      "96 -- 1\n"
     ]
    },
    {
     "name": "stderr",
     "output_type": "stream",
     "text": [
      "\n",
      "llama_print_timings:        load time =    2260.34 ms\n",
      "llama_print_timings:      sample time =       6.00 ms /    61 runs   (    0.10 ms per token, 10164.97 tokens per second)\n",
      "llama_print_timings: prompt eval time =     186.94 ms /    20 tokens (    9.35 ms per token,   106.99 tokens per second)\n",
      "llama_print_timings:        eval time =    3096.39 ms /    60 runs   (   51.61 ms per token,    19.38 tokens per second)\n",
      "llama_print_timings:       total time =    3366.00 ms\n",
      "Llama.generate: prefix-match hit\n"
     ]
    },
    {
     "name": "stdout",
     "output_type": "stream",
     "text": [
      "97 -- 1\n"
     ]
    },
    {
     "name": "stderr",
     "output_type": "stream",
     "text": [
      "\n",
      "llama_print_timings:        load time =    2260.34 ms\n",
      "llama_print_timings:      sample time =      12.93 ms /   110 runs   (    0.12 ms per token,  8510.64 tokens per second)\n",
      "llama_print_timings: prompt eval time =     187.57 ms /    19 tokens (    9.87 ms per token,   101.29 tokens per second)\n",
      "llama_print_timings:        eval time =    5639.20 ms /   109 runs   (   51.74 ms per token,    19.33 tokens per second)\n",
      "llama_print_timings:       total time =    6003.66 ms\n",
      "Llama.generate: prefix-match hit\n"
     ]
    },
    {
     "name": "stdout",
     "output_type": "stream",
     "text": [
      "98 -- 1\n"
     ]
    },
    {
     "name": "stderr",
     "output_type": "stream",
     "text": [
      "\n",
      "llama_print_timings:        load time =    2260.34 ms\n",
      "llama_print_timings:      sample time =       3.05 ms /    29 runs   (    0.11 ms per token,  9508.20 tokens per second)\n",
      "llama_print_timings: prompt eval time =     184.62 ms /    17 tokens (   10.86 ms per token,    92.08 tokens per second)\n",
      "llama_print_timings:        eval time =    1442.14 ms /    28 runs   (   51.50 ms per token,    19.42 tokens per second)\n",
      "llama_print_timings:       total time =    1667.19 ms\n",
      "Llama.generate: prefix-match hit\n"
     ]
    },
    {
     "name": "stdout",
     "output_type": "stream",
     "text": [
      "99 -- 1\n"
     ]
    },
    {
     "name": "stderr",
     "output_type": "stream",
     "text": [
      "\n",
      "llama_print_timings:        load time =    2260.34 ms\n",
      "llama_print_timings:      sample time =      11.88 ms /   117 runs   (    0.10 ms per token,  9851.80 tokens per second)\n",
      "llama_print_timings: prompt eval time =     190.69 ms /    23 tokens (    8.29 ms per token,   120.62 tokens per second)\n",
      "llama_print_timings:        eval time =    5991.39 ms /   116 runs   (   51.65 ms per token,    19.36 tokens per second)\n",
      "llama_print_timings:       total time =    6347.29 ms\n",
      "Llama.generate: prefix-match hit\n"
     ]
    },
    {
     "name": "stdout",
     "output_type": "stream",
     "text": [
      "100 -- 1\n"
     ]
    },
    {
     "name": "stderr",
     "output_type": "stream",
     "text": [
      "\n",
      "llama_print_timings:        load time =    2260.34 ms\n",
      "llama_print_timings:      sample time =      16.98 ms /    34 runs   (    0.50 ms per token,  2002.00 tokens per second)\n",
      "llama_print_timings: prompt eval time =     180.44 ms /    14 tokens (   12.89 ms per token,    77.59 tokens per second)\n",
      "llama_print_timings:        eval time =    1762.10 ms /    33 runs   (   53.40 ms per token,    18.73 tokens per second)\n",
      "llama_print_timings:       total time =    2131.62 ms\n",
      "Llama.generate: prefix-match hit\n",
      "\n",
      "llama_print_timings:        load time =    2260.34 ms\n",
      "llama_print_timings:      sample time =      12.10 ms /    68 runs   (    0.18 ms per token,  5621.23 tokens per second)\n",
      "llama_print_timings: prompt eval time =     190.39 ms /    19 tokens (   10.02 ms per token,    99.80 tokens per second)\n",
      "llama_print_timings:        eval time =    3493.32 ms /    67 runs   (   52.14 ms per token,    19.18 tokens per second)\n",
      "llama_print_timings:       total time =    3836.76 ms\n",
      "Llama.generate: prefix-match hit\n"
     ]
    },
    {
     "name": "stdout",
     "output_type": "stream",
     "text": [
      "101 -- 1\n",
      "102 -- 1\n"
     ]
    },
    {
     "name": "stderr",
     "output_type": "stream",
     "text": [
      "\n",
      "llama_print_timings:        load time =    2260.34 ms\n",
      "llama_print_timings:      sample time =      18.77 ms /   111 runs   (    0.17 ms per token,  5915.27 tokens per second)\n",
      "llama_print_timings: prompt eval time =     184.33 ms /    17 tokens (   10.84 ms per token,    92.23 tokens per second)\n",
      "llama_print_timings:        eval time =    5734.89 ms /   110 runs   (   52.14 ms per token,    19.18 tokens per second)\n",
      "llama_print_timings:       total time =    6171.83 ms\n",
      "Llama.generate: prefix-match hit\n",
      "\n",
      "llama_print_timings:        load time =    2260.34 ms\n",
      "llama_print_timings:      sample time =       3.06 ms /    29 runs   (    0.11 ms per token,  9470.93 tokens per second)\n",
      "llama_print_timings: prompt eval time =     191.57 ms /    24 tokens (    7.98 ms per token,   125.28 tokens per second)\n",
      "llama_print_timings:        eval time =    1443.65 ms /    28 runs   (   51.56 ms per token,    19.40 tokens per second)\n",
      "llama_print_timings:       total time =    1674.14 ms\n",
      "Llama.generate: prefix-match hit\n"
     ]
    },
    {
     "name": "stdout",
     "output_type": "stream",
     "text": [
      "103 -- 1\n"
     ]
    },
    {
     "name": "stderr",
     "output_type": "stream",
     "text": [
      "\n",
      "llama_print_timings:        load time =    2260.34 ms\n",
      "llama_print_timings:      sample time =      15.35 ms /    28 runs   (    0.55 ms per token,  1823.87 tokens per second)\n",
      "llama_print_timings: prompt eval time =     192.02 ms /    24 tokens (    8.00 ms per token,   124.99 tokens per second)\n",
      "llama_print_timings:        eval time =    1453.93 ms /    27 runs   (   53.85 ms per token,    18.57 tokens per second)\n",
      "llama_print_timings:       total time =    1785.59 ms\n",
      "Llama.generate: prefix-match hit\n"
     ]
    },
    {
     "name": "stdout",
     "output_type": "stream",
     "text": [
      "104 -- 1\n",
      "105 -- 1\n"
     ]
    },
    {
     "name": "stderr",
     "output_type": "stream",
     "text": [
      "\n",
      "llama_print_timings:        load time =    2260.34 ms\n",
      "llama_print_timings:      sample time =      10.45 ms /    61 runs   (    0.17 ms per token,  5837.88 tokens per second)\n",
      "llama_print_timings: prompt eval time =     187.63 ms /    19 tokens (    9.88 ms per token,   101.26 tokens per second)\n",
      "llama_print_timings:        eval time =    3129.95 ms /    60 runs   (   52.17 ms per token,    19.17 tokens per second)\n",
      "llama_print_timings:       total time =    3461.44 ms\n",
      "Llama.generate: prefix-match hit\n"
     ]
    },
    {
     "name": "stdout",
     "output_type": "stream",
     "text": [
      "106 -- 1\n"
     ]
    },
    {
     "name": "stderr",
     "output_type": "stream",
     "text": [
      "\n",
      "llama_print_timings:        load time =    2260.34 ms\n",
      "llama_print_timings:      sample time =      28.40 ms /   119 runs   (    0.24 ms per token,  4190.58 tokens per second)\n",
      "llama_print_timings: prompt eval time =     188.08 ms /    20 tokens (    9.40 ms per token,   106.34 tokens per second)\n",
      "llama_print_timings:        eval time =    6198.97 ms /   118 runs   (   52.53 ms per token,    19.04 tokens per second)\n",
      "llama_print_timings:       total time =    6693.33 ms\n",
      "Llama.generate: prefix-match hit\n"
     ]
    },
    {
     "name": "stdout",
     "output_type": "stream",
     "text": [
      "107 -- 1\n"
     ]
    },
    {
     "name": "stderr",
     "output_type": "stream",
     "text": [
      "\n",
      "llama_print_timings:        load time =    2260.34 ms\n",
      "llama_print_timings:      sample time =      13.75 ms /    30 runs   (    0.46 ms per token,  2181.98 tokens per second)\n",
      "llama_print_timings: prompt eval time =     350.85 ms /    51 tokens (    6.88 ms per token,   145.36 tokens per second)\n",
      "llama_print_timings:        eval time =    1594.94 ms /    29 runs   (   55.00 ms per token,    18.18 tokens per second)\n",
      "llama_print_timings:       total time =    2142.00 ms\n",
      "Llama.generate: prefix-match hit\n"
     ]
    },
    {
     "name": "stdout",
     "output_type": "stream",
     "text": [
      "108 -- 1\n"
     ]
    },
    {
     "name": "stderr",
     "output_type": "stream",
     "text": [
      "\n",
      "llama_print_timings:        load time =    2260.34 ms\n",
      "llama_print_timings:      sample time =       4.21 ms /    28 runs   (    0.15 ms per token,  6652.41 tokens per second)\n",
      "llama_print_timings: prompt eval time =     191.27 ms /    22 tokens (    8.69 ms per token,   115.02 tokens per second)\n",
      "llama_print_timings:        eval time =    1399.60 ms /    27 runs   (   51.84 ms per token,    19.29 tokens per second)\n",
      "llama_print_timings:       total time =    1646.52 ms\n",
      "Llama.generate: prefix-match hit\n"
     ]
    },
    {
     "name": "stdout",
     "output_type": "stream",
     "text": [
      "109 -- 1\n"
     ]
    },
    {
     "name": "stderr",
     "output_type": "stream",
     "text": [
      "\n",
      "llama_print_timings:        load time =    2260.34 ms\n",
      "llama_print_timings:      sample time =       5.98 ms /    61 runs   (    0.10 ms per token, 10193.85 tokens per second)\n",
      "llama_print_timings: prompt eval time =     184.14 ms /    18 tokens (   10.23 ms per token,    97.75 tokens per second)\n",
      "llama_print_timings:        eval time =    3129.67 ms /    60 runs   (   52.16 ms per token,    19.17 tokens per second)\n",
      "llama_print_timings:       total time =    3396.65 ms\n",
      "Llama.generate: prefix-match hit\n"
     ]
    },
    {
     "name": "stdout",
     "output_type": "stream",
     "text": [
      "110 -- 1\n"
     ]
    },
    {
     "name": "stderr",
     "output_type": "stream",
     "text": [
      "\n",
      "llama_print_timings:        load time =    2260.34 ms\n",
      "llama_print_timings:      sample time =       7.37 ms /    29 runs   (    0.25 ms per token,  3937.54 tokens per second)\n",
      "llama_print_timings: prompt eval time =     189.80 ms /    18 tokens (   10.54 ms per token,    94.84 tokens per second)\n",
      "llama_print_timings:        eval time =    1510.42 ms /    28 runs   (   53.94 ms per token,    18.54 tokens per second)\n",
      "llama_print_timings:       total time =    1787.92 ms\n",
      "Llama.generate: prefix-match hit\n"
     ]
    },
    {
     "name": "stdout",
     "output_type": "stream",
     "text": [
      "111 -- 1\n"
     ]
    },
    {
     "name": "stderr",
     "output_type": "stream",
     "text": [
      "\n",
      "llama_print_timings:        load time =    2260.34 ms\n",
      "llama_print_timings:      sample time =      14.70 ms /   132 runs   (    0.11 ms per token,  8977.76 tokens per second)\n",
      "llama_print_timings: prompt eval time =     196.94 ms /    25 tokens (    7.88 ms per token,   126.95 tokens per second)\n",
      "llama_print_timings:        eval time =    6798.57 ms /   131 runs   (   51.90 ms per token,    19.27 tokens per second)\n",
      "llama_print_timings:       total time =    7198.90 ms\n",
      "Llama.generate: prefix-match hit\n"
     ]
    },
    {
     "name": "stdout",
     "output_type": "stream",
     "text": [
      "112 -- 1\n"
     ]
    },
    {
     "name": "stderr",
     "output_type": "stream",
     "text": [
      "\n",
      "llama_print_timings:        load time =    2260.34 ms\n",
      "llama_print_timings:      sample time =       3.00 ms /    29 runs   (    0.10 ms per token,  9676.34 tokens per second)\n",
      "llama_print_timings: prompt eval time =     180.70 ms /    14 tokens (   12.91 ms per token,    77.48 tokens per second)\n",
      "llama_print_timings:        eval time =    1440.83 ms /    28 runs   (   51.46 ms per token,    19.43 tokens per second)\n",
      "llama_print_timings:       total time =    1660.21 ms\n",
      "Llama.generate: prefix-match hit\n"
     ]
    },
    {
     "name": "stdout",
     "output_type": "stream",
     "text": [
      "113 -- 1\n"
     ]
    },
    {
     "name": "stderr",
     "output_type": "stream",
     "text": [
      "\n",
      "llama_print_timings:        load time =    2260.34 ms\n",
      "llama_print_timings:      sample time =       3.25 ms /    29 runs   (    0.11 ms per token,  8928.57 tokens per second)\n",
      "llama_print_timings: prompt eval time =     187.54 ms /    20 tokens (    9.38 ms per token,   106.64 tokens per second)\n",
      "llama_print_timings:        eval time =    1445.13 ms /    28 runs   (   51.61 ms per token,    19.38 tokens per second)\n",
      "llama_print_timings:       total time =    1675.02 ms\n",
      "Llama.generate: prefix-match hit\n"
     ]
    },
    {
     "name": "stdout",
     "output_type": "stream",
     "text": [
      "114 -- 1\n"
     ]
    },
    {
     "name": "stderr",
     "output_type": "stream",
     "text": [
      "\n",
      "llama_print_timings:        load time =    2260.34 ms\n",
      "llama_print_timings:      sample time =      12.02 ms /   121 runs   (    0.10 ms per token, 10069.91 tokens per second)\n",
      "llama_print_timings: prompt eval time =     189.15 ms /    22 tokens (    8.60 ms per token,   116.31 tokens per second)\n",
      "llama_print_timings:        eval time =    6219.16 ms /   120 runs   (   51.83 ms per token,    19.30 tokens per second)\n",
      "llama_print_timings:       total time =    6576.57 ms\n",
      "Llama.generate: prefix-match hit\n"
     ]
    },
    {
     "name": "stdout",
     "output_type": "stream",
     "text": [
      "115 -- 1\n"
     ]
    },
    {
     "name": "stderr",
     "output_type": "stream",
     "text": [
      "\n",
      "llama_print_timings:        load time =    2260.34 ms\n",
      "llama_print_timings:      sample time =      11.72 ms /   114 runs   (    0.10 ms per token,  9730.28 tokens per second)\n",
      "llama_print_timings: prompt eval time =     184.30 ms /    18 tokens (   10.24 ms per token,    97.67 tokens per second)\n",
      "llama_print_timings:        eval time =    5859.58 ms /   113 runs   (   51.85 ms per token,    19.28 tokens per second)\n",
      "llama_print_timings:       total time =    6201.61 ms\n",
      "Llama.generate: prefix-match hit\n"
     ]
    },
    {
     "name": "stdout",
     "output_type": "stream",
     "text": [
      "116 -- 1\n"
     ]
    },
    {
     "name": "stderr",
     "output_type": "stream",
     "text": [
      "\n",
      "llama_print_timings:        load time =    2260.34 ms\n",
      "llama_print_timings:      sample time =      11.93 ms /   116 runs   (    0.10 ms per token,  9726.65 tokens per second)\n",
      "llama_print_timings: prompt eval time =     189.49 ms /    21 tokens (    9.02 ms per token,   110.82 tokens per second)\n",
      "llama_print_timings:        eval time =    5977.73 ms /   115 runs   (   51.98 ms per token,    19.24 tokens per second)\n",
      "llama_print_timings:       total time =    6328.52 ms\n",
      "Llama.generate: prefix-match hit\n"
     ]
    },
    {
     "name": "stdout",
     "output_type": "stream",
     "text": [
      "117 -- 1\n"
     ]
    },
    {
     "name": "stderr",
     "output_type": "stream",
     "text": [
      "\n",
      "llama_print_timings:        load time =    2260.34 ms\n",
      "llama_print_timings:      sample time =      20.67 ms /   119 runs   (    0.17 ms per token,  5758.25 tokens per second)\n",
      "llama_print_timings: prompt eval time =     204.90 ms /    25 tokens (    8.20 ms per token,   122.01 tokens per second)\n",
      "llama_print_timings:        eval time =    6221.63 ms /   118 runs   (   52.73 ms per token,    18.97 tokens per second)\n",
      "llama_print_timings:       total time =    6709.45 ms\n",
      "Llama.generate: prefix-match hit\n"
     ]
    },
    {
     "name": "stdout",
     "output_type": "stream",
     "text": [
      "118 -- 1\n"
     ]
    },
    {
     "name": "stderr",
     "output_type": "stream",
     "text": [
      "\n",
      "llama_print_timings:        load time =    2260.34 ms\n",
      "llama_print_timings:      sample time =       3.10 ms /    29 runs   (    0.11 ms per token,  9363.90 tokens per second)\n",
      "llama_print_timings: prompt eval time =     187.02 ms /    20 tokens (    9.35 ms per token,   106.94 tokens per second)\n",
      "llama_print_timings:        eval time =    1444.22 ms /    28 runs   (   51.58 ms per token,    19.39 tokens per second)\n",
      "llama_print_timings:       total time =    1673.15 ms\n",
      "Llama.generate: prefix-match hit\n"
     ]
    },
    {
     "name": "stdout",
     "output_type": "stream",
     "text": [
      "119 -- 1\n"
     ]
    },
    {
     "name": "stderr",
     "output_type": "stream",
     "text": [
      "\n",
      "llama_print_timings:        load time =    2260.34 ms\n",
      "llama_print_timings:      sample time =      13.72 ms /   114 runs   (    0.12 ms per token,  8311.46 tokens per second)\n",
      "llama_print_timings: prompt eval time =     188.82 ms /    22 tokens (    8.58 ms per token,   116.51 tokens per second)\n",
      "llama_print_timings:        eval time =    5855.49 ms /   113 runs   (   51.82 ms per token,    19.30 tokens per second)\n",
      "llama_print_timings:       total time =    6221.92 ms\n",
      "Llama.generate: prefix-match hit\n"
     ]
    },
    {
     "name": "stdout",
     "output_type": "stream",
     "text": [
      "120 -- 1\n"
     ]
    },
    {
     "name": "stderr",
     "output_type": "stream",
     "text": [
      "\n",
      "llama_print_timings:        load time =    2260.34 ms\n",
      "llama_print_timings:      sample time =       4.63 ms /    34 runs   (    0.14 ms per token,  7338.66 tokens per second)\n",
      "llama_print_timings: prompt eval time =     181.33 ms /    14 tokens (   12.95 ms per token,    77.21 tokens per second)\n",
      "llama_print_timings:        eval time =    1701.62 ms /    33 runs   (   51.56 ms per token,    19.39 tokens per second)\n",
      "llama_print_timings:       total time =    1943.85 ms\n",
      "Llama.generate: prefix-match hit\n"
     ]
    },
    {
     "name": "stdout",
     "output_type": "stream",
     "text": [
      "121 -- 1\n"
     ]
    },
    {
     "name": "stderr",
     "output_type": "stream",
     "text": [
      "\n",
      "llama_print_timings:        load time =    2260.34 ms\n",
      "llama_print_timings:      sample time =       5.36 ms /    34 runs   (    0.16 ms per token,  6346.84 tokens per second)\n",
      "llama_print_timings: prompt eval time =     184.70 ms /    17 tokens (   10.86 ms per token,    92.04 tokens per second)\n",
      "llama_print_timings:        eval time =    1716.64 ms /    33 runs   (   52.02 ms per token,    19.22 tokens per second)\n",
      "llama_print_timings:       total time =    1975.74 ms\n",
      "Llama.generate: prefix-match hit\n"
     ]
    },
    {
     "name": "stdout",
     "output_type": "stream",
     "text": [
      "122 -- 1\n"
     ]
    },
    {
     "name": "stderr",
     "output_type": "stream",
     "text": [
      "\n",
      "llama_print_timings:        load time =    2260.34 ms\n",
      "llama_print_timings:      sample time =       5.46 ms /    29 runs   (    0.19 ms per token,  5312.33 tokens per second)\n",
      "llama_print_timings: prompt eval time =     180.40 ms /    14 tokens (   12.89 ms per token,    77.61 tokens per second)\n",
      "llama_print_timings:        eval time =    1452.48 ms /    28 runs   (   51.87 ms per token,    19.28 tokens per second)\n",
      "llama_print_timings:       total time =    1699.43 ms\n",
      "Llama.generate: prefix-match hit\n"
     ]
    },
    {
     "name": "stdout",
     "output_type": "stream",
     "text": [
      "123 -- 1\n"
     ]
    },
    {
     "name": "stderr",
     "output_type": "stream",
     "text": [
      "\n",
      "llama_print_timings:        load time =    2260.34 ms\n",
      "llama_print_timings:      sample time =       5.83 ms /    29 runs   (    0.20 ms per token,  4970.01 tokens per second)\n",
      "llama_print_timings: prompt eval time =     176.58 ms /    10 tokens (   17.66 ms per token,    56.63 tokens per second)\n",
      "llama_print_timings:        eval time =    1450.15 ms /    28 runs   (   51.79 ms per token,    19.31 tokens per second)\n",
      "llama_print_timings:       total time =    1695.35 ms\n",
      "Llama.generate: prefix-match hit\n"
     ]
    },
    {
     "name": "stdout",
     "output_type": "stream",
     "text": [
      "124 -- 1\n"
     ]
    },
    {
     "name": "stderr",
     "output_type": "stream",
     "text": [
      "\n",
      "llama_print_timings:        load time =    2260.34 ms\n",
      "llama_print_timings:      sample time =       3.38 ms /    33 runs   (    0.10 ms per token,  9777.78 tokens per second)\n",
      "llama_print_timings: prompt eval time =     182.59 ms /    15 tokens (   12.17 ms per token,    82.15 tokens per second)\n",
      "llama_print_timings:        eval time =    1646.88 ms /    32 runs   (   51.47 ms per token,    19.43 tokens per second)\n",
      "llama_print_timings:       total time =    1875.38 ms\n",
      "Llama.generate: prefix-match hit\n"
     ]
    },
    {
     "name": "stdout",
     "output_type": "stream",
     "text": [
      "125 -- 1\n"
     ]
    },
    {
     "name": "stderr",
     "output_type": "stream",
     "text": [
      "\n",
      "llama_print_timings:        load time =    2260.34 ms\n",
      "llama_print_timings:      sample time =      11.10 ms /   120 runs   (    0.09 ms per token, 10808.86 tokens per second)\n",
      "llama_print_timings: prompt eval time =     191.29 ms /    23 tokens (    8.32 ms per token,   120.24 tokens per second)\n",
      "llama_print_timings:        eval time =    6154.57 ms /   119 runs   (   51.72 ms per token,    19.34 tokens per second)\n",
      "llama_print_timings:       total time =    6511.59 ms\n",
      "Llama.generate: prefix-match hit\n"
     ]
    },
    {
     "name": "stdout",
     "output_type": "stream",
     "text": [
      "126 -- 1\n"
     ]
    },
    {
     "name": "stderr",
     "output_type": "stream",
     "text": [
      "\n",
      "llama_print_timings:        load time =    2260.34 ms\n",
      "llama_print_timings:      sample time =      11.07 ms /   107 runs   (    0.10 ms per token,  9663.14 tokens per second)\n",
      "llama_print_timings: prompt eval time =     184.27 ms /    18 tokens (   10.24 ms per token,    97.68 tokens per second)\n",
      "llama_print_timings:        eval time =    5475.15 ms /   106 runs   (   51.65 ms per token,    19.36 tokens per second)\n",
      "llama_print_timings:       total time =    5809.05 ms\n",
      "Llama.generate: prefix-match hit\n"
     ]
    },
    {
     "name": "stdout",
     "output_type": "stream",
     "text": [
      "127 -- 1\n"
     ]
    },
    {
     "name": "stderr",
     "output_type": "stream",
     "text": [
      "\n",
      "llama_print_timings:        load time =    2260.34 ms\n",
      "llama_print_timings:      sample time =       8.88 ms /    29 runs   (    0.31 ms per token,  3263.93 tokens per second)\n",
      "llama_print_timings: prompt eval time =     189.41 ms /    22 tokens (    8.61 ms per token,   116.15 tokens per second)\n",
      "llama_print_timings:        eval time =    1481.93 ms /    28 runs   (   52.93 ms per token,    18.89 tokens per second)\n",
      "llama_print_timings:       total time =    1770.60 ms\n",
      "Llama.generate: prefix-match hit\n"
     ]
    },
    {
     "name": "stdout",
     "output_type": "stream",
     "text": [
      "128 -- 1\n"
     ]
    },
    {
     "name": "stderr",
     "output_type": "stream",
     "text": [
      "\n",
      "llama_print_timings:        load time =    2260.34 ms\n",
      "llama_print_timings:      sample time =       6.58 ms /    35 runs   (    0.19 ms per token,  5321.58 tokens per second)\n",
      "llama_print_timings: prompt eval time =     350.62 ms /    49 tokens (    7.16 ms per token,   139.75 tokens per second)\n",
      "llama_print_timings:        eval time =    1785.78 ms /    34 runs   (   52.52 ms per token,    19.04 tokens per second)\n",
      "llama_print_timings:       total time =    2227.56 ms\n",
      "Llama.generate: prefix-match hit\n"
     ]
    },
    {
     "name": "stdout",
     "output_type": "stream",
     "text": [
      "129 -- 1\n"
     ]
    },
    {
     "name": "stderr",
     "output_type": "stream",
     "text": [
      "\n",
      "llama_print_timings:        load time =    2260.34 ms\n",
      "llama_print_timings:      sample time =      13.55 ms /    38 runs   (    0.36 ms per token,  2803.60 tokens per second)\n",
      "llama_print_timings: prompt eval time =     184.87 ms /    17 tokens (   10.87 ms per token,    91.96 tokens per second)\n",
      "llama_print_timings:        eval time =    1990.34 ms /    37 runs   (   53.79 ms per token,    18.59 tokens per second)\n",
      "llama_print_timings:       total time =    2358.14 ms\n",
      "Llama.generate: prefix-match hit\n"
     ]
    },
    {
     "name": "stdout",
     "output_type": "stream",
     "text": [
      "130 -- 1\n"
     ]
    },
    {
     "name": "stderr",
     "output_type": "stream",
     "text": [
      "\n",
      "llama_print_timings:        load time =    2260.34 ms\n",
      "llama_print_timings:      sample time =       4.55 ms /    29 runs   (    0.16 ms per token,  6369.43 tokens per second)\n",
      "llama_print_timings: prompt eval time =     183.05 ms /    15 tokens (   12.20 ms per token,    81.94 tokens per second)\n",
      "llama_print_timings:        eval time =    1448.54 ms /    28 runs   (   51.73 ms per token,    19.33 tokens per second)\n",
      "llama_print_timings:       total time =    1691.51 ms\n",
      "Llama.generate: prefix-match hit\n"
     ]
    },
    {
     "name": "stdout",
     "output_type": "stream",
     "text": [
      "131 -- 1\n"
     ]
    },
    {
     "name": "stderr",
     "output_type": "stream",
     "text": [
      "\n",
      "llama_print_timings:        load time =    2260.34 ms\n",
      "llama_print_timings:      sample time =       5.49 ms /    38 runs   (    0.14 ms per token,  6920.42 tokens per second)\n",
      "llama_print_timings: prompt eval time =     190.83 ms /    23 tokens (    8.30 ms per token,   120.52 tokens per second)\n",
      "llama_print_timings:        eval time =    1929.90 ms /    37 runs   (   52.16 ms per token,    19.17 tokens per second)\n",
      "llama_print_timings:       total time =    2199.89 ms\n",
      "Llama.generate: prefix-match hit\n"
     ]
    },
    {
     "name": "stdout",
     "output_type": "stream",
     "text": [
      "132 -- 1\n"
     ]
    },
    {
     "name": "stderr",
     "output_type": "stream",
     "text": [
      "\n",
      "llama_print_timings:        load time =    2260.34 ms\n",
      "llama_print_timings:      sample time =       6.90 ms /    38 runs   (    0.18 ms per token,  5508.04 tokens per second)\n",
      "llama_print_timings: prompt eval time =     188.90 ms /    22 tokens (    8.59 ms per token,   116.47 tokens per second)\n",
      "llama_print_timings:        eval time =    1928.51 ms /    37 runs   (   52.12 ms per token,    19.19 tokens per second)\n",
      "llama_print_timings:       total time =    2203.80 ms\n",
      "Llama.generate: prefix-match hit\n"
     ]
    },
    {
     "name": "stdout",
     "output_type": "stream",
     "text": [
      "133 -- 1\n"
     ]
    },
    {
     "name": "stderr",
     "output_type": "stream",
     "text": [
      "\n",
      "llama_print_timings:        load time =    2260.34 ms\n",
      "llama_print_timings:      sample time =      12.15 ms /   116 runs   (    0.10 ms per token,  9548.11 tokens per second)\n",
      "llama_print_timings: prompt eval time =     192.29 ms /    24 tokens (    8.01 ms per token,   124.81 tokens per second)\n",
      "llama_print_timings:        eval time =    5951.18 ms /   115 runs   (   51.75 ms per token,    19.32 tokens per second)\n",
      "llama_print_timings:       total time =    6312.23 ms\n",
      "Llama.generate: prefix-match hit\n"
     ]
    },
    {
     "name": "stdout",
     "output_type": "stream",
     "text": [
      "134 -- 1\n"
     ]
    },
    {
     "name": "stderr",
     "output_type": "stream",
     "text": [
      "\n",
      "llama_print_timings:        load time =    2260.34 ms\n",
      "llama_print_timings:      sample time =      11.17 ms /    29 runs   (    0.39 ms per token,  2596.94 tokens per second)\n",
      "llama_print_timings: prompt eval time =     193.96 ms /    25 tokens (    7.76 ms per token,   128.89 tokens per second)\n",
      "llama_print_timings:        eval time =    1479.33 ms /    28 runs   (   52.83 ms per token,    18.93 tokens per second)\n",
      "llama_print_timings:       total time =    1798.95 ms\n",
      "Llama.generate: prefix-match hit\n"
     ]
    },
    {
     "name": "stdout",
     "output_type": "stream",
     "text": [
      "135 -- 1\n"
     ]
    },
    {
     "name": "stderr",
     "output_type": "stream",
     "text": [
      "\n",
      "llama_print_timings:        load time =    2260.34 ms\n",
      "llama_print_timings:      sample time =       9.47 ms /    71 runs   (    0.13 ms per token,  7498.15 tokens per second)\n",
      "llama_print_timings: prompt eval time =     184.83 ms /    18 tokens (   10.27 ms per token,    97.39 tokens per second)\n",
      "llama_print_timings:        eval time =    3618.88 ms /    70 runs   (   51.70 ms per token,    19.34 tokens per second)\n",
      "llama_print_timings:       total time =    3924.70 ms\n",
      "Llama.generate: prefix-match hit\n"
     ]
    },
    {
     "name": "stdout",
     "output_type": "stream",
     "text": [
      "136 -- 1\n"
     ]
    },
    {
     "name": "stderr",
     "output_type": "stream",
     "text": [
      "\n",
      "llama_print_timings:        load time =    2260.34 ms\n",
      "llama_print_timings:      sample time =       3.12 ms /    29 runs   (    0.11 ms per token,  9280.00 tokens per second)\n",
      "llama_print_timings: prompt eval time =     179.73 ms /    12 tokens (   14.98 ms per token,    66.77 tokens per second)\n",
      "llama_print_timings:        eval time =    1440.69 ms /    28 runs   (   51.45 ms per token,    19.44 tokens per second)\n",
      "llama_print_timings:       total time =    1660.74 ms\n",
      "Llama.generate: prefix-match hit\n"
     ]
    },
    {
     "name": "stdout",
     "output_type": "stream",
     "text": [
      "137 -- 1\n"
     ]
    },
    {
     "name": "stderr",
     "output_type": "stream",
     "text": [
      "\n",
      "llama_print_timings:        load time =    2260.34 ms\n",
      "llama_print_timings:      sample time =      10.84 ms /    31 runs   (    0.35 ms per token,  2858.72 tokens per second)\n",
      "llama_print_timings: prompt eval time =     186.84 ms /    19 tokens (    9.83 ms per token,   101.69 tokens per second)\n",
      "llama_print_timings:        eval time =    1584.42 ms /    30 runs   (   52.81 ms per token,    18.93 tokens per second)\n",
      "llama_print_timings:       total time =    1908.14 ms\n",
      "Llama.generate: prefix-match hit\n"
     ]
    },
    {
     "name": "stdout",
     "output_type": "stream",
     "text": [
      "138 -- 1\n"
     ]
    },
    {
     "name": "stderr",
     "output_type": "stream",
     "text": [
      "\n",
      "llama_print_timings:        load time =    2260.34 ms\n",
      "llama_print_timings:      sample time =       5.81 ms /    38 runs   (    0.15 ms per token,  6538.20 tokens per second)\n",
      "llama_print_timings: prompt eval time =     340.54 ms /    39 tokens (    8.73 ms per token,   114.53 tokens per second)\n",
      "llama_print_timings:        eval time =    1921.42 ms /    37 runs   (   51.93 ms per token,    19.26 tokens per second)\n",
      "llama_print_timings:       total time =    2347.03 ms\n",
      "Llama.generate: prefix-match hit\n"
     ]
    },
    {
     "name": "stdout",
     "output_type": "stream",
     "text": [
      "139 -- 1\n"
     ]
    },
    {
     "name": "stderr",
     "output_type": "stream",
     "text": [
      "\n",
      "llama_print_timings:        load time =    2260.34 ms\n",
      "llama_print_timings:      sample time =      16.77 ms /   122 runs   (    0.14 ms per token,  7273.59 tokens per second)\n",
      "llama_print_timings: prompt eval time =     184.36 ms /    17 tokens (   10.84 ms per token,    92.21 tokens per second)\n",
      "llama_print_timings:        eval time =    6279.90 ms /   121 runs   (   51.90 ms per token,    19.27 tokens per second)\n",
      "llama_print_timings:       total time =    6691.45 ms\n",
      "Llama.generate: prefix-match hit\n"
     ]
    },
    {
     "name": "stdout",
     "output_type": "stream",
     "text": [
      "140 -- 1\n"
     ]
    },
    {
     "name": "stderr",
     "output_type": "stream",
     "text": [
      "\n",
      "llama_print_timings:        load time =    2260.34 ms\n",
      "llama_print_timings:      sample time =       4.85 ms /    28 runs   (    0.17 ms per token,  5777.96 tokens per second)\n",
      "llama_print_timings: prompt eval time =     180.98 ms /    13 tokens (   13.92 ms per token,    71.83 tokens per second)\n",
      "llama_print_timings:        eval time =    1394.41 ms /    27 runs   (   51.64 ms per token,    19.36 tokens per second)\n",
      "llama_print_timings:       total time =    1632.02 ms\n",
      "Llama.generate: prefix-match hit\n"
     ]
    },
    {
     "name": "stdout",
     "output_type": "stream",
     "text": [
      "141 -- 1\n"
     ]
    },
    {
     "name": "stderr",
     "output_type": "stream",
     "text": [
      "\n",
      "llama_print_timings:        load time =    2260.34 ms\n",
      "llama_print_timings:      sample time =       3.58 ms /    34 runs   (    0.11 ms per token,  9502.52 tokens per second)\n",
      "llama_print_timings: prompt eval time =     186.27 ms /    19 tokens (    9.80 ms per token,   102.00 tokens per second)\n",
      "llama_print_timings:        eval time =    1700.11 ms /    33 runs   (   51.52 ms per token,    19.41 tokens per second)\n",
      "llama_print_timings:       total time =    1933.02 ms\n",
      "Llama.generate: prefix-match hit\n"
     ]
    },
    {
     "name": "stdout",
     "output_type": "stream",
     "text": [
      "142 -- 1\n"
     ]
    },
    {
     "name": "stderr",
     "output_type": "stream",
     "text": [
      "\n",
      "llama_print_timings:        load time =    2260.34 ms\n",
      "llama_print_timings:      sample time =       3.61 ms /    34 runs   (    0.11 ms per token,  9413.07 tokens per second)\n",
      "llama_print_timings: prompt eval time =     188.62 ms /    22 tokens (    8.57 ms per token,   116.64 tokens per second)\n",
      "llama_print_timings:        eval time =    1701.04 ms /    33 runs   (   51.55 ms per token,    19.40 tokens per second)\n",
      "llama_print_timings:       total time =    1936.09 ms\n",
      "Llama.generate: prefix-match hit\n"
     ]
    },
    {
     "name": "stdout",
     "output_type": "stream",
     "text": [
      "143 -- 1\n"
     ]
    },
    {
     "name": "stderr",
     "output_type": "stream",
     "text": [
      "\n",
      "llama_print_timings:        load time =    2260.34 ms\n",
      "llama_print_timings:      sample time =       4.32 ms /    40 runs   (    0.11 ms per token,  9267.84 tokens per second)\n",
      "llama_print_timings: prompt eval time =     188.89 ms /    22 tokens (    8.59 ms per token,   116.47 tokens per second)\n",
      "llama_print_timings:        eval time =    2011.62 ms /    39 runs   (   51.58 ms per token,    19.39 tokens per second)\n",
      "llama_print_timings:       total time =    2257.14 ms\n",
      "Llama.generate: prefix-match hit\n"
     ]
    },
    {
     "name": "stdout",
     "output_type": "stream",
     "text": [
      "144 -- 1\n"
     ]
    },
    {
     "name": "stderr",
     "output_type": "stream",
     "text": [
      "\n",
      "llama_print_timings:        load time =    2260.34 ms\n",
      "llama_print_timings:      sample time =      10.83 ms /   108 runs   (    0.10 ms per token,  9974.14 tokens per second)\n",
      "llama_print_timings: prompt eval time =     195.63 ms /    27 tokens (    7.25 ms per token,   138.01 tokens per second)\n",
      "llama_print_timings:        eval time =    5532.32 ms /   107 runs   (   51.70 ms per token,    19.34 tokens per second)\n",
      "llama_print_timings:       total time =    5877.54 ms\n",
      "Llama.generate: prefix-match hit\n"
     ]
    },
    {
     "name": "stdout",
     "output_type": "stream",
     "text": [
      "145 -- 1\n"
     ]
    },
    {
     "name": "stderr",
     "output_type": "stream",
     "text": [
      "\n",
      "llama_print_timings:        load time =    2260.34 ms\n",
      "llama_print_timings:      sample time =       3.51 ms /    34 runs   (    0.10 ms per token,  9678.34 tokens per second)\n",
      "llama_print_timings: prompt eval time =     183.02 ms /    16 tokens (   11.44 ms per token,    87.42 tokens per second)\n",
      "llama_print_timings:        eval time =    1701.78 ms /    33 runs   (   51.57 ms per token,    19.39 tokens per second)\n",
      "llama_print_timings:       total time =    1931.87 ms\n",
      "Llama.generate: prefix-match hit\n"
     ]
    },
    {
     "name": "stdout",
     "output_type": "stream",
     "text": [
      "146 -- 1\n"
     ]
    },
    {
     "name": "stderr",
     "output_type": "stream",
     "text": [
      "\n",
      "llama_print_timings:        load time =    2260.34 ms\n",
      "llama_print_timings:      sample time =      12.74 ms /    29 runs   (    0.44 ms per token,  2275.76 tokens per second)\n",
      "llama_print_timings: prompt eval time =     190.00 ms /    21 tokens (    9.05 ms per token,   110.53 tokens per second)\n",
      "llama_print_timings:        eval time =    1490.57 ms /    28 runs   (   53.23 ms per token,    18.78 tokens per second)\n",
      "llama_print_timings:       total time =    1836.57 ms\n",
      "Llama.generate: prefix-match hit\n"
     ]
    },
    {
     "name": "stdout",
     "output_type": "stream",
     "text": [
      "147 -- 1\n"
     ]
    },
    {
     "name": "stderr",
     "output_type": "stream",
     "text": [
      "\n",
      "llama_print_timings:        load time =    2260.34 ms\n",
      "llama_print_timings:      sample time =      13.71 ms /   121 runs   (    0.11 ms per token,  8827.61 tokens per second)\n",
      "llama_print_timings: prompt eval time =     190.24 ms /    21 tokens (    9.06 ms per token,   110.39 tokens per second)\n",
      "llama_print_timings:        eval time =    6212.16 ms /   120 runs   (   51.77 ms per token,    19.32 tokens per second)\n",
      "llama_print_timings:       total time =    6585.64 ms\n",
      "Llama.generate: prefix-match hit\n"
     ]
    },
    {
     "name": "stdout",
     "output_type": "stream",
     "text": [
      "148 -- 1\n"
     ]
    },
    {
     "name": "stderr",
     "output_type": "stream",
     "text": [
      "\n",
      "llama_print_timings:        load time =    2260.34 ms\n",
      "llama_print_timings:      sample time =       4.08 ms /    29 runs   (    0.14 ms per token,  7102.62 tokens per second)\n",
      "llama_print_timings: prompt eval time =     184.34 ms /    17 tokens (   10.84 ms per token,    92.22 tokens per second)\n",
      "llama_print_timings:        eval time =    1448.27 ms /    28 runs   (   51.72 ms per token,    19.33 tokens per second)\n",
      "llama_print_timings:       total time =    1687.32 ms\n",
      "Llama.generate: prefix-match hit\n"
     ]
    },
    {
     "name": "stdout",
     "output_type": "stream",
     "text": [
      "149 -- 1\n"
     ]
    },
    {
     "name": "stderr",
     "output_type": "stream",
     "text": [
      "\n",
      "llama_print_timings:        load time =    2260.34 ms\n",
      "llama_print_timings:      sample time =      16.54 ms /    40 runs   (    0.41 ms per token,  2417.79 tokens per second)\n",
      "llama_print_timings: prompt eval time =     191.72 ms /    23 tokens (    8.34 ms per token,   119.97 tokens per second)\n",
      "llama_print_timings:        eval time =    2087.29 ms /    39 runs   (   53.52 ms per token,    18.68 tokens per second)\n",
      "llama_print_timings:       total time =    2520.09 ms\n",
      "Llama.generate: prefix-match hit\n"
     ]
    },
    {
     "name": "stdout",
     "output_type": "stream",
     "text": [
      "150 -- 1\n"
     ]
    },
    {
     "name": "stderr",
     "output_type": "stream",
     "text": [
      "\n",
      "llama_print_timings:        load time =    2260.34 ms\n",
      "llama_print_timings:      sample time =       4.61 ms /    29 runs   (    0.16 ms per token,  6292.04 tokens per second)\n",
      "llama_print_timings: prompt eval time =     184.06 ms /    15 tokens (   12.27 ms per token,    81.49 tokens per second)\n",
      "llama_print_timings:        eval time =    1449.01 ms /    28 runs   (   51.75 ms per token,    19.32 tokens per second)\n",
      "llama_print_timings:       total time =    1694.87 ms\n",
      "Llama.generate: prefix-match hit\n"
     ]
    },
    {
     "name": "stdout",
     "output_type": "stream",
     "text": [
      "151 -- 1\n"
     ]
    },
    {
     "name": "stderr",
     "output_type": "stream",
     "text": [
      "\n",
      "llama_print_timings:        load time =    2260.34 ms\n",
      "llama_print_timings:      sample time =      14.20 ms /   123 runs   (    0.12 ms per token,  8660.14 tokens per second)\n",
      "llama_print_timings: prompt eval time =     189.28 ms /    21 tokens (    9.01 ms per token,   110.95 tokens per second)\n",
      "llama_print_timings:        eval time =    6321.80 ms /   122 runs   (   51.82 ms per token,    19.30 tokens per second)\n",
      "llama_print_timings:       total time =    6697.25 ms\n",
      "Llama.generate: prefix-match hit\n"
     ]
    },
    {
     "name": "stdout",
     "output_type": "stream",
     "text": [
      "152 -- 1\n"
     ]
    },
    {
     "name": "stderr",
     "output_type": "stream",
     "text": [
      "\n",
      "llama_print_timings:        load time =    2260.34 ms\n",
      "llama_print_timings:      sample time =       6.14 ms /    36 runs   (    0.17 ms per token,  5863.19 tokens per second)\n",
      "llama_print_timings: prompt eval time =     189.05 ms /    21 tokens (    9.00 ms per token,   111.08 tokens per second)\n",
      "llama_print_timings:        eval time =    1812.80 ms /    35 runs   (   51.79 ms per token,    19.31 tokens per second)\n",
      "llama_print_timings:       total time =    2070.78 ms\n",
      "Llama.generate: prefix-match hit\n"
     ]
    },
    {
     "name": "stdout",
     "output_type": "stream",
     "text": [
      "153 -- 1\n"
     ]
    },
    {
     "name": "stderr",
     "output_type": "stream",
     "text": [
      "\n",
      "llama_print_timings:        load time =    2260.34 ms\n",
      "llama_print_timings:      sample time =       5.00 ms /    28 runs   (    0.18 ms per token,  5595.52 tokens per second)\n",
      "llama_print_timings: prompt eval time =     186.89 ms /    20 tokens (    9.34 ms per token,   107.01 tokens per second)\n",
      "llama_print_timings:        eval time =    1401.87 ms /    27 runs   (   51.92 ms per token,    19.26 tokens per second)\n",
      "llama_print_timings:       total time =    1648.45 ms\n",
      "Llama.generate: prefix-match hit\n"
     ]
    },
    {
     "name": "stdout",
     "output_type": "stream",
     "text": [
      "154 -- 1\n"
     ]
    },
    {
     "name": "stderr",
     "output_type": "stream",
     "text": [
      "\n",
      "llama_print_timings:        load time =    2260.34 ms\n",
      "llama_print_timings:      sample time =       9.21 ms /    28 runs   (    0.33 ms per token,  3039.18 tokens per second)\n",
      "llama_print_timings: prompt eval time =     199.06 ms /    32 tokens (    6.22 ms per token,   160.76 tokens per second)\n",
      "llama_print_timings:        eval time =    1428.96 ms /    27 runs   (   52.92 ms per token,    18.89 tokens per second)\n",
      "llama_print_timings:       total time =    1752.62 ms\n",
      "Llama.generate: prefix-match hit\n"
     ]
    },
    {
     "name": "stdout",
     "output_type": "stream",
     "text": [
      "155 -- 1\n"
     ]
    },
    {
     "name": "stderr",
     "output_type": "stream",
     "text": [
      "\n",
      "llama_print_timings:        load time =    2260.34 ms\n",
      "llama_print_timings:      sample time =       3.45 ms /    29 runs   (    0.12 ms per token,  8413.11 tokens per second)\n",
      "llama_print_timings: prompt eval time =     192.39 ms /    24 tokens (    8.02 ms per token,   124.74 tokens per second)\n",
      "llama_print_timings:        eval time =    1445.30 ms /    28 runs   (   51.62 ms per token,    19.37 tokens per second)\n",
      "llama_print_timings:       total time =    1679.89 ms\n",
      "Llama.generate: prefix-match hit\n",
      "\n",
      "llama_print_timings:        load time =    2260.34 ms\n",
      "llama_print_timings:      sample time =      12.48 ms /    29 runs   (    0.43 ms per token,  2323.16 tokens per second)\n",
      "llama_print_timings: prompt eval time =     185.11 ms /    17 tokens (   10.89 ms per token,    91.84 tokens per second)\n",
      "llama_print_timings:        eval time =    1499.22 ms /    28 runs   (   53.54 ms per token,    18.68 tokens per second)\n",
      "llama_print_timings:       total time =    1828.99 ms\n",
      "Llama.generate: prefix-match hit\n"
     ]
    },
    {
     "name": "stdout",
     "output_type": "stream",
     "text": [
      "156 -- 1\n",
      "157 -- 1\n"
     ]
    },
    {
     "name": "stderr",
     "output_type": "stream",
     "text": [
      "\n",
      "llama_print_timings:        load time =    2260.34 ms\n",
      "llama_print_timings:      sample time =      11.25 ms /   101 runs   (    0.11 ms per token,  8978.58 tokens per second)\n",
      "llama_print_timings: prompt eval time =     187.36 ms /    19 tokens (    9.86 ms per token,   101.41 tokens per second)\n",
      "llama_print_timings:        eval time =    5169.68 ms /   100 runs   (   51.70 ms per token,    19.34 tokens per second)\n",
      "llama_print_timings:       total time =    5511.51 ms\n",
      "Llama.generate: prefix-match hit\n"
     ]
    },
    {
     "name": "stdout",
     "output_type": "stream",
     "text": [
      "158 -- 1\n"
     ]
    },
    {
     "name": "stderr",
     "output_type": "stream",
     "text": [
      "\n",
      "llama_print_timings:        load time =    2260.34 ms\n",
      "llama_print_timings:      sample time =      12.81 ms /   115 runs   (    0.11 ms per token,  8975.26 tokens per second)\n",
      "llama_print_timings: prompt eval time =     192.47 ms /    24 tokens (    8.02 ms per token,   124.70 tokens per second)\n",
      "llama_print_timings:        eval time =    5901.14 ms /   114 runs   (   51.76 ms per token,    19.32 tokens per second)\n",
      "llama_print_timings:       total time =    6264.31 ms\n",
      "Llama.generate: prefix-match hit\n"
     ]
    },
    {
     "name": "stdout",
     "output_type": "stream",
     "text": [
      "159 -- 1\n"
     ]
    },
    {
     "name": "stderr",
     "output_type": "stream",
     "text": [
      "\n",
      "llama_print_timings:        load time =    2260.34 ms\n",
      "llama_print_timings:      sample time =       5.45 ms /    28 runs   (    0.19 ms per token,  5137.61 tokens per second)\n",
      "llama_print_timings: prompt eval time =     332.67 ms /    37 tokens (    8.99 ms per token,   111.22 tokens per second)\n",
      "llama_print_timings:        eval time =    1402.70 ms /    27 runs   (   51.95 ms per token,    19.25 tokens per second)\n",
      "llama_print_timings:       total time =    1792.28 ms\n",
      "Llama.generate: prefix-match hit\n"
     ]
    },
    {
     "name": "stdout",
     "output_type": "stream",
     "text": [
      "160 -- 1\n"
     ]
    },
    {
     "name": "stderr",
     "output_type": "stream",
     "text": [
      "\n",
      "llama_print_timings:        load time =    2260.34 ms\n",
      "llama_print_timings:      sample time =       5.78 ms /    29 runs   (    0.20 ms per token,  5019.04 tokens per second)\n",
      "llama_print_timings: prompt eval time =     182.91 ms /    15 tokens (   12.19 ms per token,    82.01 tokens per second)\n",
      "llama_print_timings:        eval time =    1464.08 ms /    28 runs   (   52.29 ms per token,    19.12 tokens per second)\n",
      "llama_print_timings:       total time =    1722.12 ms\n",
      "Llama.generate: prefix-match hit\n"
     ]
    },
    {
     "name": "stdout",
     "output_type": "stream",
     "text": [
      "161 -- 1\n"
     ]
    },
    {
     "name": "stderr",
     "output_type": "stream",
     "text": [
      "\n",
      "llama_print_timings:        load time =    2260.34 ms\n",
      "llama_print_timings:      sample time =      14.33 ms /    95 runs   (    0.15 ms per token,  6629.45 tokens per second)\n",
      "llama_print_timings: prompt eval time =     195.66 ms /    28 tokens (    6.99 ms per token,   143.10 tokens per second)\n",
      "llama_print_timings:        eval time =    4892.22 ms /    94 runs   (   52.04 ms per token,    19.21 tokens per second)\n",
      "llama_print_timings:       total time =    5291.29 ms\n",
      "Llama.generate: prefix-match hit\n"
     ]
    },
    {
     "name": "stdout",
     "output_type": "stream",
     "text": [
      "162 -- 1\n"
     ]
    },
    {
     "name": "stderr",
     "output_type": "stream",
     "text": [
      "\n",
      "llama_print_timings:        load time =    2260.34 ms\n",
      "llama_print_timings:      sample time =       3.87 ms /    29 runs   (    0.13 ms per token,  7489.67 tokens per second)\n",
      "llama_print_timings: prompt eval time =     182.95 ms /    15 tokens (   12.20 ms per token,    81.99 tokens per second)\n",
      "llama_print_timings:        eval time =    1445.17 ms /    28 runs   (   51.61 ms per token,    19.37 tokens per second)\n",
      "llama_print_timings:       total time =    1677.90 ms\n",
      "Llama.generate: prefix-match hit\n"
     ]
    },
    {
     "name": "stdout",
     "output_type": "stream",
     "text": [
      "163 -- 1\n"
     ]
    },
    {
     "name": "stderr",
     "output_type": "stream",
     "text": [
      "\n",
      "llama_print_timings:        load time =    2260.34 ms\n",
      "llama_print_timings:      sample time =       8.72 ms /    40 runs   (    0.22 ms per token,  4588.21 tokens per second)\n",
      "llama_print_timings: prompt eval time =     182.44 ms /    15 tokens (   12.16 ms per token,    82.22 tokens per second)\n",
      "llama_print_timings:        eval time =    2025.82 ms /    39 runs   (   51.94 ms per token,    19.25 tokens per second)\n",
      "llama_print_timings:       total time =    2309.28 ms\n",
      "Llama.generate: prefix-match hit\n",
      "\n",
      "llama_print_timings:        load time =    2260.34 ms\n",
      "llama_print_timings:      sample time =      48.71 ms /   114 runs   (    0.43 ms per token,  2340.24 tokens per second)\n",
      "llama_print_timings: prompt eval time =     193.57 ms /    25 tokens (    7.74 ms per token,   129.15 tokens per second)\n",
      "llama_print_timings:        eval time =    5997.24 ms /   113 runs   (   53.07 ms per token,    18.84 tokens per second)\n",
      "llama_print_timings:       total time =    6663.06 ms\n",
      "Llama.generate: prefix-match hit\n"
     ]
    },
    {
     "name": "stdout",
     "output_type": "stream",
     "text": [
      "164 -- 1\n",
      "165 -- 1\n"
     ]
    },
    {
     "name": "stderr",
     "output_type": "stream",
     "text": [
      "\n",
      "llama_print_timings:        load time =    2260.34 ms\n",
      "llama_print_timings:      sample time =       9.35 ms /    80 runs   (    0.12 ms per token,  8558.90 tokens per second)\n",
      "llama_print_timings: prompt eval time =     188.80 ms /    19 tokens (    9.94 ms per token,   100.64 tokens per second)\n",
      "llama_print_timings:        eval time =    4147.82 ms /    79 runs   (   52.50 ms per token,    19.05 tokens per second)\n",
      "llama_print_timings:       total time =    4467.75 ms\n",
      "Llama.generate: prefix-match hit\n"
     ]
    },
    {
     "name": "stdout",
     "output_type": "stream",
     "text": [
      "166 -- 1\n"
     ]
    },
    {
     "name": "stderr",
     "output_type": "stream",
     "text": [
      "\n",
      "llama_print_timings:        load time =    2260.34 ms\n",
      "llama_print_timings:      sample time =      18.93 ms /   130 runs   (    0.15 ms per token,  6868.13 tokens per second)\n",
      "llama_print_timings: prompt eval time =     190.91 ms /    23 tokens (    8.30 ms per token,   120.48 tokens per second)\n",
      "llama_print_timings:        eval time =    6759.71 ms /   129 runs   (   52.40 ms per token,    19.08 tokens per second)\n",
      "llama_print_timings:       total time =    7176.11 ms\n",
      "Llama.generate: prefix-match hit\n"
     ]
    },
    {
     "name": "stdout",
     "output_type": "stream",
     "text": [
      "167 -- 1\n"
     ]
    },
    {
     "name": "stderr",
     "output_type": "stream",
     "text": [
      "\n",
      "llama_print_timings:        load time =    2260.34 ms\n",
      "llama_print_timings:      sample time =      16.02 ms /    34 runs   (    0.47 ms per token,  2123.01 tokens per second)\n",
      "llama_print_timings: prompt eval time =     182.69 ms /    13 tokens (   14.05 ms per token,    71.16 tokens per second)\n",
      "llama_print_timings:        eval time =    1781.29 ms /    33 runs   (   53.98 ms per token,    18.53 tokens per second)\n",
      "llama_print_timings:       total time =    2137.06 ms\n",
      "Llama.generate: prefix-match hit\n"
     ]
    },
    {
     "name": "stdout",
     "output_type": "stream",
     "text": [
      "168 -- 1\n"
     ]
    },
    {
     "name": "stderr",
     "output_type": "stream",
     "text": [
      "\n",
      "llama_print_timings:        load time =    2260.34 ms\n",
      "llama_print_timings:      sample time =       6.93 ms /    29 runs   (    0.24 ms per token,  4183.50 tokens per second)\n",
      "llama_print_timings: prompt eval time =     191.27 ms /    19 tokens (   10.07 ms per token,    99.34 tokens per second)\n",
      "llama_print_timings:        eval time =    1457.83 ms /    28 runs   (   52.07 ms per token,    19.21 tokens per second)\n",
      "llama_print_timings:       total time =    1717.60 ms\n",
      "Llama.generate: prefix-match hit\n"
     ]
    },
    {
     "name": "stdout",
     "output_type": "stream",
     "text": [
      "169 -- 1\n"
     ]
    },
    {
     "name": "stderr",
     "output_type": "stream",
     "text": [
      "\n",
      "llama_print_timings:        load time =    2260.34 ms\n",
      "llama_print_timings:      sample time =       3.97 ms /    38 runs   (    0.10 ms per token,  9579.03 tokens per second)\n",
      "llama_print_timings: prompt eval time =     184.75 ms /    17 tokens (   10.87 ms per token,    92.02 tokens per second)\n",
      "llama_print_timings:        eval time =    1903.28 ms /    37 runs   (   51.44 ms per token,    19.44 tokens per second)\n",
      "llama_print_timings:       total time =    2141.23 ms\n",
      "Llama.generate: prefix-match hit\n"
     ]
    },
    {
     "name": "stdout",
     "output_type": "stream",
     "text": [
      "170 -- 1\n"
     ]
    },
    {
     "name": "stderr",
     "output_type": "stream",
     "text": [
      "\n",
      "llama_print_timings:        load time =    2260.34 ms\n",
      "llama_print_timings:      sample time =       9.94 ms /    34 runs   (    0.29 ms per token,  3419.84 tokens per second)\n",
      "llama_print_timings: prompt eval time =     187.41 ms /    20 tokens (    9.37 ms per token,   106.72 tokens per second)\n",
      "llama_print_timings:        eval time =    1733.47 ms /    33 runs   (   52.53 ms per token,    19.04 tokens per second)\n",
      "llama_print_timings:       total time =    2033.13 ms\n",
      "Llama.generate: prefix-match hit\n",
      "\n",
      "llama_print_timings:        load time =    2260.34 ms\n",
      "llama_print_timings:      sample time =      12.54 ms /   110 runs   (    0.11 ms per token,  8769.13 tokens per second)\n",
      "llama_print_timings: prompt eval time =     187.34 ms /    20 tokens (    9.37 ms per token,   106.76 tokens per second)\n",
      "llama_print_timings:        eval time =    5643.17 ms /   109 runs   (   51.77 ms per token,    19.32 tokens per second)\n",
      "llama_print_timings:       total time =    6002.05 ms\n",
      "Llama.generate: prefix-match hit\n"
     ]
    },
    {
     "name": "stdout",
     "output_type": "stream",
     "text": [
      "171 -- 1\n",
      "172 -- 1\n"
     ]
    },
    {
     "name": "stderr",
     "output_type": "stream",
     "text": [
      "\n",
      "llama_print_timings:        load time =    2260.34 ms\n",
      "llama_print_timings:      sample time =       8.90 ms /    70 runs   (    0.13 ms per token,  7866.05 tokens per second)\n",
      "llama_print_timings: prompt eval time =     188.92 ms /    21 tokens (    9.00 ms per token,   111.16 tokens per second)\n",
      "llama_print_timings:        eval time =    3566.59 ms /    69 runs   (   51.69 ms per token,    19.35 tokens per second)\n",
      "llama_print_timings:       total time =    3873.38 ms\n",
      "Llama.generate: prefix-match hit\n"
     ]
    },
    {
     "name": "stdout",
     "output_type": "stream",
     "text": [
      "173 -- 1\n"
     ]
    },
    {
     "name": "stderr",
     "output_type": "stream",
     "text": [
      "\n",
      "llama_print_timings:        load time =    2260.34 ms\n",
      "llama_print_timings:      sample time =      13.12 ms /   121 runs   (    0.11 ms per token,  9225.37 tokens per second)\n",
      "llama_print_timings: prompt eval time =     195.46 ms /    28 tokens (    6.98 ms per token,   143.25 tokens per second)\n",
      "llama_print_timings:        eval time =    6229.25 ms /   120 runs   (   51.91 ms per token,    19.26 tokens per second)\n",
      "llama_print_timings:       total time =    6612.78 ms\n",
      "Llama.generate: prefix-match hit\n"
     ]
    },
    {
     "name": "stdout",
     "output_type": "stream",
     "text": [
      "174 -- 1\n"
     ]
    },
    {
     "name": "stderr",
     "output_type": "stream",
     "text": [
      "\n",
      "llama_print_timings:        load time =    2260.34 ms\n",
      "llama_print_timings:      sample time =       4.36 ms /    29 runs   (    0.15 ms per token,  6648.33 tokens per second)\n",
      "llama_print_timings: prompt eval time =     187.59 ms /    19 tokens (    9.87 ms per token,   101.28 tokens per second)\n",
      "llama_print_timings:        eval time =    1452.85 ms /    28 runs   (   51.89 ms per token,    19.27 tokens per second)\n",
      "llama_print_timings:       total time =    1701.97 ms\n",
      "Llama.generate: prefix-match hit\n"
     ]
    },
    {
     "name": "stdout",
     "output_type": "stream",
     "text": [
      "175 -- 1\n"
     ]
    },
    {
     "name": "stderr",
     "output_type": "stream",
     "text": [
      "\n",
      "llama_print_timings:        load time =    2260.34 ms\n",
      "llama_print_timings:      sample time =      13.42 ms /   123 runs   (    0.11 ms per token,  9164.06 tokens per second)\n",
      "llama_print_timings: prompt eval time =     201.27 ms /    31 tokens (    6.49 ms per token,   154.03 tokens per second)\n",
      "llama_print_timings:        eval time =    6323.35 ms /   122 runs   (   51.83 ms per token,    19.29 tokens per second)\n",
      "llama_print_timings:       total time =    6707.90 ms\n",
      "Llama.generate: prefix-match hit\n"
     ]
    },
    {
     "name": "stdout",
     "output_type": "stream",
     "text": [
      "176 -- 1\n"
     ]
    },
    {
     "name": "stderr",
     "output_type": "stream",
     "text": [
      "\n",
      "llama_print_timings:        load time =    2260.34 ms\n",
      "llama_print_timings:      sample time =      22.15 ms /   118 runs   (    0.19 ms per token,  5327.79 tokens per second)\n",
      "llama_print_timings: prompt eval time =     187.82 ms /    20 tokens (    9.39 ms per token,   106.49 tokens per second)\n",
      "llama_print_timings:        eval time =    6126.76 ms /   117 runs   (   52.37 ms per token,    19.10 tokens per second)\n",
      "llama_print_timings:       total time =    6590.62 ms\n",
      "Llama.generate: prefix-match hit\n"
     ]
    },
    {
     "name": "stdout",
     "output_type": "stream",
     "text": [
      "177 -- 1\n"
     ]
    },
    {
     "name": "stderr",
     "output_type": "stream",
     "text": [
      "\n",
      "llama_print_timings:        load time =    2260.34 ms\n",
      "llama_print_timings:      sample time =       7.22 ms /    42 runs   (    0.17 ms per token,  5818.79 tokens per second)\n",
      "llama_print_timings: prompt eval time =     184.92 ms /    17 tokens (   10.88 ms per token,    91.93 tokens per second)\n",
      "llama_print_timings:        eval time =    2128.53 ms /    41 runs   (   51.92 ms per token,    19.26 tokens per second)\n",
      "llama_print_timings:       total time =    2412.93 ms\n",
      "Llama.generate: prefix-match hit\n"
     ]
    },
    {
     "name": "stdout",
     "output_type": "stream",
     "text": [
      "178 -- 1\n"
     ]
    },
    {
     "name": "stderr",
     "output_type": "stream",
     "text": [
      "\n",
      "llama_print_timings:        load time =    2260.34 ms\n",
      "llama_print_timings:      sample time =      20.24 ms /   153 runs   (    0.13 ms per token,  7560.41 tokens per second)\n",
      "llama_print_timings: prompt eval time =     193.28 ms /    25 tokens (    7.73 ms per token,   129.34 tokens per second)\n",
      "llama_print_timings:        eval time =    7882.63 ms /   152 runs   (   51.86 ms per token,    19.28 tokens per second)\n",
      "llama_print_timings:       total time =    8307.94 ms\n",
      "Llama.generate: prefix-match hit\n"
     ]
    },
    {
     "name": "stdout",
     "output_type": "stream",
     "text": [
      "179 -- 1\n"
     ]
    },
    {
     "name": "stderr",
     "output_type": "stream",
     "text": [
      "\n",
      "llama_print_timings:        load time =    2260.34 ms\n",
      "llama_print_timings:      sample time =      10.45 ms /    34 runs   (    0.31 ms per token,  3252.34 tokens per second)\n",
      "llama_print_timings: prompt eval time =     183.94 ms /    16 tokens (   11.50 ms per token,    86.99 tokens per second)\n",
      "llama_print_timings:        eval time =    1740.52 ms /    33 runs   (   52.74 ms per token,    18.96 tokens per second)\n",
      "llama_print_timings:       total time =    2058.16 ms\n",
      "Llama.generate: prefix-match hit\n"
     ]
    },
    {
     "name": "stdout",
     "output_type": "stream",
     "text": [
      "180 -- 1\n"
     ]
    },
    {
     "name": "stderr",
     "output_type": "stream",
     "text": [
      "\n",
      "llama_print_timings:        load time =    2260.34 ms\n",
      "llama_print_timings:      sample time =       4.21 ms /    29 runs   (    0.15 ms per token,  6888.36 tokens per second)\n",
      "llama_print_timings: prompt eval time =     187.30 ms /    20 tokens (    9.37 ms per token,   106.78 tokens per second)\n",
      "llama_print_timings:        eval time =    1452.77 ms /    28 runs   (   51.88 ms per token,    19.27 tokens per second)\n",
      "llama_print_timings:       total time =    1709.65 ms\n",
      "Llama.generate: prefix-match hit\n"
     ]
    },
    {
     "name": "stdout",
     "output_type": "stream",
     "text": [
      "181 -- 1\n"
     ]
    },
    {
     "name": "stderr",
     "output_type": "stream",
     "text": [
      "\n",
      "llama_print_timings:        load time =    2260.34 ms\n",
      "llama_print_timings:      sample time =      20.25 ms /   112 runs   (    0.18 ms per token,  5531.96 tokens per second)\n",
      "llama_print_timings: prompt eval time =     184.47 ms /    15 tokens (   12.30 ms per token,    81.32 tokens per second)\n",
      "llama_print_timings:        eval time =    5834.17 ms /   111 runs   (   52.56 ms per token,    19.03 tokens per second)\n",
      "llama_print_timings:       total time =    6300.76 ms\n",
      "Llama.generate: prefix-match hit\n",
      "\n",
      "llama_print_timings:        load time =    2260.34 ms\n",
      "llama_print_timings:      sample time =      13.86 ms /    29 runs   (    0.48 ms per token,  2092.65 tokens per second)\n",
      "llama_print_timings: prompt eval time =     187.41 ms /    20 tokens (    9.37 ms per token,   106.72 tokens per second)\n",
      "llama_print_timings:        eval time =    1497.10 ms /    28 runs   (   53.47 ms per token,    18.70 tokens per second)\n",
      "llama_print_timings:       total time =    1857.26 ms\n",
      "Llama.generate: prefix-match hit\n"
     ]
    },
    {
     "name": "stdout",
     "output_type": "stream",
     "text": [
      "182 -- 1\n",
      "183 -- 1\n"
     ]
    },
    {
     "name": "stderr",
     "output_type": "stream",
     "text": [
      "\n",
      "llama_print_timings:        load time =    2260.34 ms\n",
      "llama_print_timings:      sample time =       4.46 ms /    29 runs   (    0.15 ms per token,  6508.08 tokens per second)\n",
      "llama_print_timings: prompt eval time =     184.76 ms /    18 tokens (   10.26 ms per token,    97.42 tokens per second)\n",
      "llama_print_timings:        eval time =    1448.07 ms /    28 runs   (   51.72 ms per token,    19.34 tokens per second)\n",
      "llama_print_timings:       total time =    1693.42 ms\n",
      "Llama.generate: prefix-match hit\n"
     ]
    },
    {
     "name": "stdout",
     "output_type": "stream",
     "text": [
      "184 -- 1\n"
     ]
    },
    {
     "name": "stderr",
     "output_type": "stream",
     "text": [
      "\n",
      "llama_print_timings:        load time =    2260.34 ms\n",
      "llama_print_timings:      sample time =       2.75 ms /    30 runs   (    0.09 ms per token, 10917.03 tokens per second)\n",
      "llama_print_timings: prompt eval time =     347.22 ms /    47 tokens (    7.39 ms per token,   135.36 tokens per second)\n",
      "llama_print_timings:        eval time =    1496.06 ms /    29 runs   (   51.59 ms per token,    19.38 tokens per second)\n",
      "llama_print_timings:       total time =    1885.36 ms\n",
      "Llama.generate: prefix-match hit\n"
     ]
    },
    {
     "name": "stdout",
     "output_type": "stream",
     "text": [
      "185 -- 1\n"
     ]
    },
    {
     "name": "stderr",
     "output_type": "stream",
     "text": [
      "\n",
      "llama_print_timings:        load time =    2260.34 ms\n",
      "llama_print_timings:      sample time =      18.66 ms /   122 runs   (    0.15 ms per token,  6539.80 tokens per second)\n",
      "llama_print_timings: prompt eval time =     195.72 ms /    28 tokens (    6.99 ms per token,   143.06 tokens per second)\n",
      "llama_print_timings:        eval time =    6311.08 ms /   121 runs   (   52.16 ms per token,    19.17 tokens per second)\n",
      "llama_print_timings:       total time =    6786.28 ms\n",
      "Llama.generate: prefix-match hit\n"
     ]
    },
    {
     "name": "stdout",
     "output_type": "stream",
     "text": [
      "186 -- 1\n"
     ]
    },
    {
     "name": "stderr",
     "output_type": "stream",
     "text": [
      "\n",
      "llama_print_timings:        load time =    2260.34 ms\n",
      "llama_print_timings:      sample time =      13.08 ms /   112 runs   (    0.12 ms per token,  8564.00 tokens per second)\n",
      "llama_print_timings: prompt eval time =     192.22 ms /    24 tokens (    8.01 ms per token,   124.86 tokens per second)\n",
      "llama_print_timings:        eval time =    5775.35 ms /   111 runs   (   52.03 ms per token,    19.22 tokens per second)\n",
      "llama_print_timings:       total time =    6149.86 ms\n",
      "Llama.generate: prefix-match hit\n"
     ]
    },
    {
     "name": "stdout",
     "output_type": "stream",
     "text": [
      "187 -- 1\n"
     ]
    },
    {
     "name": "stderr",
     "output_type": "stream",
     "text": [
      "\n",
      "llama_print_timings:        load time =    2260.34 ms\n",
      "llama_print_timings:      sample time =       5.76 ms /    46 runs   (    0.13 ms per token,  7981.95 tokens per second)\n",
      "llama_print_timings: prompt eval time =     181.11 ms /    14 tokens (   12.94 ms per token,    77.30 tokens per second)\n",
      "llama_print_timings:        eval time =    2325.87 ms /    45 runs   (   51.69 ms per token,    19.35 tokens per second)\n",
      "llama_print_timings:       total time =    2581.91 ms\n",
      "Llama.generate: prefix-match hit\n"
     ]
    },
    {
     "name": "stdout",
     "output_type": "stream",
     "text": [
      "188 -- 1\n"
     ]
    },
    {
     "name": "stderr",
     "output_type": "stream",
     "text": [
      "\n",
      "llama_print_timings:        load time =    2260.34 ms\n",
      "llama_print_timings:      sample time =       9.31 ms /    29 runs   (    0.32 ms per token,  3115.93 tokens per second)\n",
      "llama_print_timings: prompt eval time =     184.44 ms /    18 tokens (   10.25 ms per token,    97.59 tokens per second)\n",
      "llama_print_timings:        eval time =    1471.10 ms /    28 runs   (   52.54 ms per token,    19.03 tokens per second)\n",
      "llama_print_timings:       total time =    1774.20 ms\n",
      "Llama.generate: prefix-match hit\n"
     ]
    },
    {
     "name": "stdout",
     "output_type": "stream",
     "text": [
      "189 -- 1\n"
     ]
    },
    {
     "name": "stderr",
     "output_type": "stream",
     "text": [
      "\n",
      "llama_print_timings:        load time =    2260.34 ms\n",
      "llama_print_timings:      sample time =       5.41 ms /    38 runs   (    0.14 ms per token,  7026.63 tokens per second)\n",
      "llama_print_timings: prompt eval time =     184.55 ms /    17 tokens (   10.86 ms per token,    92.12 tokens per second)\n",
      "llama_print_timings:        eval time =    1927.92 ms /    37 runs   (   52.11 ms per token,    19.19 tokens per second)\n",
      "llama_print_timings:       total time =    2181.19 ms\n",
      "Llama.generate: prefix-match hit\n"
     ]
    },
    {
     "name": "stdout",
     "output_type": "stream",
     "text": [
      "190 -- 1\n"
     ]
    },
    {
     "name": "stderr",
     "output_type": "stream",
     "text": [
      "\n",
      "llama_print_timings:        load time =    2260.34 ms\n",
      "llama_print_timings:      sample time =       9.37 ms /    86 runs   (    0.11 ms per token,  9183.13 tokens per second)\n",
      "llama_print_timings: prompt eval time =     187.19 ms /    20 tokens (    9.36 ms per token,   106.85 tokens per second)\n",
      "llama_print_timings:        eval time =    4407.24 ms /    85 runs   (   51.85 ms per token,    19.29 tokens per second)\n",
      "llama_print_timings:       total time =    4727.27 ms\n",
      "Llama.generate: prefix-match hit\n"
     ]
    },
    {
     "name": "stdout",
     "output_type": "stream",
     "text": [
      "191 -- 1\n"
     ]
    },
    {
     "name": "stderr",
     "output_type": "stream",
     "text": [
      "\n",
      "llama_print_timings:        load time =    2260.34 ms\n",
      "llama_print_timings:      sample time =      20.32 ms /   138 runs   (    0.15 ms per token,  6790.00 tokens per second)\n",
      "llama_print_timings: prompt eval time =     183.10 ms /    15 tokens (   12.21 ms per token,    81.92 tokens per second)\n",
      "llama_print_timings:        eval time =    7146.80 ms /   137 runs   (   52.17 ms per token,    19.17 tokens per second)\n",
      "llama_print_timings:       total time =    7629.65 ms\n",
      "Llama.generate: prefix-match hit\n"
     ]
    },
    {
     "name": "stdout",
     "output_type": "stream",
     "text": [
      "192 -- 1\n"
     ]
    },
    {
     "name": "stderr",
     "output_type": "stream",
     "text": [
      "\n",
      "llama_print_timings:        load time =    2260.34 ms\n",
      "llama_print_timings:      sample time =      48.85 ms /   131 runs   (    0.37 ms per token,  2681.84 tokens per second)\n",
      "llama_print_timings: prompt eval time =     190.84 ms /    23 tokens (    8.30 ms per token,   120.52 tokens per second)\n",
      "llama_print_timings:        eval time =    7061.44 ms /   130 runs   (   54.32 ms per token,    18.41 tokens per second)\n",
      "llama_print_timings:       total time =    7806.01 ms\n",
      "Llama.generate: prefix-match hit\n"
     ]
    },
    {
     "name": "stdout",
     "output_type": "stream",
     "text": [
      "193 -- 1\n"
     ]
    },
    {
     "name": "stderr",
     "output_type": "stream",
     "text": [
      "\n",
      "llama_print_timings:        load time =    2260.34 ms\n",
      "llama_print_timings:      sample time =      28.36 ms /   100 runs   (    0.28 ms per token,  3526.59 tokens per second)\n",
      "llama_print_timings: prompt eval time =     194.44 ms /    32 tokens (    6.08 ms per token,   164.58 tokens per second)\n",
      "llama_print_timings:        eval time =    5231.37 ms /    99 runs   (   52.84 ms per token,    18.92 tokens per second)\n",
      "llama_print_timings:       total time =    5800.55 ms\n",
      "Llama.generate: prefix-match hit\n"
     ]
    },
    {
     "name": "stdout",
     "output_type": "stream",
     "text": [
      "194 -- 1\n"
     ]
    },
    {
     "name": "stderr",
     "output_type": "stream",
     "text": [
      "\n",
      "llama_print_timings:        load time =    2260.34 ms\n",
      "llama_print_timings:      sample time =       6.09 ms /    44 runs   (    0.14 ms per token,  7226.15 tokens per second)\n",
      "llama_print_timings: prompt eval time =     187.91 ms /    16 tokens (   11.74 ms per token,    85.15 tokens per second)\n",
      "llama_print_timings:        eval time =    2249.02 ms /    43 runs   (   52.30 ms per token,    19.12 tokens per second)\n",
      "llama_print_timings:       total time =    2511.79 ms\n",
      "Llama.generate: prefix-match hit\n"
     ]
    },
    {
     "name": "stdout",
     "output_type": "stream",
     "text": [
      "195 -- 1\n"
     ]
    },
    {
     "name": "stderr",
     "output_type": "stream",
     "text": [
      "\n",
      "llama_print_timings:        load time =    2260.34 ms\n",
      "llama_print_timings:      sample time =       3.70 ms /    34 runs   (    0.11 ms per token,  9184.22 tokens per second)\n",
      "llama_print_timings: prompt eval time =     184.65 ms /    18 tokens (   10.26 ms per token,    97.48 tokens per second)\n",
      "llama_print_timings:        eval time =    1781.32 ms /    33 runs   (   53.98 ms per token,    18.53 tokens per second)\n",
      "llama_print_timings:       total time =    2014.63 ms\n",
      "Llama.generate: prefix-match hit\n"
     ]
    },
    {
     "name": "stdout",
     "output_type": "stream",
     "text": [
      "196 -- 1\n"
     ]
    },
    {
     "name": "stderr",
     "output_type": "stream",
     "text": [
      "\n",
      "llama_print_timings:        load time =    2260.34 ms\n",
      "llama_print_timings:      sample time =      18.10 ms /    34 runs   (    0.53 ms per token,  1878.45 tokens per second)\n",
      "llama_print_timings: prompt eval time =     207.11 ms /    29 tokens (    7.14 ms per token,   140.02 tokens per second)\n",
      "llama_print_timings:        eval time =    1829.07 ms /    33 runs   (   55.43 ms per token,    18.04 tokens per second)\n",
      "llama_print_timings:       total time =    2199.00 ms\n",
      "Llama.generate: prefix-match hit\n"
     ]
    },
    {
     "name": "stdout",
     "output_type": "stream",
     "text": [
      "197 -- 1\n"
     ]
    },
    {
     "name": "stderr",
     "output_type": "stream",
     "text": [
      "\n",
      "llama_print_timings:        load time =    2260.34 ms\n",
      "llama_print_timings:      sample time =       6.49 ms /    29 runs   (    0.22 ms per token,  4467.04 tokens per second)\n",
      "llama_print_timings: prompt eval time =     193.02 ms /    15 tokens (   12.87 ms per token,    77.71 tokens per second)\n",
      "llama_print_timings:        eval time =    1480.71 ms /    28 runs   (   52.88 ms per token,    18.91 tokens per second)\n",
      "llama_print_timings:       total time =    1764.41 ms\n",
      "Llama.generate: prefix-match hit\n"
     ]
    },
    {
     "name": "stdout",
     "output_type": "stream",
     "text": [
      "198 -- 1\n"
     ]
    },
    {
     "name": "stderr",
     "output_type": "stream",
     "text": [
      "\n",
      "llama_print_timings:        load time =    2260.34 ms\n",
      "llama_print_timings:      sample time =       3.62 ms /    34 runs   (    0.11 ms per token,  9400.06 tokens per second)\n",
      "llama_print_timings: prompt eval time =     187.93 ms /    19 tokens (    9.89 ms per token,   101.10 tokens per second)\n",
      "llama_print_timings:        eval time =    1697.75 ms /    33 runs   (   51.45 ms per token,    19.44 tokens per second)\n",
      "llama_print_timings:       total time =    1932.34 ms\n",
      "Llama.generate: prefix-match hit\n"
     ]
    },
    {
     "name": "stdout",
     "output_type": "stream",
     "text": [
      "199 -- 1\n"
     ]
    },
    {
     "name": "stderr",
     "output_type": "stream",
     "text": [
      "\n",
      "llama_print_timings:        load time =    2260.34 ms\n",
      "llama_print_timings:      sample time =       2.36 ms /    28 runs   (    0.08 ms per token, 11884.55 tokens per second)\n",
      "llama_print_timings: prompt eval time =     186.22 ms /    30 tokens (    6.21 ms per token,   161.10 tokens per second)\n",
      "llama_print_timings:        eval time =    1392.30 ms /    27 runs   (   51.57 ms per token,    19.39 tokens per second)\n",
      "llama_print_timings:       total time =    1616.53 ms\n",
      "Llama.generate: prefix-match hit\n"
     ]
    },
    {
     "name": "stdout",
     "output_type": "stream",
     "text": [
      "200 -- 1\n"
     ]
    },
    {
     "name": "stderr",
     "output_type": "stream",
     "text": [
      "\n",
      "llama_print_timings:        load time =    2260.34 ms\n",
      "llama_print_timings:      sample time =      10.47 ms /   111 runs   (    0.09 ms per token, 10605.77 tokens per second)\n",
      "llama_print_timings: prompt eval time =     331.20 ms /    34 tokens (    9.74 ms per token,   102.66 tokens per second)\n",
      "llama_print_timings:        eval time =    5695.42 ms /   110 runs   (   51.78 ms per token,    19.31 tokens per second)\n",
      "llama_print_timings:       total time =    6177.82 ms\n",
      "Llama.generate: prefix-match hit\n",
      "\n",
      "llama_print_timings:        load time =    2260.34 ms\n",
      "llama_print_timings:      sample time =      15.71 ms /    36 runs   (    0.44 ms per token,  2292.12 tokens per second)\n",
      "llama_print_timings: prompt eval time =     195.32 ms /    27 tokens (    7.23 ms per token,   138.24 tokens per second)\n",
      "llama_print_timings:        eval time =    1923.76 ms /    35 runs   (   54.96 ms per token,    18.19 tokens per second)\n",
      "llama_print_timings:       total time =    2344.56 ms\n",
      "Llama.generate: prefix-match hit\n"
     ]
    },
    {
     "name": "stdout",
     "output_type": "stream",
     "text": [
      "201 -- 1\n",
      "202 -- 1\n"
     ]
    },
    {
     "name": "stderr",
     "output_type": "stream",
     "text": [
      "\n",
      "llama_print_timings:        load time =    2260.34 ms\n",
      "llama_print_timings:      sample time =       4.93 ms /    34 runs   (    0.15 ms per token,  6890.96 tokens per second)\n",
      "llama_print_timings: prompt eval time =     184.66 ms /    16 tokens (   11.54 ms per token,    86.65 tokens per second)\n",
      "llama_print_timings:        eval time =    1705.60 ms /    33 runs   (   51.68 ms per token,    19.35 tokens per second)\n",
      "llama_print_timings:       total time =    1964.91 ms\n",
      "Llama.generate: prefix-match hit\n"
     ]
    },
    {
     "name": "stdout",
     "output_type": "stream",
     "text": [
      "203 -- 1\n"
     ]
    },
    {
     "name": "stderr",
     "output_type": "stream",
     "text": [
      "\n",
      "llama_print_timings:        load time =    2260.34 ms\n",
      "llama_print_timings:      sample time =       3.05 ms /    29 runs   (    0.11 ms per token,  9501.97 tokens per second)\n",
      "llama_print_timings: prompt eval time =     179.69 ms /    12 tokens (   14.97 ms per token,    66.78 tokens per second)\n",
      "llama_print_timings:        eval time =    1441.47 ms /    28 runs   (   51.48 ms per token,    19.42 tokens per second)\n",
      "llama_print_timings:       total time =    1661.71 ms\n",
      "Llama.generate: prefix-match hit\n"
     ]
    },
    {
     "name": "stdout",
     "output_type": "stream",
     "text": [
      "204 -- 1\n"
     ]
    },
    {
     "name": "stderr",
     "output_type": "stream",
     "text": [
      "\n",
      "llama_print_timings:        load time =    2260.34 ms\n",
      "llama_print_timings:      sample time =      14.37 ms /   138 runs   (    0.10 ms per token,  9601.34 tokens per second)\n",
      "llama_print_timings: prompt eval time =     190.83 ms /    23 tokens (    8.30 ms per token,   120.52 tokens per second)\n",
      "llama_print_timings:        eval time =    7091.17 ms /   137 runs   (   51.76 ms per token,    19.32 tokens per second)\n",
      "llama_print_timings:       total time =    7475.87 ms\n",
      "Llama.generate: prefix-match hit\n"
     ]
    },
    {
     "name": "stdout",
     "output_type": "stream",
     "text": [
      "205 -- 1\n"
     ]
    },
    {
     "name": "stderr",
     "output_type": "stream",
     "text": [
      "\n",
      "llama_print_timings:        load time =    2260.34 ms\n",
      "llama_print_timings:      sample time =       3.28 ms /    29 runs   (    0.11 ms per token,  8841.46 tokens per second)\n",
      "llama_print_timings: prompt eval time =     188.58 ms /    20 tokens (    9.43 ms per token,   106.06 tokens per second)\n",
      "llama_print_timings:        eval time =    1447.88 ms /    28 runs   (   51.71 ms per token,    19.34 tokens per second)\n",
      "llama_print_timings:       total time =    1678.61 ms\n",
      "Llama.generate: prefix-match hit\n"
     ]
    },
    {
     "name": "stdout",
     "output_type": "stream",
     "text": [
      "206 -- 1\n"
     ]
    },
    {
     "name": "stderr",
     "output_type": "stream",
     "text": [
      "\n",
      "llama_print_timings:        load time =    2260.34 ms\n",
      "llama_print_timings:      sample time =       8.94 ms /    94 runs   (    0.10 ms per token, 10520.43 tokens per second)\n",
      "llama_print_timings: prompt eval time =     186.13 ms /    19 tokens (    9.80 ms per token,   102.08 tokens per second)\n",
      "llama_print_timings:        eval time =    4807.46 ms /    93 runs   (   51.69 ms per token,    19.34 tokens per second)\n",
      "llama_print_timings:       total time =    5123.87 ms\n",
      "Llama.generate: prefix-match hit\n"
     ]
    },
    {
     "name": "stdout",
     "output_type": "stream",
     "text": [
      "207 -- 1\n"
     ]
    },
    {
     "name": "stderr",
     "output_type": "stream",
     "text": [
      "\n",
      "llama_print_timings:        load time =    2260.34 ms\n",
      "llama_print_timings:      sample time =       3.50 ms /    34 runs   (    0.10 ms per token,  9725.40 tokens per second)\n",
      "llama_print_timings: prompt eval time =     182.58 ms /    15 tokens (   12.17 ms per token,    82.16 tokens per second)\n",
      "llama_print_timings:        eval time =    1699.55 ms /    33 runs   (   51.50 ms per token,    19.42 tokens per second)\n",
      "llama_print_timings:       total time =    1927.86 ms\n",
      "Llama.generate: prefix-match hit\n"
     ]
    },
    {
     "name": "stdout",
     "output_type": "stream",
     "text": [
      "208 -- 1\n"
     ]
    },
    {
     "name": "stderr",
     "output_type": "stream",
     "text": [
      "\n",
      "llama_print_timings:        load time =    2260.34 ms\n",
      "llama_print_timings:      sample time =       3.31 ms /    29 runs   (    0.11 ms per token,  8761.33 tokens per second)\n",
      "llama_print_timings: prompt eval time =     190.91 ms /    23 tokens (    8.30 ms per token,   120.48 tokens per second)\n",
      "llama_print_timings:        eval time =    1445.72 ms /    28 runs   (   51.63 ms per token,    19.37 tokens per second)\n",
      "llama_print_timings:       total time =    1679.10 ms\n",
      "Llama.generate: prefix-match hit\n"
     ]
    },
    {
     "name": "stdout",
     "output_type": "stream",
     "text": [
      "209 -- 1\n"
     ]
    },
    {
     "name": "stderr",
     "output_type": "stream",
     "text": [
      "\n",
      "llama_print_timings:        load time =    2260.34 ms\n",
      "llama_print_timings:      sample time =      12.83 ms /   105 runs   (    0.12 ms per token,  8185.22 tokens per second)\n",
      "llama_print_timings: prompt eval time =     191.16 ms /    23 tokens (    8.31 ms per token,   120.32 tokens per second)\n",
      "llama_print_timings:        eval time =    5388.55 ms /   104 runs   (   51.81 ms per token,    19.30 tokens per second)\n",
      "llama_print_timings:       total time =    5742.83 ms\n",
      "Llama.generate: prefix-match hit\n"
     ]
    },
    {
     "name": "stdout",
     "output_type": "stream",
     "text": [
      "210 -- 1\n"
     ]
    },
    {
     "name": "stderr",
     "output_type": "stream",
     "text": [
      "\n",
      "llama_print_timings:        load time =    2260.34 ms\n",
      "llama_print_timings:      sample time =      13.18 ms /   130 runs   (    0.10 ms per token,  9864.93 tokens per second)\n",
      "llama_print_timings: prompt eval time =     188.68 ms /    22 tokens (    8.58 ms per token,   116.60 tokens per second)\n",
      "llama_print_timings:        eval time =    6672.48 ms /   129 runs   (   51.72 ms per token,    19.33 tokens per second)\n",
      "llama_print_timings:       total time =    7040.26 ms\n",
      "Llama.generate: prefix-match hit\n"
     ]
    },
    {
     "name": "stdout",
     "output_type": "stream",
     "text": [
      "211 -- 1\n"
     ]
    },
    {
     "name": "stderr",
     "output_type": "stream",
     "text": [
      "\n",
      "llama_print_timings:        load time =    2260.34 ms\n",
      "llama_print_timings:      sample time =       5.77 ms /    41 runs   (    0.14 ms per token,  7109.42 tokens per second)\n",
      "llama_print_timings: prompt eval time =     191.28 ms /    23 tokens (    8.32 ms per token,   120.24 tokens per second)\n",
      "llama_print_timings:        eval time =    2078.16 ms /    40 runs   (   51.95 ms per token,    19.25 tokens per second)\n",
      "llama_print_timings:       total time =    2354.60 ms\n",
      "Llama.generate: prefix-match hit\n"
     ]
    },
    {
     "name": "stdout",
     "output_type": "stream",
     "text": [
      "212 -- 1\n"
     ]
    },
    {
     "name": "stderr",
     "output_type": "stream",
     "text": [
      "\n",
      "llama_print_timings:        load time =    2260.34 ms\n",
      "llama_print_timings:      sample time =       8.70 ms /    90 runs   (    0.10 ms per token, 10349.59 tokens per second)\n",
      "llama_print_timings: prompt eval time =     186.91 ms /    19 tokens (    9.84 ms per token,   101.66 tokens per second)\n",
      "llama_print_timings:        eval time =    4607.20 ms /    89 runs   (   51.77 ms per token,    19.32 tokens per second)\n",
      "llama_print_timings:       total time =    4921.72 ms\n",
      "Llama.generate: prefix-match hit\n"
     ]
    },
    {
     "name": "stdout",
     "output_type": "stream",
     "text": [
      "213 -- 1\n"
     ]
    },
    {
     "name": "stderr",
     "output_type": "stream",
     "text": [
      "\n",
      "llama_print_timings:        load time =    2260.34 ms\n",
      "llama_print_timings:      sample time =       5.59 ms /    38 runs   (    0.15 ms per token,  6794.21 tokens per second)\n",
      "llama_print_timings: prompt eval time =     185.04 ms /    17 tokens (   10.88 ms per token,    91.87 tokens per second)\n",
      "llama_print_timings:        eval time =    1916.62 ms /    37 runs   (   51.80 ms per token,    19.30 tokens per second)\n",
      "llama_print_timings:       total time =    2176.58 ms\n",
      "Llama.generate: prefix-match hit\n"
     ]
    },
    {
     "name": "stdout",
     "output_type": "stream",
     "text": [
      "214 -- 1\n"
     ]
    },
    {
     "name": "stderr",
     "output_type": "stream",
     "text": [
      "\n",
      "llama_print_timings:        load time =    2260.34 ms\n",
      "llama_print_timings:      sample time =      31.20 ms /    40 runs   (    0.78 ms per token,  1282.17 tokens per second)\n",
      "llama_print_timings: prompt eval time =     182.86 ms /    15 tokens (   12.19 ms per token,    82.03 tokens per second)\n",
      "llama_print_timings:        eval time =    2130.91 ms /    39 runs   (   54.64 ms per token,    18.30 tokens per second)\n",
      "llama_print_timings:       total time =    2585.45 ms\n",
      "Llama.generate: prefix-match hit\n"
     ]
    },
    {
     "name": "stdout",
     "output_type": "stream",
     "text": [
      "215 -- 1\n"
     ]
    },
    {
     "name": "stderr",
     "output_type": "stream",
     "text": [
      "\n",
      "llama_print_timings:        load time =    2260.34 ms\n",
      "llama_print_timings:      sample time =      13.29 ms /   133 runs   (    0.10 ms per token, 10010.54 tokens per second)\n",
      "llama_print_timings: prompt eval time =     340.42 ms /    39 tokens (    8.73 ms per token,   114.57 tokens per second)\n",
      "llama_print_timings:        eval time =    6849.45 ms /   132 runs   (   51.89 ms per token,    19.27 tokens per second)\n",
      "llama_print_timings:       total time =    7397.51 ms\n",
      "Llama.generate: prefix-match hit\n"
     ]
    },
    {
     "name": "stdout",
     "output_type": "stream",
     "text": [
      "216 -- 1\n"
     ]
    },
    {
     "name": "stderr",
     "output_type": "stream",
     "text": [
      "\n",
      "llama_print_timings:        load time =    2260.34 ms\n",
      "llama_print_timings:      sample time =       5.78 ms /    28 runs   (    0.21 ms per token,  4845.97 tokens per second)\n",
      "llama_print_timings: prompt eval time =     192.37 ms /    24 tokens (    8.02 ms per token,   124.76 tokens per second)\n",
      "llama_print_timings:        eval time =    1406.65 ms /    27 runs   (   52.10 ms per token,    19.19 tokens per second)\n",
      "llama_print_timings:       total time =    1658.59 ms\n",
      "Llama.generate: prefix-match hit\n"
     ]
    },
    {
     "name": "stdout",
     "output_type": "stream",
     "text": [
      "217 -- 1\n"
     ]
    },
    {
     "name": "stderr",
     "output_type": "stream",
     "text": [
      "\n",
      "llama_print_timings:        load time =    2260.34 ms\n",
      "llama_print_timings:      sample time =       4.36 ms /    34 runs   (    0.13 ms per token,  7798.17 tokens per second)\n",
      "llama_print_timings: prompt eval time =     182.78 ms /    15 tokens (   12.19 ms per token,    82.07 tokens per second)\n",
      "llama_print_timings:        eval time =    1704.42 ms /    33 runs   (   51.65 ms per token,    19.36 tokens per second)\n",
      "llama_print_timings:       total time =    1946.84 ms\n",
      "Llama.generate: prefix-match hit\n"
     ]
    },
    {
     "name": "stdout",
     "output_type": "stream",
     "text": [
      "218 -- 1\n"
     ]
    },
    {
     "name": "stderr",
     "output_type": "stream",
     "text": [
      "\n",
      "llama_print_timings:        load time =    2260.34 ms\n",
      "llama_print_timings:      sample time =       2.96 ms /    29 runs   (    0.10 ms per token,  9797.30 tokens per second)\n",
      "llama_print_timings: prompt eval time =     181.06 ms /    13 tokens (   13.93 ms per token,    71.80 tokens per second)\n",
      "llama_print_timings:        eval time =    1440.59 ms /    28 runs   (   51.45 ms per token,    19.44 tokens per second)\n",
      "llama_print_timings:       total time =    1660.96 ms\n",
      "Llama.generate: prefix-match hit\n"
     ]
    },
    {
     "name": "stdout",
     "output_type": "stream",
     "text": [
      "219 -- 1\n"
     ]
    },
    {
     "name": "stderr",
     "output_type": "stream",
     "text": [
      "\n",
      "llama_print_timings:        load time =    2260.34 ms\n",
      "llama_print_timings:      sample time =       4.45 ms /    29 runs   (    0.15 ms per token,  6512.46 tokens per second)\n",
      "llama_print_timings: prompt eval time =     182.99 ms /    15 tokens (   12.20 ms per token,    81.97 tokens per second)\n",
      "llama_print_timings:        eval time =    1449.14 ms /    28 runs   (   51.75 ms per token,    19.32 tokens per second)\n",
      "llama_print_timings:       total time =    1686.49 ms\n",
      "Llama.generate: prefix-match hit\n"
     ]
    },
    {
     "name": "stdout",
     "output_type": "stream",
     "text": [
      "220 -- 1\n"
     ]
    },
    {
     "name": "stderr",
     "output_type": "stream",
     "text": [
      "\n",
      "llama_print_timings:        load time =    2260.34 ms\n",
      "llama_print_timings:      sample time =       7.34 ms /    38 runs   (    0.19 ms per token,  5173.59 tokens per second)\n",
      "llama_print_timings: prompt eval time =     187.39 ms /    20 tokens (    9.37 ms per token,   106.73 tokens per second)\n",
      "llama_print_timings:        eval time =    1915.66 ms /    37 runs   (   51.77 ms per token,    19.31 tokens per second)\n",
      "llama_print_timings:       total time =    2179.77 ms\n",
      "Llama.generate: prefix-match hit\n"
     ]
    },
    {
     "name": "stdout",
     "output_type": "stream",
     "text": [
      "221 -- 1\n"
     ]
    },
    {
     "name": "stderr",
     "output_type": "stream",
     "text": [
      "\n",
      "llama_print_timings:        load time =    2260.34 ms\n",
      "llama_print_timings:      sample time =      19.27 ms /    29 runs   (    0.66 ms per token,  1504.62 tokens per second)\n",
      "llama_print_timings: prompt eval time =     191.09 ms /    23 tokens (    8.31 ms per token,   120.37 tokens per second)\n",
      "llama_print_timings:        eval time =    1510.44 ms /    28 runs   (   53.94 ms per token,    18.54 tokens per second)\n",
      "llama_print_timings:       total time =    1917.95 ms\n",
      "Llama.generate: prefix-match hit\n"
     ]
    },
    {
     "name": "stdout",
     "output_type": "stream",
     "text": [
      "222 -- 1\n"
     ]
    },
    {
     "name": "stderr",
     "output_type": "stream",
     "text": [
      "\n",
      "llama_print_timings:        load time =    2260.34 ms\n",
      "llama_print_timings:      sample time =      11.57 ms /   102 runs   (    0.11 ms per token,  8812.86 tokens per second)\n",
      "llama_print_timings: prompt eval time =     194.17 ms /    26 tokens (    7.47 ms per token,   133.90 tokens per second)\n",
      "llama_print_timings:        eval time =    5229.11 ms /   101 runs   (   51.77 ms per token,    19.31 tokens per second)\n",
      "llama_print_timings:       total time =    5591.72 ms\n",
      "Llama.generate: prefix-match hit\n"
     ]
    },
    {
     "name": "stdout",
     "output_type": "stream",
     "text": [
      "223 -- 1\n"
     ]
    },
    {
     "name": "stderr",
     "output_type": "stream",
     "text": [
      "\n",
      "llama_print_timings:        load time =    2260.34 ms\n",
      "llama_print_timings:      sample time =      12.33 ms /   122 runs   (    0.10 ms per token,  9894.57 tokens per second)\n",
      "llama_print_timings: prompt eval time =     184.14 ms /    18 tokens (   10.23 ms per token,    97.75 tokens per second)\n",
      "llama_print_timings:        eval time =    6255.32 ms /   121 runs   (   51.70 ms per token,    19.34 tokens per second)\n",
      "llama_print_timings:       total time =    6608.13 ms\n",
      "Llama.generate: prefix-match hit\n"
     ]
    },
    {
     "name": "stdout",
     "output_type": "stream",
     "text": [
      "224 -- 1\n"
     ]
    },
    {
     "name": "stderr",
     "output_type": "stream",
     "text": [
      "\n",
      "llama_print_timings:        load time =    2260.34 ms\n",
      "llama_print_timings:      sample time =       5.66 ms /    29 runs   (    0.20 ms per token,  5124.58 tokens per second)\n",
      "llama_print_timings: prompt eval time =     331.21 ms /    33 tokens (   10.04 ms per token,    99.63 tokens per second)\n",
      "llama_print_timings:        eval time =    1459.12 ms /    28 runs   (   52.11 ms per token,    19.19 tokens per second)\n",
      "llama_print_timings:       total time =    1875.23 ms\n",
      "Llama.generate: prefix-match hit\n"
     ]
    },
    {
     "name": "stdout",
     "output_type": "stream",
     "text": [
      "225 -- 1\n"
     ]
    },
    {
     "name": "stderr",
     "output_type": "stream",
     "text": [
      "\n",
      "llama_print_timings:        load time =    2260.34 ms\n",
      "llama_print_timings:      sample time =       9.91 ms /    95 runs   (    0.10 ms per token,  9590.15 tokens per second)\n",
      "llama_print_timings: prompt eval time =     181.11 ms /    14 tokens (   12.94 ms per token,    77.30 tokens per second)\n",
      "llama_print_timings:        eval time =    4854.89 ms /    94 runs   (   51.65 ms per token,    19.36 tokens per second)\n",
      "llama_print_timings:       total time =    5167.64 ms\n",
      "Llama.generate: prefix-match hit\n"
     ]
    },
    {
     "name": "stdout",
     "output_type": "stream",
     "text": [
      "226 -- 1\n"
     ]
    },
    {
     "name": "stderr",
     "output_type": "stream",
     "text": [
      "\n",
      "llama_print_timings:        load time =    2260.34 ms\n",
      "llama_print_timings:      sample time =       4.59 ms /    29 runs   (    0.16 ms per token,  6316.71 tokens per second)\n",
      "llama_print_timings: prompt eval time =     184.43 ms /    18 tokens (   10.25 ms per token,    97.60 tokens per second)\n",
      "llama_print_timings:        eval time =    1449.04 ms /    28 runs   (   51.75 ms per token,    19.32 tokens per second)\n",
      "llama_print_timings:       total time =    1695.45 ms\n",
      "Llama.generate: prefix-match hit\n"
     ]
    },
    {
     "name": "stdout",
     "output_type": "stream",
     "text": [
      "227 -- 1\n"
     ]
    },
    {
     "name": "stderr",
     "output_type": "stream",
     "text": [
      "\n",
      "llama_print_timings:        load time =    2260.34 ms\n",
      "llama_print_timings:      sample time =       7.33 ms /    34 runs   (    0.22 ms per token,  4635.94 tokens per second)\n",
      "llama_print_timings: prompt eval time =     187.56 ms /    20 tokens (    9.38 ms per token,   106.63 tokens per second)\n",
      "llama_print_timings:        eval time =    1720.46 ms /    33 runs   (   52.14 ms per token,    19.18 tokens per second)\n",
      "llama_print_timings:       total time =    1996.72 ms\n",
      "Llama.generate: prefix-match hit\n"
     ]
    },
    {
     "name": "stdout",
     "output_type": "stream",
     "text": [
      "228 -- 1\n"
     ]
    },
    {
     "name": "stderr",
     "output_type": "stream",
     "text": [
      "\n",
      "llama_print_timings:        load time =    2260.34 ms\n",
      "llama_print_timings:      sample time =       3.12 ms /    29 runs   (    0.11 ms per token,  9297.85 tokens per second)\n",
      "llama_print_timings: prompt eval time =     179.85 ms /    12 tokens (   14.99 ms per token,    66.72 tokens per second)\n",
      "llama_print_timings:        eval time =    1443.62 ms /    28 runs   (   51.56 ms per token,    19.40 tokens per second)\n",
      "llama_print_timings:       total time =    1664.72 ms\n",
      "Llama.generate: prefix-match hit\n"
     ]
    },
    {
     "name": "stdout",
     "output_type": "stream",
     "text": [
      "229 -- 1\n"
     ]
    },
    {
     "name": "stderr",
     "output_type": "stream",
     "text": [
      "\n",
      "llama_print_timings:        load time =    2260.34 ms\n",
      "llama_print_timings:      sample time =      11.43 ms /    34 runs   (    0.34 ms per token,  2975.67 tokens per second)\n",
      "llama_print_timings: prompt eval time =     181.06 ms /    13 tokens (   13.93 ms per token,    71.80 tokens per second)\n",
      "llama_print_timings:        eval time =    1722.90 ms /    33 runs   (   52.21 ms per token,    19.15 tokens per second)\n",
      "llama_print_timings:       total time =    2008.84 ms\n",
      "Llama.generate: prefix-match hit\n"
     ]
    },
    {
     "name": "stdout",
     "output_type": "stream",
     "text": [
      "230 -- 1\n"
     ]
    },
    {
     "name": "stderr",
     "output_type": "stream",
     "text": [
      "\n",
      "llama_print_timings:        load time =    2260.34 ms\n",
      "llama_print_timings:      sample time =       2.92 ms /    29 runs   (    0.10 ms per token,  9917.92 tokens per second)\n",
      "llama_print_timings: prompt eval time =     184.85 ms /    17 tokens (   10.87 ms per token,    91.96 tokens per second)\n",
      "llama_print_timings:        eval time =    1441.60 ms /    28 runs   (   51.49 ms per token,    19.42 tokens per second)\n",
      "llama_print_timings:       total time =    1664.84 ms\n",
      "Llama.generate: prefix-match hit\n"
     ]
    },
    {
     "name": "stdout",
     "output_type": "stream",
     "text": [
      "231 -- 1\n"
     ]
    },
    {
     "name": "stderr",
     "output_type": "stream",
     "text": [
      "\n",
      "llama_print_timings:        load time =    2260.34 ms\n",
      "llama_print_timings:      sample time =       4.13 ms /    40 runs   (    0.10 ms per token,  9692.27 tokens per second)\n",
      "llama_print_timings: prompt eval time =     187.60 ms /    20 tokens (    9.38 ms per token,   106.61 tokens per second)\n",
      "llama_print_timings:        eval time =    2012.29 ms /    39 runs   (   51.60 ms per token,    19.38 tokens per second)\n",
      "llama_print_timings:       total time =    2254.99 ms\n",
      "Llama.generate: prefix-match hit\n"
     ]
    },
    {
     "name": "stdout",
     "output_type": "stream",
     "text": [
      "232 -- 1\n"
     ]
    },
    {
     "name": "stderr",
     "output_type": "stream",
     "text": [
      "\n",
      "llama_print_timings:        load time =    2260.34 ms\n",
      "llama_print_timings:      sample time =       2.98 ms /    28 runs   (    0.11 ms per token,  9380.23 tokens per second)\n",
      "llama_print_timings: prompt eval time =     192.23 ms /    24 tokens (    8.01 ms per token,   124.85 tokens per second)\n",
      "llama_print_timings:        eval time =    1393.45 ms /    27 runs   (   51.61 ms per token,    19.38 tokens per second)\n",
      "llama_print_timings:       total time =    1624.32 ms\n",
      "Llama.generate: prefix-match hit\n"
     ]
    },
    {
     "name": "stdout",
     "output_type": "stream",
     "text": [
      "233 -- 1\n"
     ]
    },
    {
     "name": "stderr",
     "output_type": "stream",
     "text": [
      "\n",
      "llama_print_timings:        load time =    2260.34 ms\n",
      "llama_print_timings:      sample time =       3.76 ms /    34 runs   (    0.11 ms per token,  9052.18 tokens per second)\n",
      "llama_print_timings: prompt eval time =     190.56 ms /    23 tokens (    8.29 ms per token,   120.70 tokens per second)\n",
      "llama_print_timings:        eval time =    1705.21 ms /    33 runs   (   51.67 ms per token,    19.35 tokens per second)\n",
      "llama_print_timings:       total time =    1943.81 ms\n",
      "Llama.generate: prefix-match hit\n"
     ]
    },
    {
     "name": "stdout",
     "output_type": "stream",
     "text": [
      "234 -- 1\n"
     ]
    },
    {
     "name": "stderr",
     "output_type": "stream",
     "text": [
      "\n",
      "llama_print_timings:        load time =    2260.34 ms\n",
      "llama_print_timings:      sample time =       4.27 ms /    29 runs   (    0.15 ms per token,  6789.98 tokens per second)\n",
      "llama_print_timings: prompt eval time =     182.75 ms /    15 tokens (   12.18 ms per token,    82.08 tokens per second)\n",
      "llama_print_timings:        eval time =    1448.71 ms /    28 runs   (   51.74 ms per token,    19.33 tokens per second)\n",
      "llama_print_timings:       total time =    1685.16 ms\n",
      "Llama.generate: prefix-match hit\n"
     ]
    },
    {
     "name": "stdout",
     "output_type": "stream",
     "text": [
      "235 -- 1\n"
     ]
    },
    {
     "name": "stderr",
     "output_type": "stream",
     "text": [
      "\n",
      "llama_print_timings:        load time =    2260.34 ms\n",
      "llama_print_timings:      sample time =      12.56 ms /   127 runs   (    0.10 ms per token, 10109.05 tokens per second)\n",
      "llama_print_timings: prompt eval time =     199.73 ms /    31 tokens (    6.44 ms per token,   155.21 tokens per second)\n",
      "llama_print_timings:        eval time =    6528.92 ms /   126 runs   (   51.82 ms per token,    19.30 tokens per second)\n",
      "llama_print_timings:       total time =    6905.97 ms\n",
      "Llama.generate: prefix-match hit\n"
     ]
    },
    {
     "name": "stdout",
     "output_type": "stream",
     "text": [
      "236 -- 1\n"
     ]
    },
    {
     "name": "stderr",
     "output_type": "stream",
     "text": [
      "\n",
      "llama_print_timings:        load time =    2260.34 ms\n",
      "llama_print_timings:      sample time =       3.64 ms /    34 runs   (    0.11 ms per token,  9343.23 tokens per second)\n",
      "llama_print_timings: prompt eval time =     183.43 ms /    16 tokens (   11.46 ms per token,    87.23 tokens per second)\n",
      "llama_print_timings:        eval time =    1702.28 ms /    33 runs   (   51.58 ms per token,    19.39 tokens per second)\n",
      "llama_print_timings:       total time =    1932.30 ms\n",
      "Llama.generate: prefix-match hit\n"
     ]
    },
    {
     "name": "stdout",
     "output_type": "stream",
     "text": [
      "237 -- 1\n"
     ]
    },
    {
     "name": "stderr",
     "output_type": "stream",
     "text": [
      "\n",
      "llama_print_timings:        load time =    2260.34 ms\n",
      "llama_print_timings:      sample time =       3.23 ms /    29 runs   (    0.11 ms per token,  8964.45 tokens per second)\n",
      "llama_print_timings: prompt eval time =     191.02 ms /    23 tokens (    8.31 ms per token,   120.41 tokens per second)\n",
      "llama_print_timings:        eval time =    1446.23 ms /    28 runs   (   51.65 ms per token,    19.36 tokens per second)\n",
      "llama_print_timings:       total time =    1678.40 ms\n",
      "Llama.generate: prefix-match hit\n"
     ]
    },
    {
     "name": "stdout",
     "output_type": "stream",
     "text": [
      "238 -- 1\n"
     ]
    },
    {
     "name": "stderr",
     "output_type": "stream",
     "text": [
      "\n",
      "llama_print_timings:        load time =    2260.34 ms\n",
      "llama_print_timings:      sample time =       4.44 ms /    29 runs   (    0.15 ms per token,  6530.06 tokens per second)\n",
      "llama_print_timings: prompt eval time =     189.83 ms /    21 tokens (    9.04 ms per token,   110.62 tokens per second)\n",
      "llama_print_timings:        eval time =    1455.93 ms /    28 runs   (   52.00 ms per token,    19.23 tokens per second)\n",
      "llama_print_timings:       total time =    1713.97 ms\n",
      "Llama.generate: prefix-match hit\n"
     ]
    },
    {
     "name": "stdout",
     "output_type": "stream",
     "text": [
      "239 -- 1\n"
     ]
    },
    {
     "name": "stderr",
     "output_type": "stream",
     "text": [
      "\n",
      "llama_print_timings:        load time =    2260.34 ms\n",
      "llama_print_timings:      sample time =       5.00 ms /    39 runs   (    0.13 ms per token,  7792.21 tokens per second)\n",
      "llama_print_timings: prompt eval time =     182.83 ms /    15 tokens (   12.19 ms per token,    82.04 tokens per second)\n",
      "llama_print_timings:        eval time =    1963.82 ms /    38 runs   (   51.68 ms per token,    19.35 tokens per second)\n",
      "llama_print_timings:       total time =    2211.68 ms\n",
      "Llama.generate: prefix-match hit\n"
     ]
    },
    {
     "name": "stdout",
     "output_type": "stream",
     "text": [
      "240 -- 1\n"
     ]
    },
    {
     "name": "stderr",
     "output_type": "stream",
     "text": [
      "\n",
      "llama_print_timings:        load time =    2260.34 ms\n",
      "llama_print_timings:      sample time =      10.11 ms /    98 runs   (    0.10 ms per token,  9691.46 tokens per second)\n",
      "llama_print_timings: prompt eval time =     189.38 ms /    21 tokens (    9.02 ms per token,   110.89 tokens per second)\n",
      "llama_print_timings:        eval time =    5013.21 ms /    97 runs   (   51.68 ms per token,    19.35 tokens per second)\n",
      "llama_print_timings:       total time =    5336.25 ms\n",
      "Llama.generate: prefix-match hit\n"
     ]
    },
    {
     "name": "stdout",
     "output_type": "stream",
     "text": [
      "241 -- 1\n"
     ]
    },
    {
     "name": "stderr",
     "output_type": "stream",
     "text": [
      "\n",
      "llama_print_timings:        load time =    2260.34 ms\n",
      "llama_print_timings:      sample time =      11.18 ms /   109 runs   (    0.10 ms per token,  9751.30 tokens per second)\n",
      "llama_print_timings: prompt eval time =     192.51 ms /    24 tokens (    8.02 ms per token,   124.67 tokens per second)\n",
      "llama_print_timings:        eval time =    5587.96 ms /   108 runs   (   51.74 ms per token,    19.33 tokens per second)\n",
      "llama_print_timings:       total time =    5931.98 ms\n",
      "Llama.generate: prefix-match hit\n"
     ]
    },
    {
     "name": "stdout",
     "output_type": "stream",
     "text": [
      "242 -- 1\n"
     ]
    },
    {
     "name": "stderr",
     "output_type": "stream",
     "text": [
      "\n",
      "llama_print_timings:        load time =    2260.34 ms\n",
      "llama_print_timings:      sample time =       5.12 ms /    34 runs   (    0.15 ms per token,  6634.15 tokens per second)\n",
      "llama_print_timings: prompt eval time =     187.70 ms /    20 tokens (    9.38 ms per token,   106.56 tokens per second)\n",
      "llama_print_timings:        eval time =    1709.58 ms /    33 runs   (   51.81 ms per token,    19.30 tokens per second)\n",
      "llama_print_timings:       total time =    1959.31 ms\n",
      "Llama.generate: prefix-match hit\n"
     ]
    },
    {
     "name": "stdout",
     "output_type": "stream",
     "text": [
      "243 -- 1\n"
     ]
    },
    {
     "name": "stderr",
     "output_type": "stream",
     "text": [
      "\n",
      "llama_print_timings:        load time =    2260.34 ms\n",
      "llama_print_timings:      sample time =      11.83 ms /   121 runs   (    0.10 ms per token, 10230.83 tokens per second)\n",
      "llama_print_timings: prompt eval time =     187.57 ms /    20 tokens (    9.38 ms per token,   106.63 tokens per second)\n",
      "llama_print_timings:        eval time =    6210.83 ms /   120 runs   (   51.76 ms per token,    19.32 tokens per second)\n",
      "llama_print_timings:       total time =    6565.53 ms\n",
      "Llama.generate: prefix-match hit\n"
     ]
    },
    {
     "name": "stdout",
     "output_type": "stream",
     "text": [
      "244 -- 1\n"
     ]
    },
    {
     "name": "stderr",
     "output_type": "stream",
     "text": [
      "\n",
      "llama_print_timings:        load time =    2260.34 ms\n",
      "llama_print_timings:      sample time =       3.54 ms /    34 runs   (    0.10 ms per token,  9599.10 tokens per second)\n",
      "llama_print_timings: prompt eval time =     183.57 ms /    16 tokens (   11.47 ms per token,    87.16 tokens per second)\n",
      "llama_print_timings:        eval time =    1700.90 ms /    33 runs   (   51.54 ms per token,    19.40 tokens per second)\n",
      "llama_print_timings:       total time =    1930.39 ms\n",
      "Llama.generate: prefix-match hit\n"
     ]
    },
    {
     "name": "stdout",
     "output_type": "stream",
     "text": [
      "245 -- 1\n"
     ]
    },
    {
     "name": "stderr",
     "output_type": "stream",
     "text": [
      "\n",
      "llama_print_timings:        load time =    2260.34 ms\n",
      "llama_print_timings:      sample time =       4.34 ms /    29 runs   (    0.15 ms per token,  6688.19 tokens per second)\n",
      "llama_print_timings: prompt eval time =     182.65 ms /    15 tokens (   12.18 ms per token,    82.12 tokens per second)\n",
      "llama_print_timings:        eval time =    1451.39 ms /    28 runs   (   51.84 ms per token,    19.29 tokens per second)\n",
      "llama_print_timings:       total time =    1690.10 ms\n",
      "Llama.generate: prefix-match hit\n"
     ]
    },
    {
     "name": "stdout",
     "output_type": "stream",
     "text": [
      "246 -- 1\n"
     ]
    },
    {
     "name": "stderr",
     "output_type": "stream",
     "text": [
      "\n",
      "llama_print_timings:        load time =    2260.34 ms\n",
      "llama_print_timings:      sample time =       8.57 ms /    88 runs   (    0.10 ms per token, 10263.59 tokens per second)\n",
      "llama_print_timings: prompt eval time =     183.67 ms /    16 tokens (   11.48 ms per token,    87.11 tokens per second)\n",
      "llama_print_timings:        eval time =    4493.59 ms /    87 runs   (   51.65 ms per token,    19.36 tokens per second)\n",
      "llama_print_timings:       total time =    4796.75 ms\n",
      "Llama.generate: prefix-match hit\n"
     ]
    },
    {
     "name": "stdout",
     "output_type": "stream",
     "text": [
      "247 -- 1\n"
     ]
    },
    {
     "name": "stderr",
     "output_type": "stream",
     "text": [
      "\n",
      "llama_print_timings:        load time =    2260.34 ms\n",
      "llama_print_timings:      sample time =      12.09 ms /   107 runs   (    0.11 ms per token,  8849.56 tokens per second)\n",
      "llama_print_timings: prompt eval time =     187.39 ms /    20 tokens (    9.37 ms per token,   106.73 tokens per second)\n",
      "llama_print_timings:        eval time =    5495.03 ms /   106 runs   (   51.84 ms per token,    19.29 tokens per second)\n",
      "llama_print_timings:       total time =    5843.60 ms\n",
      "Llama.generate: prefix-match hit\n"
     ]
    },
    {
     "name": "stdout",
     "output_type": "stream",
     "text": [
      "248 -- 1\n"
     ]
    },
    {
     "name": "stderr",
     "output_type": "stream",
     "text": [
      "\n",
      "llama_print_timings:        load time =    2260.34 ms\n",
      "llama_print_timings:      sample time =       4.33 ms /    29 runs   (    0.15 ms per token,  6691.28 tokens per second)\n",
      "llama_print_timings: prompt eval time =     184.41 ms /    18 tokens (   10.25 ms per token,    97.61 tokens per second)\n",
      "llama_print_timings:        eval time =    1452.64 ms /    28 runs   (   51.88 ms per token,    19.28 tokens per second)\n",
      "llama_print_timings:       total time =    1697.73 ms\n",
      "Llama.generate: prefix-match hit\n"
     ]
    },
    {
     "name": "stdout",
     "output_type": "stream",
     "text": [
      "249 -- 1\n"
     ]
    },
    {
     "name": "stderr",
     "output_type": "stream",
     "text": [
      "\n",
      "llama_print_timings:        load time =    2260.34 ms\n",
      "llama_print_timings:      sample time =      10.33 ms /   113 runs   (    0.09 ms per token, 10942.19 tokens per second)\n",
      "llama_print_timings: prompt eval time =     191.03 ms /    23 tokens (    8.31 ms per token,   120.40 tokens per second)\n",
      "llama_print_timings:        eval time =    5793.06 ms /   112 runs   (   51.72 ms per token,    19.33 tokens per second)\n",
      "llama_print_timings:       total time =    6139.42 ms\n",
      "Llama.generate: prefix-match hit\n"
     ]
    },
    {
     "name": "stdout",
     "output_type": "stream",
     "text": [
      "250 -- 1\n"
     ]
    },
    {
     "name": "stderr",
     "output_type": "stream",
     "text": [
      "\n",
      "llama_print_timings:        load time =    2260.34 ms\n",
      "llama_print_timings:      sample time =      13.17 ms /   136 runs   (    0.10 ms per token, 10328.07 tokens per second)\n",
      "llama_print_timings: prompt eval time =     186.07 ms /    29 tokens (    6.42 ms per token,   155.85 tokens per second)\n",
      "llama_print_timings:        eval time =    6995.27 ms /   135 runs   (   51.82 ms per token,    19.30 tokens per second)\n",
      "llama_print_timings:       total time =    7368.45 ms\n",
      "Llama.generate: prefix-match hit\n"
     ]
    },
    {
     "name": "stdout",
     "output_type": "stream",
     "text": [
      "251 -- 1\n"
     ]
    },
    {
     "name": "stderr",
     "output_type": "stream",
     "text": [
      "\n",
      "llama_print_timings:        load time =    2260.34 ms\n",
      "llama_print_timings:      sample time =      22.94 ms /    83 runs   (    0.28 ms per token,  3618.61 tokens per second)\n",
      "llama_print_timings: prompt eval time =     184.60 ms /    18 tokens (   10.26 ms per token,    97.51 tokens per second)\n",
      "llama_print_timings:        eval time =    4313.54 ms /    82 runs   (   52.60 ms per token,    19.01 tokens per second)\n",
      "llama_print_timings:       total time =    4836.11 ms\n",
      "Llama.generate: prefix-match hit\n"
     ]
    },
    {
     "name": "stdout",
     "output_type": "stream",
     "text": [
      "252 -- 1\n"
     ]
    },
    {
     "name": "stderr",
     "output_type": "stream",
     "text": [
      "\n",
      "llama_print_timings:        load time =    2260.34 ms\n",
      "llama_print_timings:      sample time =       3.13 ms /    29 runs   (    0.11 ms per token,  9274.06 tokens per second)\n",
      "llama_print_timings: prompt eval time =     182.89 ms /    15 tokens (   12.19 ms per token,    82.01 tokens per second)\n",
      "llama_print_timings:        eval time =    1441.33 ms /    28 runs   (   51.48 ms per token,    19.43 tokens per second)\n",
      "llama_print_timings:       total time =    1663.44 ms\n",
      "Llama.generate: prefix-match hit\n"
     ]
    },
    {
     "name": "stdout",
     "output_type": "stream",
     "text": [
      "253 -- 1\n"
     ]
    },
    {
     "name": "stderr",
     "output_type": "stream",
     "text": [
      "\n",
      "llama_print_timings:        load time =    2260.34 ms\n",
      "llama_print_timings:      sample time =       4.32 ms /    29 runs   (    0.15 ms per token,  6719.18 tokens per second)\n",
      "llama_print_timings: prompt eval time =     183.73 ms /    16 tokens (   11.48 ms per token,    87.08 tokens per second)\n",
      "llama_print_timings:        eval time =    1451.27 ms /    28 runs   (   51.83 ms per token,    19.29 tokens per second)\n",
      "llama_print_timings:       total time =    1688.06 ms\n",
      "Llama.generate: prefix-match hit\n"
     ]
    },
    {
     "name": "stdout",
     "output_type": "stream",
     "text": [
      "254 -- 1\n"
     ]
    },
    {
     "name": "stderr",
     "output_type": "stream",
     "text": [
      "\n",
      "llama_print_timings:        load time =    2260.34 ms\n",
      "llama_print_timings:      sample time =      12.06 ms /    95 runs   (    0.13 ms per token,  7875.32 tokens per second)\n",
      "llama_print_timings: prompt eval time =     187.20 ms /    19 tokens (    9.85 ms per token,   101.50 tokens per second)\n",
      "llama_print_timings:        eval time =    4873.60 ms /    94 runs   (   51.85 ms per token,    19.29 tokens per second)\n",
      "llama_print_timings:       total time =    5211.77 ms\n",
      "Llama.generate: prefix-match hit\n"
     ]
    },
    {
     "name": "stdout",
     "output_type": "stream",
     "text": [
      "255 -- 1\n"
     ]
    },
    {
     "name": "stderr",
     "output_type": "stream",
     "text": [
      "\n",
      "llama_print_timings:        load time =    2260.34 ms\n",
      "llama_print_timings:      sample time =       4.59 ms /    34 runs   (    0.14 ms per token,  7405.79 tokens per second)\n",
      "llama_print_timings: prompt eval time =     186.97 ms /    19 tokens (    9.84 ms per token,   101.62 tokens per second)\n",
      "llama_print_timings:        eval time =    1706.93 ms /    33 runs   (   51.73 ms per token,    19.33 tokens per second)\n",
      "llama_print_timings:       total time =    1953.23 ms\n",
      "Llama.generate: prefix-match hit\n"
     ]
    },
    {
     "name": "stdout",
     "output_type": "stream",
     "text": [
      "256 -- 1\n"
     ]
    },
    {
     "name": "stderr",
     "output_type": "stream",
     "text": [
      "\n",
      "llama_print_timings:        load time =    2260.34 ms\n",
      "llama_print_timings:      sample time =       9.07 ms /    81 runs   (    0.11 ms per token,  8934.48 tokens per second)\n",
      "llama_print_timings: prompt eval time =     187.45 ms /    20 tokens (    9.37 ms per token,   106.69 tokens per second)\n",
      "llama_print_timings:        eval time =    4139.99 ms /    80 runs   (   51.75 ms per token,    19.32 tokens per second)\n",
      "llama_print_timings:       total time =    4451.68 ms\n",
      "Llama.generate: prefix-match hit\n"
     ]
    },
    {
     "name": "stdout",
     "output_type": "stream",
     "text": [
      "257 -- 1\n"
     ]
    },
    {
     "name": "stderr",
     "output_type": "stream",
     "text": [
      "\n",
      "llama_print_timings:        load time =    2260.34 ms\n",
      "llama_print_timings:      sample time =       8.89 ms /    97 runs   (    0.09 ms per token, 10906.23 tokens per second)\n",
      "llama_print_timings: prompt eval time =     189.27 ms /    21 tokens (    9.01 ms per token,   110.95 tokens per second)\n",
      "llama_print_timings:        eval time =    4963.90 ms /    96 runs   (   51.71 ms per token,    19.34 tokens per second)\n",
      "llama_print_timings:       total time =    5283.50 ms\n",
      "Llama.generate: prefix-match hit\n"
     ]
    },
    {
     "name": "stdout",
     "output_type": "stream",
     "text": [
      "258 -- 1\n"
     ]
    },
    {
     "name": "stderr",
     "output_type": "stream",
     "text": [
      "\n",
      "llama_print_timings:        load time =    2260.34 ms\n",
      "llama_print_timings:      sample time =      12.50 ms /   112 runs   (    0.11 ms per token,  8961.43 tokens per second)\n",
      "llama_print_timings: prompt eval time =     190.59 ms /    23 tokens (    8.29 ms per token,   120.68 tokens per second)\n",
      "llama_print_timings:        eval time =    5747.69 ms /   111 runs   (   51.78 ms per token,    19.31 tokens per second)\n",
      "llama_print_timings:       total time =    6106.04 ms\n",
      "Llama.generate: prefix-match hit\n"
     ]
    },
    {
     "name": "stdout",
     "output_type": "stream",
     "text": [
      "259 -- 1\n"
     ]
    },
    {
     "name": "stderr",
     "output_type": "stream",
     "text": [
      "\n",
      "llama_print_timings:        load time =    2260.34 ms\n",
      "llama_print_timings:      sample time =      13.68 ms /   113 runs   (    0.12 ms per token,  8260.23 tokens per second)\n",
      "llama_print_timings: prompt eval time =     189.13 ms /    21 tokens (    9.01 ms per token,   111.03 tokens per second)\n",
      "llama_print_timings:        eval time =    5802.34 ms /   112 runs   (   51.81 ms per token,    19.30 tokens per second)\n",
      "llama_print_timings:       total time =    6168.28 ms\n",
      "Llama.generate: prefix-match hit\n"
     ]
    },
    {
     "name": "stdout",
     "output_type": "stream",
     "text": [
      "260 -- 1\n"
     ]
    },
    {
     "name": "stderr",
     "output_type": "stream",
     "text": [
      "\n",
      "llama_print_timings:        load time =    2260.34 ms\n",
      "llama_print_timings:      sample time =      11.27 ms /   108 runs   (    0.10 ms per token,  9579.56 tokens per second)\n",
      "llama_print_timings: prompt eval time =     186.24 ms /    19 tokens (    9.80 ms per token,   102.02 tokens per second)\n",
      "llama_print_timings:        eval time =    5539.32 ms /   107 runs   (   51.77 ms per token,    19.32 tokens per second)\n",
      "llama_print_timings:       total time =    5887.58 ms\n",
      "Llama.generate: prefix-match hit\n"
     ]
    },
    {
     "name": "stdout",
     "output_type": "stream",
     "text": [
      "261 -- 1\n"
     ]
    },
    {
     "name": "stderr",
     "output_type": "stream",
     "text": [
      "\n",
      "llama_print_timings:        load time =    2260.34 ms\n",
      "llama_print_timings:      sample time =       4.35 ms /    29 runs   (    0.15 ms per token,  6671.27 tokens per second)\n",
      "llama_print_timings: prompt eval time =     188.90 ms /    22 tokens (    8.59 ms per token,   116.46 tokens per second)\n",
      "llama_print_timings:        eval time =    1451.32 ms /    28 runs   (   51.83 ms per token,    19.29 tokens per second)\n",
      "llama_print_timings:       total time =    1696.53 ms\n",
      "Llama.generate: prefix-match hit\n"
     ]
    },
    {
     "name": "stdout",
     "output_type": "stream",
     "text": [
      "262 -- 1\n"
     ]
    },
    {
     "name": "stderr",
     "output_type": "stream",
     "text": [
      "\n",
      "llama_print_timings:        load time =    2260.34 ms\n",
      "llama_print_timings:      sample time =       2.94 ms /    29 runs   (    0.10 ms per token,  9853.89 tokens per second)\n",
      "llama_print_timings: prompt eval time =     179.24 ms /    11 tokens (   16.29 ms per token,    61.37 tokens per second)\n",
      "llama_print_timings:        eval time =    1441.73 ms /    28 runs   (   51.49 ms per token,    19.42 tokens per second)\n",
      "llama_print_timings:       total time =    1660.74 ms\n",
      "Llama.generate: prefix-match hit\n"
     ]
    },
    {
     "name": "stdout",
     "output_type": "stream",
     "text": [
      "263 -- 1\n"
     ]
    },
    {
     "name": "stderr",
     "output_type": "stream",
     "text": [
      "\n",
      "llama_print_timings:        load time =    2260.34 ms\n",
      "llama_print_timings:      sample time =       3.13 ms /    29 runs   (    0.11 ms per token,  9271.10 tokens per second)\n",
      "llama_print_timings: prompt eval time =     182.98 ms /    15 tokens (   12.20 ms per token,    81.98 tokens per second)\n",
      "llama_print_timings:        eval time =    1442.95 ms /    28 runs   (   51.53 ms per token,    19.40 tokens per second)\n",
      "llama_print_timings:       total time =    1666.69 ms\n",
      "Llama.generate: prefix-match hit\n"
     ]
    },
    {
     "name": "stdout",
     "output_type": "stream",
     "text": [
      "264 -- 1\n"
     ]
    },
    {
     "name": "stderr",
     "output_type": "stream",
     "text": [
      "\n",
      "llama_print_timings:        load time =    2260.34 ms\n",
      "llama_print_timings:      sample time =       3.83 ms /    29 runs   (    0.13 ms per token,  7563.90 tokens per second)\n",
      "llama_print_timings: prompt eval time =     185.12 ms /    17 tokens (   10.89 ms per token,    91.83 tokens per second)\n",
      "llama_print_timings:        eval time =    1446.09 ms /    28 runs   (   51.65 ms per token,    19.36 tokens per second)\n",
      "llama_print_timings:       total time =    1685.49 ms\n",
      "Llama.generate: prefix-match hit\n"
     ]
    },
    {
     "name": "stdout",
     "output_type": "stream",
     "text": [
      "265 -- 1\n"
     ]
    },
    {
     "name": "stderr",
     "output_type": "stream",
     "text": [
      "\n",
      "llama_print_timings:        load time =    2260.34 ms\n",
      "llama_print_timings:      sample time =       6.60 ms /    34 runs   (    0.19 ms per token,  5150.73 tokens per second)\n",
      "llama_print_timings: prompt eval time =     189.02 ms /    22 tokens (    8.59 ms per token,   116.39 tokens per second)\n",
      "llama_print_timings:        eval time =    1714.74 ms /    33 runs   (   51.96 ms per token,    19.24 tokens per second)\n",
      "llama_print_timings:       total time =    1965.78 ms\n",
      "Llama.generate: prefix-match hit\n"
     ]
    },
    {
     "name": "stdout",
     "output_type": "stream",
     "text": [
      "266 -- 1\n"
     ]
    },
    {
     "name": "stderr",
     "output_type": "stream",
     "text": [
      "\n",
      "llama_print_timings:        load time =    2260.34 ms\n",
      "llama_print_timings:      sample time =       4.67 ms /    36 runs   (    0.13 ms per token,  7717.04 tokens per second)\n",
      "llama_print_timings: prompt eval time =     180.94 ms /    14 tokens (   12.92 ms per token,    77.37 tokens per second)\n",
      "llama_print_timings:        eval time =    1806.85 ms /    35 runs   (   51.62 ms per token,    19.37 tokens per second)\n",
      "llama_print_timings:       total time =    2048.05 ms\n",
      "Llama.generate: prefix-match hit\n"
     ]
    },
    {
     "name": "stdout",
     "output_type": "stream",
     "text": [
      "267 -- 1\n"
     ]
    },
    {
     "name": "stderr",
     "output_type": "stream",
     "text": [
      "\n",
      "llama_print_timings:        load time =    2260.34 ms\n",
      "llama_print_timings:      sample time =       4.53 ms /    43 runs   (    0.11 ms per token,  9500.66 tokens per second)\n",
      "llama_print_timings: prompt eval time =     185.14 ms /    17 tokens (   10.89 ms per token,    91.82 tokens per second)\n",
      "llama_print_timings:        eval time =    2162.88 ms /    42 runs   (   51.50 ms per token,    19.42 tokens per second)\n",
      "llama_print_timings:       total time =    2406.58 ms\n",
      "Llama.generate: prefix-match hit\n"
     ]
    },
    {
     "name": "stdout",
     "output_type": "stream",
     "text": [
      "268 -- 1\n"
     ]
    },
    {
     "name": "stderr",
     "output_type": "stream",
     "text": [
      "\n",
      "llama_print_timings:        load time =    2260.34 ms\n",
      "llama_print_timings:      sample time =       3.49 ms /    34 runs   (    0.10 ms per token,  9733.75 tokens per second)\n",
      "llama_print_timings: prompt eval time =     180.75 ms /    14 tokens (   12.91 ms per token,    77.45 tokens per second)\n",
      "llama_print_timings:        eval time =    1697.78 ms /    33 runs   (   51.45 ms per token,    19.44 tokens per second)\n",
      "llama_print_timings:       total time =    1923.56 ms\n",
      "Llama.generate: prefix-match hit\n"
     ]
    },
    {
     "name": "stdout",
     "output_type": "stream",
     "text": [
      "269 -- 1\n"
     ]
    },
    {
     "name": "stderr",
     "output_type": "stream",
     "text": [
      "\n",
      "llama_print_timings:        load time =    2260.34 ms\n",
      "llama_print_timings:      sample time =       4.14 ms /    44 runs   (    0.09 ms per token, 10630.59 tokens per second)\n",
      "llama_print_timings: prompt eval time =     183.74 ms /    16 tokens (   11.48 ms per token,    87.08 tokens per second)\n",
      "llama_print_timings:        eval time =    2215.66 ms /    43 runs   (   51.53 ms per token,    19.41 tokens per second)\n",
      "llama_print_timings:       total time =    2458.49 ms\n",
      "Llama.generate: prefix-match hit\n"
     ]
    },
    {
     "name": "stdout",
     "output_type": "stream",
     "text": [
      "270 -- 1\n"
     ]
    },
    {
     "name": "stderr",
     "output_type": "stream",
     "text": [
      "\n",
      "llama_print_timings:        load time =    2260.34 ms\n",
      "llama_print_timings:      sample time =       3.82 ms /    38 runs   (    0.10 ms per token,  9942.44 tokens per second)\n",
      "llama_print_timings: prompt eval time =     191.80 ms /    24 tokens (    7.99 ms per token,   125.13 tokens per second)\n",
      "llama_print_timings:        eval time =    1907.35 ms /    37 runs   (   51.55 ms per token,    19.40 tokens per second)\n",
      "llama_print_timings:       total time =    2149.43 ms\n",
      "Llama.generate: prefix-match hit\n"
     ]
    },
    {
     "name": "stdout",
     "output_type": "stream",
     "text": [
      "271 -- 1\n"
     ]
    },
    {
     "name": "stderr",
     "output_type": "stream",
     "text": [
      "\n",
      "llama_print_timings:        load time =    2260.34 ms\n",
      "llama_print_timings:      sample time =       2.94 ms /    29 runs   (    0.10 ms per token,  9847.20 tokens per second)\n",
      "llama_print_timings: prompt eval time =     187.27 ms /    19 tokens (    9.86 ms per token,   101.46 tokens per second)\n",
      "llama_print_timings:        eval time =    1442.74 ms /    28 runs   (   51.53 ms per token,    19.41 tokens per second)\n",
      "llama_print_timings:       total time =    1667.90 ms\n",
      "Llama.generate: prefix-match hit\n"
     ]
    },
    {
     "name": "stdout",
     "output_type": "stream",
     "text": [
      "272 -- 1\n"
     ]
    },
    {
     "name": "stderr",
     "output_type": "stream",
     "text": [
      "\n",
      "llama_print_timings:        load time =    2260.34 ms\n",
      "llama_print_timings:      sample time =       3.86 ms /    37 runs   (    0.10 ms per token,  9583.01 tokens per second)\n",
      "llama_print_timings: prompt eval time =     184.47 ms /    18 tokens (   10.25 ms per token,    97.58 tokens per second)\n",
      "llama_print_timings:        eval time =    1852.75 ms /    36 runs   (   51.47 ms per token,    19.43 tokens per second)\n",
      "llama_print_timings:       total time =    2086.13 ms\n",
      "Llama.generate: prefix-match hit\n"
     ]
    },
    {
     "name": "stdout",
     "output_type": "stream",
     "text": [
      "273 -- 1\n"
     ]
    },
    {
     "name": "stderr",
     "output_type": "stream",
     "text": [
      "\n",
      "llama_print_timings:        load time =    2260.34 ms\n",
      "llama_print_timings:      sample time =      10.71 ms /   103 runs   (    0.10 ms per token,  9612.69 tokens per second)\n",
      "llama_print_timings: prompt eval time =     186.57 ms /    19 tokens (    9.82 ms per token,   101.84 tokens per second)\n",
      "llama_print_timings:        eval time =    5276.29 ms /   102 runs   (   51.73 ms per token,    19.33 tokens per second)\n",
      "llama_print_timings:       total time =    5605.19 ms\n",
      "Llama.generate: prefix-match hit\n"
     ]
    },
    {
     "name": "stdout",
     "output_type": "stream",
     "text": [
      "274 -- 1\n"
     ]
    },
    {
     "name": "stderr",
     "output_type": "stream",
     "text": [
      "\n",
      "llama_print_timings:        load time =    2260.34 ms\n",
      "llama_print_timings:      sample time =      15.92 ms /   162 runs   (    0.10 ms per token, 10179.08 tokens per second)\n",
      "llama_print_timings: prompt eval time =     194.75 ms /    27 tokens (    7.21 ms per token,   138.64 tokens per second)\n",
      "llama_print_timings:        eval time =    8352.94 ms /   161 runs   (   51.88 ms per token,    19.27 tokens per second)\n",
      "llama_print_timings:       total time =    8770.71 ms\n",
      "Llama.generate: prefix-match hit\n"
     ]
    },
    {
     "name": "stdout",
     "output_type": "stream",
     "text": [
      "275 -- 1\n"
     ]
    },
    {
     "name": "stderr",
     "output_type": "stream",
     "text": [
      "\n",
      "llama_print_timings:        load time =    2260.34 ms\n",
      "llama_print_timings:      sample time =       4.46 ms /    40 runs   (    0.11 ms per token,  8958.57 tokens per second)\n",
      "llama_print_timings: prompt eval time =     185.05 ms /    17 tokens (   10.89 ms per token,    91.87 tokens per second)\n",
      "llama_print_timings:        eval time =    2012.62 ms /    39 runs   (   51.61 ms per token,    19.38 tokens per second)\n",
      "llama_print_timings:       total time =    2254.02 ms\n",
      "Llama.generate: prefix-match hit\n"
     ]
    },
    {
     "name": "stdout",
     "output_type": "stream",
     "text": [
      "276 -- 1\n"
     ]
    },
    {
     "name": "stderr",
     "output_type": "stream",
     "text": [
      "\n",
      "llama_print_timings:        load time =    2260.34 ms\n",
      "llama_print_timings:      sample time =       3.89 ms /    38 runs   (    0.10 ms per token,  9768.64 tokens per second)\n",
      "llama_print_timings: prompt eval time =     189.19 ms /    22 tokens (    8.60 ms per token,   116.29 tokens per second)\n",
      "llama_print_timings:        eval time =    1908.61 ms /    37 runs   (   51.58 ms per token,    19.39 tokens per second)\n",
      "llama_print_timings:       total time =    2148.59 ms\n",
      "Llama.generate: prefix-match hit\n"
     ]
    },
    {
     "name": "stdout",
     "output_type": "stream",
     "text": [
      "277 -- 1\n"
     ]
    },
    {
     "name": "stderr",
     "output_type": "stream",
     "text": [
      "\n",
      "llama_print_timings:        load time =    2260.34 ms\n",
      "llama_print_timings:      sample time =       2.98 ms /    29 runs   (    0.10 ms per token,  9715.24 tokens per second)\n",
      "llama_print_timings: prompt eval time =     187.42 ms /    20 tokens (    9.37 ms per token,   106.71 tokens per second)\n",
      "llama_print_timings:        eval time =    1443.07 ms /    28 runs   (   51.54 ms per token,    19.40 tokens per second)\n",
      "llama_print_timings:       total time =    1668.84 ms\n",
      "Llama.generate: prefix-match hit\n"
     ]
    },
    {
     "name": "stdout",
     "output_type": "stream",
     "text": [
      "278 -- 1\n"
     ]
    },
    {
     "name": "stderr",
     "output_type": "stream",
     "text": [
      "\n",
      "llama_print_timings:        load time =    2260.34 ms\n",
      "llama_print_timings:      sample time =       2.95 ms /    29 runs   (    0.10 ms per token,  9833.84 tokens per second)\n",
      "llama_print_timings: prompt eval time =     184.75 ms /    17 tokens (   10.87 ms per token,    92.02 tokens per second)\n",
      "llama_print_timings:        eval time =    1443.07 ms /    28 runs   (   51.54 ms per token,    19.40 tokens per second)\n",
      "llama_print_timings:       total time =    1666.47 ms\n",
      "Llama.generate: prefix-match hit\n"
     ]
    },
    {
     "name": "stdout",
     "output_type": "stream",
     "text": [
      "279 -- 1\n"
     ]
    },
    {
     "name": "stderr",
     "output_type": "stream",
     "text": [
      "\n",
      "llama_print_timings:        load time =    2260.34 ms\n",
      "llama_print_timings:      sample time =       3.97 ms /    38 runs   (    0.10 ms per token,  9583.86 tokens per second)\n",
      "llama_print_timings: prompt eval time =     181.01 ms /    14 tokens (   12.93 ms per token,    77.34 tokens per second)\n",
      "llama_print_timings:        eval time =    1903.99 ms /    37 runs   (   51.46 ms per token,    19.43 tokens per second)\n",
      "llama_print_timings:       total time =    2135.29 ms\n",
      "Llama.generate: prefix-match hit\n"
     ]
    },
    {
     "name": "stdout",
     "output_type": "stream",
     "text": [
      "280 -- 1\n"
     ]
    },
    {
     "name": "stderr",
     "output_type": "stream",
     "text": [
      "\n",
      "llama_print_timings:        load time =    2260.34 ms\n",
      "llama_print_timings:      sample time =       3.80 ms /    39 runs   (    0.10 ms per token, 10255.06 tokens per second)\n",
      "llama_print_timings: prompt eval time =     188.98 ms /    21 tokens (    9.00 ms per token,   111.13 tokens per second)\n",
      "llama_print_timings:        eval time =    1960.13 ms /    38 runs   (   51.58 ms per token,    19.39 tokens per second)\n",
      "llama_print_timings:       total time =    2201.11 ms\n",
      "Llama.generate: prefix-match hit\n"
     ]
    },
    {
     "name": "stdout",
     "output_type": "stream",
     "text": [
      "281 -- 1\n"
     ]
    },
    {
     "name": "stderr",
     "output_type": "stream",
     "text": [
      "\n",
      "llama_print_timings:        load time =    2260.34 ms\n",
      "llama_print_timings:      sample time =      11.55 ms /   116 runs   (    0.10 ms per token, 10046.77 tokens per second)\n",
      "llama_print_timings: prompt eval time =     184.27 ms /    18 tokens (   10.24 ms per token,    97.69 tokens per second)\n",
      "llama_print_timings:        eval time =    5948.05 ms /   115 runs   (   51.72 ms per token,    19.33 tokens per second)\n",
      "llama_print_timings:       total time =    6290.74 ms\n",
      "Llama.generate: prefix-match hit\n"
     ]
    },
    {
     "name": "stdout",
     "output_type": "stream",
     "text": [
      "282 -- 1\n"
     ]
    },
    {
     "name": "stderr",
     "output_type": "stream",
     "text": [
      "\n",
      "llama_print_timings:        load time =    2260.34 ms\n",
      "llama_print_timings:      sample time =      10.83 ms /   111 runs   (    0.10 ms per token, 10252.15 tokens per second)\n",
      "llama_print_timings: prompt eval time =     183.47 ms /    16 tokens (   11.47 ms per token,    87.21 tokens per second)\n",
      "llama_print_timings:        eval time =    5684.62 ms /   110 runs   (   51.68 ms per token,    19.35 tokens per second)\n",
      "llama_print_timings:       total time =    6018.28 ms\n",
      "Llama.generate: prefix-match hit\n"
     ]
    },
    {
     "name": "stdout",
     "output_type": "stream",
     "text": [
      "283 -- 1\n"
     ]
    },
    {
     "name": "stderr",
     "output_type": "stream",
     "text": [
      "\n",
      "llama_print_timings:        load time =    2260.34 ms\n",
      "llama_print_timings:      sample time =       2.96 ms /    29 runs   (    0.10 ms per token,  9787.38 tokens per second)\n",
      "llama_print_timings: prompt eval time =     180.68 ms /    14 tokens (   12.91 ms per token,    77.49 tokens per second)\n",
      "llama_print_timings:        eval time =    1440.73 ms /    28 runs   (   51.45 ms per token,    19.43 tokens per second)\n",
      "llama_print_timings:       total time =    1660.03 ms\n",
      "Llama.generate: prefix-match hit\n"
     ]
    },
    {
     "name": "stdout",
     "output_type": "stream",
     "text": [
      "284 -- 1\n"
     ]
    },
    {
     "name": "stderr",
     "output_type": "stream",
     "text": [
      "\n",
      "llama_print_timings:        load time =    2260.34 ms\n",
      "llama_print_timings:      sample time =       4.61 ms /    47 runs   (    0.10 ms per token, 10199.65 tokens per second)\n",
      "llama_print_timings: prompt eval time =     183.40 ms /    16 tokens (   11.46 ms per token,    87.24 tokens per second)\n",
      "llama_print_timings:        eval time =    2371.50 ms /    46 runs   (   51.55 ms per token,    19.40 tokens per second)\n",
      "llama_print_timings:       total time =    2617.60 ms\n",
      "Llama.generate: prefix-match hit\n"
     ]
    },
    {
     "name": "stdout",
     "output_type": "stream",
     "text": [
      "285 -- 1\n"
     ]
    },
    {
     "name": "stderr",
     "output_type": "stream",
     "text": [
      "\n",
      "llama_print_timings:        load time =    2260.34 ms\n",
      "llama_print_timings:      sample time =       9.31 ms /   103 runs   (    0.09 ms per token, 11058.62 tokens per second)\n",
      "llama_print_timings: prompt eval time =     188.84 ms /    22 tokens (    8.58 ms per token,   116.50 tokens per second)\n",
      "llama_print_timings:        eval time =    5275.27 ms /   102 runs   (   51.72 ms per token,    19.34 tokens per second)\n",
      "llama_print_timings:       total time =    5602.82 ms\n",
      "Llama.generate: prefix-match hit\n",
      "\n",
      "llama_print_timings:        load time =    2260.34 ms\n",
      "llama_print_timings:      sample time =       3.74 ms /    39 runs   (    0.10 ms per token, 10425.02 tokens per second)\n",
      "llama_print_timings: prompt eval time =     189.31 ms /    21 tokens (    9.01 ms per token,   110.93 tokens per second)\n",
      "llama_print_timings:        eval time =    1959.79 ms /    38 runs   (   51.57 ms per token,    19.39 tokens per second)\n",
      "llama_print_timings:       total time =    2201.32 ms\n",
      "Llama.generate: prefix-match hit\n"
     ]
    },
    {
     "name": "stdout",
     "output_type": "stream",
     "text": [
      "286 -- 1\n",
      "287 -- 1\n"
     ]
    },
    {
     "name": "stderr",
     "output_type": "stream",
     "text": [
      "\n",
      "llama_print_timings:        load time =    2260.34 ms\n",
      "llama_print_timings:      sample time =       2.99 ms /    29 runs   (    0.10 ms per token,  9708.74 tokens per second)\n",
      "llama_print_timings: prompt eval time =     184.63 ms /    17 tokens (   10.86 ms per token,    92.07 tokens per second)\n",
      "llama_print_timings:        eval time =    1442.32 ms /    28 runs   (   51.51 ms per token,    19.41 tokens per second)\n",
      "llama_print_timings:       total time =    1666.77 ms\n",
      "Llama.generate: prefix-match hit\n"
     ]
    },
    {
     "name": "stdout",
     "output_type": "stream",
     "text": [
      "288 -- 1\n"
     ]
    },
    {
     "name": "stderr",
     "output_type": "stream",
     "text": [
      "\n",
      "llama_print_timings:        load time =    2260.34 ms\n",
      "llama_print_timings:      sample time =       5.24 ms /    55 runs   (    0.10 ms per token, 10500.19 tokens per second)\n",
      "llama_print_timings: prompt eval time =     190.90 ms /    23 tokens (    8.30 ms per token,   120.48 tokens per second)\n",
      "llama_print_timings:        eval time =    2787.75 ms /    54 runs   (   51.62 ms per token,    19.37 tokens per second)\n",
      "llama_print_timings:       total time =    3051.34 ms\n",
      "Llama.generate: prefix-match hit\n"
     ]
    },
    {
     "name": "stdout",
     "output_type": "stream",
     "text": [
      "289 -- 1\n"
     ]
    },
    {
     "name": "stderr",
     "output_type": "stream",
     "text": [
      "\n",
      "llama_print_timings:        load time =    2260.34 ms\n",
      "llama_print_timings:      sample time =       2.91 ms /    28 runs   (    0.10 ms per token,  9618.69 tokens per second)\n",
      "llama_print_timings: prompt eval time =     187.54 ms /    20 tokens (    9.38 ms per token,   106.64 tokens per second)\n",
      "llama_print_timings:        eval time =    1393.10 ms /    27 runs   (   51.60 ms per token,    19.38 tokens per second)\n",
      "llama_print_timings:       total time =    1618.16 ms\n",
      "Llama.generate: prefix-match hit\n"
     ]
    },
    {
     "name": "stdout",
     "output_type": "stream",
     "text": [
      "290 -- 1\n"
     ]
    },
    {
     "name": "stderr",
     "output_type": "stream",
     "text": [
      "\n",
      "llama_print_timings:        load time =    2260.34 ms\n",
      "llama_print_timings:      sample time =       4.27 ms /    42 runs   (    0.10 ms per token,  9845.29 tokens per second)\n",
      "llama_print_timings: prompt eval time =     190.77 ms /    23 tokens (    8.29 ms per token,   120.56 tokens per second)\n",
      "llama_print_timings:        eval time =    2115.81 ms /    41 runs   (   51.61 ms per token,    19.38 tokens per second)\n",
      "llama_print_timings:       total time =    2362.91 ms\n",
      "Llama.generate: prefix-match hit\n"
     ]
    },
    {
     "name": "stdout",
     "output_type": "stream",
     "text": [
      "291 -- 1\n"
     ]
    },
    {
     "name": "stderr",
     "output_type": "stream",
     "text": [
      "\n",
      "llama_print_timings:        load time =    2260.34 ms\n",
      "llama_print_timings:      sample time =       6.53 ms /    66 runs   (    0.10 ms per token, 10104.10 tokens per second)\n",
      "llama_print_timings: prompt eval time =     181.15 ms /    13 tokens (   13.93 ms per token,    71.76 tokens per second)\n",
      "llama_print_timings:        eval time =    3355.82 ms /    65 runs   (   51.63 ms per token,    19.37 tokens per second)\n",
      "llama_print_timings:       total time =    3625.90 ms\n",
      "Llama.generate: prefix-match hit\n"
     ]
    },
    {
     "name": "stdout",
     "output_type": "stream",
     "text": [
      "291 -- 2\n"
     ]
    },
    {
     "name": "stderr",
     "output_type": "stream",
     "text": [
      "\n",
      "llama_print_timings:        load time =    2260.34 ms\n",
      "llama_print_timings:      sample time =       3.64 ms /    35 runs   (    0.10 ms per token,  9615.38 tokens per second)\n",
      "llama_print_timings: prompt eval time =       0.00 ms /     1 tokens (    0.00 ms per token,      inf tokens per second)\n",
      "llama_print_timings:        eval time =    1799.30 ms /    35 runs   (   51.41 ms per token,    19.45 tokens per second)\n",
      "llama_print_timings:       total time =    1846.22 ms\n",
      "Llama.generate: prefix-match hit\n"
     ]
    },
    {
     "name": "stdout",
     "output_type": "stream",
     "text": [
      "292 -- 1\n"
     ]
    },
    {
     "name": "stderr",
     "output_type": "stream",
     "text": [
      "\n",
      "llama_print_timings:        load time =    2260.34 ms\n",
      "llama_print_timings:      sample time =       3.42 ms /    33 runs   (    0.10 ms per token,  9646.30 tokens per second)\n",
      "llama_print_timings: prompt eval time =     183.53 ms /    16 tokens (   11.47 ms per token,    87.18 tokens per second)\n",
      "llama_print_timings:        eval time =    1649.27 ms /    32 runs   (   51.54 ms per token,    19.40 tokens per second)\n",
      "llama_print_timings:       total time =    1878.13 ms\n",
      "Llama.generate: prefix-match hit\n"
     ]
    },
    {
     "name": "stdout",
     "output_type": "stream",
     "text": [
      "293 -- 1\n"
     ]
    },
    {
     "name": "stderr",
     "output_type": "stream",
     "text": [
      "\n",
      "llama_print_timings:        load time =    2260.34 ms\n",
      "llama_print_timings:      sample time =       9.36 ms /   104 runs   (    0.09 ms per token, 11107.55 tokens per second)\n",
      "llama_print_timings: prompt eval time =     199.14 ms /    31 tokens (    6.42 ms per token,   155.67 tokens per second)\n",
      "llama_print_timings:        eval time =    5325.75 ms /   103 runs   (   51.71 ms per token,    19.34 tokens per second)\n",
      "llama_print_timings:       total time =    5665.35 ms\n",
      "Llama.generate: prefix-match hit\n"
     ]
    },
    {
     "name": "stdout",
     "output_type": "stream",
     "text": [
      "294 -- 1\n"
     ]
    },
    {
     "name": "stderr",
     "output_type": "stream",
     "text": [
      "\n",
      "llama_print_timings:        load time =    2260.34 ms\n",
      "llama_print_timings:      sample time =       6.80 ms /    73 runs   (    0.09 ms per token, 10741.61 tokens per second)\n",
      "llama_print_timings: prompt eval time =     183.17 ms /    15 tokens (   12.21 ms per token,    81.89 tokens per second)\n",
      "llama_print_timings:        eval time =    3711.56 ms /    72 runs   (   51.55 ms per token,    19.40 tokens per second)\n",
      "llama_print_timings:       total time =    3992.38 ms\n",
      "Llama.generate: prefix-match hit\n"
     ]
    },
    {
     "name": "stdout",
     "output_type": "stream",
     "text": [
      "295 -- 1\n"
     ]
    },
    {
     "name": "stderr",
     "output_type": "stream",
     "text": [
      "\n",
      "llama_print_timings:        load time =    2260.34 ms\n",
      "llama_print_timings:      sample time =       2.89 ms /    29 runs   (    0.10 ms per token, 10041.55 tokens per second)\n",
      "llama_print_timings: prompt eval time =     192.98 ms /    24 tokens (    8.04 ms per token,   124.36 tokens per second)\n",
      "llama_print_timings:        eval time =    1444.51 ms /    28 runs   (   51.59 ms per token,    19.38 tokens per second)\n",
      "llama_print_timings:       total time =    1675.52 ms\n",
      "Llama.generate: prefix-match hit\n"
     ]
    },
    {
     "name": "stdout",
     "output_type": "stream",
     "text": [
      "296 -- 1\n"
     ]
    },
    {
     "name": "stderr",
     "output_type": "stream",
     "text": [
      "\n",
      "llama_print_timings:        load time =    2260.34 ms\n",
      "llama_print_timings:      sample time =       4.25 ms /    38 runs   (    0.11 ms per token,  8934.87 tokens per second)\n",
      "llama_print_timings: prompt eval time =     186.99 ms /    19 tokens (    9.84 ms per token,   101.61 tokens per second)\n",
      "llama_print_timings:        eval time =    1908.10 ms /    37 runs   (   51.57 ms per token,    19.39 tokens per second)\n",
      "llama_print_timings:       total time =    2149.15 ms\n",
      "Llama.generate: prefix-match hit\n"
     ]
    },
    {
     "name": "stdout",
     "output_type": "stream",
     "text": [
      "297 -- 1\n"
     ]
    },
    {
     "name": "stderr",
     "output_type": "stream",
     "text": [
      "\n",
      "llama_print_timings:        load time =    2260.34 ms\n",
      "llama_print_timings:      sample time =      10.29 ms /   100 runs   (    0.10 ms per token,  9718.17 tokens per second)\n",
      "llama_print_timings: prompt eval time =     186.87 ms /    19 tokens (    9.84 ms per token,   101.68 tokens per second)\n",
      "llama_print_timings:        eval time =    5116.40 ms /    99 runs   (   51.68 ms per token,    19.35 tokens per second)\n",
      "llama_print_timings:       total time =    5440.65 ms\n",
      "Llama.generate: prefix-match hit\n"
     ]
    },
    {
     "name": "stdout",
     "output_type": "stream",
     "text": [
      "298 -- 1\n"
     ]
    },
    {
     "name": "stderr",
     "output_type": "stream",
     "text": [
      "\n",
      "llama_print_timings:        load time =    2260.34 ms\n",
      "llama_print_timings:      sample time =       2.93 ms /    29 runs   (    0.10 ms per token,  9897.61 tokens per second)\n",
      "llama_print_timings: prompt eval time =     176.96 ms /    10 tokens (   17.70 ms per token,    56.51 tokens per second)\n",
      "llama_print_timings:        eval time =    1438.24 ms /    28 runs   (   51.37 ms per token,    19.47 tokens per second)\n",
      "llama_print_timings:       total time =    1653.67 ms\n",
      "Llama.generate: prefix-match hit\n"
     ]
    },
    {
     "name": "stdout",
     "output_type": "stream",
     "text": [
      "299 -- 1\n"
     ]
    },
    {
     "name": "stderr",
     "output_type": "stream",
     "text": [
      "\n",
      "llama_print_timings:        load time =    2260.34 ms\n",
      "llama_print_timings:      sample time =       3.04 ms /    29 runs   (    0.10 ms per token,  9526.94 tokens per second)\n",
      "llama_print_timings: prompt eval time =     188.70 ms /    21 tokens (    8.99 ms per token,   111.29 tokens per second)\n",
      "llama_print_timings:        eval time =    1444.85 ms /    28 runs   (   51.60 ms per token,    19.38 tokens per second)\n",
      "llama_print_timings:       total time =    1671.83 ms\n",
      "Llama.generate: prefix-match hit\n"
     ]
    },
    {
     "name": "stdout",
     "output_type": "stream",
     "text": [
      "300 -- 1\n"
     ]
    },
    {
     "name": "stderr",
     "output_type": "stream",
     "text": [
      "\n",
      "llama_print_timings:        load time =    2260.34 ms\n",
      "llama_print_timings:      sample time =       9.54 ms /   103 runs   (    0.09 ms per token, 10797.78 tokens per second)\n",
      "llama_print_timings: prompt eval time =     330.10 ms /    34 tokens (    9.71 ms per token,   103.00 tokens per second)\n",
      "llama_print_timings:        eval time =    5283.04 ms /   102 runs   (   51.79 ms per token,    19.31 tokens per second)\n",
      "llama_print_timings:       total time =    5752.40 ms\n",
      "Llama.generate: prefix-match hit\n"
     ]
    },
    {
     "name": "stdout",
     "output_type": "stream",
     "text": [
      "301 -- 1\n"
     ]
    },
    {
     "name": "stderr",
     "output_type": "stream",
     "text": [
      "\n",
      "llama_print_timings:        load time =    2260.34 ms\n",
      "llama_print_timings:      sample time =       2.96 ms /    29 runs   (    0.10 ms per token,  9807.24 tokens per second)\n",
      "llama_print_timings: prompt eval time =     178.69 ms /    11 tokens (   16.25 ms per token,    61.56 tokens per second)\n",
      "llama_print_timings:        eval time =    1439.23 ms /    28 runs   (   51.40 ms per token,    19.45 tokens per second)\n",
      "llama_print_timings:       total time =    1656.78 ms\n",
      "Llama.generate: prefix-match hit\n"
     ]
    },
    {
     "name": "stdout",
     "output_type": "stream",
     "text": [
      "302 -- 1\n"
     ]
    },
    {
     "name": "stderr",
     "output_type": "stream",
     "text": [
      "\n",
      "llama_print_timings:        load time =    2260.34 ms\n",
      "llama_print_timings:      sample time =       7.11 ms /    72 runs   (    0.10 ms per token, 10133.71 tokens per second)\n",
      "llama_print_timings: prompt eval time =     184.53 ms /    18 tokens (   10.25 ms per token,    97.55 tokens per second)\n",
      "llama_print_timings:        eval time =    3667.11 ms /    71 runs   (   51.65 ms per token,    19.36 tokens per second)\n",
      "llama_print_timings:       total time =    3948.79 ms\n",
      "Llama.generate: prefix-match hit\n"
     ]
    },
    {
     "name": "stdout",
     "output_type": "stream",
     "text": [
      "303 -- 1\n"
     ]
    },
    {
     "name": "stderr",
     "output_type": "stream",
     "text": [
      "\n",
      "llama_print_timings:        load time =    2260.34 ms\n",
      "llama_print_timings:      sample time =       2.93 ms /    29 runs   (    0.10 ms per token,  9890.86 tokens per second)\n",
      "llama_print_timings: prompt eval time =     186.60 ms /    19 tokens (    9.82 ms per token,   101.82 tokens per second)\n",
      "llama_print_timings:        eval time =    1444.42 ms /    28 runs   (   51.59 ms per token,    19.38 tokens per second)\n",
      "llama_print_timings:       total time =    1670.11 ms\n",
      "Llama.generate: prefix-match hit\n"
     ]
    },
    {
     "name": "stdout",
     "output_type": "stream",
     "text": [
      "304 -- 1\n"
     ]
    },
    {
     "name": "stderr",
     "output_type": "stream",
     "text": [
      "\n",
      "llama_print_timings:        load time =    2260.34 ms\n",
      "llama_print_timings:      sample time =       3.96 ms /    38 runs   (    0.10 ms per token,  9586.28 tokens per second)\n",
      "llama_print_timings: prompt eval time =     183.08 ms /    15 tokens (   12.21 ms per token,    81.93 tokens per second)\n",
      "llama_print_timings:        eval time =    1903.60 ms /    37 runs   (   51.45 ms per token,    19.44 tokens per second)\n",
      "llama_print_timings:       total time =    2137.38 ms\n",
      "Llama.generate: prefix-match hit\n"
     ]
    },
    {
     "name": "stdout",
     "output_type": "stream",
     "text": [
      "305 -- 1\n"
     ]
    },
    {
     "name": "stderr",
     "output_type": "stream",
     "text": [
      "\n",
      "llama_print_timings:        load time =    2260.34 ms\n",
      "llama_print_timings:      sample time =      11.09 ms /   122 runs   (    0.09 ms per token, 10997.93 tokens per second)\n",
      "llama_print_timings: prompt eval time =     184.30 ms /    18 tokens (   10.24 ms per token,    97.67 tokens per second)\n",
      "llama_print_timings:        eval time =    6259.83 ms /   121 runs   (   51.73 ms per token,    19.33 tokens per second)\n",
      "llama_print_timings:       total time =    6609.56 ms\n",
      "Llama.generate: prefix-match hit\n"
     ]
    },
    {
     "name": "stdout",
     "output_type": "stream",
     "text": [
      "306 -- 1\n"
     ]
    },
    {
     "name": "stderr",
     "output_type": "stream",
     "text": [
      "\n",
      "llama_print_timings:        load time =    2260.34 ms\n",
      "llama_print_timings:      sample time =       9.72 ms /   108 runs   (    0.09 ms per token, 11111.11 tokens per second)\n",
      "llama_print_timings: prompt eval time =     194.22 ms /    32 tokens (    6.07 ms per token,   164.76 tokens per second)\n",
      "llama_print_timings:        eval time =    5537.07 ms /   107 runs   (   51.75 ms per token,    19.32 tokens per second)\n",
      "llama_print_timings:       total time =    5876.96 ms\n",
      "Llama.generate: prefix-match hit\n"
     ]
    },
    {
     "name": "stdout",
     "output_type": "stream",
     "text": [
      "307 -- 1\n"
     ]
    },
    {
     "name": "stderr",
     "output_type": "stream",
     "text": [
      "\n",
      "llama_print_timings:        load time =    2260.34 ms\n",
      "llama_print_timings:      sample time =       4.61 ms /    45 runs   (    0.10 ms per token,  9763.51 tokens per second)\n",
      "llama_print_timings: prompt eval time =     192.46 ms /    26 tokens (    7.40 ms per token,   135.09 tokens per second)\n",
      "llama_print_timings:        eval time =    2268.78 ms /    44 runs   (   51.56 ms per token,    19.39 tokens per second)\n",
      "llama_print_timings:       total time =    2523.85 ms\n",
      "Llama.generate: prefix-match hit\n"
     ]
    },
    {
     "name": "stdout",
     "output_type": "stream",
     "text": [
      "308 -- 1\n"
     ]
    },
    {
     "name": "stderr",
     "output_type": "stream",
     "text": [
      "\n",
      "llama_print_timings:        load time =    2260.34 ms\n",
      "llama_print_timings:      sample time =       3.45 ms /    34 runs   (    0.10 ms per token,  9843.66 tokens per second)\n",
      "llama_print_timings: prompt eval time =     187.56 ms /    20 tokens (    9.38 ms per token,   106.63 tokens per second)\n",
      "llama_print_timings:        eval time =    1698.19 ms /    33 runs   (   51.46 ms per token,    19.43 tokens per second)\n",
      "llama_print_timings:       total time =    1930.33 ms\n",
      "Llama.generate: prefix-match hit\n"
     ]
    },
    {
     "name": "stdout",
     "output_type": "stream",
     "text": [
      "309 -- 1\n"
     ]
    },
    {
     "name": "stderr",
     "output_type": "stream",
     "text": [
      "\n",
      "llama_print_timings:        load time =    2260.34 ms\n",
      "llama_print_timings:      sample time =       3.49 ms /    34 runs   (    0.10 ms per token,  9730.97 tokens per second)\n",
      "llama_print_timings: prompt eval time =     181.09 ms /    14 tokens (   12.93 ms per token,    77.31 tokens per second)\n",
      "llama_print_timings:        eval time =    1698.66 ms /    33 runs   (   51.47 ms per token,    19.43 tokens per second)\n",
      "llama_print_timings:       total time =    1925.11 ms\n",
      "Llama.generate: prefix-match hit\n"
     ]
    },
    {
     "name": "stdout",
     "output_type": "stream",
     "text": [
      "310 -- 1\n"
     ]
    },
    {
     "name": "stderr",
     "output_type": "stream",
     "text": [
      "\n",
      "llama_print_timings:        load time =    2260.34 ms\n",
      "llama_print_timings:      sample time =       5.99 ms /    72 runs   (    0.08 ms per token, 12022.04 tokens per second)\n",
      "llama_print_timings: prompt eval time =     334.77 ms /    37 tokens (    9.05 ms per token,   110.52 tokens per second)\n",
      "llama_print_timings:        eval time =    3671.78 ms /    71 runs   (   51.72 ms per token,    19.34 tokens per second)\n",
      "llama_print_timings:       total time =    4101.61 ms\n",
      "Llama.generate: prefix-match hit\n"
     ]
    },
    {
     "name": "stdout",
     "output_type": "stream",
     "text": [
      "311 -- 1\n"
     ]
    },
    {
     "name": "stderr",
     "output_type": "stream",
     "text": [
      "\n",
      "llama_print_timings:        load time =    2260.34 ms\n",
      "llama_print_timings:      sample time =       2.92 ms /    29 runs   (    0.10 ms per token,  9948.54 tokens per second)\n",
      "llama_print_timings: prompt eval time =     187.12 ms /    19 tokens (    9.85 ms per token,   101.54 tokens per second)\n",
      "llama_print_timings:        eval time =    1442.22 ms /    28 runs   (   51.51 ms per token,    19.41 tokens per second)\n",
      "llama_print_timings:       total time =    1667.24 ms\n",
      "Llama.generate: prefix-match hit\n",
      "\n",
      "llama_print_timings:        load time =    2260.34 ms\n",
      "llama_print_timings:      sample time =      14.11 ms /   111 runs   (    0.13 ms per token,  7868.99 tokens per second)\n",
      "llama_print_timings: prompt eval time =     187.24 ms /    19 tokens (    9.85 ms per token,   101.47 tokens per second)\n",
      "llama_print_timings:        eval time =    5694.41 ms /   110 runs   (   51.77 ms per token,    19.32 tokens per second)\n",
      "llama_print_timings:       total time =    6047.07 ms\n",
      "Llama.generate: prefix-match hit\n"
     ]
    },
    {
     "name": "stdout",
     "output_type": "stream",
     "text": [
      "312 -- 1\n",
      "313 -- 1\n"
     ]
    },
    {
     "name": "stderr",
     "output_type": "stream",
     "text": [
      "\n",
      "llama_print_timings:        load time =    2260.34 ms\n",
      "llama_print_timings:      sample time =      10.95 ms /   107 runs   (    0.10 ms per token,  9773.47 tokens per second)\n",
      "llama_print_timings: prompt eval time =     187.24 ms /    20 tokens (    9.36 ms per token,   106.81 tokens per second)\n",
      "llama_print_timings:        eval time =    5482.38 ms /   106 runs   (   51.72 ms per token,    19.33 tokens per second)\n",
      "llama_print_timings:       total time =    5814.95 ms\n",
      "Llama.generate: prefix-match hit\n"
     ]
    },
    {
     "name": "stdout",
     "output_type": "stream",
     "text": [
      "314 -- 1\n"
     ]
    },
    {
     "name": "stderr",
     "output_type": "stream",
     "text": [
      "\n",
      "llama_print_timings:        load time =    2260.34 ms\n",
      "llama_print_timings:      sample time =       3.48 ms /    34 runs   (    0.10 ms per token,  9761.70 tokens per second)\n",
      "llama_print_timings: prompt eval time =     184.34 ms /    18 tokens (   10.24 ms per token,    97.64 tokens per second)\n",
      "llama_print_timings:        eval time =    1701.39 ms /    33 runs   (   51.56 ms per token,    19.40 tokens per second)\n",
      "llama_print_timings:       total time =    1930.54 ms\n",
      "Llama.generate: prefix-match hit\n"
     ]
    },
    {
     "name": "stdout",
     "output_type": "stream",
     "text": [
      "315 -- 1\n"
     ]
    },
    {
     "name": "stderr",
     "output_type": "stream",
     "text": [
      "\n",
      "llama_print_timings:        load time =    2260.34 ms\n",
      "llama_print_timings:      sample time =       6.37 ms /    65 runs   (    0.10 ms per token, 10208.89 tokens per second)\n",
      "llama_print_timings: prompt eval time =     180.94 ms /    13 tokens (   13.92 ms per token,    71.85 tokens per second)\n",
      "llama_print_timings:        eval time =    3301.83 ms /    64 runs   (   51.59 ms per token,    19.38 tokens per second)\n",
      "llama_print_timings:       total time =    3570.18 ms\n",
      "Llama.generate: prefix-match hit\n"
     ]
    },
    {
     "name": "stdout",
     "output_type": "stream",
     "text": [
      "316 -- 1\n"
     ]
    },
    {
     "name": "stderr",
     "output_type": "stream",
     "text": [
      "\n",
      "llama_print_timings:        load time =    2260.34 ms\n",
      "llama_print_timings:      sample time =       4.34 ms /    42 runs   (    0.10 ms per token,  9677.42 tokens per second)\n",
      "llama_print_timings: prompt eval time =     176.87 ms /    10 tokens (   17.69 ms per token,    56.54 tokens per second)\n",
      "llama_print_timings:        eval time =    2109.01 ms /    41 runs   (   51.44 ms per token,    19.44 tokens per second)\n",
      "llama_print_timings:       total time =    2342.04 ms\n",
      "Llama.generate: prefix-match hit\n"
     ]
    },
    {
     "name": "stdout",
     "output_type": "stream",
     "text": [
      "317 -- 1\n"
     ]
    },
    {
     "name": "stderr",
     "output_type": "stream",
     "text": [
      "\n",
      "llama_print_timings:        load time =    2260.34 ms\n",
      "llama_print_timings:      sample time =       3.68 ms /    34 runs   (    0.11 ms per token,  9229.10 tokens per second)\n",
      "llama_print_timings: prompt eval time =     192.49 ms /    24 tokens (    8.02 ms per token,   124.68 tokens per second)\n",
      "llama_print_timings:        eval time =    1701.11 ms /    33 runs   (   51.55 ms per token,    19.40 tokens per second)\n",
      "llama_print_timings:       total time =    1939.83 ms\n",
      "Llama.generate: prefix-match hit\n"
     ]
    },
    {
     "name": "stdout",
     "output_type": "stream",
     "text": [
      "318 -- 1\n"
     ]
    },
    {
     "name": "stderr",
     "output_type": "stream",
     "text": [
      "\n",
      "llama_print_timings:        load time =    2260.34 ms\n",
      "llama_print_timings:      sample time =      11.50 ms /   115 runs   (    0.10 ms per token, 10000.87 tokens per second)\n",
      "llama_print_timings: prompt eval time =     189.23 ms /    21 tokens (    9.01 ms per token,   110.98 tokens per second)\n",
      "llama_print_timings:        eval time =    5897.19 ms /   114 runs   (   51.73 ms per token,    19.33 tokens per second)\n",
      "llama_print_timings:       total time =    6243.04 ms\n",
      "Llama.generate: prefix-match hit\n"
     ]
    },
    {
     "name": "stdout",
     "output_type": "stream",
     "text": [
      "319 -- 1\n"
     ]
    },
    {
     "name": "stderr",
     "output_type": "stream",
     "text": [
      "\n",
      "llama_print_timings:        load time =    2260.34 ms\n",
      "llama_print_timings:      sample time =       7.76 ms /    85 runs   (    0.09 ms per token, 10950.79 tokens per second)\n",
      "llama_print_timings: prompt eval time =     189.38 ms /    21 tokens (    9.02 ms per token,   110.89 tokens per second)\n",
      "llama_print_timings:        eval time =    4341.99 ms /    84 runs   (   51.69 ms per token,    19.35 tokens per second)\n",
      "llama_print_timings:       total time =    4644.86 ms\n",
      "Llama.generate: prefix-match hit\n"
     ]
    },
    {
     "name": "stdout",
     "output_type": "stream",
     "text": [
      "320 -- 1\n"
     ]
    },
    {
     "name": "stderr",
     "output_type": "stream",
     "text": [
      "\n",
      "llama_print_timings:        load time =    2260.34 ms\n",
      "llama_print_timings:      sample time =      10.64 ms /   109 runs   (    0.10 ms per token, 10246.29 tokens per second)\n",
      "llama_print_timings: prompt eval time =     186.96 ms /    19 tokens (    9.84 ms per token,   101.63 tokens per second)\n",
      "llama_print_timings:        eval time =    5586.60 ms /   108 runs   (   51.73 ms per token,    19.33 tokens per second)\n",
      "llama_print_timings:       total time =    5921.53 ms\n",
      "Llama.generate: prefix-match hit\n"
     ]
    },
    {
     "name": "stdout",
     "output_type": "stream",
     "text": [
      "321 -- 1\n"
     ]
    },
    {
     "name": "stderr",
     "output_type": "stream",
     "text": [
      "\n",
      "llama_print_timings:        load time =    2260.34 ms\n",
      "llama_print_timings:      sample time =       2.91 ms /    29 runs   (    0.10 ms per token,  9951.96 tokens per second)\n",
      "llama_print_timings: prompt eval time =     176.99 ms /    10 tokens (   17.70 ms per token,    56.50 tokens per second)\n",
      "llama_print_timings:        eval time =    1439.85 ms /    28 runs   (   51.42 ms per token,    19.45 tokens per second)\n",
      "llama_print_timings:       total time =    1655.72 ms\n",
      "Llama.generate: prefix-match hit\n"
     ]
    },
    {
     "name": "stdout",
     "output_type": "stream",
     "text": [
      "322 -- 1\n"
     ]
    },
    {
     "name": "stderr",
     "output_type": "stream",
     "text": [
      "\n",
      "llama_print_timings:        load time =    2260.34 ms\n",
      "llama_print_timings:      sample time =       3.11 ms /    29 runs   (    0.11 ms per token,  9312.78 tokens per second)\n",
      "llama_print_timings: prompt eval time =     185.06 ms /    17 tokens (   10.89 ms per token,    91.86 tokens per second)\n",
      "llama_print_timings:        eval time =    1446.17 ms /    28 runs   (   51.65 ms per token,    19.36 tokens per second)\n",
      "llama_print_timings:       total time =    1670.85 ms\n",
      "Llama.generate: prefix-match hit\n"
     ]
    },
    {
     "name": "stdout",
     "output_type": "stream",
     "text": [
      "323 -- 1\n"
     ]
    },
    {
     "name": "stderr",
     "output_type": "stream",
     "text": [
      "\n",
      "llama_print_timings:        load time =    2260.34 ms\n",
      "llama_print_timings:      sample time =      10.03 ms /    95 runs   (    0.11 ms per token,  9471.59 tokens per second)\n",
      "llama_print_timings: prompt eval time =     184.07 ms /    18 tokens (   10.23 ms per token,    97.79 tokens per second)\n",
      "llama_print_timings:        eval time =    4861.00 ms /    94 runs   (   51.71 ms per token,    19.34 tokens per second)\n",
      "llama_print_timings:       total time =    5177.24 ms\n",
      "Llama.generate: prefix-match hit\n"
     ]
    },
    {
     "name": "stdout",
     "output_type": "stream",
     "text": [
      "324 -- 1\n"
     ]
    },
    {
     "name": "stderr",
     "output_type": "stream",
     "text": [
      "\n",
      "llama_print_timings:        load time =    2260.34 ms\n",
      "llama_print_timings:      sample time =       3.61 ms /    34 runs   (    0.11 ms per token,  9407.86 tokens per second)\n",
      "llama_print_timings: prompt eval time =     184.52 ms /    18 tokens (   10.25 ms per token,    97.55 tokens per second)\n",
      "llama_print_timings:        eval time =    1698.59 ms /    33 runs   (   51.47 ms per token,    19.43 tokens per second)\n",
      "llama_print_timings:       total time =    1927.97 ms\n",
      "Llama.generate: prefix-match hit\n"
     ]
    },
    {
     "name": "stdout",
     "output_type": "stream",
     "text": [
      "325 -- 1\n"
     ]
    },
    {
     "name": "stderr",
     "output_type": "stream",
     "text": [
      "\n",
      "llama_print_timings:        load time =    2260.34 ms\n",
      "llama_print_timings:      sample time =      11.56 ms /   120 runs   (    0.10 ms per token, 10377.03 tokens per second)\n",
      "llama_print_timings: prompt eval time =     183.52 ms /    15 tokens (   12.23 ms per token,    81.73 tokens per second)\n",
      "llama_print_timings:        eval time =    6155.53 ms /   119 runs   (   51.73 ms per token,    19.33 tokens per second)\n",
      "llama_print_timings:       total time =    6501.74 ms\n",
      "Llama.generate: prefix-match hit\n"
     ]
    },
    {
     "name": "stdout",
     "output_type": "stream",
     "text": [
      "326 -- 1\n"
     ]
    },
    {
     "name": "stderr",
     "output_type": "stream",
     "text": [
      "\n",
      "llama_print_timings:        load time =    2260.34 ms\n",
      "llama_print_timings:      sample time =       6.41 ms /    66 runs   (    0.10 ms per token, 10304.45 tokens per second)\n",
      "llama_print_timings: prompt eval time =     182.31 ms /    15 tokens (   12.15 ms per token,    82.28 tokens per second)\n",
      "llama_print_timings:        eval time =    3352.43 ms /    65 runs   (   51.58 ms per token,    19.39 tokens per second)\n",
      "llama_print_timings:       total time =    3623.30 ms\n",
      "Llama.generate: prefix-match hit\n"
     ]
    },
    {
     "name": "stdout",
     "output_type": "stream",
     "text": [
      "327 -- 1\n"
     ]
    },
    {
     "name": "stderr",
     "output_type": "stream",
     "text": [
      "\n",
      "llama_print_timings:        load time =    2260.34 ms\n",
      "llama_print_timings:      sample time =       4.20 ms /    39 runs   (    0.11 ms per token,  9281.29 tokens per second)\n",
      "llama_print_timings: prompt eval time =     184.09 ms /    17 tokens (   10.83 ms per token,    92.34 tokens per second)\n",
      "llama_print_timings:        eval time =    1959.62 ms /    38 runs   (   51.57 ms per token,    19.39 tokens per second)\n",
      "llama_print_timings:       total time =    2197.75 ms\n",
      "Llama.generate: prefix-match hit\n"
     ]
    },
    {
     "name": "stdout",
     "output_type": "stream",
     "text": [
      "328 -- 1\n"
     ]
    },
    {
     "name": "stderr",
     "output_type": "stream",
     "text": [
      "\n",
      "llama_print_timings:        load time =    2260.34 ms\n",
      "llama_print_timings:      sample time =       7.27 ms /    79 runs   (    0.09 ms per token, 10865.08 tokens per second)\n",
      "llama_print_timings: prompt eval time =     188.97 ms /    22 tokens (    8.59 ms per token,   116.42 tokens per second)\n",
      "llama_print_timings:        eval time =    4028.18 ms /    78 runs   (   51.64 ms per token,    19.36 tokens per second)\n",
      "llama_print_timings:       total time =    4322.62 ms\n",
      "Llama.generate: prefix-match hit\n"
     ]
    },
    {
     "name": "stdout",
     "output_type": "stream",
     "text": [
      "329 -- 1\n"
     ]
    },
    {
     "name": "stderr",
     "output_type": "stream",
     "text": [
      "\n",
      "llama_print_timings:        load time =    2260.34 ms\n",
      "llama_print_timings:      sample time =       3.41 ms /    41 runs   (    0.08 ms per token, 12012.89 tokens per second)\n",
      "llama_print_timings: prompt eval time =     348.23 ms /    47 tokens (    7.41 ms per token,   134.97 tokens per second)\n",
      "llama_print_timings:        eval time =    2067.30 ms /    40 runs   (   51.68 ms per token,    19.35 tokens per second)\n",
      "llama_print_timings:       total time =    2469.08 ms\n",
      "Llama.generate: prefix-match hit\n"
     ]
    },
    {
     "name": "stdout",
     "output_type": "stream",
     "text": [
      "330 -- 1\n"
     ]
    },
    {
     "name": "stderr",
     "output_type": "stream",
     "text": [
      "\n",
      "llama_print_timings:        load time =    2260.34 ms\n",
      "llama_print_timings:      sample time =       4.04 ms /    37 runs   (    0.11 ms per token,  9167.49 tokens per second)\n",
      "llama_print_timings: prompt eval time =     183.25 ms /    16 tokens (   11.45 ms per token,    87.31 tokens per second)\n",
      "llama_print_timings:        eval time =    1853.26 ms /    36 runs   (   51.48 ms per token,    19.43 tokens per second)\n",
      "llama_print_timings:       total time =    2086.43 ms\n",
      "Llama.generate: prefix-match hit\n"
     ]
    },
    {
     "name": "stdout",
     "output_type": "stream",
     "text": [
      "331 -- 1\n"
     ]
    },
    {
     "name": "stderr",
     "output_type": "stream",
     "text": [
      "\n",
      "llama_print_timings:        load time =    2260.34 ms\n",
      "llama_print_timings:      sample time =       3.02 ms /    29 runs   (    0.10 ms per token,  9599.47 tokens per second)\n",
      "llama_print_timings: prompt eval time =     186.83 ms /    19 tokens (    9.83 ms per token,   101.70 tokens per second)\n",
      "llama_print_timings:        eval time =    1444.23 ms /    28 runs   (   51.58 ms per token,    19.39 tokens per second)\n",
      "llama_print_timings:       total time =    1670.73 ms\n",
      "Llama.generate: prefix-match hit\n"
     ]
    },
    {
     "name": "stdout",
     "output_type": "stream",
     "text": [
      "332 -- 1\n"
     ]
    },
    {
     "name": "stderr",
     "output_type": "stream",
     "text": [
      "\n",
      "llama_print_timings:        load time =    2260.34 ms\n",
      "llama_print_timings:      sample time =      12.35 ms /   119 runs   (    0.10 ms per token,  9636.41 tokens per second)\n",
      "llama_print_timings: prompt eval time =     186.68 ms /    19 tokens (    9.83 ms per token,   101.78 tokens per second)\n",
      "llama_print_timings:        eval time =    6105.88 ms /   118 runs   (   51.74 ms per token,    19.33 tokens per second)\n",
      "llama_print_timings:       total time =    6459.01 ms\n",
      "Llama.generate: prefix-match hit\n"
     ]
    },
    {
     "name": "stdout",
     "output_type": "stream",
     "text": [
      "333 -- 1\n"
     ]
    },
    {
     "name": "stderr",
     "output_type": "stream",
     "text": [
      "\n",
      "llama_print_timings:        load time =    2260.34 ms\n",
      "llama_print_timings:      sample time =      10.83 ms /   108 runs   (    0.10 ms per token,  9969.54 tokens per second)\n",
      "llama_print_timings: prompt eval time =     191.83 ms /    24 tokens (    7.99 ms per token,   125.11 tokens per second)\n",
      "llama_print_timings:        eval time =    5536.05 ms /   107 runs   (   51.74 ms per token,    19.33 tokens per second)\n",
      "llama_print_timings:       total time =    5874.39 ms\n",
      "Llama.generate: prefix-match hit\n"
     ]
    },
    {
     "name": "stdout",
     "output_type": "stream",
     "text": [
      "334 -- 1\n"
     ]
    },
    {
     "name": "stderr",
     "output_type": "stream",
     "text": [
      "\n",
      "llama_print_timings:        load time =    2260.34 ms\n",
      "llama_print_timings:      sample time =       9.19 ms /    94 runs   (    0.10 ms per token, 10226.28 tokens per second)\n",
      "llama_print_timings: prompt eval time =     189.14 ms /    22 tokens (    8.60 ms per token,   116.32 tokens per second)\n",
      "llama_print_timings:        eval time =    4807.99 ms /    93 runs   (   51.70 ms per token,    19.34 tokens per second)\n",
      "llama_print_timings:       total time =    5123.84 ms\n",
      "Llama.generate: prefix-match hit\n"
     ]
    },
    {
     "name": "stdout",
     "output_type": "stream",
     "text": [
      "335 -- 1\n"
     ]
    },
    {
     "name": "stderr",
     "output_type": "stream",
     "text": [
      "\n",
      "llama_print_timings:        load time =    2260.34 ms\n",
      "llama_print_timings:      sample time =       2.80 ms /    29 runs   (    0.10 ms per token, 10353.45 tokens per second)\n",
      "llama_print_timings: prompt eval time =     191.00 ms /    23 tokens (    8.30 ms per token,   120.42 tokens per second)\n",
      "llama_print_timings:        eval time =    1443.08 ms /    28 runs   (   51.54 ms per token,    19.40 tokens per second)\n",
      "llama_print_timings:       total time =    1672.37 ms\n",
      "Llama.generate: prefix-match hit\n"
     ]
    },
    {
     "name": "stdout",
     "output_type": "stream",
     "text": [
      "336 -- 1\n"
     ]
    },
    {
     "name": "stderr",
     "output_type": "stream",
     "text": [
      "\n",
      "llama_print_timings:        load time =    2260.34 ms\n",
      "llama_print_timings:      sample time =       2.81 ms /    29 runs   (    0.10 ms per token, 10305.61 tokens per second)\n",
      "llama_print_timings: prompt eval time =     195.46 ms /    28 tokens (    6.98 ms per token,   143.25 tokens per second)\n",
      "llama_print_timings:        eval time =    1441.03 ms /    28 runs   (   51.47 ms per token,    19.43 tokens per second)\n",
      "llama_print_timings:       total time =    1674.40 ms\n",
      "Llama.generate: prefix-match hit\n"
     ]
    },
    {
     "name": "stdout",
     "output_type": "stream",
     "text": [
      "337 -- 1\n"
     ]
    },
    {
     "name": "stderr",
     "output_type": "stream",
     "text": [
      "\n",
      "llama_print_timings:        load time =    2260.34 ms\n",
      "llama_print_timings:      sample time =      12.21 ms /   126 runs   (    0.10 ms per token, 10315.19 tokens per second)\n",
      "llama_print_timings: prompt eval time =     186.44 ms /    30 tokens (    6.21 ms per token,   160.91 tokens per second)\n",
      "llama_print_timings:        eval time =    6477.26 ms /   125 runs   (   51.82 ms per token,    19.30 tokens per second)\n",
      "llama_print_timings:       total time =    6836.98 ms\n",
      "Llama.generate: prefix-match hit\n"
     ]
    },
    {
     "name": "stdout",
     "output_type": "stream",
     "text": [
      "338 -- 1\n"
     ]
    },
    {
     "name": "stderr",
     "output_type": "stream",
     "text": [
      "\n",
      "llama_print_timings:        load time =    2260.34 ms\n",
      "llama_print_timings:      sample time =       3.46 ms /    33 runs   (    0.10 ms per token,  9537.57 tokens per second)\n",
      "llama_print_timings: prompt eval time =     188.90 ms /    21 tokens (    9.00 ms per token,   111.17 tokens per second)\n",
      "llama_print_timings:        eval time =    1649.81 ms /    32 runs   (   51.56 ms per token,    19.40 tokens per second)\n",
      "llama_print_timings:       total time =    1882.67 ms\n",
      "Llama.generate: prefix-match hit\n"
     ]
    },
    {
     "name": "stdout",
     "output_type": "stream",
     "text": [
      "339 -- 1\n"
     ]
    },
    {
     "name": "stderr",
     "output_type": "stream",
     "text": [
      "\n",
      "llama_print_timings:        load time =    2260.34 ms\n",
      "llama_print_timings:      sample time =      11.24 ms /   115 runs   (    0.10 ms per token, 10234.05 tokens per second)\n",
      "llama_print_timings: prompt eval time =     187.73 ms /    20 tokens (    9.39 ms per token,   106.54 tokens per second)\n",
      "llama_print_timings:        eval time =    5898.42 ms /   114 runs   (   51.74 ms per token,    19.33 tokens per second)\n",
      "llama_print_timings:       total time =    6242.43 ms\n",
      "Llama.generate: prefix-match hit\n"
     ]
    },
    {
     "name": "stdout",
     "output_type": "stream",
     "text": [
      "340 -- 1\n"
     ]
    },
    {
     "name": "stderr",
     "output_type": "stream",
     "text": [
      "\n",
      "llama_print_timings:        load time =    2260.34 ms\n",
      "llama_print_timings:      sample time =       2.99 ms /    29 runs   (    0.10 ms per token,  9708.74 tokens per second)\n",
      "llama_print_timings: prompt eval time =     184.67 ms /    17 tokens (   10.86 ms per token,    92.05 tokens per second)\n",
      "llama_print_timings:        eval time =    1443.34 ms /    28 runs   (   51.55 ms per token,    19.40 tokens per second)\n",
      "llama_print_timings:       total time =    1666.35 ms\n",
      "Llama.generate: prefix-match hit\n"
     ]
    },
    {
     "name": "stdout",
     "output_type": "stream",
     "text": [
      "341 -- 1\n"
     ]
    },
    {
     "name": "stderr",
     "output_type": "stream",
     "text": [
      "\n",
      "llama_print_timings:        load time =    2260.34 ms\n",
      "llama_print_timings:      sample time =       3.02 ms /    29 runs   (    0.10 ms per token,  9615.38 tokens per second)\n",
      "llama_print_timings: prompt eval time =     184.64 ms /    17 tokens (   10.86 ms per token,    92.07 tokens per second)\n",
      "llama_print_timings:        eval time =    1442.41 ms /    28 runs   (   51.51 ms per token,    19.41 tokens per second)\n",
      "llama_print_timings:       total time =    1665.24 ms\n",
      "Llama.generate: prefix-match hit\n"
     ]
    },
    {
     "name": "stdout",
     "output_type": "stream",
     "text": [
      "342 -- 1\n"
     ]
    },
    {
     "name": "stderr",
     "output_type": "stream",
     "text": [
      "\n",
      "llama_print_timings:        load time =    2260.34 ms\n",
      "llama_print_timings:      sample time =      11.84 ms /   116 runs   (    0.10 ms per token,  9797.30 tokens per second)\n",
      "llama_print_timings: prompt eval time =     186.54 ms /    19 tokens (    9.82 ms per token,   101.86 tokens per second)\n",
      "llama_print_timings:        eval time =    5947.89 ms /   115 runs   (   51.72 ms per token,    19.33 tokens per second)\n",
      "llama_print_timings:       total time =    6294.16 ms\n",
      "Llama.generate: prefix-match hit\n"
     ]
    },
    {
     "name": "stdout",
     "output_type": "stream",
     "text": [
      "343 -- 1\n"
     ]
    },
    {
     "name": "stderr",
     "output_type": "stream",
     "text": [
      "\n",
      "llama_print_timings:        load time =    2260.34 ms\n",
      "llama_print_timings:      sample time =       2.99 ms /    29 runs   (    0.10 ms per token,  9692.51 tokens per second)\n",
      "llama_print_timings: prompt eval time =     186.66 ms /    30 tokens (    6.22 ms per token,   160.72 tokens per second)\n",
      "llama_print_timings:        eval time =    1444.17 ms /    28 runs   (   51.58 ms per token,    19.39 tokens per second)\n",
      "llama_print_timings:       total time =    1669.77 ms\n",
      "Llama.generate: prefix-match hit\n"
     ]
    },
    {
     "name": "stdout",
     "output_type": "stream",
     "text": [
      "344 -- 1\n"
     ]
    },
    {
     "name": "stderr",
     "output_type": "stream",
     "text": [
      "\n",
      "llama_print_timings:        load time =    2260.34 ms\n",
      "llama_print_timings:      sample time =      11.66 ms /   112 runs   (    0.10 ms per token,  9605.49 tokens per second)\n",
      "llama_print_timings: prompt eval time =     187.49 ms /    20 tokens (    9.37 ms per token,   106.67 tokens per second)\n",
      "llama_print_timings:        eval time =    5740.93 ms /   111 runs   (   51.72 ms per token,    19.33 tokens per second)\n",
      "llama_print_timings:       total time =    6081.86 ms\n",
      "Llama.generate: prefix-match hit\n"
     ]
    },
    {
     "name": "stdout",
     "output_type": "stream",
     "text": [
      "345 -- 1\n"
     ]
    },
    {
     "name": "stderr",
     "output_type": "stream",
     "text": [
      "\n",
      "llama_print_timings:        load time =    2260.34 ms\n",
      "llama_print_timings:      sample time =       3.89 ms /    39 runs   (    0.10 ms per token, 10015.41 tokens per second)\n",
      "llama_print_timings: prompt eval time =     188.76 ms /    22 tokens (    8.58 ms per token,   116.55 tokens per second)\n",
      "llama_print_timings:        eval time =    1957.83 ms /    38 runs   (   51.52 ms per token,    19.41 tokens per second)\n",
      "llama_print_timings:       total time =    2198.61 ms\n",
      "Llama.generate: prefix-match hit\n"
     ]
    },
    {
     "name": "stdout",
     "output_type": "stream",
     "text": [
      "346 -- 1\n"
     ]
    },
    {
     "name": "stderr",
     "output_type": "stream",
     "text": [
      "\n",
      "llama_print_timings:        load time =    2260.34 ms\n",
      "llama_print_timings:      sample time =       2.97 ms /    29 runs   (    0.10 ms per token,  9754.46 tokens per second)\n",
      "llama_print_timings: prompt eval time =     181.03 ms /    13 tokens (   13.93 ms per token,    71.81 tokens per second)\n",
      "llama_print_timings:        eval time =    1440.91 ms /    28 runs   (   51.46 ms per token,    19.43 tokens per second)\n",
      "llama_print_timings:       total time =    1661.63 ms\n",
      "Llama.generate: prefix-match hit\n"
     ]
    },
    {
     "name": "stdout",
     "output_type": "stream",
     "text": [
      "347 -- 1\n"
     ]
    },
    {
     "name": "stderr",
     "output_type": "stream",
     "text": [
      "\n",
      "llama_print_timings:        load time =    2260.34 ms\n",
      "llama_print_timings:      sample time =       3.08 ms /    29 runs   (    0.11 ms per token,  9415.58 tokens per second)\n",
      "llama_print_timings: prompt eval time =     183.16 ms /    15 tokens (   12.21 ms per token,    81.90 tokens per second)\n",
      "llama_print_timings:        eval time =    1442.67 ms /    28 runs   (   51.52 ms per token,    19.41 tokens per second)\n",
      "llama_print_timings:       total time =    1665.83 ms\n",
      "Llama.generate: prefix-match hit\n"
     ]
    },
    {
     "name": "stdout",
     "output_type": "stream",
     "text": [
      "348 -- 1\n"
     ]
    },
    {
     "name": "stderr",
     "output_type": "stream",
     "text": [
      "\n",
      "llama_print_timings:        load time =    2260.34 ms\n",
      "llama_print_timings:      sample time =      10.01 ms /   100 runs   (    0.10 ms per token,  9988.01 tokens per second)\n",
      "llama_print_timings: prompt eval time =     192.75 ms /    26 tokens (    7.41 ms per token,   134.89 tokens per second)\n",
      "llama_print_timings:        eval time =    5120.02 ms /    99 runs   (   51.72 ms per token,    19.34 tokens per second)\n",
      "llama_print_timings:       total time =    5448.35 ms\n",
      "Llama.generate: prefix-match hit\n"
     ]
    },
    {
     "name": "stdout",
     "output_type": "stream",
     "text": [
      "349 -- 1\n"
     ]
    },
    {
     "name": "stderr",
     "output_type": "stream",
     "text": [
      "\n",
      "llama_print_timings:        load time =    2260.34 ms\n",
      "llama_print_timings:      sample time =       4.08 ms /    41 runs   (    0.10 ms per token, 10041.64 tokens per second)\n",
      "llama_print_timings: prompt eval time =     191.98 ms /    24 tokens (    8.00 ms per token,   125.01 tokens per second)\n",
      "llama_print_timings:        eval time =    2062.18 ms /    40 runs   (   51.55 ms per token,    19.40 tokens per second)\n",
      "llama_print_timings:       total time =    2309.26 ms\n",
      "Llama.generate: prefix-match hit\n"
     ]
    },
    {
     "name": "stdout",
     "output_type": "stream",
     "text": [
      "350 -- 1\n"
     ]
    },
    {
     "name": "stderr",
     "output_type": "stream",
     "text": [
      "\n",
      "llama_print_timings:        load time =    2260.34 ms\n",
      "llama_print_timings:      sample time =       3.80 ms /    40 runs   (    0.10 ms per token, 10518.01 tokens per second)\n",
      "llama_print_timings: prompt eval time =     333.99 ms /    36 tokens (    9.28 ms per token,   107.79 tokens per second)\n",
      "llama_print_timings:        eval time =    2015.20 ms /    39 runs   (   51.67 ms per token,    19.35 tokens per second)\n",
      "llama_print_timings:       total time =    2401.76 ms\n",
      "Llama.generate: prefix-match hit\n"
     ]
    },
    {
     "name": "stdout",
     "output_type": "stream",
     "text": [
      "351 -- 1\n"
     ]
    },
    {
     "name": "stderr",
     "output_type": "stream",
     "text": [
      "\n",
      "llama_print_timings:        load time =    2260.34 ms\n",
      "llama_print_timings:      sample time =       3.93 ms /    38 runs   (    0.10 ms per token,  9681.53 tokens per second)\n",
      "llama_print_timings: prompt eval time =     183.33 ms /    16 tokens (   11.46 ms per token,    87.28 tokens per second)\n",
      "llama_print_timings:        eval time =    1904.43 ms /    37 runs   (   51.47 ms per token,    19.43 tokens per second)\n",
      "llama_print_timings:       total time =    2137.98 ms\n",
      "Llama.generate: prefix-match hit\n"
     ]
    },
    {
     "name": "stdout",
     "output_type": "stream",
     "text": [
      "352 -- 1\n"
     ]
    },
    {
     "name": "stderr",
     "output_type": "stream",
     "text": [
      "\n",
      "llama_print_timings:        load time =    2260.34 ms\n",
      "llama_print_timings:      sample time =       3.23 ms /    29 runs   (    0.11 ms per token,  8992.25 tokens per second)\n",
      "llama_print_timings: prompt eval time =     190.90 ms /    23 tokens (    8.30 ms per token,   120.48 tokens per second)\n",
      "llama_print_timings:        eval time =    1445.27 ms /    28 runs   (   51.62 ms per token,    19.37 tokens per second)\n",
      "llama_print_timings:       total time =    1678.49 ms\n",
      "Llama.generate: prefix-match hit\n"
     ]
    },
    {
     "name": "stdout",
     "output_type": "stream",
     "text": [
      "353 -- 1\n"
     ]
    },
    {
     "name": "stderr",
     "output_type": "stream",
     "text": [
      "\n",
      "llama_print_timings:        load time =    2260.34 ms\n",
      "llama_print_timings:      sample time =      12.14 ms /   125 runs   (    0.10 ms per token, 10294.00 tokens per second)\n",
      "llama_print_timings: prompt eval time =     333.40 ms /    35 tokens (    9.53 ms per token,   104.98 tokens per second)\n",
      "llama_print_timings:        eval time =    6428.23 ms /   124 runs   (   51.84 ms per token,    19.29 tokens per second)\n",
      "llama_print_timings:       total time =    6930.83 ms\n",
      "Llama.generate: prefix-match hit\n"
     ]
    },
    {
     "name": "stdout",
     "output_type": "stream",
     "text": [
      "354 -- 1\n"
     ]
    },
    {
     "name": "stderr",
     "output_type": "stream",
     "text": [
      "\n",
      "llama_print_timings:        load time =    2260.34 ms\n",
      "llama_print_timings:      sample time =      10.16 ms /   107 runs   (    0.09 ms per token, 10530.46 tokens per second)\n",
      "llama_print_timings: prompt eval time =     189.25 ms /    21 tokens (    9.01 ms per token,   110.96 tokens per second)\n",
      "llama_print_timings:        eval time =    5480.99 ms /   106 runs   (   51.71 ms per token,    19.34 tokens per second)\n",
      "llama_print_timings:       total time =    5813.98 ms\n",
      "Llama.generate: prefix-match hit\n"
     ]
    },
    {
     "name": "stdout",
     "output_type": "stream",
     "text": [
      "355 -- 1\n"
     ]
    },
    {
     "name": "stderr",
     "output_type": "stream",
     "text": [
      "\n",
      "llama_print_timings:        load time =    2260.34 ms\n",
      "llama_print_timings:      sample time =      10.14 ms /   103 runs   (    0.10 ms per token, 10161.80 tokens per second)\n",
      "llama_print_timings: prompt eval time =     189.05 ms /    21 tokens (    9.00 ms per token,   111.08 tokens per second)\n",
      "llama_print_timings:        eval time =    5277.54 ms /   102 runs   (   51.74 ms per token,    19.33 tokens per second)\n",
      "llama_print_timings:       total time =    5606.04 ms\n",
      "Llama.generate: prefix-match hit\n"
     ]
    },
    {
     "name": "stdout",
     "output_type": "stream",
     "text": [
      "356 -- 1\n"
     ]
    },
    {
     "name": "stderr",
     "output_type": "stream",
     "text": [
      "\n",
      "llama_print_timings:        load time =    2260.34 ms\n",
      "llama_print_timings:      sample time =       2.90 ms /    29 runs   (    0.10 ms per token, 10017.27 tokens per second)\n",
      "llama_print_timings: prompt eval time =     180.60 ms /    14 tokens (   12.90 ms per token,    77.52 tokens per second)\n",
      "llama_print_timings:        eval time =    1440.52 ms /    28 runs   (   51.45 ms per token,    19.44 tokens per second)\n",
      "llama_print_timings:       total time =    1659.06 ms\n",
      "Llama.generate: prefix-match hit\n"
     ]
    },
    {
     "name": "stdout",
     "output_type": "stream",
     "text": [
      "357 -- 1\n"
     ]
    },
    {
     "name": "stderr",
     "output_type": "stream",
     "text": [
      "\n",
      "llama_print_timings:        load time =    2260.34 ms\n",
      "llama_print_timings:      sample time =       8.01 ms /    92 runs   (    0.09 ms per token, 11491.38 tokens per second)\n",
      "llama_print_timings: prompt eval time =     335.43 ms /    38 tokens (    8.83 ms per token,   113.29 tokens per second)\n",
      "llama_print_timings:        eval time =    4712.09 ms /    91 runs   (   51.78 ms per token,    19.31 tokens per second)\n",
      "llama_print_timings:       total time =    5173.29 ms\n",
      "Llama.generate: prefix-match hit\n"
     ]
    },
    {
     "name": "stdout",
     "output_type": "stream",
     "text": [
      "358 -- 1\n"
     ]
    },
    {
     "name": "stderr",
     "output_type": "stream",
     "text": [
      "\n",
      "llama_print_timings:        load time =    2260.34 ms\n",
      "llama_print_timings:      sample time =       3.00 ms /    29 runs   (    0.10 ms per token,  9657.01 tokens per second)\n",
      "llama_print_timings: prompt eval time =     189.15 ms /    22 tokens (    8.60 ms per token,   116.31 tokens per second)\n",
      "llama_print_timings:        eval time =    1444.29 ms /    28 runs   (   51.58 ms per token,    19.39 tokens per second)\n",
      "llama_print_timings:       total time =    1672.07 ms\n",
      "Llama.generate: prefix-match hit\n"
     ]
    },
    {
     "name": "stdout",
     "output_type": "stream",
     "text": [
      "359 -- 1\n"
     ]
    },
    {
     "name": "stderr",
     "output_type": "stream",
     "text": [
      "\n",
      "llama_print_timings:        load time =    2260.34 ms\n",
      "llama_print_timings:      sample time =       9.56 ms /    98 runs   (    0.10 ms per token, 10248.90 tokens per second)\n",
      "llama_print_timings: prompt eval time =     197.99 ms /    29 tokens (    6.83 ms per token,   146.47 tokens per second)\n",
      "llama_print_timings:        eval time =    5015.37 ms /    97 runs   (   51.70 ms per token,    19.34 tokens per second)\n",
      "llama_print_timings:       total time =    5347.71 ms\n",
      "Llama.generate: prefix-match hit\n"
     ]
    },
    {
     "name": "stdout",
     "output_type": "stream",
     "text": [
      "360 -- 1\n"
     ]
    },
    {
     "name": "stderr",
     "output_type": "stream",
     "text": [
      "\n",
      "llama_print_timings:        load time =    2260.34 ms\n",
      "llama_print_timings:      sample time =       6.05 ms /    62 runs   (    0.10 ms per token, 10244.55 tokens per second)\n",
      "llama_print_timings: prompt eval time =     184.39 ms /    18 tokens (   10.24 ms per token,    97.62 tokens per second)\n",
      "llama_print_timings:        eval time =    3146.13 ms /    61 runs   (   51.58 ms per token,    19.39 tokens per second)\n",
      "llama_print_timings:       total time =    3413.09 ms\n",
      "Llama.generate: prefix-match hit\n"
     ]
    },
    {
     "name": "stdout",
     "output_type": "stream",
     "text": [
      "361 -- 1\n"
     ]
    },
    {
     "name": "stderr",
     "output_type": "stream",
     "text": [
      "\n",
      "llama_print_timings:        load time =    2260.34 ms\n",
      "llama_print_timings:      sample time =      11.04 ms /   108 runs   (    0.10 ms per token,  9782.61 tokens per second)\n",
      "llama_print_timings: prompt eval time =     192.14 ms /    24 tokens (    8.01 ms per token,   124.91 tokens per second)\n",
      "llama_print_timings:        eval time =    5535.39 ms /   107 runs   (   51.73 ms per token,    19.33 tokens per second)\n",
      "llama_print_timings:       total time =    5873.40 ms\n",
      "Llama.generate: prefix-match hit\n"
     ]
    },
    {
     "name": "stdout",
     "output_type": "stream",
     "text": [
      "362 -- 1\n"
     ]
    },
    {
     "name": "stderr",
     "output_type": "stream",
     "text": [
      "\n",
      "llama_print_timings:        load time =    2260.34 ms\n",
      "llama_print_timings:      sample time =      10.99 ms /   107 runs   (    0.10 ms per token,  9737.90 tokens per second)\n",
      "llama_print_timings: prompt eval time =     192.83 ms /    26 tokens (    7.42 ms per token,   134.83 tokens per second)\n",
      "llama_print_timings:        eval time =    5486.98 ms /   106 runs   (   51.76 ms per token,    19.32 tokens per second)\n",
      "llama_print_timings:       total time =    5827.28 ms\n",
      "Llama.generate: prefix-match hit\n"
     ]
    },
    {
     "name": "stdout",
     "output_type": "stream",
     "text": [
      "362 -- 2\n"
     ]
    },
    {
     "name": "stderr",
     "output_type": "stream",
     "text": [
      "\n",
      "llama_print_timings:        load time =    2260.34 ms\n",
      "llama_print_timings:      sample time =       9.81 ms /   110 runs   (    0.09 ms per token, 11209.62 tokens per second)\n",
      "llama_print_timings: prompt eval time =       0.00 ms /     1 tokens (    0.00 ms per token,      inf tokens per second)\n",
      "llama_print_timings:        eval time =    5694.68 ms /   110 runs   (   51.77 ms per token,    19.32 tokens per second)\n",
      "llama_print_timings:       total time =    5842.19 ms\n",
      "Llama.generate: prefix-match hit\n"
     ]
    },
    {
     "name": "stdout",
     "output_type": "stream",
     "text": [
      "362 -- 3\n"
     ]
    },
    {
     "name": "stderr",
     "output_type": "stream",
     "text": [
      "\n",
      "llama_print_timings:        load time =    2260.34 ms\n",
      "llama_print_timings:      sample time =       5.12 ms /    53 runs   (    0.10 ms per token, 10353.58 tokens per second)\n",
      "llama_print_timings: prompt eval time =       0.00 ms /     1 tokens (    0.00 ms per token,      inf tokens per second)\n",
      "llama_print_timings:        eval time =    2737.96 ms /    53 runs   (   51.66 ms per token,    19.36 tokens per second)\n",
      "llama_print_timings:       total time =    2808.19 ms\n",
      "Llama.generate: prefix-match hit\n"
     ]
    },
    {
     "name": "stdout",
     "output_type": "stream",
     "text": [
      "363 -- 1\n"
     ]
    },
    {
     "name": "stderr",
     "output_type": "stream",
     "text": [
      "\n",
      "llama_print_timings:        load time =    2260.34 ms\n",
      "llama_print_timings:      sample time =       7.14 ms /    77 runs   (    0.09 ms per token, 10790.36 tokens per second)\n",
      "llama_print_timings: prompt eval time =     186.85 ms /    19 tokens (    9.83 ms per token,   101.68 tokens per second)\n",
      "llama_print_timings:        eval time =    3925.93 ms /    76 runs   (   51.66 ms per token,    19.36 tokens per second)\n",
      "llama_print_timings:       total time =    4215.39 ms\n",
      "Llama.generate: prefix-match hit\n"
     ]
    },
    {
     "name": "stdout",
     "output_type": "stream",
     "text": [
      "364 -- 1\n"
     ]
    },
    {
     "name": "stderr",
     "output_type": "stream",
     "text": [
      "\n",
      "llama_print_timings:        load time =    2260.34 ms\n",
      "llama_print_timings:      sample time =       2.99 ms /    29 runs   (    0.10 ms per token,  9705.49 tokens per second)\n",
      "llama_print_timings: prompt eval time =     180.15 ms /    12 tokens (   15.01 ms per token,    66.61 tokens per second)\n",
      "llama_print_timings:        eval time =    1439.02 ms /    28 runs   (   51.39 ms per token,    19.46 tokens per second)\n",
      "llama_print_timings:       total time =    1659.02 ms\n",
      "Llama.generate: prefix-match hit\n"
     ]
    },
    {
     "name": "stdout",
     "output_type": "stream",
     "text": [
      "365 -- 1\n"
     ]
    },
    {
     "name": "stderr",
     "output_type": "stream",
     "text": [
      "\n",
      "llama_print_timings:        load time =    2260.34 ms\n",
      "llama_print_timings:      sample time =      13.25 ms /   130 runs   (    0.10 ms per token,  9808.36 tokens per second)\n",
      "llama_print_timings: prompt eval time =     194.97 ms /    27 tokens (    7.22 ms per token,   138.48 tokens per second)\n",
      "llama_print_timings:        eval time =    6677.50 ms /   129 runs   (   51.76 ms per token,    19.32 tokens per second)\n",
      "llama_print_timings:       total time =    7052.81 ms\n",
      "Llama.generate: prefix-match hit\n"
     ]
    },
    {
     "name": "stdout",
     "output_type": "stream",
     "text": [
      "366 -- 1\n"
     ]
    },
    {
     "name": "stderr",
     "output_type": "stream",
     "text": [
      "\n",
      "llama_print_timings:        load time =    2260.34 ms\n",
      "llama_print_timings:      sample time =      11.06 ms /   114 runs   (    0.10 ms per token, 10311.14 tokens per second)\n",
      "llama_print_timings: prompt eval time =     191.91 ms /    24 tokens (    8.00 ms per token,   125.06 tokens per second)\n",
      "llama_print_timings:        eval time =    5846.11 ms /   113 runs   (   51.74 ms per token,    19.33 tokens per second)\n",
      "llama_print_timings:       total time =    6191.88 ms\n",
      "Llama.generate: prefix-match hit\n"
     ]
    },
    {
     "name": "stdout",
     "output_type": "stream",
     "text": [
      "367 -- 1\n"
     ]
    },
    {
     "name": "stderr",
     "output_type": "stream",
     "text": [
      "\n",
      "llama_print_timings:        load time =    2260.34 ms\n",
      "llama_print_timings:      sample time =      11.06 ms /   108 runs   (    0.10 ms per token,  9766.68 tokens per second)\n",
      "llama_print_timings: prompt eval time =     186.86 ms /    19 tokens (    9.83 ms per token,   101.68 tokens per second)\n",
      "llama_print_timings:        eval time =    5533.73 ms /   107 runs   (   51.72 ms per token,    19.34 tokens per second)\n",
      "llama_print_timings:       total time =    5866.85 ms\n",
      "Llama.generate: prefix-match hit\n"
     ]
    },
    {
     "name": "stdout",
     "output_type": "stream",
     "text": [
      "368 -- 1\n"
     ]
    },
    {
     "name": "stderr",
     "output_type": "stream",
     "text": [
      "\n",
      "llama_print_timings:        load time =    2260.34 ms\n",
      "llama_print_timings:      sample time =       3.91 ms /    38 runs   (    0.10 ms per token,  9711.22 tokens per second)\n",
      "llama_print_timings: prompt eval time =     186.82 ms /    19 tokens (    9.83 ms per token,   101.70 tokens per second)\n",
      "llama_print_timings:        eval time =    1906.25 ms /    37 runs   (   51.52 ms per token,    19.41 tokens per second)\n",
      "llama_print_timings:       total time =    2143.20 ms\n",
      "Llama.generate: prefix-match hit\n"
     ]
    },
    {
     "name": "stdout",
     "output_type": "stream",
     "text": [
      "369 -- 1\n"
     ]
    },
    {
     "name": "stderr",
     "output_type": "stream",
     "text": [
      "\n",
      "llama_print_timings:        load time =    2260.34 ms\n",
      "llama_print_timings:      sample time =       2.91 ms /    29 runs   (    0.10 ms per token,  9958.79 tokens per second)\n",
      "llama_print_timings: prompt eval time =     187.50 ms /    20 tokens (    9.37 ms per token,   106.67 tokens per second)\n",
      "llama_print_timings:        eval time =    1442.89 ms /    28 runs   (   51.53 ms per token,    19.41 tokens per second)\n",
      "llama_print_timings:       total time =    1668.27 ms\n",
      "Llama.generate: prefix-match hit\n"
     ]
    },
    {
     "name": "stdout",
     "output_type": "stream",
     "text": [
      "370 -- 1\n"
     ]
    },
    {
     "name": "stderr",
     "output_type": "stream",
     "text": [
      "\n",
      "llama_print_timings:        load time =    2260.34 ms\n",
      "llama_print_timings:      sample time =       5.30 ms /    52 runs   (    0.10 ms per token,  9816.88 tokens per second)\n",
      "llama_print_timings: prompt eval time =     189.13 ms /    21 tokens (    9.01 ms per token,   111.03 tokens per second)\n",
      "llama_print_timings:        eval time =    2631.49 ms /    51 runs   (   51.60 ms per token,    19.38 tokens per second)\n",
      "llama_print_timings:       total time =    2892.10 ms\n",
      "Llama.generate: prefix-match hit\n"
     ]
    },
    {
     "name": "stdout",
     "output_type": "stream",
     "text": [
      "371 -- 1\n"
     ]
    },
    {
     "name": "stderr",
     "output_type": "stream",
     "text": [
      "\n",
      "llama_print_timings:        load time =    2260.34 ms\n",
      "llama_print_timings:      sample time =       3.77 ms /    36 runs   (    0.10 ms per token,  9546.54 tokens per second)\n",
      "llama_print_timings: prompt eval time =     183.42 ms /    16 tokens (   11.46 ms per token,    87.23 tokens per second)\n",
      "llama_print_timings:        eval time =    1801.86 ms /    35 runs   (   51.48 ms per token,    19.42 tokens per second)\n",
      "llama_print_timings:       total time =    2032.55 ms\n",
      "Llama.generate: prefix-match hit\n"
     ]
    },
    {
     "name": "stdout",
     "output_type": "stream",
     "text": [
      "372 -- 1\n"
     ]
    },
    {
     "name": "stderr",
     "output_type": "stream",
     "text": [
      "\n",
      "llama_print_timings:        load time =    2260.34 ms\n",
      "llama_print_timings:      sample time =      13.17 ms /   140 runs   (    0.09 ms per token, 10627.80 tokens per second)\n",
      "llama_print_timings: prompt eval time =     341.56 ms /    43 tokens (    7.94 ms per token,   125.89 tokens per second)\n",
      "llama_print_timings:        eval time =    7202.72 ms /   139 runs   (   51.82 ms per token,    19.30 tokens per second)\n",
      "llama_print_timings:       total time =    7735.94 ms\n",
      "Llama.generate: prefix-match hit\n"
     ]
    },
    {
     "name": "stdout",
     "output_type": "stream",
     "text": [
      "373 -- 1\n"
     ]
    },
    {
     "name": "stderr",
     "output_type": "stream",
     "text": [
      "\n",
      "llama_print_timings:        load time =    2260.34 ms\n",
      "llama_print_timings:      sample time =       3.06 ms /    28 runs   (    0.11 ms per token,  9156.31 tokens per second)\n",
      "llama_print_timings: prompt eval time =     190.96 ms /    23 tokens (    8.30 ms per token,   120.45 tokens per second)\n",
      "llama_print_timings:        eval time =    1390.33 ms /    27 runs   (   51.49 ms per token,    19.42 tokens per second)\n",
      "llama_print_timings:       total time =    1618.64 ms\n",
      "Llama.generate: prefix-match hit\n"
     ]
    },
    {
     "name": "stdout",
     "output_type": "stream",
     "text": [
      "374 -- 1\n"
     ]
    },
    {
     "name": "stderr",
     "output_type": "stream",
     "text": [
      "\n",
      "llama_print_timings:        load time =    2260.34 ms\n",
      "llama_print_timings:      sample time =      12.12 ms /   114 runs   (    0.11 ms per token,  9409.82 tokens per second)\n",
      "llama_print_timings: prompt eval time =     180.94 ms /    14 tokens (   12.92 ms per token,    77.37 tokens per second)\n",
      "llama_print_timings:        eval time =    5841.98 ms /   113 runs   (   51.70 ms per token,    19.34 tokens per second)\n",
      "llama_print_timings:       total time =    6177.66 ms\n",
      "Llama.generate: prefix-match hit\n"
     ]
    },
    {
     "name": "stdout",
     "output_type": "stream",
     "text": [
      "375 -- 1\n"
     ]
    },
    {
     "name": "stderr",
     "output_type": "stream",
     "text": [
      "\n",
      "llama_print_timings:        load time =    2260.34 ms\n",
      "llama_print_timings:      sample time =       4.88 ms /    48 runs   (    0.10 ms per token,  9838.08 tokens per second)\n",
      "llama_print_timings: prompt eval time =     194.89 ms /    27 tokens (    7.22 ms per token,   138.54 tokens per second)\n",
      "llama_print_timings:        eval time =    2424.47 ms /    47 runs   (   51.58 ms per token,    19.39 tokens per second)\n",
      "llama_print_timings:       total time =    2685.98 ms\n",
      "Llama.generate: prefix-match hit\n"
     ]
    },
    {
     "name": "stdout",
     "output_type": "stream",
     "text": [
      "376 -- 1\n"
     ]
    },
    {
     "name": "stderr",
     "output_type": "stream",
     "text": [
      "\n",
      "llama_print_timings:        load time =    2260.34 ms\n",
      "llama_print_timings:      sample time =       3.44 ms /    37 runs   (    0.09 ms per token, 10768.34 tokens per second)\n",
      "llama_print_timings: prompt eval time =     343.21 ms /    45 tokens (    7.63 ms per token,   131.12 tokens per second)\n",
      "llama_print_timings:        eval time =    1858.54 ms /    36 runs   (   51.63 ms per token,    19.37 tokens per second)\n",
      "llama_print_timings:       total time =    2250.82 ms\n",
      "Llama.generate: prefix-match hit\n"
     ]
    },
    {
     "name": "stdout",
     "output_type": "stream",
     "text": [
      "377 -- 1\n"
     ]
    },
    {
     "name": "stderr",
     "output_type": "stream",
     "text": [
      "\n",
      "llama_print_timings:        load time =    2260.34 ms\n",
      "llama_print_timings:      sample time =       3.04 ms /    29 runs   (    0.10 ms per token,  9526.94 tokens per second)\n",
      "llama_print_timings: prompt eval time =     186.92 ms /    19 tokens (    9.84 ms per token,   101.65 tokens per second)\n",
      "llama_print_timings:        eval time =    1442.80 ms /    28 runs   (   51.53 ms per token,    19.41 tokens per second)\n",
      "llama_print_timings:       total time =    1668.78 ms\n",
      "Llama.generate: prefix-match hit\n"
     ]
    },
    {
     "name": "stdout",
     "output_type": "stream",
     "text": [
      "378 -- 1\n"
     ]
    },
    {
     "name": "stderr",
     "output_type": "stream",
     "text": [
      "\n",
      "llama_print_timings:        load time =    2260.34 ms\n",
      "llama_print_timings:      sample time =       3.12 ms /    29 runs   (    0.11 ms per token,  9291.89 tokens per second)\n",
      "llama_print_timings: prompt eval time =     191.24 ms /    23 tokens (    8.31 ms per token,   120.27 tokens per second)\n",
      "llama_print_timings:        eval time =    1442.98 ms /    28 runs   (   51.54 ms per token,    19.40 tokens per second)\n",
      "llama_print_timings:       total time =    1672.90 ms\n",
      "Llama.generate: prefix-match hit\n"
     ]
    },
    {
     "name": "stdout",
     "output_type": "stream",
     "text": [
      "379 -- 1\n"
     ]
    },
    {
     "name": "stderr",
     "output_type": "stream",
     "text": [
      "\n",
      "llama_print_timings:        load time =    2260.34 ms\n",
      "llama_print_timings:      sample time =       2.95 ms /    29 runs   (    0.10 ms per token,  9817.20 tokens per second)\n",
      "llama_print_timings: prompt eval time =     180.60 ms /    14 tokens (   12.90 ms per token,    77.52 tokens per second)\n",
      "llama_print_timings:        eval time =    1437.68 ms /    28 runs   (   51.35 ms per token,    19.48 tokens per second)\n",
      "llama_print_timings:       total time =    1656.18 ms\n",
      "Llama.generate: prefix-match hit\n"
     ]
    },
    {
     "name": "stdout",
     "output_type": "stream",
     "text": [
      "380 -- 1\n"
     ]
    },
    {
     "name": "stderr",
     "output_type": "stream",
     "text": [
      "\n",
      "llama_print_timings:        load time =    2260.34 ms\n",
      "llama_print_timings:      sample time =       6.31 ms /    64 runs   (    0.10 ms per token, 10141.02 tokens per second)\n",
      "llama_print_timings: prompt eval time =     191.17 ms /    23 tokens (    8.31 ms per token,   120.31 tokens per second)\n",
      "llama_print_timings:        eval time =    3254.70 ms /    63 runs   (   51.66 ms per token,    19.36 tokens per second)\n",
      "llama_print_timings:       total time =    3534.12 ms\n",
      "Llama.generate: prefix-match hit\n"
     ]
    },
    {
     "name": "stdout",
     "output_type": "stream",
     "text": [
      "381 -- 1\n"
     ]
    },
    {
     "name": "stderr",
     "output_type": "stream",
     "text": [
      "\n",
      "llama_print_timings:        load time =    2260.34 ms\n",
      "llama_print_timings:      sample time =      10.28 ms /   100 runs   (    0.10 ms per token,  9732.36 tokens per second)\n",
      "llama_print_timings: prompt eval time =     190.85 ms /    23 tokens (    8.30 ms per token,   120.51 tokens per second)\n",
      "llama_print_timings:        eval time =    5117.63 ms /    99 runs   (   51.69 ms per token,    19.34 tokens per second)\n",
      "llama_print_timings:       total time =    5444.39 ms\n",
      "Llama.generate: prefix-match hit\n"
     ]
    },
    {
     "name": "stdout",
     "output_type": "stream",
     "text": [
      "382 -- 1\n"
     ]
    },
    {
     "name": "stderr",
     "output_type": "stream",
     "text": [
      "\n",
      "llama_print_timings:        load time =    2260.34 ms\n",
      "llama_print_timings:      sample time =       2.97 ms /    29 runs   (    0.10 ms per token,  9774.18 tokens per second)\n",
      "llama_print_timings: prompt eval time =     180.86 ms /    14 tokens (   12.92 ms per token,    77.41 tokens per second)\n",
      "llama_print_timings:        eval time =    1440.66 ms /    28 runs   (   51.45 ms per token,    19.44 tokens per second)\n",
      "llama_print_timings:       total time =    1659.78 ms\n",
      "Llama.generate: prefix-match hit\n"
     ]
    },
    {
     "name": "stdout",
     "output_type": "stream",
     "text": [
      "383 -- 1\n"
     ]
    },
    {
     "name": "stderr",
     "output_type": "stream",
     "text": [
      "\n",
      "llama_print_timings:        load time =    2260.34 ms\n",
      "llama_print_timings:      sample time =       3.06 ms /    29 runs   (    0.11 ms per token,  9461.66 tokens per second)\n",
      "llama_print_timings: prompt eval time =     186.44 ms /    19 tokens (    9.81 ms per token,   101.91 tokens per second)\n",
      "llama_print_timings:        eval time =    1442.85 ms /    28 runs   (   51.53 ms per token,    19.41 tokens per second)\n",
      "llama_print_timings:       total time =    1668.23 ms\n",
      "Llama.generate: prefix-match hit\n"
     ]
    },
    {
     "name": "stdout",
     "output_type": "stream",
     "text": [
      "384 -- 1\n"
     ]
    },
    {
     "name": "stderr",
     "output_type": "stream",
     "text": [
      "\n",
      "llama_print_timings:        load time =    2260.34 ms\n",
      "llama_print_timings:      sample time =       2.98 ms /    28 runs   (    0.11 ms per token,  9411.76 tokens per second)\n",
      "llama_print_timings: prompt eval time =     189.19 ms /    21 tokens (    9.01 ms per token,   111.00 tokens per second)\n",
      "llama_print_timings:        eval time =    1395.64 ms /    27 runs   (   51.69 ms per token,    19.35 tokens per second)\n",
      "llama_print_timings:       total time =    1621.66 ms\n",
      "Llama.generate: prefix-match hit\n"
     ]
    },
    {
     "name": "stdout",
     "output_type": "stream",
     "text": [
      "385 -- 1\n"
     ]
    },
    {
     "name": "stderr",
     "output_type": "stream",
     "text": [
      "\n",
      "llama_print_timings:        load time =    2260.34 ms\n",
      "llama_print_timings:      sample time =       3.26 ms /    29 runs   (    0.11 ms per token,  8898.44 tokens per second)\n",
      "llama_print_timings: prompt eval time =     189.22 ms /    21 tokens (    9.01 ms per token,   110.98 tokens per second)\n",
      "llama_print_timings:        eval time =    1447.17 ms /    28 runs   (   51.68 ms per token,    19.35 tokens per second)\n",
      "llama_print_timings:       total time =    1676.06 ms\n",
      "Llama.generate: prefix-match hit\n"
     ]
    },
    {
     "name": "stdout",
     "output_type": "stream",
     "text": [
      "386 -- 1\n"
     ]
    },
    {
     "name": "stderr",
     "output_type": "stream",
     "text": [
      "\n",
      "llama_print_timings:        load time =    2260.34 ms\n",
      "llama_print_timings:      sample time =       3.60 ms /    34 runs   (    0.11 ms per token,  9454.95 tokens per second)\n",
      "llama_print_timings: prompt eval time =     183.81 ms /    16 tokens (   11.49 ms per token,    87.05 tokens per second)\n",
      "llama_print_timings:        eval time =    1702.55 ms /    33 runs   (   51.59 ms per token,    19.38 tokens per second)\n",
      "llama_print_timings:       total time =    1931.45 ms\n",
      "Llama.generate: prefix-match hit\n"
     ]
    },
    {
     "name": "stdout",
     "output_type": "stream",
     "text": [
      "387 -- 1\n"
     ]
    },
    {
     "name": "stderr",
     "output_type": "stream",
     "text": [
      "\n",
      "llama_print_timings:        load time =    2260.34 ms\n",
      "llama_print_timings:      sample time =       2.95 ms /    29 runs   (    0.10 ms per token,  9817.20 tokens per second)\n",
      "llama_print_timings: prompt eval time =     179.45 ms /    12 tokens (   14.95 ms per token,    66.87 tokens per second)\n",
      "llama_print_timings:        eval time =    1444.24 ms /    28 runs   (   51.58 ms per token,    19.39 tokens per second)\n",
      "llama_print_timings:       total time =    1662.34 ms\n",
      "Llama.generate: prefix-match hit\n"
     ]
    },
    {
     "name": "stdout",
     "output_type": "stream",
     "text": [
      "388 -- 1\n"
     ]
    },
    {
     "name": "stderr",
     "output_type": "stream",
     "text": [
      "\n",
      "llama_print_timings:        load time =    2260.34 ms\n",
      "llama_print_timings:      sample time =       4.00 ms /    38 runs   (    0.11 ms per token,  9511.89 tokens per second)\n",
      "llama_print_timings: prompt eval time =     184.37 ms /    18 tokens (   10.24 ms per token,    97.63 tokens per second)\n",
      "llama_print_timings:        eval time =    1911.81 ms /    37 runs   (   51.67 ms per token,    19.35 tokens per second)\n",
      "llama_print_timings:       total time =    2146.87 ms\n",
      "Llama.generate: prefix-match hit\n"
     ]
    },
    {
     "name": "stdout",
     "output_type": "stream",
     "text": [
      "389 -- 1\n"
     ]
    },
    {
     "name": "stderr",
     "output_type": "stream",
     "text": [
      "\n",
      "llama_print_timings:        load time =    2260.34 ms\n",
      "llama_print_timings:      sample time =      11.73 ms /   120 runs   (    0.10 ms per token, 10231.05 tokens per second)\n",
      "llama_print_timings: prompt eval time =     195.38 ms /    28 tokens (    6.98 ms per token,   143.31 tokens per second)\n",
      "llama_print_timings:        eval time =    6176.19 ms /   119 runs   (   51.90 ms per token,    19.27 tokens per second)\n",
      "llama_print_timings:       total time =    6534.59 ms\n",
      "Llama.generate: prefix-match hit\n"
     ]
    },
    {
     "name": "stdout",
     "output_type": "stream",
     "text": [
      "390 -- 1\n"
     ]
    },
    {
     "name": "stderr",
     "output_type": "stream",
     "text": [
      "\n",
      "llama_print_timings:        load time =    2260.34 ms\n",
      "llama_print_timings:      sample time =       3.17 ms /    28 runs   (    0.11 ms per token,  8830.02 tokens per second)\n",
      "llama_print_timings: prompt eval time =     200.04 ms /    31 tokens (    6.45 ms per token,   154.97 tokens per second)\n",
      "llama_print_timings:        eval time =    1399.22 ms /    27 runs   (   51.82 ms per token,    19.30 tokens per second)\n",
      "llama_print_timings:       total time =    1643.83 ms\n",
      "Llama.generate: prefix-match hit\n"
     ]
    },
    {
     "name": "stdout",
     "output_type": "stream",
     "text": [
      "391 -- 1\n"
     ]
    },
    {
     "name": "stderr",
     "output_type": "stream",
     "text": [
      "\n",
      "llama_print_timings:        load time =    2260.34 ms\n",
      "llama_print_timings:      sample time =       6.62 ms /    68 runs   (    0.10 ms per token, 10267.25 tokens per second)\n",
      "llama_print_timings: prompt eval time =     184.62 ms /    18 tokens (   10.26 ms per token,    97.50 tokens per second)\n",
      "llama_print_timings:        eval time =    3467.39 ms /    67 runs   (   51.75 ms per token,    19.32 tokens per second)\n",
      "llama_print_timings:       total time =    3742.85 ms\n",
      "Llama.generate: prefix-match hit\n"
     ]
    },
    {
     "name": "stdout",
     "output_type": "stream",
     "text": [
      "392 -- 1\n"
     ]
    },
    {
     "name": "stderr",
     "output_type": "stream",
     "text": [
      "\n",
      "llama_print_timings:        load time =    2260.34 ms\n",
      "llama_print_timings:      sample time =       3.55 ms /    39 runs   (    0.09 ms per token, 10995.21 tokens per second)\n",
      "llama_print_timings: prompt eval time =     194.30 ms /    32 tokens (    6.07 ms per token,   164.70 tokens per second)\n",
      "llama_print_timings:        eval time =    1967.02 ms /    38 runs   (   51.76 ms per token,    19.32 tokens per second)\n",
      "llama_print_timings:       total time =    2212.57 ms\n",
      "Llama.generate: prefix-match hit\n"
     ]
    },
    {
     "name": "stdout",
     "output_type": "stream",
     "text": [
      "393 -- 1\n"
     ]
    },
    {
     "name": "stderr",
     "output_type": "stream",
     "text": [
      "\n",
      "llama_print_timings:        load time =    2260.34 ms\n",
      "llama_print_timings:      sample time =      11.97 ms /   124 runs   (    0.10 ms per token, 10356.64 tokens per second)\n",
      "llama_print_timings: prompt eval time =     194.31 ms /    32 tokens (    6.07 ms per token,   164.69 tokens per second)\n",
      "llama_print_timings:        eval time =    6386.52 ms /   123 runs   (   51.92 ms per token,    19.26 tokens per second)\n",
      "llama_print_timings:       total time =    6748.67 ms\n",
      "Llama.generate: prefix-match hit\n"
     ]
    },
    {
     "name": "stdout",
     "output_type": "stream",
     "text": [
      "394 -- 1\n"
     ]
    },
    {
     "name": "stderr",
     "output_type": "stream",
     "text": [
      "\n",
      "llama_print_timings:        load time =    2260.34 ms\n",
      "llama_print_timings:      sample time =      11.56 ms /   115 runs   (    0.10 ms per token,  9946.38 tokens per second)\n",
      "llama_print_timings: prompt eval time =     330.90 ms /    33 tokens (   10.03 ms per token,    99.73 tokens per second)\n",
      "llama_print_timings:        eval time =    5915.96 ms /   114 runs   (   51.89 ms per token,    19.27 tokens per second)\n",
      "llama_print_timings:       total time =    6402.79 ms\n",
      "Llama.generate: prefix-match hit\n"
     ]
    },
    {
     "name": "stdout",
     "output_type": "stream",
     "text": [
      "395 -- 1\n"
     ]
    },
    {
     "name": "stderr",
     "output_type": "stream",
     "text": [
      "\n",
      "llama_print_timings:        load time =    2260.34 ms\n",
      "llama_print_timings:      sample time =       3.31 ms /    29 runs   (    0.11 ms per token,  8769.28 tokens per second)\n",
      "llama_print_timings: prompt eval time =     189.40 ms /    21 tokens (    9.02 ms per token,   110.88 tokens per second)\n",
      "llama_print_timings:        eval time =    1449.55 ms /    28 runs   (   51.77 ms per token,    19.32 tokens per second)\n",
      "llama_print_timings:       total time =    1681.08 ms\n",
      "Llama.generate: prefix-match hit\n"
     ]
    },
    {
     "name": "stdout",
     "output_type": "stream",
     "text": [
      "396 -- 1\n"
     ]
    },
    {
     "name": "stderr",
     "output_type": "stream",
     "text": [
      "\n",
      "llama_print_timings:        load time =    2260.34 ms\n",
      "llama_print_timings:      sample time =      10.41 ms /   101 runs   (    0.10 ms per token,  9700.35 tokens per second)\n",
      "llama_print_timings: prompt eval time =     184.53 ms /    18 tokens (   10.25 ms per token,    97.54 tokens per second)\n",
      "llama_print_timings:        eval time =    5180.40 ms /   100 runs   (   51.80 ms per token,    19.30 tokens per second)\n",
      "llama_print_timings:       total time =    5501.37 ms\n",
      "Llama.generate: prefix-match hit\n"
     ]
    },
    {
     "name": "stdout",
     "output_type": "stream",
     "text": [
      "397 -- 1\n"
     ]
    },
    {
     "name": "stderr",
     "output_type": "stream",
     "text": [
      "\n",
      "llama_print_timings:        load time =    2260.34 ms\n",
      "llama_print_timings:      sample time =       6.74 ms /    70 runs   (    0.10 ms per token, 10379.60 tokens per second)\n",
      "llama_print_timings: prompt eval time =     183.95 ms /    16 tokens (   11.50 ms per token,    86.98 tokens per second)\n",
      "llama_print_timings:        eval time =    3568.82 ms /    69 runs   (   51.72 ms per token,    19.33 tokens per second)\n",
      "llama_print_timings:       total time =    3846.18 ms\n",
      "Llama.generate: prefix-match hit\n"
     ]
    },
    {
     "name": "stdout",
     "output_type": "stream",
     "text": [
      "398 -- 1\n"
     ]
    },
    {
     "name": "stderr",
     "output_type": "stream",
     "text": [
      "\n",
      "llama_print_timings:        load time =    2260.34 ms\n",
      "llama_print_timings:      sample time =       3.03 ms /    29 runs   (    0.10 ms per token,  9580.44 tokens per second)\n",
      "llama_print_timings: prompt eval time =     179.45 ms /    12 tokens (   14.95 ms per token,    66.87 tokens per second)\n",
      "llama_print_timings:        eval time =    1441.20 ms /    28 runs   (   51.47 ms per token,    19.43 tokens per second)\n",
      "llama_print_timings:       total time =    1658.86 ms\n",
      "Llama.generate: prefix-match hit\n"
     ]
    },
    {
     "name": "stdout",
     "output_type": "stream",
     "text": [
      "399 -- 1\n"
     ]
    },
    {
     "name": "stderr",
     "output_type": "stream",
     "text": [
      "\n",
      "llama_print_timings:        load time =    2260.34 ms\n",
      "llama_print_timings:      sample time =       2.99 ms /    28 runs   (    0.11 ms per token,  9373.95 tokens per second)\n",
      "llama_print_timings: prompt eval time =     186.97 ms /    19 tokens (    9.84 ms per token,   101.62 tokens per second)\n",
      "llama_print_timings:        eval time =    1393.46 ms /    27 runs   (   51.61 ms per token,    19.38 tokens per second)\n",
      "llama_print_timings:       total time =    1617.12 ms\n",
      "Llama.generate: prefix-match hit\n"
     ]
    },
    {
     "name": "stdout",
     "output_type": "stream",
     "text": [
      "400 -- 1\n"
     ]
    },
    {
     "name": "stderr",
     "output_type": "stream",
     "text": [
      "\n",
      "llama_print_timings:        load time =    2260.34 ms\n",
      "llama_print_timings:      sample time =      11.40 ms /   115 runs   (    0.10 ms per token, 10085.95 tokens per second)\n",
      "llama_print_timings: prompt eval time =     193.63 ms /    25 tokens (    7.75 ms per token,   129.11 tokens per second)\n",
      "llama_print_timings:        eval time =    5913.15 ms /   114 runs   (   51.87 ms per token,    19.28 tokens per second)\n",
      "llama_print_timings:       total time =    6263.21 ms\n",
      "Llama.generate: prefix-match hit\n"
     ]
    },
    {
     "name": "stdout",
     "output_type": "stream",
     "text": [
      "401 -- 1\n"
     ]
    },
    {
     "name": "stderr",
     "output_type": "stream",
     "text": [
      "\n",
      "llama_print_timings:        load time =    2260.34 ms\n",
      "llama_print_timings:      sample time =       2.96 ms /    28 runs   (    0.11 ms per token,  9475.47 tokens per second)\n",
      "llama_print_timings: prompt eval time =     329.47 ms /    34 tokens (    9.69 ms per token,   103.20 tokens per second)\n",
      "llama_print_timings:        eval time =    1397.83 ms /    27 runs   (   51.77 ms per token,    19.32 tokens per second)\n",
      "llama_print_timings:       total time =    1764.36 ms\n",
      "Llama.generate: prefix-match hit\n"
     ]
    },
    {
     "name": "stdout",
     "output_type": "stream",
     "text": [
      "402 -- 1\n"
     ]
    },
    {
     "name": "stderr",
     "output_type": "stream",
     "text": [
      "\n",
      "llama_print_timings:        load time =    2260.34 ms\n",
      "llama_print_timings:      sample time =       2.95 ms /    29 runs   (    0.10 ms per token,  9823.85 tokens per second)\n",
      "llama_print_timings: prompt eval time =     186.95 ms /    20 tokens (    9.35 ms per token,   106.98 tokens per second)\n",
      "llama_print_timings:        eval time =    1446.98 ms /    28 runs   (   51.68 ms per token,    19.35 tokens per second)\n",
      "llama_print_timings:       total time =    1672.35 ms\n",
      "Llama.generate: prefix-match hit\n"
     ]
    },
    {
     "name": "stdout",
     "output_type": "stream",
     "text": [
      "403 -- 1\n"
     ]
    },
    {
     "name": "stderr",
     "output_type": "stream",
     "text": [
      "\n",
      "llama_print_timings:        load time =    2260.34 ms\n",
      "llama_print_timings:      sample time =       4.13 ms /    39 runs   (    0.11 ms per token,  9436.24 tokens per second)\n",
      "llama_print_timings: prompt eval time =     190.90 ms /    23 tokens (    8.30 ms per token,   120.48 tokens per second)\n",
      "llama_print_timings:        eval time =    1965.37 ms /    38 runs   (   51.72 ms per token,    19.33 tokens per second)\n",
      "llama_print_timings:       total time =    2209.62 ms\n",
      "Llama.generate: prefix-match hit\n"
     ]
    },
    {
     "name": "stdout",
     "output_type": "stream",
     "text": [
      "404 -- 1\n"
     ]
    },
    {
     "name": "stderr",
     "output_type": "stream",
     "text": [
      "\n",
      "llama_print_timings:        load time =    2260.34 ms\n",
      "llama_print_timings:      sample time =      10.67 ms /    54 runs   (    0.20 ms per token,  5059.02 tokens per second)\n",
      "llama_print_timings: prompt eval time =     192.49 ms /    25 tokens (    7.70 ms per token,   129.87 tokens per second)\n",
      "llama_print_timings:        eval time =    2768.20 ms /    53 runs   (   52.23 ms per token,    19.15 tokens per second)\n",
      "llama_print_timings:       total time =    3122.44 ms\n",
      "Llama.generate: prefix-match hit\n"
     ]
    },
    {
     "name": "stdout",
     "output_type": "stream",
     "text": [
      "405 -- 1\n"
     ]
    },
    {
     "name": "stderr",
     "output_type": "stream",
     "text": [
      "\n",
      "llama_print_timings:        load time =    2260.34 ms\n",
      "llama_print_timings:      sample time =       2.94 ms /    28 runs   (    0.10 ms per token,  9530.29 tokens per second)\n",
      "llama_print_timings: prompt eval time =     199.51 ms /    31 tokens (    6.44 ms per token,   155.38 tokens per second)\n",
      "llama_print_timings:        eval time =    1397.47 ms /    27 runs   (   51.76 ms per token,    19.32 tokens per second)\n",
      "llama_print_timings:       total time =    1633.75 ms\n",
      "Llama.generate: prefix-match hit\n"
     ]
    },
    {
     "name": "stdout",
     "output_type": "stream",
     "text": [
      "406 -- 1\n"
     ]
    },
    {
     "name": "stderr",
     "output_type": "stream",
     "text": [
      "\n",
      "llama_print_timings:        load time =    2260.34 ms\n",
      "llama_print_timings:      sample time =       3.05 ms /    29 runs   (    0.11 ms per token,  9517.56 tokens per second)\n",
      "llama_print_timings: prompt eval time =     186.51 ms /    19 tokens (    9.82 ms per token,   101.87 tokens per second)\n",
      "llama_print_timings:        eval time =    1445.88 ms /    28 runs   (   51.64 ms per token,    19.37 tokens per second)\n",
      "llama_print_timings:       total time =    1670.20 ms\n",
      "Llama.generate: prefix-match hit\n"
     ]
    },
    {
     "name": "stdout",
     "output_type": "stream",
     "text": [
      "407 -- 1\n"
     ]
    },
    {
     "name": "stderr",
     "output_type": "stream",
     "text": [
      "\n",
      "llama_print_timings:        load time =    2260.34 ms\n",
      "llama_print_timings:      sample time =       2.87 ms /    29 runs   (    0.10 ms per token, 10104.53 tokens per second)\n",
      "llama_print_timings: prompt eval time =     184.70 ms /    18 tokens (   10.26 ms per token,    97.46 tokens per second)\n",
      "llama_print_timings:        eval time =    1446.30 ms /    28 runs   (   51.65 ms per token,    19.36 tokens per second)\n",
      "llama_print_timings:       total time =    1668.99 ms\n",
      "Llama.generate: prefix-match hit\n"
     ]
    },
    {
     "name": "stdout",
     "output_type": "stream",
     "text": [
      "408 -- 1\n"
     ]
    },
    {
     "name": "stderr",
     "output_type": "stream",
     "text": [
      "\n",
      "llama_print_timings:        load time =    2260.34 ms\n",
      "llama_print_timings:      sample time =       3.12 ms /    29 runs   (    0.11 ms per token,  9291.89 tokens per second)\n",
      "llama_print_timings: prompt eval time =     182.77 ms /    15 tokens (   12.18 ms per token,    82.07 tokens per second)\n",
      "llama_print_timings:        eval time =    1444.06 ms /    28 runs   (   51.57 ms per token,    19.39 tokens per second)\n",
      "llama_print_timings:       total time =    1667.08 ms\n",
      "Llama.generate: prefix-match hit\n"
     ]
    },
    {
     "name": "stdout",
     "output_type": "stream",
     "text": [
      "409 -- 1\n"
     ]
    },
    {
     "name": "stderr",
     "output_type": "stream",
     "text": [
      "\n",
      "llama_print_timings:        load time =    2260.34 ms\n",
      "llama_print_timings:      sample time =       4.25 ms /    40 runs   (    0.11 ms per token,  9402.91 tokens per second)\n",
      "llama_print_timings: prompt eval time =     180.97 ms /    13 tokens (   13.92 ms per token,    71.83 tokens per second)\n",
      "llama_print_timings:        eval time =    2012.98 ms /    39 runs   (   51.61 ms per token,    19.37 tokens per second)\n",
      "llama_print_timings:       total time =    2246.80 ms\n",
      "Llama.generate: prefix-match hit\n"
     ]
    },
    {
     "name": "stdout",
     "output_type": "stream",
     "text": [
      "410 -- 1\n"
     ]
    },
    {
     "name": "stderr",
     "output_type": "stream",
     "text": [
      "\n",
      "llama_print_timings:        load time =    2260.34 ms\n",
      "llama_print_timings:      sample time =       3.04 ms /    29 runs   (    0.10 ms per token,  9552.04 tokens per second)\n",
      "llama_print_timings: prompt eval time =     186.96 ms /    19 tokens (    9.84 ms per token,   101.63 tokens per second)\n",
      "llama_print_timings:        eval time =    1447.24 ms /    28 runs   (   51.69 ms per token,    19.35 tokens per second)\n",
      "llama_print_timings:       total time =    1673.06 ms\n",
      "Llama.generate: prefix-match hit\n"
     ]
    },
    {
     "name": "stdout",
     "output_type": "stream",
     "text": [
      "411 -- 1\n"
     ]
    },
    {
     "name": "stderr",
     "output_type": "stream",
     "text": [
      "\n",
      "llama_print_timings:        load time =    2260.34 ms\n",
      "llama_print_timings:      sample time =       3.61 ms /    34 runs   (    0.11 ms per token,  9413.07 tokens per second)\n",
      "llama_print_timings: prompt eval time =     189.50 ms /    22 tokens (    8.61 ms per token,   116.10 tokens per second)\n",
      "llama_print_timings:        eval time =    1705.28 ms /    33 runs   (   51.68 ms per token,    19.35 tokens per second)\n",
      "llama_print_timings:       total time =    1940.79 ms\n",
      "Llama.generate: prefix-match hit\n"
     ]
    },
    {
     "name": "stdout",
     "output_type": "stream",
     "text": [
      "412 -- 1\n"
     ]
    },
    {
     "name": "stderr",
     "output_type": "stream",
     "text": [
      "\n",
      "llama_print_timings:        load time =    2260.34 ms\n",
      "llama_print_timings:      sample time =       3.14 ms /    29 runs   (    0.11 ms per token,  9241.56 tokens per second)\n",
      "llama_print_timings: prompt eval time =     187.23 ms /    19 tokens (    9.85 ms per token,   101.48 tokens per second)\n",
      "llama_print_timings:        eval time =    1448.57 ms /    28 runs   (   51.73 ms per token,    19.33 tokens per second)\n",
      "llama_print_timings:       total time =    1675.49 ms\n",
      "Llama.generate: prefix-match hit\n"
     ]
    },
    {
     "name": "stdout",
     "output_type": "stream",
     "text": [
      "413 -- 1\n"
     ]
    },
    {
     "name": "stderr",
     "output_type": "stream",
     "text": [
      "\n",
      "llama_print_timings:        load time =    2260.34 ms\n",
      "llama_print_timings:      sample time =       3.52 ms /    34 runs   (    0.10 ms per token,  9670.08 tokens per second)\n",
      "llama_print_timings: prompt eval time =     189.81 ms /    21 tokens (    9.04 ms per token,   110.64 tokens per second)\n",
      "llama_print_timings:        eval time =    1704.86 ms /    33 runs   (   51.66 ms per token,    19.36 tokens per second)\n",
      "llama_print_timings:       total time =    1939.61 ms\n",
      "Llama.generate: prefix-match hit\n"
     ]
    },
    {
     "name": "stdout",
     "output_type": "stream",
     "text": [
      "414 -- 1\n"
     ]
    },
    {
     "name": "stderr",
     "output_type": "stream",
     "text": [
      "\n",
      "llama_print_timings:        load time =    2260.34 ms\n",
      "llama_print_timings:      sample time =      10.73 ms /   119 runs   (    0.09 ms per token, 11091.43 tokens per second)\n",
      "llama_print_timings: prompt eval time =     186.85 ms /    30 tokens (    6.23 ms per token,   160.56 tokens per second)\n",
      "llama_print_timings:        eval time =    6119.24 ms /   118 runs   (   51.86 ms per token,    19.28 tokens per second)\n",
      "llama_print_timings:       total time =    6466.14 ms\n",
      "Llama.generate: prefix-match hit\n"
     ]
    },
    {
     "name": "stdout",
     "output_type": "stream",
     "text": [
      "415 -- 1\n"
     ]
    },
    {
     "name": "stderr",
     "output_type": "stream",
     "text": [
      "\n",
      "llama_print_timings:        load time =    2260.34 ms\n",
      "llama_print_timings:      sample time =       3.81 ms /    35 runs   (    0.11 ms per token,  9198.42 tokens per second)\n",
      "llama_print_timings: prompt eval time =     186.95 ms /    19 tokens (    9.84 ms per token,   101.63 tokens per second)\n",
      "llama_print_timings:        eval time =    1754.52 ms /    34 runs   (   51.60 ms per token,    19.38 tokens per second)\n",
      "llama_print_timings:       total time =    1989.19 ms\n",
      "Llama.generate: prefix-match hit\n"
     ]
    },
    {
     "name": "stdout",
     "output_type": "stream",
     "text": [
      "416 -- 1\n"
     ]
    },
    {
     "name": "stderr",
     "output_type": "stream",
     "text": [
      "\n",
      "llama_print_timings:        load time =    2260.34 ms\n",
      "llama_print_timings:      sample time =      12.97 ms /   128 runs   (    0.10 ms per token,  9865.13 tokens per second)\n",
      "llama_print_timings: prompt eval time =     199.71 ms /    31 tokens (    6.44 ms per token,   155.22 tokens per second)\n",
      "llama_print_timings:        eval time =    6596.99 ms /   127 runs   (   51.94 ms per token,    19.25 tokens per second)\n",
      "llama_print_timings:       total time =    6972.91 ms\n",
      "Llama.generate: prefix-match hit\n"
     ]
    },
    {
     "name": "stdout",
     "output_type": "stream",
     "text": [
      "417 -- 1\n"
     ]
    },
    {
     "name": "stderr",
     "output_type": "stream",
     "text": [
      "\n",
      "llama_print_timings:        load time =    2260.34 ms\n",
      "llama_print_timings:      sample time =      11.21 ms /   115 runs   (    0.10 ms per token, 10261.44 tokens per second)\n",
      "llama_print_timings: prompt eval time =     184.89 ms /    18 tokens (   10.27 ms per token,    97.35 tokens per second)\n",
      "llama_print_timings:        eval time =    5911.41 ms /   114 runs   (   51.85 ms per token,    19.28 tokens per second)\n",
      "llama_print_timings:       total time =    6252.46 ms\n",
      "Llama.generate: prefix-match hit\n"
     ]
    },
    {
     "name": "stdout",
     "output_type": "stream",
     "text": [
      "418 -- 1\n"
     ]
    },
    {
     "name": "stderr",
     "output_type": "stream",
     "text": [
      "\n",
      "llama_print_timings:        load time =    2260.34 ms\n",
      "llama_print_timings:      sample time =       4.12 ms /    40 runs   (    0.10 ms per token,  9713.45 tokens per second)\n",
      "llama_print_timings: prompt eval time =     191.15 ms /    23 tokens (    8.31 ms per token,   120.33 tokens per second)\n",
      "llama_print_timings:        eval time =    2018.15 ms /    39 runs   (   51.75 ms per token,    19.32 tokens per second)\n",
      "llama_print_timings:       total time =    2262.62 ms\n",
      "Llama.generate: prefix-match hit\n"
     ]
    },
    {
     "name": "stdout",
     "output_type": "stream",
     "text": [
      "419 -- 1\n"
     ]
    },
    {
     "name": "stderr",
     "output_type": "stream",
     "text": [
      "\n",
      "llama_print_timings:        load time =    2260.34 ms\n",
      "llama_print_timings:      sample time =      12.16 ms /   126 runs   (    0.10 ms per token, 10363.55 tokens per second)\n",
      "llama_print_timings: prompt eval time =     186.26 ms /    18 tokens (   10.35 ms per token,    96.64 tokens per second)\n",
      "llama_print_timings:        eval time =    6483.71 ms /   125 runs   (   51.87 ms per token,    19.28 tokens per second)\n",
      "llama_print_timings:       total time =    6840.74 ms\n",
      "Llama.generate: prefix-match hit\n"
     ]
    },
    {
     "name": "stdout",
     "output_type": "stream",
     "text": [
      "420 -- 1\n"
     ]
    },
    {
     "name": "stderr",
     "output_type": "stream",
     "text": [
      "\n",
      "llama_print_timings:        load time =    2260.34 ms\n",
      "llama_print_timings:      sample time =       3.33 ms /    29 runs   (    0.11 ms per token,  8703.48 tokens per second)\n",
      "llama_print_timings: prompt eval time =     185.08 ms /    17 tokens (   10.89 ms per token,    91.85 tokens per second)\n",
      "llama_print_timings:        eval time =    1449.35 ms /    28 runs   (   51.76 ms per token,    19.32 tokens per second)\n",
      "llama_print_timings:       total time =    1676.10 ms\n",
      "Llama.generate: prefix-match hit\n"
     ]
    },
    {
     "name": "stdout",
     "output_type": "stream",
     "text": [
      "421 -- 1\n"
     ]
    },
    {
     "name": "stderr",
     "output_type": "stream",
     "text": [
      "\n",
      "llama_print_timings:        load time =    2260.34 ms\n",
      "llama_print_timings:      sample time =       3.01 ms /    29 runs   (    0.10 ms per token,  9634.55 tokens per second)\n",
      "llama_print_timings: prompt eval time =     185.07 ms /    17 tokens (   10.89 ms per token,    91.86 tokens per second)\n",
      "llama_print_timings:        eval time =    1446.56 ms /    28 runs   (   51.66 ms per token,    19.36 tokens per second)\n",
      "llama_print_timings:       total time =    1670.57 ms\n",
      "Llama.generate: prefix-match hit\n"
     ]
    },
    {
     "name": "stdout",
     "output_type": "stream",
     "text": [
      "422 -- 1\n"
     ]
    },
    {
     "name": "stderr",
     "output_type": "stream",
     "text": [
      "\n",
      "llama_print_timings:        load time =    2260.34 ms\n",
      "llama_print_timings:      sample time =       2.96 ms /    28 runs   (    0.11 ms per token,  9453.07 tokens per second)\n",
      "llama_print_timings: prompt eval time =     184.90 ms /    17 tokens (   10.88 ms per token,    91.94 tokens per second)\n",
      "llama_print_timings:        eval time =    1394.10 ms /    27 runs   (   51.63 ms per token,    19.37 tokens per second)\n",
      "llama_print_timings:       total time =    1616.95 ms\n",
      "Llama.generate: prefix-match hit\n"
     ]
    },
    {
     "name": "stdout",
     "output_type": "stream",
     "text": [
      "423 -- 1\n"
     ]
    },
    {
     "name": "stderr",
     "output_type": "stream",
     "text": [
      "\n",
      "llama_print_timings:        load time =    2260.34 ms\n",
      "llama_print_timings:      sample time =       6.36 ms /    67 runs   (    0.09 ms per token, 10541.22 tokens per second)\n",
      "llama_print_timings: prompt eval time =     191.19 ms /    23 tokens (    8.31 ms per token,   120.30 tokens per second)\n",
      "llama_print_timings:        eval time =    3418.21 ms /    66 runs   (   51.79 ms per token,    19.31 tokens per second)\n",
      "llama_print_timings:       total time =    3699.26 ms\n",
      "Llama.generate: prefix-match hit\n"
     ]
    },
    {
     "name": "stdout",
     "output_type": "stream",
     "text": [
      "424 -- 1\n"
     ]
    },
    {
     "name": "stderr",
     "output_type": "stream",
     "text": [
      "\n",
      "llama_print_timings:        load time =    2260.34 ms\n",
      "llama_print_timings:      sample time =       4.10 ms /    40 runs   (    0.10 ms per token,  9758.48 tokens per second)\n",
      "llama_print_timings: prompt eval time =     186.58 ms /    30 tokens (    6.22 ms per token,   160.79 tokens per second)\n",
      "llama_print_timings:        eval time =    2020.61 ms /    39 runs   (   51.81 ms per token,    19.30 tokens per second)\n",
      "llama_print_timings:       total time =    2262.95 ms\n",
      "Llama.generate: prefix-match hit\n"
     ]
    },
    {
     "name": "stdout",
     "output_type": "stream",
     "text": [
      "425 -- 1\n"
     ]
    },
    {
     "name": "stderr",
     "output_type": "stream",
     "text": [
      "\n",
      "llama_print_timings:        load time =    2260.34 ms\n",
      "llama_print_timings:      sample time =       2.88 ms /    28 runs   (    0.10 ms per token,  9722.22 tokens per second)\n",
      "llama_print_timings: prompt eval time =     197.63 ms /    29 tokens (    6.81 ms per token,   146.74 tokens per second)\n",
      "llama_print_timings:        eval time =    1395.68 ms /    27 runs   (   51.69 ms per token,    19.35 tokens per second)\n",
      "llama_print_timings:       total time =    1630.77 ms\n",
      "Llama.generate: prefix-match hit\n"
     ]
    },
    {
     "name": "stdout",
     "output_type": "stream",
     "text": [
      "426 -- 1\n"
     ]
    },
    {
     "name": "stderr",
     "output_type": "stream",
     "text": [
      "\n",
      "llama_print_timings:        load time =    2260.34 ms\n",
      "llama_print_timings:      sample time =       4.22 ms /    41 runs   (    0.10 ms per token,  9715.64 tokens per second)\n",
      "llama_print_timings: prompt eval time =     186.85 ms /    19 tokens (    9.83 ms per token,   101.68 tokens per second)\n",
      "llama_print_timings:        eval time =    2067.95 ms /    40 runs   (   51.70 ms per token,    19.34 tokens per second)\n",
      "llama_print_timings:       total time =    2308.89 ms\n",
      "Llama.generate: prefix-match hit\n",
      "\n",
      "llama_print_timings:        load time =    2260.34 ms\n",
      "llama_print_timings:      sample time =      11.60 ms /   123 runs   (    0.09 ms per token, 10605.28 tokens per second)\n",
      "llama_print_timings: prompt eval time =     337.38 ms /    39 tokens (    8.65 ms per token,   115.60 tokens per second)\n",
      "llama_print_timings:        eval time =    6341.11 ms /   122 runs   (   51.98 ms per token,    19.24 tokens per second)\n",
      "llama_print_timings:       total time =    6845.20 ms\n",
      "Llama.generate: prefix-match hit\n"
     ]
    },
    {
     "name": "stdout",
     "output_type": "stream",
     "text": [
      "427 -- 1\n",
      "428 -- 1\n"
     ]
    },
    {
     "name": "stderr",
     "output_type": "stream",
     "text": [
      "\n",
      "llama_print_timings:        load time =    2260.34 ms\n",
      "llama_print_timings:      sample time =      11.36 ms /   115 runs   (    0.10 ms per token, 10120.57 tokens per second)\n",
      "llama_print_timings: prompt eval time =     182.97 ms /    15 tokens (   12.20 ms per token,    81.98 tokens per second)\n",
      "llama_print_timings:        eval time =    5909.03 ms /   114 runs   (   51.83 ms per token,    19.29 tokens per second)\n",
      "llama_print_timings:       total time =    6251.39 ms\n",
      "Llama.generate: prefix-match hit\n"
     ]
    },
    {
     "name": "stdout",
     "output_type": "stream",
     "text": [
      "429 -- 1\n"
     ]
    },
    {
     "name": "stderr",
     "output_type": "stream",
     "text": [
      "\n",
      "llama_print_timings:        load time =    2260.34 ms\n",
      "llama_print_timings:      sample time =       9.56 ms /    99 runs   (    0.10 ms per token, 10350.24 tokens per second)\n",
      "llama_print_timings: prompt eval time =     192.57 ms /    24 tokens (    8.02 ms per token,   124.63 tokens per second)\n",
      "llama_print_timings:        eval time =    5081.41 ms /    98 runs   (   51.85 ms per token,    19.29 tokens per second)\n",
      "llama_print_timings:       total time =    5407.88 ms\n",
      "Llama.generate: prefix-match hit\n"
     ]
    },
    {
     "name": "stdout",
     "output_type": "stream",
     "text": [
      "430 -- 1\n"
     ]
    },
    {
     "name": "stderr",
     "output_type": "stream",
     "text": [
      "\n",
      "llama_print_timings:        load time =    2260.34 ms\n",
      "llama_print_timings:      sample time =      11.32 ms /   119 runs   (    0.10 ms per token, 10515.15 tokens per second)\n",
      "llama_print_timings: prompt eval time =     184.86 ms /    17 tokens (   10.87 ms per token,    91.96 tokens per second)\n",
      "llama_print_timings:        eval time =    6117.90 ms /   118 runs   (   51.85 ms per token,    19.29 tokens per second)\n",
      "llama_print_timings:       total time =    6464.65 ms\n",
      "Llama.generate: prefix-match hit\n"
     ]
    },
    {
     "name": "stdout",
     "output_type": "stream",
     "text": [
      "431 -- 1\n"
     ]
    },
    {
     "name": "stderr",
     "output_type": "stream",
     "text": [
      "\n",
      "llama_print_timings:        load time =    2260.34 ms\n",
      "llama_print_timings:      sample time =       4.85 ms /    48 runs   (    0.10 ms per token,  9898.95 tokens per second)\n",
      "llama_print_timings: prompt eval time =     180.88 ms /    13 tokens (   13.91 ms per token,    71.87 tokens per second)\n",
      "llama_print_timings:        eval time =    2425.96 ms /    47 runs   (   51.62 ms per token,    19.37 tokens per second)\n",
      "llama_print_timings:       total time =    2670.52 ms\n",
      "Llama.generate: prefix-match hit\n"
     ]
    },
    {
     "name": "stdout",
     "output_type": "stream",
     "text": [
      "432 -- 1\n"
     ]
    },
    {
     "name": "stderr",
     "output_type": "stream",
     "text": [
      "\n",
      "llama_print_timings:        load time =    2260.34 ms\n",
      "llama_print_timings:      sample time =       7.80 ms /    79 runs   (    0.10 ms per token, 10133.40 tokens per second)\n",
      "llama_print_timings: prompt eval time =     184.34 ms /    18 tokens (   10.24 ms per token,    97.65 tokens per second)\n",
      "llama_print_timings:        eval time =    4037.50 ms /    78 runs   (   51.76 ms per token,    19.32 tokens per second)\n",
      "llama_print_timings:       total time =    4330.27 ms\n",
      "Llama.generate: prefix-match hit\n"
     ]
    },
    {
     "name": "stdout",
     "output_type": "stream",
     "text": [
      "433 -- 1\n"
     ]
    },
    {
     "name": "stderr",
     "output_type": "stream",
     "text": [
      "\n",
      "llama_print_timings:        load time =    2260.34 ms\n",
      "llama_print_timings:      sample time =      11.46 ms /   111 runs   (    0.10 ms per token,  9686.71 tokens per second)\n",
      "llama_print_timings: prompt eval time =     192.25 ms /    24 tokens (    8.01 ms per token,   124.84 tokens per second)\n",
      "llama_print_timings:        eval time =    5702.87 ms /   110 runs   (   51.84 ms per token,    19.29 tokens per second)\n",
      "llama_print_timings:       total time =    6045.92 ms\n",
      "Llama.generate: prefix-match hit\n"
     ]
    },
    {
     "name": "stdout",
     "output_type": "stream",
     "text": [
      "434 -- 1\n"
     ]
    },
    {
     "name": "stderr",
     "output_type": "stream",
     "text": [
      "\n",
      "llama_print_timings:        load time =    2260.34 ms\n",
      "llama_print_timings:      sample time =       3.10 ms /    29 runs   (    0.11 ms per token,  9357.86 tokens per second)\n",
      "llama_print_timings: prompt eval time =     188.90 ms /    22 tokens (    8.59 ms per token,   116.47 tokens per second)\n",
      "llama_print_timings:        eval time =    1446.91 ms /    28 runs   (   51.68 ms per token,    19.35 tokens per second)\n",
      "llama_print_timings:       total time =    1674.02 ms\n",
      "Llama.generate: prefix-match hit\n"
     ]
    },
    {
     "name": "stdout",
     "output_type": "stream",
     "text": [
      "435 -- 1\n"
     ]
    },
    {
     "name": "stderr",
     "output_type": "stream",
     "text": [
      "\n",
      "llama_print_timings:        load time =    2260.34 ms\n",
      "llama_print_timings:      sample time =      14.07 ms /   143 runs   (    0.10 ms per token, 10165.64 tokens per second)\n",
      "llama_print_timings: prompt eval time =     193.37 ms /    26 tokens (    7.44 ms per token,   134.45 tokens per second)\n",
      "llama_print_timings:        eval time =    7374.81 ms /   142 runs   (   51.94 ms per token,    19.25 tokens per second)\n",
      "llama_print_timings:       total time =    7763.91 ms\n",
      "Llama.generate: prefix-match hit\n"
     ]
    },
    {
     "name": "stdout",
     "output_type": "stream",
     "text": [
      "436 -- 1\n"
     ]
    },
    {
     "name": "stderr",
     "output_type": "stream",
     "text": [
      "\n",
      "llama_print_timings:        load time =    2260.34 ms\n",
      "llama_print_timings:      sample time =      10.18 ms /    99 runs   (    0.10 ms per token,  9724.00 tokens per second)\n",
      "llama_print_timings: prompt eval time =     191.11 ms /    23 tokens (    8.31 ms per token,   120.35 tokens per second)\n",
      "llama_print_timings:        eval time =    5082.48 ms /    98 runs   (   51.86 ms per token,    19.28 tokens per second)\n",
      "llama_print_timings:       total time =    5408.55 ms\n",
      "Llama.generate: prefix-match hit\n"
     ]
    },
    {
     "name": "stdout",
     "output_type": "stream",
     "text": [
      "437 -- 1\n"
     ]
    },
    {
     "name": "stderr",
     "output_type": "stream",
     "text": [
      "\n",
      "llama_print_timings:        load time =    2260.34 ms\n",
      "llama_print_timings:      sample time =       8.93 ms /    94 runs   (    0.09 ms per token, 10532.21 tokens per second)\n",
      "llama_print_timings: prompt eval time =     192.67 ms /    24 tokens (    8.03 ms per token,   124.57 tokens per second)\n",
      "llama_print_timings:        eval time =    4821.41 ms /    93 runs   (   51.84 ms per token,    19.29 tokens per second)\n",
      "llama_print_timings:       total time =    5140.22 ms\n",
      "Llama.generate: prefix-match hit\n"
     ]
    },
    {
     "name": "stdout",
     "output_type": "stream",
     "text": [
      "438 -- 1\n"
     ]
    },
    {
     "name": "stderr",
     "output_type": "stream",
     "text": [
      "\n",
      "llama_print_timings:        load time =    2260.34 ms\n",
      "llama_print_timings:      sample time =       3.08 ms /    29 runs   (    0.11 ms per token,  9424.76 tokens per second)\n",
      "llama_print_timings: prompt eval time =     186.74 ms /    19 tokens (    9.83 ms per token,   101.75 tokens per second)\n",
      "llama_print_timings:        eval time =    1446.97 ms /    28 runs   (   51.68 ms per token,    19.35 tokens per second)\n",
      "llama_print_timings:       total time =    1673.39 ms\n",
      "Llama.generate: prefix-match hit\n"
     ]
    },
    {
     "name": "stdout",
     "output_type": "stream",
     "text": [
      "439 -- 1\n"
     ]
    },
    {
     "name": "stderr",
     "output_type": "stream",
     "text": [
      "\n",
      "llama_print_timings:        load time =    2260.34 ms\n",
      "llama_print_timings:      sample time =       3.02 ms /    28 runs   (    0.11 ms per token,  9265.39 tokens per second)\n",
      "llama_print_timings: prompt eval time =     193.15 ms /    26 tokens (    7.43 ms per token,   134.61 tokens per second)\n",
      "llama_print_timings:        eval time =    1396.10 ms /    27 runs   (   51.71 ms per token,    19.34 tokens per second)\n",
      "llama_print_timings:       total time =    1626.99 ms\n",
      "Llama.generate: prefix-match hit\n"
     ]
    },
    {
     "name": "stdout",
     "output_type": "stream",
     "text": [
      "440 -- 1\n"
     ]
    },
    {
     "name": "stderr",
     "output_type": "stream",
     "text": [
      "\n",
      "llama_print_timings:        load time =    2260.34 ms\n",
      "llama_print_timings:      sample time =      13.03 ms /   135 runs   (    0.10 ms per token, 10364.68 tokens per second)\n",
      "llama_print_timings: prompt eval time =     347.78 ms /    48 tokens (    7.25 ms per token,   138.02 tokens per second)\n",
      "llama_print_timings:        eval time =    6970.38 ms /   134 runs   (   52.02 ms per token,    19.22 tokens per second)\n",
      "llama_print_timings:       total time =    7504.47 ms\n",
      "Llama.generate: prefix-match hit\n"
     ]
    },
    {
     "name": "stdout",
     "output_type": "stream",
     "text": [
      "441 -- 1\n"
     ]
    },
    {
     "name": "stderr",
     "output_type": "stream",
     "text": [
      "\n",
      "llama_print_timings:        load time =    2260.34 ms\n",
      "llama_print_timings:      sample time =       2.87 ms /    29 runs   (    0.10 ms per token, 10090.47 tokens per second)\n",
      "llama_print_timings: prompt eval time =     176.95 ms /    10 tokens (   17.69 ms per token,    56.51 tokens per second)\n",
      "llama_print_timings:        eval time =    1444.08 ms /    28 runs   (   51.57 ms per token,    19.39 tokens per second)\n",
      "llama_print_timings:       total time =    1659.13 ms\n",
      "Llama.generate: prefix-match hit\n"
     ]
    },
    {
     "name": "stdout",
     "output_type": "stream",
     "text": [
      "442 -- 1\n"
     ]
    },
    {
     "name": "stderr",
     "output_type": "stream",
     "text": [
      "\n",
      "llama_print_timings:        load time =    2260.34 ms\n",
      "llama_print_timings:      sample time =      10.19 ms /    99 runs   (    0.10 ms per token,  9713.50 tokens per second)\n",
      "llama_print_timings: prompt eval time =     189.53 ms /    21 tokens (    9.03 ms per token,   110.80 tokens per second)\n",
      "llama_print_timings:        eval time =    5077.00 ms /    98 runs   (   51.81 ms per token,    19.30 tokens per second)\n",
      "llama_print_timings:       total time =    5401.34 ms\n",
      "Llama.generate: prefix-match hit\n"
     ]
    },
    {
     "name": "stdout",
     "output_type": "stream",
     "text": [
      "443 -- 1\n"
     ]
    },
    {
     "name": "stderr",
     "output_type": "stream",
     "text": [
      "\n",
      "llama_print_timings:        load time =    2260.34 ms\n",
      "llama_print_timings:      sample time =       2.96 ms /    29 runs   (    0.10 ms per token,  9780.78 tokens per second)\n",
      "llama_print_timings: prompt eval time =     195.34 ms /    28 tokens (    6.98 ms per token,   143.34 tokens per second)\n",
      "llama_print_timings:        eval time =    1446.34 ms /    28 runs   (   51.65 ms per token,    19.36 tokens per second)\n",
      "llama_print_timings:       total time =    1680.48 ms\n",
      "Llama.generate: prefix-match hit\n"
     ]
    },
    {
     "name": "stdout",
     "output_type": "stream",
     "text": [
      "444 -- 1\n"
     ]
    },
    {
     "name": "stderr",
     "output_type": "stream",
     "text": [
      "\n",
      "llama_print_timings:        load time =    2260.34 ms\n",
      "llama_print_timings:      sample time =       3.23 ms /    29 runs   (    0.11 ms per token,  8989.46 tokens per second)\n",
      "llama_print_timings: prompt eval time =     183.56 ms /    16 tokens (   11.47 ms per token,    87.16 tokens per second)\n",
      "llama_print_timings:        eval time =    1446.19 ms /    28 runs   (   51.65 ms per token,    19.36 tokens per second)\n",
      "llama_print_timings:       total time =    1671.89 ms\n"
     ]
    }
   ],
   "source": [
    "results = []\n",
    "i = 0\n",
    "for _, row in test.iterrows():\n",
    "  prepared_prompt = prompt + row['text'] + \"\\n### OUTPUT:\\n\"\n",
    "  json_out = ''\n",
    "  attempt = 0\n",
    "  while True:\n",
    "    attempt += 1\n",
    "    json_out = generate(prepared_prompt, attempt)\n",
    "    parsedJson = parseResult(json_out, row)\n",
    "    print(f\"{i} -- {attempt}\")\n",
    "    if parsedJson is not None:\n",
    "      parsedJson['id'] = row['id']\n",
    "      parsedJson['text'] = row['text']\n",
    "      results.append(parsedJson)\n",
    "      i+=1\n",
    "      break\n"
   ]
  },
  {
   "cell_type": "code",
   "execution_count": 26,
   "metadata": {},
   "outputs": [
    {
     "data": {
      "text/plain": [
       "445"
      ]
     },
     "execution_count": 26,
     "metadata": {},
     "output_type": "execute_result"
    }
   ],
   "source": [
    "results_df = pd.DataFrame(results, columns=['id', 'text', 'output', 'explanation'])\n",
    "results_df.to_json('outputs-task1-hetero-openocra7b-nohumor.json', orient=\"records\")\n",
    "len(results_df)"
   ]
  },
  {
   "cell_type": "code",
   "execution_count": 27,
   "metadata": {},
   "outputs": [],
   "source": [
    "results_df['output'] = results_df['output'].replace({True: 1, False: 0})"
   ]
  },
  {
   "cell_type": "code",
   "execution_count": 28,
   "metadata": {},
   "outputs": [],
   "source": [
    "\n",
    "y_true = [int(x) for x in list(test['label'])]\n",
    "y_pred = [int(x) for x in list(results_df['output'])]"
   ]
  },
  {
   "cell_type": "code",
   "execution_count": 29,
   "metadata": {},
   "outputs": [
    {
     "name": "stdout",
     "output_type": "stream",
     "text": [
      "              precision    recall  f1-score   support\n",
      "\n",
      "           0     0.3938    0.9055    0.5489       127\n",
      "           1     0.9216    0.4434    0.5987       318\n",
      "\n",
      "    accuracy                         0.5753       445\n",
      "   macro avg     0.6577    0.6745    0.5738       445\n",
      "weighted avg     0.7710    0.5753    0.5845       445\n",
      "\n"
     ]
    }
   ],
   "source": [
    "print(classification_report(y_true, y_pred, digits=4))"
   ]
  },
  {
   "cell_type": "markdown",
   "metadata": {},
   "source": [
    "### Task 2 and 3: Pun Location and Interpretation"
   ]
  },
  {
   "cell_type": "code",
   "execution_count": 7,
   "metadata": {},
   "outputs": [],
   "source": [
    "def clean_sentence(text):\n",
    "  res = text.replace(\" ' ' \", '\" ')\n",
    "  res = res.replace(\" ' \", \"'\")\n",
    "  res = res.replace(\" , \", \", \")\n",
    "  res = res.replace(\" . \", \". \")\n",
    "  res = res.replace(\" .\", \". \")\n",
    "  res = res.replace(\" ! \", \"! \")\n",
    "  res = res.replace(\" !\", \"! \")\n",
    "  res = res.replace(\" ? \", \"? \")\n",
    "  res = res.replace(\" ?\", \"? \")\n",
    "  res = res.replace(\" - \", \"-\")\n",
    "  return res.strip()"
   ]
  },
  {
   "cell_type": "code",
   "execution_count": 15,
   "metadata": {},
   "outputs": [
    {
     "data": {
      "text/html": [
       "<div>\n",
       "<style scoped>\n",
       "    .dataframe tbody tr th:only-of-type {\n",
       "        vertical-align: middle;\n",
       "    }\n",
       "\n",
       "    .dataframe tbody tr th {\n",
       "        vertical-align: top;\n",
       "    }\n",
       "\n",
       "    .dataframe thead th {\n",
       "        text-align: right;\n",
       "    }\n",
       "</style>\n",
       "<table border=\"1\" class=\"dataframe\">\n",
       "  <thead>\n",
       "    <tr style=\"text-align: right;\">\n",
       "      <th></th>\n",
       "      <th>text</th>\n",
       "      <th>pun_word</th>\n",
       "    </tr>\n",
       "  </thead>\n",
       "  <tbody>\n",
       "    <tr>\n",
       "      <th>0</th>\n",
       "      <td>In some countries there is a lot of Manuel labor.</td>\n",
       "      <td>Manuel</td>\n",
       "    </tr>\n",
       "    <tr>\n",
       "      <th>1</th>\n",
       "      <td>Someone who attempts long distance fraud is kn...</td>\n",
       "      <td>phony</td>\n",
       "    </tr>\n",
       "    <tr>\n",
       "      <th>2</th>\n",
       "      <td>In the delivery room, the unborn infant expect...</td>\n",
       "      <td>berth</td>\n",
       "    </tr>\n",
       "    <tr>\n",
       "      <th>3</th>\n",
       "      <td>Beautifully manicured lawns are highly sod after.</td>\n",
       "      <td>sod</td>\n",
       "    </tr>\n",
       "    <tr>\n",
       "      <th>4</th>\n",
       "      <td>I saw something similar to moss the other day,...</td>\n",
       "      <td>lichen</td>\n",
       "    </tr>\n",
       "  </tbody>\n",
       "</table>\n",
       "</div>"
      ],
      "text/plain": [
       "                                                text pun_word\n",
       "0  In some countries there is a lot of Manuel labor.   Manuel\n",
       "1  Someone who attempts long distance fraud is kn...    phony\n",
       "2  In the delivery room, the unborn infant expect...    berth\n",
       "3  Beautifully manicured lawns are highly sod after.      sod\n",
       "4  I saw something similar to moss the other day,...   lichen"
      ]
     },
     "execution_count": 15,
     "metadata": {},
     "output_type": "execute_result"
    }
   ],
   "source": [
    "df = pd.read_json('data/llm_task2_hetero.json', orient=\"records\")\n",
    "df['sentence'] = df['sentence'].apply(clean_sentence)\n",
    "df = df.rename(columns={'sentence': 'text'})\n",
    "df.head()"
   ]
  },
  {
   "cell_type": "code",
   "execution_count": 16,
   "metadata": {},
   "outputs": [
    {
     "data": {
      "text/plain": [
       "318"
      ]
     },
     "execution_count": 16,
     "metadata": {},
     "output_type": "execute_result"
    }
   ],
   "source": [
    "test = df\n",
    "len(test)"
   ]
  },
  {
   "cell_type": "code",
   "execution_count": 17,
   "metadata": {},
   "outputs": [],
   "source": [
    "prompt = f''' ### INSTRUCTION:\n",
    "You are to identify the pun word in a given sentence. It is guaranteed that the sentence has a pun word.\\n\n",
    "Also, list all the words that realize each interpretation of the pun word. If there are multiple words that support an interpretation, separate them with a semicolon.\\n\n",
    "Here are two examples of the cases you will encounter:\n",
    "1. An example with heterographic puns (words that sound similar) - \n",
    "The magician got so mad that he pulled his hare out.\n",
    "{{\n",
    "  \"pun_word\": \"hare\",\n",
    "  \"target_word\": \"hair\",\n",
    "  \"source_sense\": \"magician\",\n",
    "  \"target_sense\": \"angry;pulled\"\n",
    "}}\n",
    "2. An example with homographic puns (same words with different senses) -\n",
    "I used to be a banker but I lost interest.\n",
    "{{\n",
    "  \"pun_word\": \"interest\",\n",
    "  \"target_word\": \"interest\",\n",
    "  \"source_sense\": \"banker\",\n",
    "  \"target_sense\": \"used;to;be\"\n",
    "}}\n",
    "Identify the pun word in the input sentence and predict the target word. Also, pick the supporting words for each sense. Generate a response in the form of a valid JSON object with four keys: pun_word, target_word, source_sense and target_sense.\\n\n",
    "### INPUT:\\n\n",
    "'''"
   ]
  },
  {
   "cell_type": "code",
   "execution_count": 18,
   "metadata": {},
   "outputs": [
    {
     "name": "stderr",
     "output_type": "stream",
     "text": [
      "Llama.generate: prefix-match hit\n"
     ]
    },
    {
     "name": "stdout",
     "output_type": "stream",
     "text": [
      "0 -- 1\n"
     ]
    },
    {
     "name": "stderr",
     "output_type": "stream",
     "text": [
      "\n",
      "llama_print_timings:        load time =    3598.42 ms\n",
      "llama_print_timings:      sample time =       6.21 ms /    52 runs   (    0.12 ms per token,  8376.29 tokens per second)\n",
      "llama_print_timings: prompt eval time =    1647.81 ms /    17 tokens (   96.93 ms per token,    10.32 tokens per second)\n",
      "llama_print_timings:        eval time =    2614.43 ms /    51 runs   (   51.26 ms per token,    19.51 tokens per second)\n",
      "llama_print_timings:       total time =    4354.17 ms\n",
      "Llama.generate: prefix-match hit\n"
     ]
    },
    {
     "name": "stdout",
     "output_type": "stream",
     "text": [
      "1 -- 1\n"
     ]
    },
    {
     "name": "stderr",
     "output_type": "stream",
     "text": [
      "\n",
      "llama_print_timings:        load time =    3598.42 ms\n",
      "llama_print_timings:      sample time =       6.71 ms /    60 runs   (    0.11 ms per token,  8941.88 tokens per second)\n",
      "llama_print_timings: prompt eval time =     186.75 ms /    20 tokens (    9.34 ms per token,   107.10 tokens per second)\n",
      "llama_print_timings:        eval time =    3028.77 ms /    59 runs   (   51.34 ms per token,    19.48 tokens per second)\n",
      "llama_print_timings:       total time =    3308.68 ms\n",
      "Llama.generate: prefix-match hit\n"
     ]
    },
    {
     "name": "stdout",
     "output_type": "stream",
     "text": [
      "2 -- 1\n"
     ]
    },
    {
     "name": "stderr",
     "output_type": "stream",
     "text": [
      "\n",
      "llama_print_timings:        load time =    3598.42 ms\n",
      "llama_print_timings:      sample time =       4.98 ms /    52 runs   (    0.10 ms per token, 10433.39 tokens per second)\n",
      "llama_print_timings: prompt eval time =     190.72 ms /    24 tokens (    7.95 ms per token,   125.84 tokens per second)\n",
      "llama_print_timings:        eval time =    2608.28 ms /    51 runs   (   51.14 ms per token,    19.55 tokens per second)\n",
      "llama_print_timings:       total time =    2869.22 ms\n",
      "Llama.generate: prefix-match hit\n"
     ]
    },
    {
     "name": "stdout",
     "output_type": "stream",
     "text": [
      "3 -- 1\n"
     ]
    },
    {
     "name": "stderr",
     "output_type": "stream",
     "text": [
      "\n",
      "llama_print_timings:        load time =    3598.42 ms\n",
      "llama_print_timings:      sample time =       5.16 ms /    57 runs   (    0.09 ms per token, 11037.96 tokens per second)\n",
      "llama_print_timings: prompt eval time =     187.00 ms /    20 tokens (    9.35 ms per token,   106.95 tokens per second)\n",
      "llama_print_timings:        eval time =    2865.16 ms /    56 runs   (   51.16 ms per token,    19.55 tokens per second)\n",
      "llama_print_timings:       total time =    3126.28 ms\n",
      "Llama.generate: prefix-match hit\n"
     ]
    },
    {
     "name": "stdout",
     "output_type": "stream",
     "text": [
      "4 -- 1\n"
     ]
    },
    {
     "name": "stderr",
     "output_type": "stream",
     "text": [
      "\n",
      "llama_print_timings:        load time =    3598.42 ms\n",
      "llama_print_timings:      sample time =       6.07 ms /    63 runs   (    0.10 ms per token, 10380.62 tokens per second)\n",
      "llama_print_timings: prompt eval time =     199.40 ms /    30 tokens (    6.65 ms per token,   150.45 tokens per second)\n",
      "llama_print_timings:        eval time =    3181.80 ms /    62 runs   (   51.32 ms per token,    19.49 tokens per second)\n",
      "llama_print_timings:       total time =    3465.78 ms\n",
      "Llama.generate: prefix-match hit\n"
     ]
    },
    {
     "name": "stdout",
     "output_type": "stream",
     "text": [
      "5 -- 1\n"
     ]
    },
    {
     "name": "stderr",
     "output_type": "stream",
     "text": [
      "\n",
      "llama_print_timings:        load time =    3598.42 ms\n",
      "llama_print_timings:      sample time =       5.20 ms /    53 runs   (    0.10 ms per token, 10200.15 tokens per second)\n",
      "llama_print_timings: prompt eval time =     189.69 ms /    22 tokens (    8.62 ms per token,   115.98 tokens per second)\n",
      "llama_print_timings:        eval time =    2666.25 ms /    52 runs   (   51.27 ms per token,    19.50 tokens per second)\n",
      "llama_print_timings:       total time =    2927.96 ms\n",
      "Llama.generate: prefix-match hit\n"
     ]
    },
    {
     "name": "stdout",
     "output_type": "stream",
     "text": [
      "6 -- 1\n"
     ]
    },
    {
     "name": "stderr",
     "output_type": "stream",
     "text": [
      "\n",
      "llama_print_timings:        load time =    3598.42 ms\n",
      "llama_print_timings:      sample time =       5.19 ms /    57 runs   (    0.09 ms per token, 10976.31 tokens per second)\n",
      "llama_print_timings: prompt eval time =     182.85 ms /    16 tokens (   11.43 ms per token,    87.50 tokens per second)\n",
      "llama_print_timings:        eval time =    2867.61 ms /    56 runs   (   51.21 ms per token,    19.53 tokens per second)\n",
      "llama_print_timings:       total time =    3126.30 ms\n",
      "Llama.generate: prefix-match hit\n"
     ]
    },
    {
     "name": "stdout",
     "output_type": "stream",
     "text": [
      "7 -- 1\n"
     ]
    },
    {
     "name": "stderr",
     "output_type": "stream",
     "text": [
      "\n",
      "llama_print_timings:        load time =    3598.42 ms\n",
      "llama_print_timings:      sample time =       5.89 ms /    62 runs   (    0.09 ms per token, 10529.89 tokens per second)\n",
      "llama_print_timings: prompt eval time =     192.18 ms /    25 tokens (    7.69 ms per token,   130.09 tokens per second)\n",
      "llama_print_timings:        eval time =    3128.48 ms /    61 runs   (   51.29 ms per token,    19.50 tokens per second)\n",
      "llama_print_timings:       total time =    3402.75 ms\n",
      "Llama.generate: prefix-match hit\n"
     ]
    },
    {
     "name": "stdout",
     "output_type": "stream",
     "text": [
      "8 -- 1\n"
     ]
    },
    {
     "name": "stderr",
     "output_type": "stream",
     "text": [
      "\n",
      "llama_print_timings:        load time =    3598.42 ms\n",
      "llama_print_timings:      sample time =       5.88 ms /    61 runs   (    0.10 ms per token, 10374.15 tokens per second)\n",
      "llama_print_timings: prompt eval time =     196.72 ms /    29 tokens (    6.78 ms per token,   147.42 tokens per second)\n",
      "llama_print_timings:        eval time =    3077.64 ms /    60 runs   (   51.29 ms per token,    19.50 tokens per second)\n",
      "llama_print_timings:       total time =    3355.50 ms\n",
      "Llama.generate: prefix-match hit\n"
     ]
    },
    {
     "name": "stdout",
     "output_type": "stream",
     "text": [
      "9 -- 1\n"
     ]
    },
    {
     "name": "stderr",
     "output_type": "stream",
     "text": [
      "\n",
      "llama_print_timings:        load time =    3598.42 ms\n",
      "llama_print_timings:      sample time =       5.58 ms /    55 runs   (    0.10 ms per token,  9860.16 tokens per second)\n",
      "llama_print_timings: prompt eval time =     333.47 ms /    34 tokens (    9.81 ms per token,   101.96 tokens per second)\n",
      "llama_print_timings:        eval time =    2770.45 ms /    54 runs   (   51.30 ms per token,    19.49 tokens per second)\n",
      "llama_print_timings:       total time =    3179.54 ms\n",
      "Llama.generate: prefix-match hit\n"
     ]
    },
    {
     "name": "stdout",
     "output_type": "stream",
     "text": [
      "10 -- 1\n"
     ]
    },
    {
     "name": "stderr",
     "output_type": "stream",
     "text": [
      "\n",
      "llama_print_timings:        load time =    3598.42 ms\n",
      "llama_print_timings:      sample time =       5.44 ms /    55 runs   (    0.10 ms per token, 10104.72 tokens per second)\n",
      "llama_print_timings: prompt eval time =     190.66 ms /    24 tokens (    7.94 ms per token,   125.88 tokens per second)\n",
      "llama_print_timings:        eval time =    2773.90 ms /    54 runs   (   51.37 ms per token,    19.47 tokens per second)\n",
      "llama_print_timings:       total time =    3038.04 ms\n",
      "Llama.generate: prefix-match hit\n"
     ]
    },
    {
     "name": "stdout",
     "output_type": "stream",
     "text": [
      "11 -- 1\n"
     ]
    },
    {
     "name": "stderr",
     "output_type": "stream",
     "text": [
      "\n",
      "llama_print_timings:        load time =    3598.42 ms\n",
      "llama_print_timings:      sample time =       5.62 ms /    55 runs   (    0.10 ms per token,  9781.26 tokens per second)\n",
      "llama_print_timings: prompt eval time =     195.73 ms /    31 tokens (    6.31 ms per token,   158.38 tokens per second)\n",
      "llama_print_timings:        eval time =    2777.21 ms /    54 runs   (   51.43 ms per token,    19.44 tokens per second)\n",
      "llama_print_timings:       total time =    3049.61 ms\n",
      "Llama.generate: prefix-match hit\n"
     ]
    },
    {
     "name": "stdout",
     "output_type": "stream",
     "text": [
      "12 -- 1\n"
     ]
    },
    {
     "name": "stderr",
     "output_type": "stream",
     "text": [
      "\n",
      "llama_print_timings:        load time =    3598.42 ms\n",
      "llama_print_timings:      sample time =       5.80 ms /    59 runs   (    0.10 ms per token, 10163.65 tokens per second)\n",
      "llama_print_timings: prompt eval time =     189.35 ms /    22 tokens (    8.61 ms per token,   116.19 tokens per second)\n",
      "llama_print_timings:        eval time =    2982.06 ms /    58 runs   (   51.41 ms per token,    19.45 tokens per second)\n",
      "llama_print_timings:       total time =    3252.98 ms\n",
      "Llama.generate: prefix-match hit\n"
     ]
    },
    {
     "name": "stdout",
     "output_type": "stream",
     "text": [
      "13 -- 1\n"
     ]
    },
    {
     "name": "stderr",
     "output_type": "stream",
     "text": [
      "\n",
      "llama_print_timings:        load time =    3598.42 ms\n",
      "llama_print_timings:      sample time =       5.07 ms /    52 runs   (    0.10 ms per token, 10262.48 tokens per second)\n",
      "llama_print_timings: prompt eval time =     184.91 ms /    19 tokens (    9.73 ms per token,   102.75 tokens per second)\n",
      "llama_print_timings:        eval time =    2618.73 ms /    51 runs   (   51.35 ms per token,    19.48 tokens per second)\n",
      "llama_print_timings:       total time =    2875.56 ms\n",
      "Llama.generate: prefix-match hit\n"
     ]
    },
    {
     "name": "stdout",
     "output_type": "stream",
     "text": [
      "14 -- 1\n"
     ]
    },
    {
     "name": "stderr",
     "output_type": "stream",
     "text": [
      "\n",
      "llama_print_timings:        load time =    3598.42 ms\n",
      "llama_print_timings:      sample time =       5.45 ms /    56 runs   (    0.10 ms per token, 10284.66 tokens per second)\n",
      "llama_print_timings: prompt eval time =     191.34 ms /    24 tokens (    7.97 ms per token,   125.43 tokens per second)\n",
      "llama_print_timings:        eval time =    2827.93 ms /    55 runs   (   51.42 ms per token,    19.45 tokens per second)\n",
      "llama_print_timings:       total time =    3094.11 ms\n",
      "Llama.generate: prefix-match hit\n"
     ]
    },
    {
     "name": "stdout",
     "output_type": "stream",
     "text": [
      "15 -- 1\n"
     ]
    },
    {
     "name": "stderr",
     "output_type": "stream",
     "text": [
      "\n",
      "llama_print_timings:        load time =    3598.42 ms\n",
      "llama_print_timings:      sample time =       4.99 ms /    52 runs   (    0.10 ms per token, 10422.93 tokens per second)\n",
      "llama_print_timings: prompt eval time =     195.46 ms /    28 tokens (    6.98 ms per token,   143.26 tokens per second)\n",
      "llama_print_timings:        eval time =    2624.47 ms /    51 runs   (   51.46 ms per token,    19.43 tokens per second)\n",
      "llama_print_timings:       total time =    2890.03 ms\n",
      "Llama.generate: prefix-match hit\n"
     ]
    },
    {
     "name": "stdout",
     "output_type": "stream",
     "text": [
      "16 -- 1\n"
     ]
    },
    {
     "name": "stderr",
     "output_type": "stream",
     "text": [
      "\n",
      "llama_print_timings:        load time =    3598.42 ms\n",
      "llama_print_timings:      sample time =       5.51 ms /    57 runs   (    0.10 ms per token, 10342.95 tokens per second)\n",
      "llama_print_timings: prompt eval time =     177.94 ms /    10 tokens (   17.79 ms per token,    56.20 tokens per second)\n",
      "llama_print_timings:        eval time =    2873.91 ms /    56 runs   (   51.32 ms per token,    19.49 tokens per second)\n",
      "llama_print_timings:       total time =    3132.06 ms\n",
      "Llama.generate: prefix-match hit\n"
     ]
    },
    {
     "name": "stdout",
     "output_type": "stream",
     "text": [
      "17 -- 1\n"
     ]
    },
    {
     "name": "stderr",
     "output_type": "stream",
     "text": [
      "\n",
      "llama_print_timings:        load time =    3598.42 ms\n",
      "llama_print_timings:      sample time =       5.40 ms /    55 runs   (    0.10 ms per token, 10181.41 tokens per second)\n",
      "llama_print_timings: prompt eval time =     199.35 ms /    30 tokens (    6.64 ms per token,   150.49 tokens per second)\n",
      "llama_print_timings:        eval time =    2775.73 ms /    54 runs   (   51.40 ms per token,    19.45 tokens per second)\n",
      "llama_print_timings:       total time =    3049.96 ms\n",
      "Llama.generate: prefix-match hit\n"
     ]
    },
    {
     "name": "stdout",
     "output_type": "stream",
     "text": [
      "18 -- 1\n"
     ]
    },
    {
     "name": "stderr",
     "output_type": "stream",
     "text": [
      "\n",
      "llama_print_timings:        load time =    3598.42 ms\n",
      "llama_print_timings:      sample time =       5.85 ms /    62 runs   (    0.09 ms per token, 10601.92 tokens per second)\n",
      "llama_print_timings: prompt eval time =     186.66 ms /    20 tokens (    9.33 ms per token,   107.14 tokens per second)\n",
      "llama_print_timings:        eval time =    3134.35 ms /    61 runs   (   51.38 ms per token,    19.46 tokens per second)\n",
      "llama_print_timings:       total time =    3404.95 ms\n",
      "Llama.generate: prefix-match hit\n"
     ]
    },
    {
     "name": "stdout",
     "output_type": "stream",
     "text": [
      "19 -- 1\n"
     ]
    },
    {
     "name": "stderr",
     "output_type": "stream",
     "text": [
      "\n",
      "llama_print_timings:        load time =    3598.42 ms\n",
      "llama_print_timings:      sample time =       5.02 ms /    51 runs   (    0.10 ms per token, 10151.27 tokens per second)\n",
      "llama_print_timings: prompt eval time =     184.62 ms /    17 tokens (   10.86 ms per token,    92.08 tokens per second)\n",
      "llama_print_timings:        eval time =    2567.67 ms /    50 runs   (   51.35 ms per token,    19.47 tokens per second)\n",
      "llama_print_timings:       total time =    2823.41 ms\n",
      "Llama.generate: prefix-match hit\n"
     ]
    },
    {
     "name": "stdout",
     "output_type": "stream",
     "text": [
      "20 -- 1\n"
     ]
    },
    {
     "name": "stderr",
     "output_type": "stream",
     "text": [
      "\n",
      "llama_print_timings:        load time =    3598.42 ms\n",
      "llama_print_timings:      sample time =       5.28 ms /    55 runs   (    0.10 ms per token, 10418.64 tokens per second)\n",
      "llama_print_timings: prompt eval time =     189.12 ms /    21 tokens (    9.01 ms per token,   111.04 tokens per second)\n",
      "llama_print_timings:        eval time =    2771.46 ms /    54 runs   (   51.32 ms per token,    19.48 tokens per second)\n",
      "llama_print_timings:       total time =    3035.05 ms\n",
      "Llama.generate: prefix-match hit\n"
     ]
    },
    {
     "name": "stdout",
     "output_type": "stream",
     "text": [
      "21 -- 1\n"
     ]
    },
    {
     "name": "stderr",
     "output_type": "stream",
     "text": [
      "\n",
      "llama_print_timings:        load time =    3598.42 ms\n",
      "llama_print_timings:      sample time =       4.78 ms /    50 runs   (    0.10 ms per token, 10471.20 tokens per second)\n",
      "llama_print_timings: prompt eval time =     185.05 ms /    19 tokens (    9.74 ms per token,   102.68 tokens per second)\n",
      "llama_print_timings:        eval time =    2513.57 ms /    49 runs   (   51.30 ms per token,    19.49 tokens per second)\n",
      "llama_print_timings:       total time =    2766.51 ms\n",
      "Llama.generate: prefix-match hit\n"
     ]
    },
    {
     "name": "stdout",
     "output_type": "stream",
     "text": [
      "22 -- 1\n"
     ]
    },
    {
     "name": "stderr",
     "output_type": "stream",
     "text": [
      "\n",
      "llama_print_timings:        load time =    3598.42 ms\n",
      "llama_print_timings:      sample time =       5.21 ms /    55 runs   (    0.09 ms per token, 10560.68 tokens per second)\n",
      "llama_print_timings: prompt eval time =     181.00 ms /    15 tokens (   12.07 ms per token,    82.87 tokens per second)\n",
      "llama_print_timings:        eval time =    2773.28 ms /    54 runs   (   51.36 ms per token,    19.47 tokens per second)\n",
      "llama_print_timings:       total time =    3027.80 ms\n",
      "Llama.generate: prefix-match hit\n"
     ]
    },
    {
     "name": "stdout",
     "output_type": "stream",
     "text": [
      "23 -- 1\n"
     ]
    },
    {
     "name": "stderr",
     "output_type": "stream",
     "text": [
      "\n",
      "llama_print_timings:        load time =    3598.42 ms\n",
      "llama_print_timings:      sample time =       5.59 ms /    53 runs   (    0.11 ms per token,  9479.52 tokens per second)\n",
      "llama_print_timings: prompt eval time =     196.09 ms /    31 tokens (    6.33 ms per token,   158.09 tokens per second)\n",
      "llama_print_timings:        eval time =    2679.84 ms /    52 runs   (   51.54 ms per token,    19.40 tokens per second)\n",
      "llama_print_timings:       total time =    2951.13 ms\n",
      "Llama.generate: prefix-match hit\n"
     ]
    },
    {
     "name": "stdout",
     "output_type": "stream",
     "text": [
      "24 -- 1\n"
     ]
    },
    {
     "name": "stderr",
     "output_type": "stream",
     "text": [
      "\n",
      "llama_print_timings:        load time =    3598.42 ms\n",
      "llama_print_timings:      sample time =       5.26 ms /    56 runs   (    0.09 ms per token, 10646.39 tokens per second)\n",
      "llama_print_timings: prompt eval time =     195.53 ms /    28 tokens (    6.98 ms per token,   143.20 tokens per second)\n",
      "llama_print_timings:        eval time =    2829.08 ms /    55 runs   (   51.44 ms per token,    19.44 tokens per second)\n",
      "llama_print_timings:       total time =    3099.34 ms\n",
      "Llama.generate: prefix-match hit\n"
     ]
    },
    {
     "name": "stdout",
     "output_type": "stream",
     "text": [
      "25 -- 1\n"
     ]
    },
    {
     "name": "stderr",
     "output_type": "stream",
     "text": [
      "\n",
      "llama_print_timings:        load time =    3598.42 ms\n",
      "llama_print_timings:      sample time =       5.11 ms /    55 runs   (    0.09 ms per token, 10769.53 tokens per second)\n",
      "llama_print_timings: prompt eval time =     184.74 ms /    17 tokens (   10.87 ms per token,    92.02 tokens per second)\n",
      "llama_print_timings:        eval time =    2770.15 ms /    54 runs   (   51.30 ms per token,    19.49 tokens per second)\n",
      "llama_print_timings:       total time =    3028.39 ms\n",
      "Llama.generate: prefix-match hit\n"
     ]
    },
    {
     "name": "stdout",
     "output_type": "stream",
     "text": [
      "26 -- 1\n"
     ]
    },
    {
     "name": "stderr",
     "output_type": "stream",
     "text": [
      "\n",
      "llama_print_timings:        load time =    3598.42 ms\n",
      "llama_print_timings:      sample time =       5.65 ms /    60 runs   (    0.09 ms per token, 10611.96 tokens per second)\n",
      "llama_print_timings: prompt eval time =     195.16 ms /    28 tokens (    6.97 ms per token,   143.47 tokens per second)\n",
      "llama_print_timings:        eval time =    3032.15 ms /    59 runs   (   51.39 ms per token,    19.46 tokens per second)\n",
      "llama_print_timings:       total time =    3307.25 ms\n",
      "Llama.generate: prefix-match hit\n"
     ]
    },
    {
     "name": "stdout",
     "output_type": "stream",
     "text": [
      "27 -- 1\n"
     ]
    },
    {
     "name": "stderr",
     "output_type": "stream",
     "text": [
      "\n",
      "llama_print_timings:        load time =    3598.42 ms\n",
      "llama_print_timings:      sample time =       5.03 ms /    51 runs   (    0.10 ms per token, 10137.15 tokens per second)\n",
      "llama_print_timings: prompt eval time =     189.45 ms /    21 tokens (    9.02 ms per token,   110.85 tokens per second)\n",
      "llama_print_timings:        eval time =    2567.62 ms /    50 runs   (   51.35 ms per token,    19.47 tokens per second)\n",
      "llama_print_timings:       total time =    2827.11 ms\n",
      "Llama.generate: prefix-match hit\n"
     ]
    },
    {
     "name": "stdout",
     "output_type": "stream",
     "text": [
      "28 -- 1\n"
     ]
    },
    {
     "name": "stderr",
     "output_type": "stream",
     "text": [
      "\n",
      "llama_print_timings:        load time =    3598.42 ms\n",
      "llama_print_timings:      sample time =       5.48 ms /    57 runs   (    0.10 ms per token, 10409.06 tokens per second)\n",
      "llama_print_timings: prompt eval time =     184.98 ms /    19 tokens (    9.74 ms per token,   102.71 tokens per second)\n",
      "llama_print_timings:        eval time =    2873.79 ms /    56 runs   (   51.32 ms per token,    19.49 tokens per second)\n",
      "llama_print_timings:       total time =    3135.16 ms\n",
      "Llama.generate: prefix-match hit\n"
     ]
    },
    {
     "name": "stdout",
     "output_type": "stream",
     "text": [
      "29 -- 1\n"
     ]
    },
    {
     "name": "stderr",
     "output_type": "stream",
     "text": [
      "\n",
      "llama_print_timings:        load time =    3598.42 ms\n",
      "llama_print_timings:      sample time =       5.17 ms /    56 runs   (    0.09 ms per token, 10838.01 tokens per second)\n",
      "llama_print_timings: prompt eval time =     186.66 ms /    20 tokens (    9.33 ms per token,   107.14 tokens per second)\n",
      "llama_print_timings:        eval time =    2821.36 ms /    55 runs   (   51.30 ms per token,    19.49 tokens per second)\n",
      "llama_print_timings:       total time =    3082.59 ms\n",
      "Llama.generate: prefix-match hit\n"
     ]
    },
    {
     "name": "stdout",
     "output_type": "stream",
     "text": [
      "30 -- 1\n"
     ]
    },
    {
     "name": "stderr",
     "output_type": "stream",
     "text": [
      "\n",
      "llama_print_timings:        load time =    3598.42 ms\n",
      "llama_print_timings:      sample time =       4.98 ms /    51 runs   (    0.10 ms per token, 10251.26 tokens per second)\n",
      "llama_print_timings: prompt eval time =     191.00 ms /    24 tokens (    7.96 ms per token,   125.66 tokens per second)\n",
      "llama_print_timings:        eval time =    2567.28 ms /    50 runs   (   51.35 ms per token,    19.48 tokens per second)\n",
      "llama_print_timings:       total time =    2828.09 ms\n",
      "Llama.generate: prefix-match hit\n"
     ]
    },
    {
     "name": "stdout",
     "output_type": "stream",
     "text": [
      "31 -- 1\n"
     ]
    },
    {
     "name": "stderr",
     "output_type": "stream",
     "text": [
      "\n",
      "llama_print_timings:        load time =    3598.42 ms\n",
      "llama_print_timings:      sample time =       4.92 ms /    53 runs   (    0.09 ms per token, 10761.42 tokens per second)\n",
      "llama_print_timings: prompt eval time =     189.02 ms /    21 tokens (    9.00 ms per token,   111.10 tokens per second)\n",
      "llama_print_timings:        eval time =    2669.66 ms /    52 runs   (   51.34 ms per token,    19.48 tokens per second)\n",
      "llama_print_timings:       total time =    2930.10 ms\n",
      "Llama.generate: prefix-match hit\n"
     ]
    },
    {
     "name": "stdout",
     "output_type": "stream",
     "text": [
      "32 -- 1\n"
     ]
    },
    {
     "name": "stderr",
     "output_type": "stream",
     "text": [
      "\n",
      "llama_print_timings:        load time =    3598.42 ms\n",
      "llama_print_timings:      sample time =       4.74 ms /    50 runs   (    0.09 ms per token, 10546.30 tokens per second)\n",
      "llama_print_timings: prompt eval time =     188.65 ms /    23 tokens (    8.20 ms per token,   121.92 tokens per second)\n",
      "llama_print_timings:        eval time =    2515.24 ms /    49 runs   (   51.33 ms per token,    19.48 tokens per second)\n",
      "llama_print_timings:       total time =    2771.02 ms\n",
      "Llama.generate: prefix-match hit\n"
     ]
    },
    {
     "name": "stdout",
     "output_type": "stream",
     "text": [
      "33 -- 1\n"
     ]
    },
    {
     "name": "stderr",
     "output_type": "stream",
     "text": [
      "\n",
      "llama_print_timings:        load time =    3598.42 ms\n",
      "llama_print_timings:      sample time =       5.21 ms /    53 runs   (    0.10 ms per token, 10176.65 tokens per second)\n",
      "llama_print_timings: prompt eval time =     194.12 ms /    26 tokens (    7.47 ms per token,   133.94 tokens per second)\n",
      "llama_print_timings:        eval time =    2670.95 ms /    52 runs   (   51.36 ms per token,    19.47 tokens per second)\n",
      "llama_print_timings:       total time =    2936.34 ms\n",
      "Llama.generate: prefix-match hit\n"
     ]
    },
    {
     "name": "stdout",
     "output_type": "stream",
     "text": [
      "34 -- 1\n"
     ]
    },
    {
     "name": "stderr",
     "output_type": "stream",
     "text": [
      "\n",
      "llama_print_timings:        load time =    3598.42 ms\n",
      "llama_print_timings:      sample time =       5.40 ms /    55 runs   (    0.10 ms per token, 10192.74 tokens per second)\n",
      "llama_print_timings: prompt eval time =     189.71 ms /    22 tokens (    8.62 ms per token,   115.97 tokens per second)\n",
      "llama_print_timings:        eval time =    2773.25 ms /    54 runs   (   51.36 ms per token,    19.47 tokens per second)\n",
      "llama_print_timings:       total time =    3038.61 ms\n",
      "Llama.generate: prefix-match hit\n"
     ]
    },
    {
     "name": "stdout",
     "output_type": "stream",
     "text": [
      "35 -- 1\n"
     ]
    },
    {
     "name": "stderr",
     "output_type": "stream",
     "text": [
      "\n",
      "llama_print_timings:        load time =    3598.42 ms\n",
      "llama_print_timings:      sample time =       5.63 ms /    54 runs   (    0.10 ms per token,  9594.88 tokens per second)\n",
      "llama_print_timings: prompt eval time =     192.68 ms /    32 tokens (    6.02 ms per token,   166.08 tokens per second)\n",
      "llama_print_timings:        eval time =    2726.75 ms /    53 runs   (   51.45 ms per token,    19.44 tokens per second)\n",
      "llama_print_timings:       total time =    2994.75 ms\n",
      "Llama.generate: prefix-match hit\n",
      "\n",
      "llama_print_timings:        load time =    3598.42 ms\n",
      "llama_print_timings:      sample time =       6.04 ms /    55 runs   (    0.11 ms per token,  9110.49 tokens per second)\n",
      "llama_print_timings: prompt eval time =     188.93 ms /    21 tokens (    9.00 ms per token,   111.15 tokens per second)\n",
      "llama_print_timings:        eval time =    2802.82 ms /    54 runs   (   51.90 ms per token,    19.27 tokens per second)\n",
      "llama_print_timings:       total time =    3081.43 ms\n",
      "Llama.generate: prefix-match hit\n"
     ]
    },
    {
     "name": "stdout",
     "output_type": "stream",
     "text": [
      "36 -- 1\n",
      "37 -- 1\n"
     ]
    },
    {
     "name": "stderr",
     "output_type": "stream",
     "text": [
      "\n",
      "llama_print_timings:        load time =    3598.42 ms\n",
      "llama_print_timings:      sample time =       6.53 ms /    59 runs   (    0.11 ms per token,  9036.61 tokens per second)\n",
      "llama_print_timings: prompt eval time =     190.42 ms /    19 tokens (   10.02 ms per token,    99.78 tokens per second)\n",
      "llama_print_timings:        eval time =    3018.32 ms /    58 runs   (   52.04 ms per token,    19.22 tokens per second)\n",
      "llama_print_timings:       total time =    3299.25 ms\n",
      "Llama.generate: prefix-match hit\n",
      "\n",
      "llama_print_timings:        load time =    3598.42 ms\n",
      "llama_print_timings:      sample time =       5.79 ms /    57 runs   (    0.10 ms per token,  9853.07 tokens per second)\n",
      "llama_print_timings: prompt eval time =     193.60 ms /    22 tokens (    8.80 ms per token,   113.63 tokens per second)\n",
      "llama_print_timings:        eval time =    2973.90 ms /    56 runs   (   53.11 ms per token,    18.83 tokens per second)\n",
      "llama_print_timings:       total time =    3250.09 ms\n",
      "Llama.generate: prefix-match hit\n"
     ]
    },
    {
     "name": "stdout",
     "output_type": "stream",
     "text": [
      "38 -- 1\n",
      "39 -- 1\n"
     ]
    },
    {
     "name": "stderr",
     "output_type": "stream",
     "text": [
      "\n",
      "llama_print_timings:        load time =    3598.42 ms\n",
      "llama_print_timings:      sample time =       6.32 ms /    56 runs   (    0.11 ms per token,  8862.16 tokens per second)\n",
      "llama_print_timings: prompt eval time =     196.09 ms /    28 tokens (    7.00 ms per token,   142.79 tokens per second)\n",
      "llama_print_timings:        eval time =    2895.22 ms /    55 runs   (   52.64 ms per token,    19.00 tokens per second)\n",
      "llama_print_timings:       total time =    3182.41 ms\n",
      "Llama.generate: prefix-match hit\n"
     ]
    },
    {
     "name": "stdout",
     "output_type": "stream",
     "text": [
      "40 -- 1\n"
     ]
    },
    {
     "name": "stderr",
     "output_type": "stream",
     "text": [
      "\n",
      "llama_print_timings:        load time =    3598.42 ms\n",
      "llama_print_timings:      sample time =       6.61 ms /    62 runs   (    0.11 ms per token,  9381.15 tokens per second)\n",
      "llama_print_timings: prompt eval time =     191.79 ms /    22 tokens (    8.72 ms per token,   114.71 tokens per second)\n",
      "llama_print_timings:        eval time =    3175.14 ms /    61 runs   (   52.05 ms per token,    19.21 tokens per second)\n",
      "llama_print_timings:       total time =    3461.45 ms\n",
      "Llama.generate: prefix-match hit\n"
     ]
    },
    {
     "name": "stdout",
     "output_type": "stream",
     "text": [
      "41 -- 1\n"
     ]
    },
    {
     "name": "stderr",
     "output_type": "stream",
     "text": [
      "\n",
      "llama_print_timings:        load time =    3598.42 ms\n",
      "llama_print_timings:      sample time =       5.86 ms /    50 runs   (    0.12 ms per token,  8526.60 tokens per second)\n",
      "llama_print_timings: prompt eval time =     333.60 ms /    33 tokens (   10.11 ms per token,    98.92 tokens per second)\n",
      "llama_print_timings:        eval time =    2605.30 ms /    49 runs   (   53.17 ms per token,    18.81 tokens per second)\n",
      "llama_print_timings:       total time =    3022.75 ms\n",
      "Llama.generate: prefix-match hit\n"
     ]
    },
    {
     "name": "stdout",
     "output_type": "stream",
     "text": [
      "42 -- 1\n"
     ]
    },
    {
     "name": "stderr",
     "output_type": "stream",
     "text": [
      "\n",
      "llama_print_timings:        load time =    3598.42 ms\n",
      "llama_print_timings:      sample time =       5.81 ms /    56 runs   (    0.10 ms per token,  9643.53 tokens per second)\n",
      "llama_print_timings: prompt eval time =     193.00 ms /    18 tokens (   10.72 ms per token,    93.27 tokens per second)\n",
      "llama_print_timings:        eval time =    2855.31 ms /    55 runs   (   51.91 ms per token,    19.26 tokens per second)\n",
      "llama_print_timings:       total time =    3133.01 ms\n",
      "Llama.generate: prefix-match hit\n"
     ]
    },
    {
     "name": "stdout",
     "output_type": "stream",
     "text": [
      "43 -- 1\n"
     ]
    },
    {
     "name": "stderr",
     "output_type": "stream",
     "text": [
      "\n",
      "llama_print_timings:        load time =    3598.42 ms\n",
      "llama_print_timings:      sample time =       5.15 ms /    52 runs   (    0.10 ms per token, 10104.94 tokens per second)\n",
      "llama_print_timings: prompt eval time =     189.56 ms /    21 tokens (    9.03 ms per token,   110.78 tokens per second)\n",
      "llama_print_timings:        eval time =    2644.73 ms /    51 runs   (   51.86 ms per token,    19.28 tokens per second)\n",
      "llama_print_timings:       total time =    2905.88 ms\n",
      "Llama.generate: prefix-match hit\n"
     ]
    },
    {
     "name": "stdout",
     "output_type": "stream",
     "text": [
      "44 -- 1\n"
     ]
    },
    {
     "name": "stderr",
     "output_type": "stream",
     "text": [
      "\n",
      "llama_print_timings:        load time =    3598.42 ms\n",
      "llama_print_timings:      sample time =       4.98 ms /    52 runs   (    0.10 ms per token, 10452.26 tokens per second)\n",
      "llama_print_timings: prompt eval time =     184.75 ms /    17 tokens (   10.87 ms per token,    92.01 tokens per second)\n",
      "llama_print_timings:        eval time =    2619.92 ms /    51 runs   (   51.37 ms per token,    19.47 tokens per second)\n",
      "llama_print_timings:       total time =    2877.09 ms\n",
      "Llama.generate: prefix-match hit\n"
     ]
    },
    {
     "name": "stdout",
     "output_type": "stream",
     "text": [
      "45 -- 1\n"
     ]
    },
    {
     "name": "stderr",
     "output_type": "stream",
     "text": [
      "\n",
      "llama_print_timings:        load time =    3598.42 ms\n",
      "llama_print_timings:      sample time =       6.89 ms /    54 runs   (    0.13 ms per token,  7842.00 tokens per second)\n",
      "llama_print_timings: prompt eval time =     186.79 ms /    20 tokens (    9.34 ms per token,   107.07 tokens per second)\n",
      "llama_print_timings:        eval time =    2729.88 ms /    53 runs   (   51.51 ms per token,    19.41 tokens per second)\n",
      "llama_print_timings:       total time =    3017.37 ms\n",
      "Llama.generate: prefix-match hit\n"
     ]
    },
    {
     "name": "stdout",
     "output_type": "stream",
     "text": [
      "46 -- 1\n"
     ]
    },
    {
     "name": "stderr",
     "output_type": "stream",
     "text": [
      "\n",
      "llama_print_timings:        load time =    3598.42 ms\n",
      "llama_print_timings:      sample time =       6.68 ms /    54 runs   (    0.12 ms per token,  8078.99 tokens per second)\n",
      "llama_print_timings: prompt eval time =     190.82 ms /    21 tokens (    9.09 ms per token,   110.05 tokens per second)\n",
      "llama_print_timings:        eval time =    2728.40 ms /    53 runs   (   51.48 ms per token,    19.43 tokens per second)\n",
      "llama_print_timings:       total time =    3013.04 ms\n",
      "Llama.generate: prefix-match hit\n",
      "\n",
      "llama_print_timings:        load time =    3598.42 ms\n",
      "llama_print_timings:      sample time =       6.10 ms /    54 runs   (    0.11 ms per token,  8846.66 tokens per second)\n",
      "llama_print_timings: prompt eval time =     190.50 ms /    24 tokens (    7.94 ms per token,   125.98 tokens per second)\n",
      "llama_print_timings:        eval time =    2764.48 ms /    53 runs   (   52.16 ms per token,    19.17 tokens per second)\n",
      "llama_print_timings:       total time =    3042.17 ms\n",
      "Llama.generate: prefix-match hit\n"
     ]
    },
    {
     "name": "stdout",
     "output_type": "stream",
     "text": [
      "47 -- 1\n",
      "48 -- 1\n"
     ]
    },
    {
     "name": "stderr",
     "output_type": "stream",
     "text": [
      "\n",
      "llama_print_timings:        load time =    3598.42 ms\n",
      "llama_print_timings:      sample time =       7.86 ms /    56 runs   (    0.14 ms per token,  7125.59 tokens per second)\n",
      "llama_print_timings: prompt eval time =     193.19 ms /    27 tokens (    7.16 ms per token,   139.76 tokens per second)\n",
      "llama_print_timings:        eval time =    2855.16 ms /    55 runs   (   51.91 ms per token,    19.26 tokens per second)\n",
      "llama_print_timings:       total time =    3154.19 ms\n",
      "Llama.generate: prefix-match hit\n"
     ]
    },
    {
     "name": "stdout",
     "output_type": "stream",
     "text": [
      "49 -- 1\n"
     ]
    },
    {
     "name": "stderr",
     "output_type": "stream",
     "text": [
      "\n",
      "llama_print_timings:        load time =    3598.42 ms\n",
      "llama_print_timings:      sample time =       6.83 ms /    55 runs   (    0.12 ms per token,  8049.17 tokens per second)\n",
      "llama_print_timings: prompt eval time =     194.61 ms /    25 tokens (    7.78 ms per token,   128.46 tokens per second)\n",
      "llama_print_timings:        eval time =    2782.86 ms /    54 runs   (   51.53 ms per token,    19.40 tokens per second)\n",
      "llama_print_timings:       total time =    3068.41 ms\n",
      "Llama.generate: prefix-match hit\n",
      "\n",
      "llama_print_timings:        load time =    3598.42 ms\n",
      "llama_print_timings:      sample time =       6.75 ms /    56 runs   (    0.12 ms per token,  8290.16 tokens per second)\n",
      "llama_print_timings: prompt eval time =     187.31 ms /    20 tokens (    9.37 ms per token,   106.78 tokens per second)\n",
      "llama_print_timings:        eval time =    2829.86 ms /    55 runs   (   51.45 ms per token,    19.44 tokens per second)\n",
      "llama_print_timings:       total time =    3111.62 ms\n",
      "Llama.generate: prefix-match hit\n"
     ]
    },
    {
     "name": "stdout",
     "output_type": "stream",
     "text": [
      "50 -- 1\n",
      "51 -- 1\n"
     ]
    },
    {
     "name": "stderr",
     "output_type": "stream",
     "text": [
      "\n",
      "llama_print_timings:        load time =    3598.42 ms\n",
      "llama_print_timings:      sample time =       5.18 ms /    52 runs   (    0.10 ms per token, 10032.80 tokens per second)\n",
      "llama_print_timings: prompt eval time =     182.90 ms /    16 tokens (   11.43 ms per token,    87.48 tokens per second)\n",
      "llama_print_timings:        eval time =    2651.39 ms /    51 runs   (   51.99 ms per token,    19.24 tokens per second)\n",
      "llama_print_timings:       total time =    2914.21 ms\n",
      "Llama.generate: prefix-match hit\n"
     ]
    },
    {
     "name": "stdout",
     "output_type": "stream",
     "text": [
      "52 -- 1\n"
     ]
    },
    {
     "name": "stderr",
     "output_type": "stream",
     "text": [
      "\n",
      "llama_print_timings:        load time =    3598.42 ms\n",
      "llama_print_timings:      sample time =       6.93 ms /    64 runs   (    0.11 ms per token,  9231.21 tokens per second)\n",
      "llama_print_timings: prompt eval time =     347.62 ms /    49 tokens (    7.09 ms per token,   140.96 tokens per second)\n",
      "llama_print_timings:        eval time =    3269.74 ms /    63 runs   (   51.90 ms per token,    19.27 tokens per second)\n",
      "llama_print_timings:       total time =    3714.49 ms\n",
      "Llama.generate: prefix-match hit\n"
     ]
    },
    {
     "name": "stdout",
     "output_type": "stream",
     "text": [
      "53 -- 1\n"
     ]
    },
    {
     "name": "stderr",
     "output_type": "stream",
     "text": [
      "\n",
      "llama_print_timings:        load time =    3598.42 ms\n",
      "llama_print_timings:      sample time =       5.05 ms /    50 runs   (    0.10 ms per token,  9908.84 tokens per second)\n",
      "llama_print_timings: prompt eval time =     190.35 ms /    22 tokens (    8.65 ms per token,   115.58 tokens per second)\n",
      "llama_print_timings:        eval time =    2521.18 ms /    49 runs   (   51.45 ms per token,    19.44 tokens per second)\n",
      "llama_print_timings:       total time =    2782.82 ms\n",
      "Llama.generate: prefix-match hit\n"
     ]
    },
    {
     "name": "stdout",
     "output_type": "stream",
     "text": [
      "54 -- 1\n"
     ]
    },
    {
     "name": "stderr",
     "output_type": "stream",
     "text": [
      "\n",
      "llama_print_timings:        load time =    3598.42 ms\n",
      "llama_print_timings:      sample time =       5.45 ms /    58 runs   (    0.09 ms per token, 10646.11 tokens per second)\n",
      "llama_print_timings: prompt eval time =     186.86 ms /    20 tokens (    9.34 ms per token,   107.03 tokens per second)\n",
      "llama_print_timings:        eval time =    2931.88 ms /    57 runs   (   51.44 ms per token,    19.44 tokens per second)\n",
      "llama_print_timings:       total time =    3196.16 ms\n",
      "Llama.generate: prefix-match hit\n",
      "\n",
      "llama_print_timings:        load time =    3598.42 ms\n",
      "llama_print_timings:      sample time =       5.08 ms /    52 runs   (    0.10 ms per token, 10246.31 tokens per second)\n",
      "llama_print_timings: prompt eval time =     190.70 ms /    24 tokens (    7.95 ms per token,   125.85 tokens per second)\n",
      "llama_print_timings:        eval time =    2620.17 ms /    51 runs   (   51.38 ms per token,    19.46 tokens per second)\n",
      "llama_print_timings:       total time =    2881.31 ms\n",
      "Llama.generate: prefix-match hit\n"
     ]
    },
    {
     "name": "stdout",
     "output_type": "stream",
     "text": [
      "55 -- 1\n",
      "56 -- 1\n"
     ]
    },
    {
     "name": "stderr",
     "output_type": "stream",
     "text": [
      "\n",
      "llama_print_timings:        load time =    3598.42 ms\n",
      "llama_print_timings:      sample time =       5.00 ms /    54 runs   (    0.09 ms per token, 10808.65 tokens per second)\n",
      "llama_print_timings: prompt eval time =     184.99 ms /    19 tokens (    9.74 ms per token,   102.71 tokens per second)\n",
      "llama_print_timings:        eval time =    2731.14 ms /    53 runs   (   51.53 ms per token,    19.41 tokens per second)\n",
      "llama_print_timings:       total time =    2988.52 ms\n",
      "Llama.generate: prefix-match hit\n"
     ]
    },
    {
     "name": "stdout",
     "output_type": "stream",
     "text": [
      "57 -- 1\n"
     ]
    },
    {
     "name": "stderr",
     "output_type": "stream",
     "text": [
      "\n",
      "llama_print_timings:        load time =    3598.42 ms\n",
      "llama_print_timings:      sample time =      12.94 ms /   135 runs   (    0.10 ms per token, 10429.54 tokens per second)\n",
      "llama_print_timings: prompt eval time =     189.89 ms /    21 tokens (    9.04 ms per token,   110.59 tokens per second)\n",
      "llama_print_timings:        eval time =    6913.26 ms /   134 runs   (   51.59 ms per token,    19.38 tokens per second)\n",
      "llama_print_timings:       total time =    7288.38 ms\n",
      "Llama.generate: prefix-match hit\n",
      "\n",
      "llama_print_timings:        load time =    3598.42 ms\n",
      "llama_print_timings:      sample time =       4.80 ms /    51 runs   (    0.09 ms per token, 10618.36 tokens per second)\n",
      "llama_print_timings: prompt eval time =       0.00 ms /     1 tokens (    0.00 ms per token,      inf tokens per second)\n",
      "llama_print_timings:        eval time =    2614.53 ms /    51 runs   (   51.27 ms per token,    19.51 tokens per second)\n",
      "llama_print_timings:       total time =    2682.31 ms\n",
      "Llama.generate: prefix-match hit\n"
     ]
    },
    {
     "name": "stdout",
     "output_type": "stream",
     "text": [
      "57 -- 2\n",
      "58 -- 1\n"
     ]
    },
    {
     "name": "stderr",
     "output_type": "stream",
     "text": [
      "\n",
      "llama_print_timings:        load time =    3598.42 ms\n",
      "llama_print_timings:      sample time =       5.01 ms /    49 runs   (    0.10 ms per token,  9782.39 tokens per second)\n",
      "llama_print_timings: prompt eval time =     189.69 ms /    23 tokens (    8.25 ms per token,   121.25 tokens per second)\n",
      "llama_print_timings:        eval time =    2465.95 ms /    48 runs   (   51.37 ms per token,    19.47 tokens per second)\n",
      "llama_print_timings:       total time =    2724.90 ms\n",
      "Llama.generate: prefix-match hit\n"
     ]
    },
    {
     "name": "stdout",
     "output_type": "stream",
     "text": [
      "59 -- 1\n"
     ]
    },
    {
     "name": "stderr",
     "output_type": "stream",
     "text": [
      "\n",
      "llama_print_timings:        load time =    3598.42 ms\n",
      "llama_print_timings:      sample time =       5.41 ms /    56 runs   (    0.10 ms per token, 10343.55 tokens per second)\n",
      "llama_print_timings: prompt eval time =     185.17 ms /    19 tokens (    9.75 ms per token,   102.61 tokens per second)\n",
      "llama_print_timings:        eval time =    2818.32 ms /    55 runs   (   51.24 ms per token,    19.52 tokens per second)\n",
      "llama_print_timings:       total time =    3078.28 ms\n",
      "Llama.generate: prefix-match hit\n"
     ]
    },
    {
     "name": "stdout",
     "output_type": "stream",
     "text": [
      "60 -- 1\n"
     ]
    },
    {
     "name": "stderr",
     "output_type": "stream",
     "text": [
      "\n",
      "llama_print_timings:        load time =    3598.42 ms\n",
      "llama_print_timings:      sample time =       4.89 ms /    52 runs   (    0.09 ms per token, 10629.60 tokens per second)\n",
      "llama_print_timings: prompt eval time =     186.08 ms /    18 tokens (   10.34 ms per token,    96.73 tokens per second)\n",
      "llama_print_timings:        eval time =    2618.39 ms /    51 runs   (   51.34 ms per token,    19.48 tokens per second)\n",
      "llama_print_timings:       total time =    2873.34 ms\n",
      "Llama.generate: prefix-match hit\n"
     ]
    },
    {
     "name": "stdout",
     "output_type": "stream",
     "text": [
      "61 -- 1\n"
     ]
    },
    {
     "name": "stderr",
     "output_type": "stream",
     "text": [
      "\n",
      "llama_print_timings:        load time =    3598.42 ms\n",
      "llama_print_timings:      sample time =       5.48 ms /    58 runs   (    0.09 ms per token, 10576.22 tokens per second)\n",
      "llama_print_timings: prompt eval time =     185.17 ms /    17 tokens (   10.89 ms per token,    91.81 tokens per second)\n",
      "llama_print_timings:        eval time =    2927.89 ms /    57 runs   (   51.37 ms per token,    19.47 tokens per second)\n",
      "llama_print_timings:       total time =    3189.95 ms\n",
      "Llama.generate: prefix-match hit\n"
     ]
    },
    {
     "name": "stdout",
     "output_type": "stream",
     "text": [
      "62 -- 1\n"
     ]
    },
    {
     "name": "stderr",
     "output_type": "stream",
     "text": [
      "\n",
      "llama_print_timings:        load time =    3598.42 ms\n",
      "llama_print_timings:      sample time =       4.64 ms /    49 runs   (    0.09 ms per token, 10567.18 tokens per second)\n",
      "llama_print_timings: prompt eval time =     184.85 ms /    19 tokens (    9.73 ms per token,   102.79 tokens per second)\n",
      "llama_print_timings:        eval time =    2477.84 ms /    48 runs   (   51.62 ms per token,    19.37 tokens per second)\n",
      "llama_print_timings:       total time =    2727.18 ms\n",
      "Llama.generate: prefix-match hit\n"
     ]
    },
    {
     "name": "stdout",
     "output_type": "stream",
     "text": [
      "63 -- 1\n"
     ]
    },
    {
     "name": "stderr",
     "output_type": "stream",
     "text": [
      "\n",
      "llama_print_timings:        load time =    3598.42 ms\n",
      "llama_print_timings:      sample time =       4.95 ms /    53 runs   (    0.09 ms per token, 10717.90 tokens per second)\n",
      "llama_print_timings: prompt eval time =     194.09 ms /    25 tokens (    7.76 ms per token,   128.81 tokens per second)\n",
      "llama_print_timings:        eval time =    2686.59 ms /    52 runs   (   51.67 ms per token,    19.36 tokens per second)\n",
      "llama_print_timings:       total time =    2951.75 ms\n",
      "Llama.generate: prefix-match hit\n"
     ]
    },
    {
     "name": "stdout",
     "output_type": "stream",
     "text": [
      "64 -- 1\n"
     ]
    },
    {
     "name": "stderr",
     "output_type": "stream",
     "text": [
      "\n",
      "llama_print_timings:        load time =    3598.42 ms\n",
      "llama_print_timings:      sample time =       6.03 ms /    62 runs   (    0.10 ms per token, 10281.92 tokens per second)\n",
      "llama_print_timings: prompt eval time =     188.72 ms /    16 tokens (   11.79 ms per token,    84.78 tokens per second)\n",
      "llama_print_timings:        eval time =    3147.23 ms /    61 runs   (   51.59 ms per token,    19.38 tokens per second)\n",
      "llama_print_timings:       total time =    3421.50 ms\n",
      "Llama.generate: prefix-match hit\n"
     ]
    },
    {
     "name": "stdout",
     "output_type": "stream",
     "text": [
      "65 -- 1\n"
     ]
    },
    {
     "name": "stderr",
     "output_type": "stream",
     "text": [
      "\n",
      "llama_print_timings:        load time =    3598.42 ms\n",
      "llama_print_timings:      sample time =       5.32 ms /    52 runs   (    0.10 ms per token,  9768.93 tokens per second)\n",
      "llama_print_timings: prompt eval time =     189.72 ms /    22 tokens (    8.62 ms per token,   115.96 tokens per second)\n",
      "llama_print_timings:        eval time =    2634.69 ms /    51 runs   (   51.66 ms per token,    19.36 tokens per second)\n",
      "llama_print_timings:       total time =    2897.29 ms\n",
      "Llama.generate: prefix-match hit\n"
     ]
    },
    {
     "name": "stdout",
     "output_type": "stream",
     "text": [
      "66 -- 1\n"
     ]
    },
    {
     "name": "stderr",
     "output_type": "stream",
     "text": [
      "\n",
      "llama_print_timings:        load time =    3598.42 ms\n",
      "llama_print_timings:      sample time =       4.96 ms /    54 runs   (    0.09 ms per token, 10895.88 tokens per second)\n",
      "llama_print_timings: prompt eval time =     183.36 ms /    16 tokens (   11.46 ms per token,    87.26 tokens per second)\n",
      "llama_print_timings:        eval time =    2722.70 ms /    53 runs   (   51.37 ms per token,    19.47 tokens per second)\n",
      "llama_print_timings:       total time =    2977.67 ms\n",
      "Llama.generate: prefix-match hit\n"
     ]
    },
    {
     "name": "stdout",
     "output_type": "stream",
     "text": [
      "67 -- 1\n"
     ]
    },
    {
     "name": "stderr",
     "output_type": "stream",
     "text": [
      "\n",
      "llama_print_timings:        load time =    3598.42 ms\n",
      "llama_print_timings:      sample time =       5.82 ms /    60 runs   (    0.10 ms per token, 10303.97 tokens per second)\n",
      "llama_print_timings: prompt eval time =     189.96 ms /    21 tokens (    9.05 ms per token,   110.55 tokens per second)\n",
      "llama_print_timings:        eval time =    3040.31 ms /    59 runs   (   51.53 ms per token,    19.41 tokens per second)\n",
      "llama_print_timings:       total time =    3314.00 ms\n",
      "Llama.generate: prefix-match hit\n"
     ]
    },
    {
     "name": "stdout",
     "output_type": "stream",
     "text": [
      "68 -- 1\n"
     ]
    },
    {
     "name": "stderr",
     "output_type": "stream",
     "text": [
      "\n",
      "llama_print_timings:        load time =    3598.42 ms\n",
      "llama_print_timings:      sample time =       5.28 ms /    54 runs   (    0.10 ms per token, 10229.21 tokens per second)\n",
      "llama_print_timings: prompt eval time =     197.31 ms /    29 tokens (    6.80 ms per token,   146.97 tokens per second)\n",
      "llama_print_timings:        eval time =    2745.09 ms /    53 runs   (   51.79 ms per token,    19.31 tokens per second)\n",
      "llama_print_timings:       total time =    3015.92 ms\n",
      "Llama.generate: prefix-match hit\n",
      "\n",
      "llama_print_timings:        load time =    3598.42 ms\n",
      "llama_print_timings:      sample time =       4.82 ms /    52 runs   (    0.09 ms per token, 10797.34 tokens per second)\n",
      "llama_print_timings: prompt eval time =     181.34 ms /    15 tokens (   12.09 ms per token,    82.72 tokens per second)\n",
      "llama_print_timings:        eval time =    2634.95 ms /    51 runs   (   51.67 ms per token,    19.36 tokens per second)\n",
      "llama_print_timings:       total time =    2885.69 ms\n",
      "Llama.generate: prefix-match hit\n"
     ]
    },
    {
     "name": "stdout",
     "output_type": "stream",
     "text": [
      "69 -- 1\n",
      "70 -- 1\n"
     ]
    },
    {
     "name": "stderr",
     "output_type": "stream",
     "text": [
      "\n",
      "llama_print_timings:        load time =    3598.42 ms\n",
      "llama_print_timings:      sample time =       5.30 ms /    54 runs   (    0.10 ms per token, 10196.37 tokens per second)\n",
      "llama_print_timings: prompt eval time =     187.64 ms /    17 tokens (   11.04 ms per token,    90.60 tokens per second)\n",
      "llama_print_timings:        eval time =    2742.88 ms /    53 runs   (   51.75 ms per token,    19.32 tokens per second)\n",
      "llama_print_timings:       total time =    3006.04 ms\n",
      "Llama.generate: prefix-match hit\n"
     ]
    },
    {
     "name": "stdout",
     "output_type": "stream",
     "text": [
      "71 -- 1\n"
     ]
    },
    {
     "name": "stderr",
     "output_type": "stream",
     "text": [
      "\n",
      "llama_print_timings:        load time =    3598.42 ms\n",
      "llama_print_timings:      sample time =       4.63 ms /    50 runs   (    0.09 ms per token, 10796.80 tokens per second)\n",
      "llama_print_timings: prompt eval time =     188.77 ms /    19 tokens (    9.94 ms per token,   100.65 tokens per second)\n",
      "llama_print_timings:        eval time =    2522.33 ms /    49 runs   (   51.48 ms per token,    19.43 tokens per second)\n",
      "llama_print_timings:       total time =    2778.17 ms\n",
      "Llama.generate: prefix-match hit\n"
     ]
    },
    {
     "name": "stdout",
     "output_type": "stream",
     "text": [
      "72 -- 1\n"
     ]
    },
    {
     "name": "stderr",
     "output_type": "stream",
     "text": [
      "\n",
      "llama_print_timings:        load time =    3598.42 ms\n",
      "llama_print_timings:      sample time =       5.10 ms /    54 runs   (    0.09 ms per token, 10594.47 tokens per second)\n",
      "llama_print_timings: prompt eval time =     183.20 ms /    16 tokens (   11.45 ms per token,    87.34 tokens per second)\n",
      "llama_print_timings:        eval time =    2729.53 ms /    53 runs   (   51.50 ms per token,    19.42 tokens per second)\n",
      "llama_print_timings:       total time =    2984.93 ms\n",
      "Llama.generate: prefix-match hit\n"
     ]
    },
    {
     "name": "stdout",
     "output_type": "stream",
     "text": [
      "73 -- 1\n"
     ]
    },
    {
     "name": "stderr",
     "output_type": "stream",
     "text": [
      "\n",
      "llama_print_timings:        load time =    3598.42 ms\n",
      "llama_print_timings:      sample time =       5.09 ms /    55 runs   (    0.09 ms per token, 10799.14 tokens per second)\n",
      "llama_print_timings: prompt eval time =     189.41 ms /    21 tokens (    9.02 ms per token,   110.87 tokens per second)\n",
      "llama_print_timings:        eval time =    2788.24 ms /    54 runs   (   51.63 ms per token,    19.37 tokens per second)\n",
      "llama_print_timings:       total time =    3051.14 ms\n",
      "Llama.generate: prefix-match hit\n"
     ]
    },
    {
     "name": "stdout",
     "output_type": "stream",
     "text": [
      "74 -- 1\n"
     ]
    },
    {
     "name": "stderr",
     "output_type": "stream",
     "text": [
      "\n",
      "llama_print_timings:        load time =    3598.42 ms\n",
      "llama_print_timings:      sample time =       4.92 ms /    52 runs   (    0.09 ms per token, 10566.96 tokens per second)\n",
      "llama_print_timings: prompt eval time =     186.36 ms /    18 tokens (   10.35 ms per token,    96.59 tokens per second)\n",
      "llama_print_timings:        eval time =    2630.38 ms /    51 runs   (   51.58 ms per token,    19.39 tokens per second)\n",
      "llama_print_timings:       total time =    2886.93 ms\n",
      "Llama.generate: prefix-match hit\n"
     ]
    },
    {
     "name": "stdout",
     "output_type": "stream",
     "text": [
      "75 -- 1\n"
     ]
    },
    {
     "name": "stderr",
     "output_type": "stream",
     "text": [
      "\n",
      "llama_print_timings:        load time =    3598.42 ms\n",
      "llama_print_timings:      sample time =       5.03 ms /    53 runs   (    0.09 ms per token, 10534.68 tokens per second)\n",
      "llama_print_timings: prompt eval time =     189.69 ms /    23 tokens (    8.25 ms per token,   121.25 tokens per second)\n",
      "llama_print_timings:        eval time =    2694.37 ms /    52 runs   (   51.81 ms per token,    19.30 tokens per second)\n",
      "llama_print_timings:       total time =    2955.10 ms\n",
      "Llama.generate: prefix-match hit\n"
     ]
    },
    {
     "name": "stdout",
     "output_type": "stream",
     "text": [
      "76 -- 1\n"
     ]
    },
    {
     "name": "stderr",
     "output_type": "stream",
     "text": [
      "\n",
      "llama_print_timings:        load time =    3598.42 ms\n",
      "llama_print_timings:      sample time =       5.63 ms /    60 runs   (    0.09 ms per token, 10655.30 tokens per second)\n",
      "llama_print_timings: prompt eval time =     184.64 ms /    17 tokens (   10.86 ms per token,    92.07 tokens per second)\n",
      "llama_print_timings:        eval time =    3035.53 ms /    59 runs   (   51.45 ms per token,    19.44 tokens per second)\n",
      "llama_print_timings:       total time =    3302.22 ms\n",
      "Llama.generate: prefix-match hit\n"
     ]
    },
    {
     "name": "stdout",
     "output_type": "stream",
     "text": [
      "77 -- 1\n"
     ]
    },
    {
     "name": "stderr",
     "output_type": "stream",
     "text": [
      "\n",
      "llama_print_timings:        load time =    3598.42 ms\n",
      "llama_print_timings:      sample time =       5.03 ms /    54 runs   (    0.09 ms per token, 10727.06 tokens per second)\n",
      "llama_print_timings: prompt eval time =     189.52 ms /    21 tokens (    9.02 ms per token,   110.81 tokens per second)\n",
      "llama_print_timings:        eval time =    2722.70 ms /    53 runs   (   51.37 ms per token,    19.47 tokens per second)\n",
      "llama_print_timings:       total time =    2983.95 ms\n",
      "Llama.generate: prefix-match hit\n"
     ]
    },
    {
     "name": "stdout",
     "output_type": "stream",
     "text": [
      "78 -- 1\n"
     ]
    },
    {
     "name": "stderr",
     "output_type": "stream",
     "text": [
      "\n",
      "llama_print_timings:        load time =    3598.42 ms\n",
      "llama_print_timings:      sample time =       5.15 ms /    52 runs   (    0.10 ms per token, 10097.09 tokens per second)\n",
      "llama_print_timings: prompt eval time =     185.50 ms /    17 tokens (   10.91 ms per token,    91.64 tokens per second)\n",
      "llama_print_timings:        eval time =    2699.11 ms /    51 runs   (   52.92 ms per token,    18.90 tokens per second)\n",
      "llama_print_timings:       total time =    2963.90 ms\n",
      "Llama.generate: prefix-match hit\n"
     ]
    },
    {
     "name": "stdout",
     "output_type": "stream",
     "text": [
      "79 -- 1\n"
     ]
    },
    {
     "name": "stderr",
     "output_type": "stream",
     "text": [
      "\n",
      "llama_print_timings:        load time =    3598.42 ms\n",
      "llama_print_timings:      sample time =       5.63 ms /    52 runs   (    0.11 ms per token,  9237.88 tokens per second)\n",
      "llama_print_timings: prompt eval time =     191.87 ms /    20 tokens (    9.59 ms per token,   104.24 tokens per second)\n",
      "llama_print_timings:        eval time =    2698.20 ms /    51 runs   (   52.91 ms per token,    18.90 tokens per second)\n",
      "llama_print_timings:       total time =    2972.59 ms\n",
      "Llama.generate: prefix-match hit\n",
      "\n",
      "llama_print_timings:        load time =    3598.42 ms\n",
      "llama_print_timings:      sample time =       6.39 ms /    55 runs   (    0.12 ms per token,  8607.20 tokens per second)\n",
      "llama_print_timings: prompt eval time =     199.79 ms /    27 tokens (    7.40 ms per token,   135.14 tokens per second)\n",
      "llama_print_timings:        eval time =    2798.43 ms /    54 runs   (   51.82 ms per token,    19.30 tokens per second)\n",
      "llama_print_timings:       total time =    3085.69 ms\n",
      "Llama.generate: prefix-match hit\n"
     ]
    },
    {
     "name": "stdout",
     "output_type": "stream",
     "text": [
      "80 -- 1\n",
      "81 -- 1\n"
     ]
    },
    {
     "name": "stderr",
     "output_type": "stream",
     "text": [
      "\n",
      "llama_print_timings:        load time =    3598.42 ms\n",
      "llama_print_timings:      sample time =       5.55 ms /    54 runs   (    0.10 ms per token,  9734.99 tokens per second)\n",
      "llama_print_timings: prompt eval time =     196.88 ms /    29 tokens (    6.79 ms per token,   147.30 tokens per second)\n",
      "llama_print_timings:        eval time =    2745.74 ms /    53 runs   (   51.81 ms per token,    19.30 tokens per second)\n",
      "llama_print_timings:       total time =    3020.16 ms\n",
      "Llama.generate: prefix-match hit\n"
     ]
    },
    {
     "name": "stdout",
     "output_type": "stream",
     "text": [
      "82 -- 1\n"
     ]
    },
    {
     "name": "stderr",
     "output_type": "stream",
     "text": [
      "\n",
      "llama_print_timings:        load time =    3598.42 ms\n",
      "llama_print_timings:      sample time =       4.87 ms /    55 runs   (    0.09 ms per token, 11289.00 tokens per second)\n",
      "llama_print_timings: prompt eval time =     514.84 ms /    95 tokens (    5.42 ms per token,   184.53 tokens per second)\n",
      "llama_print_timings:        eval time =    2803.25 ms /    54 runs   (   51.91 ms per token,    19.26 tokens per second)\n",
      "llama_print_timings:       total time =    3392.76 ms\n",
      "Llama.generate: prefix-match hit\n"
     ]
    },
    {
     "name": "stdout",
     "output_type": "stream",
     "text": [
      "83 -- 1\n"
     ]
    },
    {
     "name": "stderr",
     "output_type": "stream",
     "text": [
      "\n",
      "llama_print_timings:        load time =    3598.42 ms\n",
      "llama_print_timings:      sample time =       5.08 ms /    53 runs   (    0.10 ms per token, 10433.07 tokens per second)\n",
      "llama_print_timings: prompt eval time =     189.27 ms /    21 tokens (    9.01 ms per token,   110.95 tokens per second)\n",
      "llama_print_timings:        eval time =    2673.67 ms /    52 runs   (   51.42 ms per token,    19.45 tokens per second)\n",
      "llama_print_timings:       total time =    2933.49 ms\n",
      "Llama.generate: prefix-match hit\n"
     ]
    },
    {
     "name": "stdout",
     "output_type": "stream",
     "text": [
      "84 -- 1\n"
     ]
    },
    {
     "name": "stderr",
     "output_type": "stream",
     "text": [
      "\n",
      "llama_print_timings:        load time =    3598.42 ms\n",
      "llama_print_timings:      sample time =       5.52 ms /    58 runs   (    0.10 ms per token, 10511.05 tokens per second)\n",
      "llama_print_timings: prompt eval time =     196.02 ms /    28 tokens (    7.00 ms per token,   142.84 tokens per second)\n",
      "llama_print_timings:        eval time =    2934.05 ms /    57 runs   (   51.47 ms per token,    19.43 tokens per second)\n",
      "llama_print_timings:       total time =    3205.10 ms\n",
      "Llama.generate: prefix-match hit\n"
     ]
    },
    {
     "name": "stdout",
     "output_type": "stream",
     "text": [
      "85 -- 1\n"
     ]
    },
    {
     "name": "stderr",
     "output_type": "stream",
     "text": [
      "\n",
      "llama_print_timings:        load time =    3598.42 ms\n",
      "llama_print_timings:      sample time =       4.40 ms /    50 runs   (    0.09 ms per token, 11366.22 tokens per second)\n",
      "llama_print_timings: prompt eval time =     186.88 ms /    18 tokens (   10.38 ms per token,    96.32 tokens per second)\n",
      "llama_print_timings:        eval time =    2519.80 ms /    49 runs   (   51.42 ms per token,    19.45 tokens per second)\n",
      "llama_print_timings:       total time =    2771.04 ms\n",
      "Llama.generate: prefix-match hit\n"
     ]
    },
    {
     "name": "stdout",
     "output_type": "stream",
     "text": [
      "86 -- 1\n"
     ]
    },
    {
     "name": "stderr",
     "output_type": "stream",
     "text": [
      "\n",
      "llama_print_timings:        load time =    3598.42 ms\n",
      "llama_print_timings:      sample time =       5.11 ms /    53 runs   (    0.10 ms per token, 10369.79 tokens per second)\n",
      "llama_print_timings: prompt eval time =     331.68 ms /    34 tokens (    9.76 ms per token,   102.51 tokens per second)\n",
      "llama_print_timings:        eval time =    2680.34 ms /    52 runs   (   51.55 ms per token,    19.40 tokens per second)\n",
      "llama_print_timings:       total time =    3079.55 ms\n",
      "Llama.generate: prefix-match hit\n"
     ]
    },
    {
     "name": "stdout",
     "output_type": "stream",
     "text": [
      "87 -- 1\n"
     ]
    },
    {
     "name": "stderr",
     "output_type": "stream",
     "text": [
      "\n",
      "llama_print_timings:        load time =    3598.42 ms\n",
      "llama_print_timings:      sample time =       5.05 ms /    53 runs   (    0.10 ms per token, 10503.37 tokens per second)\n",
      "llama_print_timings: prompt eval time =     199.02 ms /    30 tokens (    6.63 ms per token,   150.74 tokens per second)\n",
      "llama_print_timings:        eval time =    2671.15 ms /    52 runs   (   51.37 ms per token,    19.47 tokens per second)\n",
      "llama_print_timings:       total time =    2940.46 ms\n",
      "Llama.generate: prefix-match hit\n"
     ]
    },
    {
     "name": "stdout",
     "output_type": "stream",
     "text": [
      "88 -- 1\n"
     ]
    },
    {
     "name": "stderr",
     "output_type": "stream",
     "text": [
      "\n",
      "llama_print_timings:        load time =    3598.42 ms\n",
      "llama_print_timings:      sample time =       4.92 ms /    53 runs   (    0.09 ms per token, 10778.93 tokens per second)\n",
      "llama_print_timings: prompt eval time =     187.67 ms /    20 tokens (    9.38 ms per token,   106.57 tokens per second)\n",
      "llama_print_timings:        eval time =    2671.05 ms /    52 runs   (   51.37 ms per token,    19.47 tokens per second)\n",
      "llama_print_timings:       total time =    2924.45 ms\n",
      "Llama.generate: prefix-match hit\n"
     ]
    },
    {
     "name": "stdout",
     "output_type": "stream",
     "text": [
      "89 -- 1\n"
     ]
    },
    {
     "name": "stderr",
     "output_type": "stream",
     "text": [
      "\n",
      "llama_print_timings:        load time =    3598.42 ms\n",
      "llama_print_timings:      sample time =       4.78 ms /    52 runs   (    0.09 ms per token, 10874.11 tokens per second)\n",
      "llama_print_timings: prompt eval time =     190.34 ms /    21 tokens (    9.06 ms per token,   110.33 tokens per second)\n",
      "llama_print_timings:        eval time =    2623.13 ms /    51 runs   (   51.43 ms per token,    19.44 tokens per second)\n",
      "llama_print_timings:       total time =    2878.05 ms\n",
      "Llama.generate: prefix-match hit\n"
     ]
    },
    {
     "name": "stdout",
     "output_type": "stream",
     "text": [
      "90 -- 1\n"
     ]
    },
    {
     "name": "stderr",
     "output_type": "stream",
     "text": [
      "\n",
      "llama_print_timings:        load time =    3598.42 ms\n",
      "llama_print_timings:      sample time =       5.04 ms /    54 runs   (    0.09 ms per token, 10714.29 tokens per second)\n",
      "llama_print_timings: prompt eval time =     190.67 ms /    22 tokens (    8.67 ms per token,   115.38 tokens per second)\n",
      "llama_print_timings:        eval time =    2725.19 ms /    53 runs   (   51.42 ms per token,    19.45 tokens per second)\n",
      "llama_print_timings:       total time =    2984.96 ms\n",
      "Llama.generate: prefix-match hit\n"
     ]
    },
    {
     "name": "stdout",
     "output_type": "stream",
     "text": [
      "91 -- 1\n"
     ]
    },
    {
     "name": "stderr",
     "output_type": "stream",
     "text": [
      "\n",
      "llama_print_timings:        load time =    3598.42 ms\n",
      "llama_print_timings:      sample time =       5.57 ms /    57 runs   (    0.10 ms per token, 10229.72 tokens per second)\n",
      "llama_print_timings: prompt eval time =     334.71 ms /    38 tokens (    8.81 ms per token,   113.53 tokens per second)\n",
      "llama_print_timings:        eval time =    2886.83 ms /    56 runs   (   51.55 ms per token,    19.40 tokens per second)\n",
      "llama_print_timings:       total time =    3294.45 ms\n",
      "Llama.generate: prefix-match hit\n"
     ]
    },
    {
     "name": "stdout",
     "output_type": "stream",
     "text": [
      "92 -- 1\n"
     ]
    },
    {
     "name": "stderr",
     "output_type": "stream",
     "text": [
      "\n",
      "llama_print_timings:        load time =    3598.42 ms\n",
      "llama_print_timings:      sample time =       5.29 ms /    56 runs   (    0.09 ms per token, 10578.01 tokens per second)\n",
      "llama_print_timings: prompt eval time =     191.60 ms /    24 tokens (    7.98 ms per token,   125.26 tokens per second)\n",
      "llama_print_timings:        eval time =    2829.66 ms /    55 runs   (   51.45 ms per token,    19.44 tokens per second)\n",
      "llama_print_timings:       total time =    3090.54 ms\n",
      "Llama.generate: prefix-match hit\n"
     ]
    },
    {
     "name": "stdout",
     "output_type": "stream",
     "text": [
      "93 -- 1\n"
     ]
    },
    {
     "name": "stderr",
     "output_type": "stream",
     "text": [
      "\n",
      "llama_print_timings:        load time =    3598.42 ms\n",
      "llama_print_timings:      sample time =       4.94 ms /    55 runs   (    0.09 ms per token, 11138.11 tokens per second)\n",
      "llama_print_timings: prompt eval time =     185.89 ms /    17 tokens (   10.93 ms per token,    91.45 tokens per second)\n",
      "llama_print_timings:        eval time =    2774.06 ms /    54 runs   (   51.37 ms per token,    19.47 tokens per second)\n",
      "llama_print_timings:       total time =    3029.22 ms\n",
      "Llama.generate: prefix-match hit\n"
     ]
    },
    {
     "name": "stdout",
     "output_type": "stream",
     "text": [
      "94 -- 1\n"
     ]
    },
    {
     "name": "stderr",
     "output_type": "stream",
     "text": [
      "\n",
      "llama_print_timings:        load time =    3598.42 ms\n",
      "llama_print_timings:      sample time =       5.29 ms /    56 runs   (    0.09 ms per token, 10578.01 tokens per second)\n",
      "llama_print_timings: prompt eval time =     190.46 ms /    21 tokens (    9.07 ms per token,   110.26 tokens per second)\n",
      "llama_print_timings:        eval time =    2822.68 ms /    55 runs   (   51.32 ms per token,    19.49 tokens per second)\n",
      "llama_print_timings:       total time =    3086.68 ms\n",
      "Llama.generate: prefix-match hit\n"
     ]
    },
    {
     "name": "stdout",
     "output_type": "stream",
     "text": [
      "95 -- 1\n"
     ]
    },
    {
     "name": "stderr",
     "output_type": "stream",
     "text": [
      "\n",
      "llama_print_timings:        load time =    3598.42 ms\n",
      "llama_print_timings:      sample time =       4.84 ms /    51 runs   (    0.09 ms per token, 10539.37 tokens per second)\n",
      "llama_print_timings: prompt eval time =     190.43 ms /    21 tokens (    9.07 ms per token,   110.28 tokens per second)\n",
      "llama_print_timings:        eval time =    2571.43 ms /    50 runs   (   51.43 ms per token,    19.44 tokens per second)\n",
      "llama_print_timings:       total time =    2827.30 ms\n",
      "Llama.generate: prefix-match hit\n",
      "\n",
      "llama_print_timings:        load time =    3598.42 ms\n",
      "llama_print_timings:      sample time =       4.94 ms /    53 runs   (    0.09 ms per token, 10724.40 tokens per second)\n",
      "llama_print_timings: prompt eval time =     180.62 ms /    15 tokens (   12.04 ms per token,    83.04 tokens per second)\n",
      "llama_print_timings:        eval time =    2675.96 ms /    52 runs   (   51.46 ms per token,    19.43 tokens per second)\n",
      "llama_print_timings:       total time =    2926.10 ms\n",
      "Llama.generate: prefix-match hit\n"
     ]
    },
    {
     "name": "stdout",
     "output_type": "stream",
     "text": [
      "96 -- 1\n",
      "97 -- 1\n"
     ]
    },
    {
     "name": "stderr",
     "output_type": "stream",
     "text": [
      "\n",
      "llama_print_timings:        load time =    3598.42 ms\n",
      "llama_print_timings:      sample time =       4.85 ms /    53 runs   (    0.09 ms per token, 10932.34 tokens per second)\n",
      "llama_print_timings: prompt eval time =     189.91 ms /    20 tokens (    9.50 ms per token,   105.32 tokens per second)\n",
      "llama_print_timings:        eval time =    2675.36 ms /    52 runs   (   51.45 ms per token,    19.44 tokens per second)\n",
      "llama_print_timings:       total time =    2934.22 ms\n",
      "Llama.generate: prefix-match hit\n"
     ]
    },
    {
     "name": "stdout",
     "output_type": "stream",
     "text": [
      "98 -- 1\n"
     ]
    },
    {
     "name": "stderr",
     "output_type": "stream",
     "text": [
      "\n",
      "llama_print_timings:        load time =    3598.42 ms\n",
      "llama_print_timings:      sample time =       5.30 ms /    56 runs   (    0.09 ms per token, 10558.07 tokens per second)\n",
      "llama_print_timings: prompt eval time =     195.21 ms /    26 tokens (    7.51 ms per token,   133.19 tokens per second)\n",
      "llama_print_timings:        eval time =    2832.86 ms /    55 runs   (   51.51 ms per token,    19.42 tokens per second)\n",
      "llama_print_timings:       total time =    3100.97 ms\n",
      "Llama.generate: prefix-match hit\n"
     ]
    },
    {
     "name": "stdout",
     "output_type": "stream",
     "text": [
      "99 -- 1\n"
     ]
    },
    {
     "name": "stderr",
     "output_type": "stream",
     "text": [
      "\n",
      "llama_print_timings:        load time =    3598.42 ms\n",
      "llama_print_timings:      sample time =       5.58 ms /    60 runs   (    0.09 ms per token, 10750.76 tokens per second)\n",
      "llama_print_timings: prompt eval time =     336.79 ms /    43 tokens (    7.83 ms per token,   127.67 tokens per second)\n",
      "llama_print_timings:        eval time =    3063.29 ms /    59 runs   (   51.92 ms per token,    19.26 tokens per second)\n",
      "llama_print_timings:       total time =    3480.05 ms\n",
      "Llama.generate: prefix-match hit\n"
     ]
    },
    {
     "name": "stdout",
     "output_type": "stream",
     "text": [
      "100 -- 1\n"
     ]
    },
    {
     "name": "stderr",
     "output_type": "stream",
     "text": [
      "\n",
      "llama_print_timings:        load time =    3598.42 ms\n",
      "llama_print_timings:      sample time =       4.91 ms /    52 runs   (    0.09 ms per token, 10582.01 tokens per second)\n",
      "llama_print_timings: prompt eval time =     189.43 ms /    23 tokens (    8.24 ms per token,   121.42 tokens per second)\n",
      "llama_print_timings:        eval time =    2619.75 ms /    51 runs   (   51.37 ms per token,    19.47 tokens per second)\n",
      "llama_print_timings:       total time =    2876.17 ms\n",
      "Llama.generate: prefix-match hit\n"
     ]
    },
    {
     "name": "stdout",
     "output_type": "stream",
     "text": [
      "101 -- 1\n"
     ]
    },
    {
     "name": "stderr",
     "output_type": "stream",
     "text": [
      "\n",
      "llama_print_timings:        load time =    3598.42 ms\n",
      "llama_print_timings:      sample time =       4.62 ms /    50 runs   (    0.09 ms per token, 10834.24 tokens per second)\n",
      "llama_print_timings: prompt eval time =     181.39 ms /    15 tokens (   12.09 ms per token,    82.69 tokens per second)\n",
      "llama_print_timings:        eval time =    2517.80 ms /    49 runs   (   51.38 ms per token,    19.46 tokens per second)\n",
      "llama_print_timings:       total time =    2764.03 ms\n",
      "Llama.generate: prefix-match hit\n"
     ]
    },
    {
     "name": "stdout",
     "output_type": "stream",
     "text": [
      "102 -- 1\n"
     ]
    },
    {
     "name": "stderr",
     "output_type": "stream",
     "text": [
      "\n",
      "llama_print_timings:        load time =    3598.42 ms\n",
      "llama_print_timings:      sample time =       4.89 ms /    51 runs   (    0.10 ms per token, 10433.72 tokens per second)\n",
      "llama_print_timings: prompt eval time =     183.07 ms /    14 tokens (   13.08 ms per token,    76.47 tokens per second)\n",
      "llama_print_timings:        eval time =    2577.54 ms /    50 runs   (   51.55 ms per token,    19.40 tokens per second)\n",
      "llama_print_timings:       total time =    2827.37 ms\n",
      "Llama.generate: prefix-match hit\n"
     ]
    },
    {
     "name": "stdout",
     "output_type": "stream",
     "text": [
      "103 -- 1\n"
     ]
    },
    {
     "name": "stderr",
     "output_type": "stream",
     "text": [
      "\n",
      "llama_print_timings:        load time =    3598.42 ms\n",
      "llama_print_timings:      sample time =       5.09 ms /    55 runs   (    0.09 ms per token, 10807.62 tokens per second)\n",
      "llama_print_timings: prompt eval time =     186.99 ms /    18 tokens (   10.39 ms per token,    96.26 tokens per second)\n",
      "llama_print_timings:        eval time =    2776.35 ms /    54 runs   (   51.41 ms per token,    19.45 tokens per second)\n",
      "llama_print_timings:       total time =    3033.43 ms\n",
      "Llama.generate: prefix-match hit\n",
      "\n",
      "llama_print_timings:        load time =    3598.42 ms\n",
      "llama_print_timings:      sample time =       5.00 ms /    55 runs   (    0.09 ms per token, 10997.80 tokens per second)\n",
      "llama_print_timings: prompt eval time =     191.11 ms /    19 tokens (   10.06 ms per token,    99.42 tokens per second)\n",
      "llama_print_timings:        eval time =    2813.77 ms /    54 runs   (   52.11 ms per token,    19.19 tokens per second)\n",
      "llama_print_timings:       total time =    3074.38 ms\n",
      "Llama.generate: prefix-match hit\n"
     ]
    },
    {
     "name": "stdout",
     "output_type": "stream",
     "text": [
      "104 -- 1\n",
      "105 -- 1\n"
     ]
    },
    {
     "name": "stderr",
     "output_type": "stream",
     "text": [
      "\n",
      "llama_print_timings:        load time =    3598.42 ms\n",
      "llama_print_timings:      sample time =       4.92 ms /    53 runs   (    0.09 ms per token, 10763.61 tokens per second)\n",
      "llama_print_timings: prompt eval time =     185.54 ms /    19 tokens (    9.77 ms per token,   102.40 tokens per second)\n",
      "llama_print_timings:        eval time =    2671.58 ms /    52 runs   (   51.38 ms per token,    19.46 tokens per second)\n",
      "llama_print_timings:       total time =    2925.80 ms\n",
      "Llama.generate: prefix-match hit\n"
     ]
    },
    {
     "name": "stdout",
     "output_type": "stream",
     "text": [
      "106 -- 1\n"
     ]
    },
    {
     "name": "stderr",
     "output_type": "stream",
     "text": [
      "\n",
      "llama_print_timings:        load time =    3598.42 ms\n",
      "llama_print_timings:      sample time =       4.86 ms /    52 runs   (    0.09 ms per token, 10706.20 tokens per second)\n",
      "llama_print_timings: prompt eval time =     189.87 ms /    22 tokens (    8.63 ms per token,   115.87 tokens per second)\n",
      "llama_print_timings:        eval time =    2619.45 ms /    51 runs   (   51.36 ms per token,    19.47 tokens per second)\n",
      "llama_print_timings:       total time =    2875.20 ms\n",
      "Llama.generate: prefix-match hit\n"
     ]
    },
    {
     "name": "stdout",
     "output_type": "stream",
     "text": [
      "107 -- 1\n"
     ]
    },
    {
     "name": "stderr",
     "output_type": "stream",
     "text": [
      "\n",
      "llama_print_timings:        load time =    3598.42 ms\n",
      "llama_print_timings:      sample time =       4.53 ms /    50 runs   (    0.09 ms per token, 11030.22 tokens per second)\n",
      "llama_print_timings: prompt eval time =     185.48 ms /    17 tokens (   10.91 ms per token,    91.65 tokens per second)\n",
      "llama_print_timings:        eval time =    2528.86 ms /    49 runs   (   51.61 ms per token,    19.38 tokens per second)\n",
      "llama_print_timings:       total time =    2778.91 ms\n",
      "Llama.generate: prefix-match hit\n"
     ]
    },
    {
     "name": "stdout",
     "output_type": "stream",
     "text": [
      "108 -- 1\n"
     ]
    },
    {
     "name": "stderr",
     "output_type": "stream",
     "text": [
      "\n",
      "llama_print_timings:        load time =    3598.42 ms\n",
      "llama_print_timings:      sample time =       5.43 ms /    58 runs   (    0.09 ms per token, 10673.54 tokens per second)\n",
      "llama_print_timings: prompt eval time =     192.96 ms /    32 tokens (    6.03 ms per token,   165.84 tokens per second)\n",
      "llama_print_timings:        eval time =    2935.93 ms /    57 runs   (   51.51 ms per token,    19.41 tokens per second)\n",
      "llama_print_timings:       total time =    3200.28 ms\n",
      "Llama.generate: prefix-match hit\n"
     ]
    },
    {
     "name": "stdout",
     "output_type": "stream",
     "text": [
      "109 -- 1\n"
     ]
    },
    {
     "name": "stderr",
     "output_type": "stream",
     "text": [
      "\n",
      "llama_print_timings:        load time =    3598.42 ms\n",
      "llama_print_timings:      sample time =       5.30 ms /    58 runs   (    0.09 ms per token, 10949.59 tokens per second)\n",
      "llama_print_timings: prompt eval time =     183.58 ms /    15 tokens (   12.24 ms per token,    81.71 tokens per second)\n",
      "llama_print_timings:        eval time =    2963.41 ms /    57 runs   (   51.99 ms per token,    19.23 tokens per second)\n",
      "llama_print_timings:       total time =    3222.56 ms\n",
      "Llama.generate: prefix-match hit\n"
     ]
    },
    {
     "name": "stdout",
     "output_type": "stream",
     "text": [
      "110 -- 1\n"
     ]
    },
    {
     "name": "stderr",
     "output_type": "stream",
     "text": [
      "\n",
      "llama_print_timings:        load time =    3598.42 ms\n",
      "llama_print_timings:      sample time =       5.06 ms /    55 runs   (    0.09 ms per token, 10878.16 tokens per second)\n",
      "llama_print_timings: prompt eval time =     187.48 ms /    18 tokens (   10.42 ms per token,    96.01 tokens per second)\n",
      "llama_print_timings:        eval time =    2772.73 ms /    54 runs   (   51.35 ms per token,    19.48 tokens per second)\n",
      "llama_print_timings:       total time =    3031.78 ms\n",
      "Llama.generate: prefix-match hit\n"
     ]
    },
    {
     "name": "stdout",
     "output_type": "stream",
     "text": [
      "111 -- 1\n"
     ]
    },
    {
     "name": "stderr",
     "output_type": "stream",
     "text": [
      "\n",
      "llama_print_timings:        load time =    3598.42 ms\n",
      "llama_print_timings:      sample time =       5.20 ms /    50 runs   (    0.10 ms per token,  9617.23 tokens per second)\n",
      "llama_print_timings: prompt eval time =     199.31 ms /    26 tokens (    7.67 ms per token,   130.45 tokens per second)\n",
      "llama_print_timings:        eval time =    2569.54 ms /    49 runs   (   52.44 ms per token,    19.07 tokens per second)\n",
      "llama_print_timings:       total time =    2835.98 ms\n",
      "Llama.generate: prefix-match hit\n"
     ]
    },
    {
     "name": "stdout",
     "output_type": "stream",
     "text": [
      "112 -- 1\n"
     ]
    },
    {
     "name": "stderr",
     "output_type": "stream",
     "text": [
      "\n",
      "llama_print_timings:        load time =    3598.42 ms\n",
      "llama_print_timings:      sample time =       5.67 ms /    58 runs   (    0.10 ms per token, 10222.07 tokens per second)\n",
      "llama_print_timings: prompt eval time =     200.52 ms /    32 tokens (    6.27 ms per token,   159.59 tokens per second)\n",
      "llama_print_timings:        eval time =    2998.21 ms /    57 runs   (   52.60 ms per token,    19.01 tokens per second)\n",
      "llama_print_timings:       total time =    3273.43 ms\n",
      "Llama.generate: prefix-match hit\n"
     ]
    },
    {
     "name": "stdout",
     "output_type": "stream",
     "text": [
      "113 -- 1\n"
     ]
    },
    {
     "name": "stderr",
     "output_type": "stream",
     "text": [
      "\n",
      "llama_print_timings:        load time =    3598.42 ms\n",
      "llama_print_timings:      sample time =       5.53 ms /    56 runs   (    0.10 ms per token, 10132.08 tokens per second)\n",
      "llama_print_timings: prompt eval time =     197.58 ms /    23 tokens (    8.59 ms per token,   116.41 tokens per second)\n",
      "llama_print_timings:        eval time =    2909.37 ms /    55 runs   (   52.90 ms per token,    18.90 tokens per second)\n",
      "llama_print_timings:       total time =    3182.05 ms\n",
      "Llama.generate: prefix-match hit\n"
     ]
    },
    {
     "name": "stdout",
     "output_type": "stream",
     "text": [
      "114 -- 1\n"
     ]
    },
    {
     "name": "stderr",
     "output_type": "stream",
     "text": [
      "\n",
      "llama_print_timings:        load time =    3598.42 ms\n",
      "llama_print_timings:      sample time =       4.55 ms /    50 runs   (    0.09 ms per token, 10986.60 tokens per second)\n",
      "llama_print_timings: prompt eval time =     190.24 ms /    14 tokens (   13.59 ms per token,    73.59 tokens per second)\n",
      "llama_print_timings:        eval time =    2627.26 ms /    49 runs   (   53.62 ms per token,    18.65 tokens per second)\n",
      "llama_print_timings:       total time =    2887.33 ms\n",
      "Llama.generate: prefix-match hit\n"
     ]
    },
    {
     "name": "stdout",
     "output_type": "stream",
     "text": [
      "115 -- 1\n"
     ]
    },
    {
     "name": "stderr",
     "output_type": "stream",
     "text": [
      "\n",
      "llama_print_timings:        load time =    3598.42 ms\n",
      "llama_print_timings:      sample time =       4.91 ms /    51 runs   (    0.10 ms per token, 10395.43 tokens per second)\n",
      "llama_print_timings: prompt eval time =     203.35 ms /    30 tokens (    6.78 ms per token,   147.53 tokens per second)\n",
      "llama_print_timings:        eval time =    2640.62 ms /    50 runs   (   52.81 ms per token,    18.93 tokens per second)\n",
      "llama_print_timings:       total time =    2911.12 ms\n",
      "Llama.generate: prefix-match hit\n"
     ]
    },
    {
     "name": "stdout",
     "output_type": "stream",
     "text": [
      "116 -- 1\n"
     ]
    },
    {
     "name": "stderr",
     "output_type": "stream",
     "text": [
      "\n",
      "llama_print_timings:        load time =    3598.42 ms\n",
      "llama_print_timings:      sample time =       4.89 ms /    52 runs   (    0.09 ms per token, 10638.30 tokens per second)\n",
      "llama_print_timings: prompt eval time =     184.16 ms /    13 tokens (   14.17 ms per token,    70.59 tokens per second)\n",
      "llama_print_timings:        eval time =    2650.09 ms /    51 runs   (   51.96 ms per token,    19.24 tokens per second)\n",
      "llama_print_timings:       total time =    2904.14 ms\n",
      "Llama.generate: prefix-match hit\n"
     ]
    },
    {
     "name": "stdout",
     "output_type": "stream",
     "text": [
      "117 -- 1\n"
     ]
    },
    {
     "name": "stderr",
     "output_type": "stream",
     "text": [
      "\n",
      "llama_print_timings:        load time =    3598.42 ms\n",
      "llama_print_timings:      sample time =       6.13 ms /    59 runs   (    0.10 ms per token,  9629.51 tokens per second)\n",
      "llama_print_timings: prompt eval time =     190.72 ms /    22 tokens (    8.67 ms per token,   115.35 tokens per second)\n",
      "llama_print_timings:        eval time =    3001.94 ms /    58 runs   (   51.76 ms per token,    19.32 tokens per second)\n",
      "llama_print_timings:       total time =    3282.40 ms\n",
      "Llama.generate: prefix-match hit\n"
     ]
    },
    {
     "name": "stdout",
     "output_type": "stream",
     "text": [
      "118 -- 1\n"
     ]
    },
    {
     "name": "stderr",
     "output_type": "stream",
     "text": [
      "\n",
      "llama_print_timings:        load time =    3598.42 ms\n",
      "llama_print_timings:      sample time =       4.75 ms /    51 runs   (    0.09 ms per token, 10736.84 tokens per second)\n",
      "llama_print_timings: prompt eval time =     185.75 ms /    17 tokens (   10.93 ms per token,    91.52 tokens per second)\n",
      "llama_print_timings:        eval time =    2572.26 ms /    50 runs   (   51.45 ms per token,    19.44 tokens per second)\n",
      "llama_print_timings:       total time =    2823.42 ms\n",
      "Llama.generate: prefix-match hit\n"
     ]
    },
    {
     "name": "stdout",
     "output_type": "stream",
     "text": [
      "119 -- 1\n"
     ]
    },
    {
     "name": "stderr",
     "output_type": "stream",
     "text": [
      "\n",
      "llama_print_timings:        load time =    3598.42 ms\n",
      "llama_print_timings:      sample time =       5.68 ms /    53 runs   (    0.11 ms per token,  9327.70 tokens per second)\n",
      "llama_print_timings: prompt eval time =     187.30 ms /    18 tokens (   10.41 ms per token,    96.10 tokens per second)\n",
      "llama_print_timings:        eval time =    2693.93 ms /    52 runs   (   51.81 ms per token,    19.30 tokens per second)\n",
      "llama_print_timings:       total time =    2960.80 ms\n",
      "Llama.generate: prefix-match hit\n"
     ]
    },
    {
     "name": "stdout",
     "output_type": "stream",
     "text": [
      "120 -- 1\n"
     ]
    },
    {
     "name": "stderr",
     "output_type": "stream",
     "text": [
      "\n",
      "llama_print_timings:        load time =    3598.42 ms\n",
      "llama_print_timings:      sample time =       5.62 ms /    58 runs   (    0.10 ms per token, 10320.28 tokens per second)\n",
      "llama_print_timings: prompt eval time =     190.78 ms /    20 tokens (    9.54 ms per token,   104.83 tokens per second)\n",
      "llama_print_timings:        eval time =    2948.62 ms /    57 runs   (   51.73 ms per token,    19.33 tokens per second)\n",
      "llama_print_timings:       total time =    3220.73 ms\n",
      "Llama.generate: prefix-match hit\n"
     ]
    },
    {
     "name": "stdout",
     "output_type": "stream",
     "text": [
      "121 -- 1\n"
     ]
    },
    {
     "name": "stderr",
     "output_type": "stream",
     "text": [
      "\n",
      "llama_print_timings:        load time =    3598.42 ms\n",
      "llama_print_timings:      sample time =       5.15 ms /    54 runs   (    0.10 ms per token, 10481.37 tokens per second)\n",
      "llama_print_timings: prompt eval time =     192.24 ms /    23 tokens (    8.36 ms per token,   119.64 tokens per second)\n",
      "llama_print_timings:        eval time =    2747.12 ms /    53 runs   (   51.83 ms per token,    19.29 tokens per second)\n",
      "llama_print_timings:       total time =    3011.46 ms\n",
      "Llama.generate: prefix-match hit\n"
     ]
    },
    {
     "name": "stdout",
     "output_type": "stream",
     "text": [
      "122 -- 1\n"
     ]
    },
    {
     "name": "stderr",
     "output_type": "stream",
     "text": [
      "\n",
      "llama_print_timings:        load time =    3598.42 ms\n",
      "llama_print_timings:      sample time =       5.25 ms /    56 runs   (    0.09 ms per token, 10672.77 tokens per second)\n",
      "llama_print_timings: prompt eval time =     191.19 ms /    24 tokens (    7.97 ms per token,   125.53 tokens per second)\n",
      "llama_print_timings:        eval time =    2835.03 ms /    55 runs   (   51.55 ms per token,    19.40 tokens per second)\n",
      "llama_print_timings:       total time =    3095.90 ms\n",
      "Llama.generate: prefix-match hit\n"
     ]
    },
    {
     "name": "stdout",
     "output_type": "stream",
     "text": [
      "123 -- 1\n"
     ]
    },
    {
     "name": "stderr",
     "output_type": "stream",
     "text": [
      "\n",
      "llama_print_timings:        load time =    3598.42 ms\n",
      "llama_print_timings:      sample time =       5.19 ms /    55 runs   (    0.09 ms per token, 10591.18 tokens per second)\n",
      "llama_print_timings: prompt eval time =     185.56 ms /    19 tokens (    9.77 ms per token,   102.39 tokens per second)\n",
      "llama_print_timings:        eval time =    2777.66 ms /    54 runs   (   51.44 ms per token,    19.44 tokens per second)\n",
      "llama_print_timings:       total time =    3033.01 ms\n",
      "Llama.generate: prefix-match hit\n"
     ]
    },
    {
     "name": "stdout",
     "output_type": "stream",
     "text": [
      "124 -- 1\n"
     ]
    },
    {
     "name": "stderr",
     "output_type": "stream",
     "text": [
      "\n",
      "llama_print_timings:        load time =    3598.42 ms\n",
      "llama_print_timings:      sample time =       4.89 ms /    53 runs   (    0.09 ms per token, 10842.88 tokens per second)\n",
      "llama_print_timings: prompt eval time =     192.89 ms /    27 tokens (    7.14 ms per token,   139.98 tokens per second)\n",
      "llama_print_timings:        eval time =    2682.01 ms /    52 runs   (   51.58 ms per token,    19.39 tokens per second)\n",
      "llama_print_timings:       total time =    2940.70 ms\n",
      "Llama.generate: prefix-match hit\n"
     ]
    },
    {
     "name": "stdout",
     "output_type": "stream",
     "text": [
      "125 -- 1\n"
     ]
    },
    {
     "name": "stderr",
     "output_type": "stream",
     "text": [
      "\n",
      "llama_print_timings:        load time =    3598.42 ms\n",
      "llama_print_timings:      sample time =       4.78 ms /    52 runs   (    0.09 ms per token, 10874.11 tokens per second)\n",
      "llama_print_timings: prompt eval time =     193.66 ms /    25 tokens (    7.75 ms per token,   129.09 tokens per second)\n",
      "llama_print_timings:        eval time =    2624.84 ms /    51 runs   (   51.47 ms per token,    19.43 tokens per second)\n",
      "llama_print_timings:       total time =    2882.59 ms\n",
      "Llama.generate: prefix-match hit\n"
     ]
    },
    {
     "name": "stdout",
     "output_type": "stream",
     "text": [
      "126 -- 1\n"
     ]
    },
    {
     "name": "stderr",
     "output_type": "stream",
     "text": [
      "\n",
      "llama_print_timings:        load time =    3598.42 ms\n",
      "llama_print_timings:      sample time =       4.92 ms /    54 runs   (    0.09 ms per token, 10986.78 tokens per second)\n",
      "llama_print_timings: prompt eval time =     187.17 ms /    18 tokens (   10.40 ms per token,    96.17 tokens per second)\n",
      "llama_print_timings:        eval time =    2722.16 ms /    53 runs   (   51.36 ms per token,    19.47 tokens per second)\n",
      "llama_print_timings:       total time =    2975.77 ms\n",
      "Llama.generate: prefix-match hit\n"
     ]
    },
    {
     "name": "stdout",
     "output_type": "stream",
     "text": [
      "127 -- 1\n"
     ]
    },
    {
     "name": "stderr",
     "output_type": "stream",
     "text": [
      "\n",
      "llama_print_timings:        load time =    3598.42 ms\n",
      "llama_print_timings:      sample time =       5.30 ms /    58 runs   (    0.09 ms per token, 10935.14 tokens per second)\n",
      "llama_print_timings: prompt eval time =     186.00 ms /    18 tokens (   10.33 ms per token,    96.77 tokens per second)\n",
      "llama_print_timings:        eval time =    2929.10 ms /    57 runs   (   51.39 ms per token,    19.46 tokens per second)\n",
      "llama_print_timings:       total time =    3187.87 ms\n",
      "Llama.generate: prefix-match hit\n"
     ]
    },
    {
     "name": "stdout",
     "output_type": "stream",
     "text": [
      "128 -- 1\n"
     ]
    },
    {
     "name": "stderr",
     "output_type": "stream",
     "text": [
      "\n",
      "llama_print_timings:        load time =    3598.42 ms\n",
      "llama_print_timings:      sample time =       5.47 ms /    57 runs   (    0.10 ms per token, 10418.57 tokens per second)\n",
      "llama_print_timings: prompt eval time =     185.38 ms /    19 tokens (    9.76 ms per token,   102.49 tokens per second)\n",
      "llama_print_timings:        eval time =    2894.06 ms /    56 runs   (   51.68 ms per token,    19.35 tokens per second)\n",
      "llama_print_timings:       total time =    3152.91 ms\n",
      "Llama.generate: prefix-match hit\n"
     ]
    },
    {
     "name": "stdout",
     "output_type": "stream",
     "text": [
      "129 -- 1\n"
     ]
    },
    {
     "name": "stderr",
     "output_type": "stream",
     "text": [
      "\n",
      "llama_print_timings:        load time =    3598.42 ms\n",
      "llama_print_timings:      sample time =       4.87 ms /    52 runs   (    0.09 ms per token, 10671.04 tokens per second)\n",
      "llama_print_timings: prompt eval time =     193.64 ms /    25 tokens (    7.75 ms per token,   129.10 tokens per second)\n",
      "llama_print_timings:        eval time =    2635.24 ms /    51 runs   (   51.67 ms per token,    19.35 tokens per second)\n",
      "llama_print_timings:       total time =    2895.92 ms\n",
      "Llama.generate: prefix-match hit\n"
     ]
    },
    {
     "name": "stdout",
     "output_type": "stream",
     "text": [
      "130 -- 1\n"
     ]
    },
    {
     "name": "stderr",
     "output_type": "stream",
     "text": [
      "\n",
      "llama_print_timings:        load time =    3598.42 ms\n",
      "llama_print_timings:      sample time =       4.72 ms /    53 runs   (    0.09 ms per token, 11228.81 tokens per second)\n",
      "llama_print_timings: prompt eval time =     184.39 ms /    17 tokens (   10.85 ms per token,    92.19 tokens per second)\n",
      "llama_print_timings:        eval time =    2673.99 ms /    52 runs   (   51.42 ms per token,    19.45 tokens per second)\n",
      "llama_print_timings:       total time =    2922.41 ms\n",
      "Llama.generate: prefix-match hit\n"
     ]
    },
    {
     "name": "stdout",
     "output_type": "stream",
     "text": [
      "131 -- 1\n"
     ]
    },
    {
     "name": "stderr",
     "output_type": "stream",
     "text": [
      "\n",
      "llama_print_timings:        load time =    3598.42 ms\n",
      "llama_print_timings:      sample time =       4.79 ms /    52 runs   (    0.09 ms per token, 10849.16 tokens per second)\n",
      "llama_print_timings: prompt eval time =     185.94 ms /    17 tokens (   10.94 ms per token,    91.43 tokens per second)\n",
      "llama_print_timings:        eval time =    2625.26 ms /    51 runs   (   51.48 ms per token,    19.43 tokens per second)\n",
      "llama_print_timings:       total time =    2875.96 ms\n",
      "Llama.generate: prefix-match hit\n"
     ]
    },
    {
     "name": "stdout",
     "output_type": "stream",
     "text": [
      "132 -- 1\n"
     ]
    },
    {
     "name": "stderr",
     "output_type": "stream",
     "text": [
      "\n",
      "llama_print_timings:        load time =    3598.42 ms\n",
      "llama_print_timings:      sample time =       5.39 ms /    59 runs   (    0.09 ms per token, 10952.29 tokens per second)\n",
      "llama_print_timings: prompt eval time =     195.38 ms /    28 tokens (    6.98 ms per token,   143.31 tokens per second)\n",
      "llama_print_timings:        eval time =    2991.70 ms /    58 runs   (   51.58 ms per token,    19.39 tokens per second)\n",
      "llama_print_timings:       total time =    3260.47 ms\n",
      "Llama.generate: prefix-match hit\n"
     ]
    },
    {
     "name": "stdout",
     "output_type": "stream",
     "text": [
      "133 -- 1\n"
     ]
    },
    {
     "name": "stderr",
     "output_type": "stream",
     "text": [
      "\n",
      "llama_print_timings:        load time =    3598.42 ms\n",
      "llama_print_timings:      sample time =       5.15 ms /    56 runs   (    0.09 ms per token, 10875.90 tokens per second)\n",
      "llama_print_timings: prompt eval time =     182.52 ms /    14 tokens (   13.04 ms per token,    76.70 tokens per second)\n",
      "llama_print_timings:        eval time =    2829.03 ms /    55 runs   (   51.44 ms per token,    19.44 tokens per second)\n",
      "llama_print_timings:       total time =    3080.94 ms\n",
      "Llama.generate: prefix-match hit\n"
     ]
    },
    {
     "name": "stdout",
     "output_type": "stream",
     "text": [
      "134 -- 1\n"
     ]
    },
    {
     "name": "stderr",
     "output_type": "stream",
     "text": [
      "\n",
      "llama_print_timings:        load time =    3598.42 ms\n",
      "llama_print_timings:      sample time =       4.53 ms /    51 runs   (    0.09 ms per token, 11255.79 tokens per second)\n",
      "llama_print_timings: prompt eval time =     190.21 ms /    21 tokens (    9.06 ms per token,   110.40 tokens per second)\n",
      "llama_print_timings:        eval time =    2570.71 ms /    50 runs   (   51.41 ms per token,    19.45 tokens per second)\n",
      "llama_print_timings:       total time =    2821.99 ms\n",
      "Llama.generate: prefix-match hit\n"
     ]
    },
    {
     "name": "stdout",
     "output_type": "stream",
     "text": [
      "135 -- 1\n"
     ]
    },
    {
     "name": "stderr",
     "output_type": "stream",
     "text": [
      "\n",
      "llama_print_timings:        load time =    3598.42 ms\n",
      "llama_print_timings:      sample time =       4.86 ms /    53 runs   (    0.09 ms per token, 10898.62 tokens per second)\n",
      "llama_print_timings: prompt eval time =     188.06 ms /    22 tokens (    8.55 ms per token,   116.98 tokens per second)\n",
      "llama_print_timings:        eval time =    2676.00 ms /    52 runs   (   51.46 ms per token,    19.43 tokens per second)\n",
      "llama_print_timings:       total time =    2928.96 ms\n",
      "Llama.generate: prefix-match hit\n"
     ]
    },
    {
     "name": "stdout",
     "output_type": "stream",
     "text": [
      "136 -- 1\n"
     ]
    },
    {
     "name": "stderr",
     "output_type": "stream",
     "text": [
      "\n",
      "llama_print_timings:        load time =    3598.42 ms\n",
      "llama_print_timings:      sample time =       5.11 ms /    54 runs   (    0.09 ms per token, 10571.65 tokens per second)\n",
      "llama_print_timings: prompt eval time =     195.34 ms /    26 tokens (    7.51 ms per token,   133.10 tokens per second)\n",
      "llama_print_timings:        eval time =    2727.29 ms /    53 runs   (   51.46 ms per token,    19.43 tokens per second)\n",
      "llama_print_timings:       total time =    2990.21 ms\n",
      "Llama.generate: prefix-match hit\n",
      "\n",
      "llama_print_timings:        load time =    3598.42 ms\n",
      "llama_print_timings:      sample time =       5.08 ms /    54 runs   (    0.09 ms per token, 10640.39 tokens per second)\n",
      "llama_print_timings: prompt eval time =     189.60 ms /    17 tokens (   11.15 ms per token,    89.66 tokens per second)\n",
      "llama_print_timings:        eval time =    2724.68 ms /    53 runs   (   51.41 ms per token,    19.45 tokens per second)\n",
      "llama_print_timings:       total time =    2984.75 ms\n",
      "Llama.generate: prefix-match hit\n"
     ]
    },
    {
     "name": "stdout",
     "output_type": "stream",
     "text": [
      "137 -- 1\n",
      "138 -- 1\n"
     ]
    },
    {
     "name": "stderr",
     "output_type": "stream",
     "text": [
      "\n",
      "llama_print_timings:        load time =    3598.42 ms\n",
      "llama_print_timings:      sample time =       5.42 ms /    55 runs   (    0.10 ms per token, 10140.12 tokens per second)\n",
      "llama_print_timings: prompt eval time =     186.03 ms /    19 tokens (    9.79 ms per token,   102.13 tokens per second)\n",
      "llama_print_timings:        eval time =    2796.92 ms /    54 runs   (   51.79 ms per token,    19.31 tokens per second)\n",
      "llama_print_timings:       total time =    3059.84 ms\n",
      "Llama.generate: prefix-match hit\n"
     ]
    },
    {
     "name": "stdout",
     "output_type": "stream",
     "text": [
      "139 -- 1\n"
     ]
    },
    {
     "name": "stderr",
     "output_type": "stream",
     "text": [
      "\n",
      "llama_print_timings:        load time =    3598.42 ms\n",
      "llama_print_timings:      sample time =       5.37 ms /    58 runs   (    0.09 ms per token, 10806.78 tokens per second)\n",
      "llama_print_timings: prompt eval time =     186.65 ms /    18 tokens (   10.37 ms per token,    96.44 tokens per second)\n",
      "llama_print_timings:        eval time =    2947.53 ms /    57 runs   (   51.71 ms per token,    19.34 tokens per second)\n",
      "llama_print_timings:       total time =    3212.32 ms\n",
      "Llama.generate: prefix-match hit\n"
     ]
    },
    {
     "name": "stdout",
     "output_type": "stream",
     "text": [
      "140 -- 1\n"
     ]
    },
    {
     "name": "stderr",
     "output_type": "stream",
     "text": [
      "\n",
      "llama_print_timings:        load time =    3598.42 ms\n",
      "llama_print_timings:      sample time =       4.80 ms /    49 runs   (    0.10 ms per token, 10201.96 tokens per second)\n",
      "llama_print_timings: prompt eval time =     179.93 ms /    12 tokens (   14.99 ms per token,    66.69 tokens per second)\n",
      "llama_print_timings:        eval time =    2622.40 ms /    48 runs   (   54.63 ms per token,    18.30 tokens per second)\n",
      "llama_print_timings:       total time =    2875.39 ms\n",
      "Llama.generate: prefix-match hit\n"
     ]
    },
    {
     "name": "stdout",
     "output_type": "stream",
     "text": [
      "141 -- 1\n"
     ]
    },
    {
     "name": "stderr",
     "output_type": "stream",
     "text": [
      "\n",
      "llama_print_timings:        load time =    3598.42 ms\n",
      "llama_print_timings:      sample time =       4.76 ms /    52 runs   (    0.09 ms per token, 10922.08 tokens per second)\n",
      "llama_print_timings: prompt eval time =     181.74 ms /    15 tokens (   12.12 ms per token,    82.53 tokens per second)\n",
      "llama_print_timings:        eval time =    2637.75 ms /    51 runs   (   51.72 ms per token,    19.33 tokens per second)\n",
      "llama_print_timings:       total time =    2885.51 ms\n",
      "Llama.generate: prefix-match hit\n"
     ]
    },
    {
     "name": "stdout",
     "output_type": "stream",
     "text": [
      "142 -- 1\n"
     ]
    },
    {
     "name": "stderr",
     "output_type": "stream",
     "text": [
      "\n",
      "llama_print_timings:        load time =    3598.42 ms\n",
      "llama_print_timings:      sample time =       5.30 ms /    55 runs   (    0.10 ms per token, 10377.36 tokens per second)\n",
      "llama_print_timings: prompt eval time =     187.09 ms /    18 tokens (   10.39 ms per token,    96.21 tokens per second)\n",
      "llama_print_timings:        eval time =    2777.48 ms /    54 runs   (   51.43 ms per token,    19.44 tokens per second)\n",
      "llama_print_timings:       total time =    3037.43 ms\n",
      "Llama.generate: prefix-match hit\n"
     ]
    },
    {
     "name": "stdout",
     "output_type": "stream",
     "text": [
      "143 -- 1\n"
     ]
    },
    {
     "name": "stderr",
     "output_type": "stream",
     "text": [
      "\n",
      "llama_print_timings:        load time =    3598.42 ms\n",
      "llama_print_timings:      sample time =       5.31 ms /    56 runs   (    0.09 ms per token, 10548.13 tokens per second)\n",
      "llama_print_timings: prompt eval time =     185.32 ms /    19 tokens (    9.75 ms per token,   102.53 tokens per second)\n",
      "llama_print_timings:        eval time =    2830.64 ms /    55 runs   (   51.47 ms per token,    19.43 tokens per second)\n",
      "llama_print_timings:       total time =    3090.07 ms\n",
      "Llama.generate: prefix-match hit\n"
     ]
    },
    {
     "name": "stdout",
     "output_type": "stream",
     "text": [
      "144 -- 1\n"
     ]
    },
    {
     "name": "stderr",
     "output_type": "stream",
     "text": [
      "\n",
      "llama_print_timings:        load time =    3598.42 ms\n",
      "llama_print_timings:      sample time =       5.30 ms /    57 runs   (    0.09 ms per token, 10756.75 tokens per second)\n",
      "llama_print_timings: prompt eval time =     335.90 ms /    39 tokens (    8.61 ms per token,   116.11 tokens per second)\n",
      "llama_print_timings:        eval time =    2885.91 ms /    56 runs   (   51.53 ms per token,    19.40 tokens per second)\n",
      "llama_print_timings:       total time =    3295.50 ms\n",
      "Llama.generate: prefix-match hit\n"
     ]
    },
    {
     "name": "stdout",
     "output_type": "stream",
     "text": [
      "145 -- 1\n"
     ]
    },
    {
     "name": "stderr",
     "output_type": "stream",
     "text": [
      "\n",
      "llama_print_timings:        load time =    3598.42 ms\n",
      "llama_print_timings:      sample time =       5.18 ms /    57 runs   (    0.09 ms per token, 11001.74 tokens per second)\n",
      "llama_print_timings: prompt eval time =     186.31 ms /    19 tokens (    9.81 ms per token,   101.98 tokens per second)\n",
      "llama_print_timings:        eval time =    2891.37 ms /    56 runs   (   51.63 ms per token,    19.37 tokens per second)\n",
      "llama_print_timings:       total time =    3149.86 ms\n",
      "Llama.generate: prefix-match hit\n"
     ]
    },
    {
     "name": "stdout",
     "output_type": "stream",
     "text": [
      "146 -- 1\n"
     ]
    },
    {
     "name": "stderr",
     "output_type": "stream",
     "text": [
      "\n",
      "llama_print_timings:        load time =    3598.42 ms\n",
      "llama_print_timings:      sample time =       4.99 ms /    55 runs   (    0.09 ms per token, 11030.89 tokens per second)\n",
      "llama_print_timings: prompt eval time =     182.53 ms /    14 tokens (   13.04 ms per token,    76.70 tokens per second)\n",
      "llama_print_timings:        eval time =    2771.89 ms /    54 runs   (   51.33 ms per token,    19.48 tokens per second)\n",
      "llama_print_timings:       total time =    3023.81 ms\n",
      "Llama.generate: prefix-match hit\n"
     ]
    },
    {
     "name": "stdout",
     "output_type": "stream",
     "text": [
      "147 -- 1\n"
     ]
    },
    {
     "name": "stderr",
     "output_type": "stream",
     "text": [
      "\n",
      "llama_print_timings:        load time =    3598.42 ms\n",
      "llama_print_timings:      sample time =       5.21 ms /    57 runs   (    0.09 ms per token, 10934.20 tokens per second)\n",
      "llama_print_timings: prompt eval time =     183.29 ms /    16 tokens (   11.46 ms per token,    87.30 tokens per second)\n",
      "llama_print_timings:        eval time =    2892.77 ms /    56 runs   (   51.66 ms per token,    19.36 tokens per second)\n",
      "llama_print_timings:       total time =    3148.14 ms\n",
      "Llama.generate: prefix-match hit\n"
     ]
    },
    {
     "name": "stdout",
     "output_type": "stream",
     "text": [
      "148 -- 1\n"
     ]
    },
    {
     "name": "stderr",
     "output_type": "stream",
     "text": [
      "\n",
      "llama_print_timings:        load time =    3598.42 ms\n",
      "llama_print_timings:      sample time =       5.11 ms /    54 runs   (    0.09 ms per token, 10569.58 tokens per second)\n",
      "llama_print_timings: prompt eval time =     191.33 ms /    22 tokens (    8.70 ms per token,   114.98 tokens per second)\n",
      "llama_print_timings:        eval time =    2726.36 ms /    53 runs   (   51.44 ms per token,    19.44 tokens per second)\n",
      "llama_print_timings:       total time =    2988.43 ms\n",
      "Llama.generate: prefix-match hit\n"
     ]
    },
    {
     "name": "stdout",
     "output_type": "stream",
     "text": [
      "149 -- 1\n"
     ]
    },
    {
     "name": "stderr",
     "output_type": "stream",
     "text": [
      "\n",
      "llama_print_timings:        load time =    3598.42 ms\n",
      "llama_print_timings:      sample time =       5.03 ms /    54 runs   (    0.09 ms per token, 10733.45 tokens per second)\n",
      "llama_print_timings: prompt eval time =     191.71 ms /    24 tokens (    7.99 ms per token,   125.19 tokens per second)\n",
      "llama_print_timings:        eval time =    2729.60 ms /    53 runs   (   51.50 ms per token,    19.42 tokens per second)\n",
      "llama_print_timings:       total time =    2987.37 ms\n",
      "Llama.generate: prefix-match hit\n"
     ]
    },
    {
     "name": "stdout",
     "output_type": "stream",
     "text": [
      "150 -- 1\n"
     ]
    },
    {
     "name": "stderr",
     "output_type": "stream",
     "text": [
      "\n",
      "llama_print_timings:        load time =    3598.42 ms\n",
      "llama_print_timings:      sample time =       4.80 ms /    52 runs   (    0.09 ms per token, 10822.06 tokens per second)\n",
      "llama_print_timings: prompt eval time =     190.15 ms /    22 tokens (    8.64 ms per token,   115.70 tokens per second)\n",
      "llama_print_timings:        eval time =    2623.93 ms /    51 runs   (   51.45 ms per token,    19.44 tokens per second)\n",
      "llama_print_timings:       total time =    2876.86 ms\n",
      "Llama.generate: prefix-match hit\n"
     ]
    },
    {
     "name": "stdout",
     "output_type": "stream",
     "text": [
      "151 -- 1\n"
     ]
    },
    {
     "name": "stderr",
     "output_type": "stream",
     "text": [
      "\n",
      "llama_print_timings:        load time =    3598.42 ms\n",
      "llama_print_timings:      sample time =       4.97 ms /    54 runs   (    0.09 ms per token, 10867.38 tokens per second)\n",
      "llama_print_timings: prompt eval time =     189.81 ms /    23 tokens (    8.25 ms per token,   121.17 tokens per second)\n",
      "llama_print_timings:        eval time =    2726.92 ms /    53 runs   (   51.45 ms per token,    19.44 tokens per second)\n",
      "llama_print_timings:       total time =    2982.51 ms\n",
      "Llama.generate: prefix-match hit\n"
     ]
    },
    {
     "name": "stdout",
     "output_type": "stream",
     "text": [
      "152 -- 1\n"
     ]
    },
    {
     "name": "stderr",
     "output_type": "stream",
     "text": [
      "\n",
      "llama_print_timings:        load time =    3598.42 ms\n",
      "llama_print_timings:      sample time =       4.81 ms /    55 runs   (    0.09 ms per token, 11434.51 tokens per second)\n",
      "llama_print_timings: prompt eval time =     183.69 ms /    16 tokens (   11.48 ms per token,    87.10 tokens per second)\n",
      "llama_print_timings:        eval time =    2777.80 ms /    54 runs   (   51.44 ms per token,    19.44 tokens per second)\n",
      "llama_print_timings:       total time =    3028.49 ms\n",
      "Llama.generate: prefix-match hit\n"
     ]
    },
    {
     "name": "stdout",
     "output_type": "stream",
     "text": [
      "153 -- 1\n"
     ]
    },
    {
     "name": "stderr",
     "output_type": "stream",
     "text": [
      "\n",
      "llama_print_timings:        load time =    3598.42 ms\n",
      "llama_print_timings:      sample time =       5.21 ms /    54 runs   (    0.10 ms per token, 10368.66 tokens per second)\n",
      "llama_print_timings: prompt eval time =     190.73 ms /    21 tokens (    9.08 ms per token,   110.11 tokens per second)\n",
      "llama_print_timings:        eval time =    2729.94 ms /    53 runs   (   51.51 ms per token,    19.41 tokens per second)\n",
      "llama_print_timings:       total time =    2989.34 ms\n",
      "Llama.generate: prefix-match hit\n"
     ]
    },
    {
     "name": "stdout",
     "output_type": "stream",
     "text": [
      "154 -- 1\n"
     ]
    },
    {
     "name": "stderr",
     "output_type": "stream",
     "text": [
      "\n",
      "llama_print_timings:        load time =    3598.42 ms\n",
      "llama_print_timings:      sample time =       4.98 ms /    55 runs   (    0.09 ms per token, 11053.05 tokens per second)\n",
      "llama_print_timings: prompt eval time =     185.98 ms /    19 tokens (    9.79 ms per token,   102.16 tokens per second)\n",
      "llama_print_timings:        eval time =    2777.11 ms /    54 runs   (   51.43 ms per token,    19.44 tokens per second)\n",
      "llama_print_timings:       total time =    3033.18 ms\n",
      "Llama.generate: prefix-match hit\n"
     ]
    },
    {
     "name": "stdout",
     "output_type": "stream",
     "text": [
      "155 -- 1\n"
     ]
    },
    {
     "name": "stderr",
     "output_type": "stream",
     "text": [
      "\n",
      "llama_print_timings:        load time =    3598.42 ms\n",
      "llama_print_timings:      sample time =       7.16 ms /    52 runs   (    0.14 ms per token,  7264.60 tokens per second)\n",
      "llama_print_timings: prompt eval time =     191.32 ms /    24 tokens (    7.97 ms per token,   125.45 tokens per second)\n",
      "llama_print_timings:        eval time =    2665.54 ms /    51 runs   (   52.27 ms per token,    19.13 tokens per second)\n",
      "llama_print_timings:       total time =    2942.40 ms\n",
      "Llama.generate: prefix-match hit\n"
     ]
    },
    {
     "name": "stdout",
     "output_type": "stream",
     "text": [
      "156 -- 1\n"
     ]
    },
    {
     "name": "stderr",
     "output_type": "stream",
     "text": [
      "\n",
      "llama_print_timings:        load time =    3598.42 ms\n",
      "llama_print_timings:      sample time =       7.17 ms /    57 runs   (    0.13 ms per token,  7944.25 tokens per second)\n",
      "llama_print_timings: prompt eval time =     190.39 ms /    18 tokens (   10.58 ms per token,    94.54 tokens per second)\n",
      "llama_print_timings:        eval time =    2894.49 ms /    56 runs   (   51.69 ms per token,    19.35 tokens per second)\n",
      "llama_print_timings:       total time =    3186.90 ms\n",
      "Llama.generate: prefix-match hit\n"
     ]
    },
    {
     "name": "stdout",
     "output_type": "stream",
     "text": [
      "157 -- 1\n"
     ]
    },
    {
     "name": "stderr",
     "output_type": "stream",
     "text": [
      "\n",
      "llama_print_timings:        load time =    3598.42 ms\n",
      "llama_print_timings:      sample time =       6.09 ms /    54 runs   (    0.11 ms per token,  8859.72 tokens per second)\n",
      "llama_print_timings: prompt eval time =     188.84 ms /    23 tokens (    8.21 ms per token,   121.80 tokens per second)\n",
      "llama_print_timings:        eval time =    2728.53 ms /    53 runs   (   51.48 ms per token,    19.42 tokens per second)\n",
      "llama_print_timings:       total time =    3002.83 ms\n",
      "Llama.generate: prefix-match hit\n"
     ]
    },
    {
     "name": "stdout",
     "output_type": "stream",
     "text": [
      "158 -- 1\n"
     ]
    },
    {
     "name": "stderr",
     "output_type": "stream",
     "text": [
      "\n",
      "llama_print_timings:        load time =    3598.42 ms\n",
      "llama_print_timings:      sample time =       7.47 ms /    58 runs   (    0.13 ms per token,  7760.24 tokens per second)\n",
      "llama_print_timings: prompt eval time =     191.15 ms /    23 tokens (    8.31 ms per token,   120.32 tokens per second)\n",
      "llama_print_timings:        eval time =    2953.81 ms /    57 runs   (   51.82 ms per token,    19.30 tokens per second)\n",
      "llama_print_timings:       total time =    3248.41 ms\n",
      "Llama.generate: prefix-match hit\n"
     ]
    },
    {
     "name": "stdout",
     "output_type": "stream",
     "text": [
      "159 -- 1\n"
     ]
    },
    {
     "name": "stderr",
     "output_type": "stream",
     "text": [
      "\n",
      "llama_print_timings:        load time =    3598.42 ms\n",
      "llama_print_timings:      sample time =       7.44 ms /    56 runs   (    0.13 ms per token,  7523.85 tokens per second)\n",
      "llama_print_timings: prompt eval time =     186.24 ms /    18 tokens (   10.35 ms per token,    96.65 tokens per second)\n",
      "llama_print_timings:        eval time =    2839.79 ms /    55 runs   (   51.63 ms per token,    19.37 tokens per second)\n",
      "llama_print_timings:       total time =    3131.44 ms\n",
      "Llama.generate: prefix-match hit\n"
     ]
    },
    {
     "name": "stdout",
     "output_type": "stream",
     "text": [
      "160 -- 1\n"
     ]
    },
    {
     "name": "stderr",
     "output_type": "stream",
     "text": [
      "\n",
      "llama_print_timings:        load time =    3598.42 ms\n",
      "llama_print_timings:      sample time =       7.57 ms /    54 runs   (    0.14 ms per token,  7131.54 tokens per second)\n",
      "llama_print_timings: prompt eval time =     194.31 ms /    26 tokens (    7.47 ms per token,   133.80 tokens per second)\n",
      "llama_print_timings:        eval time =    2745.18 ms /    53 runs   (   51.80 ms per token,    19.31 tokens per second)\n",
      "llama_print_timings:       total time =    3045.49 ms\n",
      "Llama.generate: prefix-match hit\n"
     ]
    },
    {
     "name": "stdout",
     "output_type": "stream",
     "text": [
      "161 -- 1\n"
     ]
    },
    {
     "name": "stderr",
     "output_type": "stream",
     "text": [
      "\n",
      "llama_print_timings:        load time =    3598.42 ms\n",
      "llama_print_timings:      sample time =       6.38 ms /    56 runs   (    0.11 ms per token,  8778.81 tokens per second)\n",
      "llama_print_timings: prompt eval time =     190.75 ms /    24 tokens (    7.95 ms per token,   125.82 tokens per second)\n",
      "llama_print_timings:        eval time =    2856.86 ms /    55 runs   (   51.94 ms per token,    19.25 tokens per second)\n",
      "llama_print_timings:       total time =    3137.60 ms\n",
      "Llama.generate: prefix-match hit\n"
     ]
    },
    {
     "name": "stdout",
     "output_type": "stream",
     "text": [
      "162 -- 1\n"
     ]
    },
    {
     "name": "stderr",
     "output_type": "stream",
     "text": [
      "\n",
      "llama_print_timings:        load time =    3598.42 ms\n",
      "llama_print_timings:      sample time =       5.40 ms /    58 runs   (    0.09 ms per token, 10738.75 tokens per second)\n",
      "llama_print_timings: prompt eval time =     186.34 ms /    18 tokens (   10.35 ms per token,    96.60 tokens per second)\n",
      "llama_print_timings:        eval time =    2921.76 ms /    57 runs   (   51.26 ms per token,    19.51 tokens per second)\n",
      "llama_print_timings:       total time =    3186.35 ms\n",
      "Llama.generate: prefix-match hit\n"
     ]
    },
    {
     "name": "stdout",
     "output_type": "stream",
     "text": [
      "163 -- 1\n"
     ]
    },
    {
     "name": "stderr",
     "output_type": "stream",
     "text": [
      "\n",
      "llama_print_timings:        load time =    3598.42 ms\n",
      "llama_print_timings:      sample time =       5.83 ms /    59 runs   (    0.10 ms per token, 10111.40 tokens per second)\n",
      "llama_print_timings: prompt eval time =     192.80 ms /    25 tokens (    7.71 ms per token,   129.67 tokens per second)\n",
      "llama_print_timings:        eval time =    2979.90 ms /    58 runs   (   51.38 ms per token,    19.46 tokens per second)\n",
      "llama_print_timings:       total time =    3254.13 ms\n",
      "Llama.generate: prefix-match hit\n",
      "\n",
      "llama_print_timings:        load time =    3598.42 ms\n",
      "llama_print_timings:      sample time =       7.69 ms /    56 runs   (    0.14 ms per token,  7278.40 tokens per second)\n",
      "llama_print_timings: prompt eval time =     189.84 ms /    21 tokens (    9.04 ms per token,   110.62 tokens per second)\n",
      "llama_print_timings:        eval time =    2840.47 ms /    55 runs   (   51.64 ms per token,    19.36 tokens per second)\n",
      "llama_print_timings:       total time =    3136.15 ms\n",
      "Llama.generate: prefix-match hit\n"
     ]
    },
    {
     "name": "stdout",
     "output_type": "stream",
     "text": [
      "164 -- 1\n",
      "165 -- 1\n"
     ]
    },
    {
     "name": "stderr",
     "output_type": "stream",
     "text": [
      "\n",
      "llama_print_timings:        load time =    3598.42 ms\n",
      "llama_print_timings:      sample time =       7.24 ms /    53 runs   (    0.14 ms per token,  7321.45 tokens per second)\n",
      "llama_print_timings: prompt eval time =     186.87 ms /    20 tokens (    9.34 ms per token,   107.03 tokens per second)\n",
      "llama_print_timings:        eval time =    2689.34 ms /    52 runs   (   51.72 ms per token,    19.34 tokens per second)\n",
      "llama_print_timings:       total time =    2980.26 ms\n",
      "Llama.generate: prefix-match hit\n"
     ]
    },
    {
     "name": "stdout",
     "output_type": "stream",
     "text": [
      "166 -- 1\n"
     ]
    },
    {
     "name": "stderr",
     "output_type": "stream",
     "text": [
      "\n",
      "llama_print_timings:        load time =    3598.42 ms\n",
      "llama_print_timings:      sample time =       6.48 ms /    53 runs   (    0.12 ms per token,  8177.75 tokens per second)\n",
      "llama_print_timings: prompt eval time =     186.72 ms /    18 tokens (   10.37 ms per token,    96.40 tokens per second)\n",
      "llama_print_timings:        eval time =    2684.50 ms /    52 runs   (   51.63 ms per token,    19.37 tokens per second)\n",
      "llama_print_timings:       total time =    2963.00 ms\n",
      "Llama.generate: prefix-match hit\n"
     ]
    },
    {
     "name": "stdout",
     "output_type": "stream",
     "text": [
      "167 -- 1\n"
     ]
    },
    {
     "name": "stderr",
     "output_type": "stream",
     "text": [
      "\n",
      "llama_print_timings:        load time =    3598.42 ms\n",
      "llama_print_timings:      sample time =       5.36 ms /    52 runs   (    0.10 ms per token,  9701.49 tokens per second)\n",
      "llama_print_timings: prompt eval time =     191.65 ms /    27 tokens (    7.10 ms per token,   140.88 tokens per second)\n",
      "llama_print_timings:        eval time =    2631.37 ms /    51 runs   (   51.60 ms per token,    19.38 tokens per second)\n",
      "llama_print_timings:       total time =    2898.71 ms\n",
      "Llama.generate: prefix-match hit\n"
     ]
    },
    {
     "name": "stdout",
     "output_type": "stream",
     "text": [
      "168 -- 1\n"
     ]
    },
    {
     "name": "stderr",
     "output_type": "stream",
     "text": [
      "\n",
      "llama_print_timings:        load time =    3598.42 ms\n",
      "llama_print_timings:      sample time =       6.04 ms /    57 runs   (    0.11 ms per token,  9440.21 tokens per second)\n",
      "llama_print_timings: prompt eval time =     188.06 ms /    20 tokens (    9.40 ms per token,   106.35 tokens per second)\n",
      "llama_print_timings:        eval time =    2905.21 ms /    56 runs   (   51.88 ms per token,    19.28 tokens per second)\n",
      "llama_print_timings:       total time =    3181.85 ms\n",
      "Llama.generate: prefix-match hit\n"
     ]
    },
    {
     "name": "stdout",
     "output_type": "stream",
     "text": [
      "169 -- 1\n"
     ]
    },
    {
     "name": "stderr",
     "output_type": "stream",
     "text": [
      "\n",
      "llama_print_timings:        load time =    3598.42 ms\n",
      "llama_print_timings:      sample time =       5.14 ms /    52 runs   (    0.10 ms per token, 10120.67 tokens per second)\n",
      "llama_print_timings: prompt eval time =     214.41 ms /    20 tokens (   10.72 ms per token,    93.28 tokens per second)\n",
      "llama_print_timings:        eval time =    2669.86 ms /    51 runs   (   52.35 ms per token,    19.10 tokens per second)\n",
      "llama_print_timings:       total time =    2960.82 ms\n",
      "Llama.generate: prefix-match hit\n",
      "\n",
      "llama_print_timings:        load time =    3598.42 ms\n",
      "llama_print_timings:      sample time =       6.37 ms /    53 runs   (    0.12 ms per token,  8321.56 tokens per second)\n",
      "llama_print_timings: prompt eval time =     189.62 ms /    23 tokens (    8.24 ms per token,   121.29 tokens per second)\n",
      "llama_print_timings:        eval time =    2690.80 ms /    52 runs   (   51.75 ms per token,    19.33 tokens per second)\n",
      "llama_print_timings:       total time =    2967.55 ms\n",
      "Llama.generate: prefix-match hit\n"
     ]
    },
    {
     "name": "stdout",
     "output_type": "stream",
     "text": [
      "170 -- 1\n",
      "171 -- 1\n"
     ]
    },
    {
     "name": "stderr",
     "output_type": "stream",
     "text": [
      "\n",
      "llama_print_timings:        load time =    3598.42 ms\n",
      "llama_print_timings:      sample time =       5.75 ms /    61 runs   (    0.09 ms per token, 10599.48 tokens per second)\n",
      "llama_print_timings: prompt eval time =     189.19 ms /    21 tokens (    9.01 ms per token,   111.00 tokens per second)\n",
      "llama_print_timings:        eval time =    3144.00 ms /    60 runs   (   52.40 ms per token,    19.08 tokens per second)\n",
      "llama_print_timings:       total time =    3420.87 ms\n",
      "Llama.generate: prefix-match hit\n"
     ]
    },
    {
     "name": "stdout",
     "output_type": "stream",
     "text": [
      "172 -- 1\n"
     ]
    },
    {
     "name": "stderr",
     "output_type": "stream",
     "text": [
      "\n",
      "llama_print_timings:        load time =    3598.42 ms\n",
      "llama_print_timings:      sample time =       5.70 ms /    54 runs   (    0.11 ms per token,  9473.68 tokens per second)\n",
      "llama_print_timings: prompt eval time =     188.49 ms /    23 tokens (    8.20 ms per token,   122.02 tokens per second)\n",
      "llama_print_timings:        eval time =    2720.93 ms /    53 runs   (   51.34 ms per token,    19.48 tokens per second)\n",
      "llama_print_timings:       total time =    2986.50 ms\n",
      "Llama.generate: prefix-match hit\n"
     ]
    },
    {
     "name": "stdout",
     "output_type": "stream",
     "text": [
      "173 -- 1\n"
     ]
    },
    {
     "name": "stderr",
     "output_type": "stream",
     "text": [
      "\n",
      "llama_print_timings:        load time =    3598.42 ms\n",
      "llama_print_timings:      sample time =       5.54 ms /    57 runs   (    0.10 ms per token, 10288.81 tokens per second)\n",
      "llama_print_timings: prompt eval time =     185.18 ms /    19 tokens (    9.75 ms per token,   102.61 tokens per second)\n",
      "llama_print_timings:        eval time =    2868.83 ms /    56 runs   (   51.23 ms per token,    19.52 tokens per second)\n",
      "llama_print_timings:       total time =    3132.06 ms\n",
      "Llama.generate: prefix-match hit\n"
     ]
    },
    {
     "name": "stdout",
     "output_type": "stream",
     "text": [
      "174 -- 1\n"
     ]
    },
    {
     "name": "stderr",
     "output_type": "stream",
     "text": [
      "\n",
      "llama_print_timings:        load time =    3598.42 ms\n",
      "llama_print_timings:      sample time =       5.74 ms /    58 runs   (    0.10 ms per token, 10102.77 tokens per second)\n",
      "llama_print_timings: prompt eval time =     334.27 ms /    38 tokens (    8.80 ms per token,   113.68 tokens per second)\n",
      "llama_print_timings:        eval time =    2953.77 ms /    57 runs   (   51.82 ms per token,    19.30 tokens per second)\n",
      "llama_print_timings:       total time =    3370.98 ms\n",
      "Llama.generate: prefix-match hit\n"
     ]
    },
    {
     "name": "stdout",
     "output_type": "stream",
     "text": [
      "175 -- 1\n"
     ]
    },
    {
     "name": "stderr",
     "output_type": "stream",
     "text": [
      "\n",
      "llama_print_timings:        load time =    3598.42 ms\n",
      "llama_print_timings:      sample time =       4.91 ms /    52 runs   (    0.09 ms per token, 10594.95 tokens per second)\n",
      "llama_print_timings: prompt eval time =     189.55 ms /    21 tokens (    9.03 ms per token,   110.79 tokens per second)\n",
      "llama_print_timings:        eval time =    2632.91 ms /    51 runs   (   51.63 ms per token,    19.37 tokens per second)\n",
      "llama_print_timings:       total time =    2892.45 ms\n",
      "Llama.generate: prefix-match hit\n"
     ]
    },
    {
     "name": "stdout",
     "output_type": "stream",
     "text": [
      "176 -- 1\n"
     ]
    },
    {
     "name": "stderr",
     "output_type": "stream",
     "text": [
      "\n",
      "llama_print_timings:        load time =    3598.42 ms\n",
      "llama_print_timings:      sample time =       5.20 ms /    56 runs   (    0.09 ms per token, 10760.95 tokens per second)\n",
      "llama_print_timings: prompt eval time =     185.30 ms /    19 tokens (    9.75 ms per token,   102.54 tokens per second)\n",
      "llama_print_timings:        eval time =    2818.91 ms /    55 runs   (   51.25 ms per token,    19.51 tokens per second)\n",
      "llama_print_timings:       total time =    3078.76 ms\n",
      "Llama.generate: prefix-match hit\n"
     ]
    },
    {
     "name": "stdout",
     "output_type": "stream",
     "text": [
      "177 -- 1\n"
     ]
    },
    {
     "name": "stderr",
     "output_type": "stream",
     "text": [
      "\n",
      "llama_print_timings:        load time =    3598.42 ms\n",
      "llama_print_timings:      sample time =       5.41 ms /    53 runs   (    0.10 ms per token,  9794.86 tokens per second)\n",
      "llama_print_timings: prompt eval time =     189.15 ms /    21 tokens (    9.01 ms per token,   111.03 tokens per second)\n",
      "llama_print_timings:        eval time =    2678.53 ms /    52 runs   (   51.51 ms per token,    19.41 tokens per second)\n",
      "llama_print_timings:       total time =    2943.88 ms\n",
      "Llama.generate: prefix-match hit\n"
     ]
    },
    {
     "name": "stdout",
     "output_type": "stream",
     "text": [
      "178 -- 1\n"
     ]
    },
    {
     "name": "stderr",
     "output_type": "stream",
     "text": [
      "\n",
      "llama_print_timings:        load time =    3598.42 ms\n",
      "llama_print_timings:      sample time =       5.63 ms /    54 runs   (    0.10 ms per token,  9596.59 tokens per second)\n",
      "llama_print_timings: prompt eval time =     186.27 ms /    21 tokens (    8.87 ms per token,   112.74 tokens per second)\n",
      "llama_print_timings:        eval time =    2732.49 ms /    53 runs   (   51.56 ms per token,    19.40 tokens per second)\n",
      "llama_print_timings:       total time =    2996.80 ms\n",
      "Llama.generate: prefix-match hit\n"
     ]
    },
    {
     "name": "stdout",
     "output_type": "stream",
     "text": [
      "179 -- 1\n"
     ]
    },
    {
     "name": "stderr",
     "output_type": "stream",
     "text": [
      "\n",
      "llama_print_timings:        load time =    3598.42 ms\n",
      "llama_print_timings:      sample time =       5.59 ms /    57 runs   (    0.10 ms per token, 10200.43 tokens per second)\n",
      "llama_print_timings: prompt eval time =     193.28 ms /    25 tokens (    7.73 ms per token,   129.34 tokens per second)\n",
      "llama_print_timings:        eval time =    2903.47 ms /    56 runs   (   51.85 ms per token,    19.29 tokens per second)\n",
      "llama_print_timings:       total time =    3174.39 ms\n",
      "Llama.generate: prefix-match hit\n"
     ]
    },
    {
     "name": "stdout",
     "output_type": "stream",
     "text": [
      "180 -- 1\n"
     ]
    },
    {
     "name": "stderr",
     "output_type": "stream",
     "text": [
      "\n",
      "llama_print_timings:        load time =    3598.42 ms\n",
      "llama_print_timings:      sample time =       5.57 ms /    58 runs   (    0.10 ms per token, 10405.45 tokens per second)\n",
      "llama_print_timings: prompt eval time =     186.83 ms /    20 tokens (    9.34 ms per token,   107.05 tokens per second)\n",
      "llama_print_timings:        eval time =    2923.49 ms /    57 runs   (   51.29 ms per token,    19.50 tokens per second)\n",
      "llama_print_timings:       total time =    3189.43 ms\n",
      "Llama.generate: prefix-match hit\n"
     ]
    },
    {
     "name": "stdout",
     "output_type": "stream",
     "text": [
      "181 -- 1\n"
     ]
    },
    {
     "name": "stderr",
     "output_type": "stream",
     "text": [
      "\n",
      "llama_print_timings:        load time =    3598.42 ms\n",
      "llama_print_timings:      sample time =       5.21 ms /    54 runs   (    0.10 ms per token, 10362.69 tokens per second)\n",
      "llama_print_timings: prompt eval time =     189.19 ms /    22 tokens (    8.60 ms per token,   116.28 tokens per second)\n",
      "llama_print_timings:        eval time =    2719.41 ms /    53 runs   (   51.31 ms per token,    19.49 tokens per second)\n",
      "llama_print_timings:       total time =    2981.72 ms\n",
      "Llama.generate: prefix-match hit\n"
     ]
    },
    {
     "name": "stdout",
     "output_type": "stream",
     "text": [
      "182 -- 1\n"
     ]
    },
    {
     "name": "stderr",
     "output_type": "stream",
     "text": [
      "\n",
      "llama_print_timings:        load time =    3598.42 ms\n",
      "llama_print_timings:      sample time =       5.76 ms /    57 runs   (    0.10 ms per token,  9895.83 tokens per second)\n",
      "llama_print_timings: prompt eval time =     193.82 ms /    26 tokens (    7.45 ms per token,   134.15 tokens per second)\n",
      "llama_print_timings:        eval time =    2879.46 ms /    56 runs   (   51.42 ms per token,    19.45 tokens per second)\n",
      "llama_print_timings:       total time =    3155.44 ms\n",
      "Llama.generate: prefix-match hit\n"
     ]
    },
    {
     "name": "stdout",
     "output_type": "stream",
     "text": [
      "183 -- 1\n"
     ]
    },
    {
     "name": "stderr",
     "output_type": "stream",
     "text": [
      "\n",
      "llama_print_timings:        load time =    3598.42 ms\n",
      "llama_print_timings:      sample time =       4.95 ms /    52 runs   (    0.10 ms per token, 10509.30 tokens per second)\n",
      "llama_print_timings: prompt eval time =     180.25 ms /    15 tokens (   12.02 ms per token,    83.22 tokens per second)\n",
      "llama_print_timings:        eval time =    2617.37 ms /    51 runs   (   51.32 ms per token,    19.49 tokens per second)\n",
      "llama_print_timings:       total time =    2867.52 ms\n",
      "Llama.generate: prefix-match hit\n"
     ]
    },
    {
     "name": "stdout",
     "output_type": "stream",
     "text": [
      "184 -- 1\n"
     ]
    },
    {
     "name": "stderr",
     "output_type": "stream",
     "text": [
      "\n",
      "llama_print_timings:        load time =    3598.42 ms\n",
      "llama_print_timings:      sample time =       5.50 ms /    60 runs   (    0.09 ms per token, 10905.13 tokens per second)\n",
      "llama_print_timings: prompt eval time =     341.23 ms /    44 tokens (    7.76 ms per token,   128.94 tokens per second)\n",
      "llama_print_timings:        eval time =    3035.84 ms /    59 runs   (   51.45 ms per token,    19.43 tokens per second)\n",
      "llama_print_timings:       total time =    3458.46 ms\n",
      "Llama.generate: prefix-match hit\n",
      "\n",
      "llama_print_timings:        load time =    3598.42 ms\n",
      "llama_print_timings:      sample time =       5.08 ms /    52 runs   (    0.10 ms per token, 10242.27 tokens per second)\n",
      "llama_print_timings: prompt eval time =     189.88 ms /    22 tokens (    8.63 ms per token,   115.86 tokens per second)\n",
      "llama_print_timings:        eval time =    2631.77 ms /    51 runs   (   51.60 ms per token,    19.38 tokens per second)\n",
      "llama_print_timings:       total time =    2891.88 ms\n",
      "Llama.generate: prefix-match hit\n"
     ]
    },
    {
     "name": "stdout",
     "output_type": "stream",
     "text": [
      "185 -- 1\n",
      "186 -- 1\n"
     ]
    },
    {
     "name": "stderr",
     "output_type": "stream",
     "text": [
      "\n",
      "llama_print_timings:        load time =    3598.42 ms\n",
      "llama_print_timings:      sample time =       5.21 ms /    50 runs   (    0.10 ms per token,  9593.25 tokens per second)\n",
      "llama_print_timings: prompt eval time =     190.73 ms /    20 tokens (    9.54 ms per token,   104.86 tokens per second)\n",
      "llama_print_timings:        eval time =    2531.20 ms /    49 runs   (   51.66 ms per token,    19.36 tokens per second)\n",
      "llama_print_timings:       total time =    2794.40 ms\n",
      "Llama.generate: prefix-match hit\n"
     ]
    },
    {
     "name": "stdout",
     "output_type": "stream",
     "text": [
      "187 -- 1\n"
     ]
    },
    {
     "name": "stderr",
     "output_type": "stream",
     "text": [
      "\n",
      "llama_print_timings:        load time =    3598.42 ms\n",
      "llama_print_timings:      sample time =       5.13 ms /    51 runs   (    0.10 ms per token,  9941.52 tokens per second)\n",
      "llama_print_timings: prompt eval time =     184.62 ms /    17 tokens (   10.86 ms per token,    92.08 tokens per second)\n",
      "llama_print_timings:        eval time =    2664.19 ms /    50 runs   (   53.28 ms per token,    18.77 tokens per second)\n",
      "llama_print_timings:       total time =    2923.18 ms\n",
      "Llama.generate: prefix-match hit\n"
     ]
    },
    {
     "name": "stdout",
     "output_type": "stream",
     "text": [
      "188 -- 1\n"
     ]
    },
    {
     "name": "stderr",
     "output_type": "stream",
     "text": [
      "\n",
      "llama_print_timings:        load time =    3598.42 ms\n",
      "llama_print_timings:      sample time =       5.45 ms /    55 runs   (    0.10 ms per token, 10095.45 tokens per second)\n",
      "llama_print_timings: prompt eval time =     184.87 ms /    17 tokens (   10.87 ms per token,    91.95 tokens per second)\n",
      "llama_print_timings:        eval time =    2847.61 ms /    54 runs   (   52.73 ms per token,    18.96 tokens per second)\n",
      "llama_print_timings:       total time =    3110.79 ms\n",
      "Llama.generate: prefix-match hit\n"
     ]
    },
    {
     "name": "stdout",
     "output_type": "stream",
     "text": [
      "189 -- 1\n"
     ]
    },
    {
     "name": "stderr",
     "output_type": "stream",
     "text": [
      "\n",
      "llama_print_timings:        load time =    3598.42 ms\n",
      "llama_print_timings:      sample time =       5.98 ms /    59 runs   (    0.10 ms per token,  9869.52 tokens per second)\n",
      "llama_print_timings: prompt eval time =     201.26 ms /    27 tokens (    7.45 ms per token,   134.16 tokens per second)\n",
      "llama_print_timings:        eval time =    3011.93 ms /    58 runs   (   51.93 ms per token,    19.26 tokens per second)\n",
      "llama_print_timings:       total time =    3298.21 ms\n",
      "Llama.generate: prefix-match hit\n"
     ]
    },
    {
     "name": "stdout",
     "output_type": "stream",
     "text": [
      "190 -- 1\n"
     ]
    },
    {
     "name": "stderr",
     "output_type": "stream",
     "text": [
      "\n",
      "llama_print_timings:        load time =    3598.42 ms\n",
      "llama_print_timings:      sample time =       5.58 ms /    52 runs   (    0.11 ms per token,  9319.00 tokens per second)\n",
      "llama_print_timings: prompt eval time =     196.95 ms /    29 tokens (    6.79 ms per token,   147.24 tokens per second)\n",
      "llama_print_timings:        eval time =    2670.60 ms /    51 runs   (   52.36 ms per token,    19.10 tokens per second)\n",
      "llama_print_timings:       total time =    2945.47 ms\n",
      "Llama.generate: prefix-match hit\n"
     ]
    },
    {
     "name": "stdout",
     "output_type": "stream",
     "text": [
      "191 -- 1\n"
     ]
    },
    {
     "name": "stderr",
     "output_type": "stream",
     "text": [
      "\n",
      "llama_print_timings:        load time =    3598.42 ms\n",
      "llama_print_timings:      sample time =       5.28 ms /    55 runs   (    0.10 ms per token, 10410.75 tokens per second)\n",
      "llama_print_timings: prompt eval time =     193.81 ms /    22 tokens (    8.81 ms per token,   113.52 tokens per second)\n",
      "llama_print_timings:        eval time =    2777.43 ms /    54 runs   (   51.43 ms per token,    19.44 tokens per second)\n",
      "llama_print_timings:       total time =    3046.46 ms\n",
      "Llama.generate: prefix-match hit\n"
     ]
    },
    {
     "name": "stdout",
     "output_type": "stream",
     "text": [
      "192 -- 1\n"
     ]
    },
    {
     "name": "stderr",
     "output_type": "stream",
     "text": [
      "\n",
      "llama_print_timings:        load time =    3598.42 ms\n",
      "llama_print_timings:      sample time =       5.27 ms /    54 runs   (    0.10 ms per token, 10242.79 tokens per second)\n",
      "llama_print_timings: prompt eval time =     184.98 ms /    19 tokens (    9.74 ms per token,   102.71 tokens per second)\n",
      "llama_print_timings:        eval time =    2731.11 ms /    53 runs   (   51.53 ms per token,    19.41 tokens per second)\n",
      "llama_print_timings:       total time =    2988.86 ms\n",
      "Llama.generate: prefix-match hit\n"
     ]
    },
    {
     "name": "stdout",
     "output_type": "stream",
     "text": [
      "193 -- 1\n"
     ]
    },
    {
     "name": "stderr",
     "output_type": "stream",
     "text": [
      "\n",
      "llama_print_timings:        load time =    3598.42 ms\n",
      "llama_print_timings:      sample time =       5.29 ms /    53 runs   (    0.10 ms per token, 10009.44 tokens per second)\n",
      "llama_print_timings: prompt eval time =     186.45 ms /    18 tokens (   10.36 ms per token,    96.54 tokens per second)\n",
      "llama_print_timings:        eval time =    2734.55 ms /    52 runs   (   52.59 ms per token,    19.02 tokens per second)\n",
      "llama_print_timings:       total time =    2997.12 ms\n",
      "Llama.generate: prefix-match hit\n",
      "\n",
      "llama_print_timings:        load time =    3598.42 ms\n",
      "llama_print_timings:      sample time =       6.17 ms /    61 runs   (    0.10 ms per token,  9881.74 tokens per second)\n",
      "llama_print_timings: prompt eval time =     209.50 ms /    31 tokens (    6.76 ms per token,   147.97 tokens per second)\n",
      "llama_print_timings:        eval time =    3140.49 ms /    60 runs   (   52.34 ms per token,    19.11 tokens per second)\n",
      "llama_print_timings:       total time =    3435.88 ms\n",
      "Llama.generate: prefix-match hit\n"
     ]
    },
    {
     "name": "stdout",
     "output_type": "stream",
     "text": [
      "194 -- 1\n"
     ]
    },
    {
     "name": "stderr",
     "output_type": "stream",
     "text": [
      "\n",
      "llama_print_timings:        load time =    3598.42 ms\n",
      "llama_print_timings:      sample time =       5.19 ms /    50 runs   (    0.10 ms per token,  9632.06 tokens per second)\n",
      "llama_print_timings: prompt eval time =     186.05 ms /    19 tokens (    9.79 ms per token,   102.12 tokens per second)\n",
      "llama_print_timings:        eval time =    2706.45 ms /    49 runs   (   55.23 ms per token,    18.10 tokens per second)\n",
      "llama_print_timings:       total time =    2967.11 ms\n",
      "Llama.generate: prefix-match hit\n"
     ]
    },
    {
     "name": "stdout",
     "output_type": "stream",
     "text": [
      "195 -- 1\n",
      "196 -- 1\n"
     ]
    },
    {
     "name": "stderr",
     "output_type": "stream",
     "text": [
      "\n",
      "llama_print_timings:        load time =    3598.42 ms\n",
      "llama_print_timings:      sample time =       5.63 ms /    55 runs   (    0.10 ms per token,  9776.04 tokens per second)\n",
      "llama_print_timings: prompt eval time =     188.72 ms /    23 tokens (    8.21 ms per token,   121.87 tokens per second)\n",
      "llama_print_timings:        eval time =    2797.28 ms /    54 runs   (   51.80 ms per token,    19.30 tokens per second)\n",
      "llama_print_timings:       total time =    3065.86 ms\n",
      "Llama.generate: prefix-match hit\n"
     ]
    },
    {
     "name": "stdout",
     "output_type": "stream",
     "text": [
      "197 -- 1\n"
     ]
    },
    {
     "name": "stderr",
     "output_type": "stream",
     "text": [
      "\n",
      "llama_print_timings:        load time =    3598.42 ms\n",
      "llama_print_timings:      sample time =       4.73 ms /    50 runs   (    0.09 ms per token, 10575.30 tokens per second)\n",
      "llama_print_timings: prompt eval time =     186.35 ms /    16 tokens (   11.65 ms per token,    85.86 tokens per second)\n",
      "llama_print_timings:        eval time =    2519.69 ms /    49 runs   (   51.42 ms per token,    19.45 tokens per second)\n",
      "llama_print_timings:       total time =    2773.84 ms\n",
      "Llama.generate: prefix-match hit\n"
     ]
    },
    {
     "name": "stdout",
     "output_type": "stream",
     "text": [
      "198 -- 1\n"
     ]
    },
    {
     "name": "stderr",
     "output_type": "stream",
     "text": [
      "\n",
      "llama_print_timings:        load time =    3598.42 ms\n",
      "llama_print_timings:      sample time =       5.38 ms /    55 runs   (    0.10 ms per token, 10217.35 tokens per second)\n",
      "llama_print_timings: prompt eval time =     194.30 ms /    26 tokens (    7.47 ms per token,   133.82 tokens per second)\n",
      "llama_print_timings:        eval time =    2775.20 ms /    54 runs   (   51.39 ms per token,    19.46 tokens per second)\n",
      "llama_print_timings:       total time =    3043.57 ms\n",
      "Llama.generate: prefix-match hit\n"
     ]
    },
    {
     "name": "stdout",
     "output_type": "stream",
     "text": [
      "199 -- 1\n"
     ]
    },
    {
     "name": "stderr",
     "output_type": "stream",
     "text": [
      "\n",
      "llama_print_timings:        load time =    3598.42 ms\n",
      "llama_print_timings:      sample time =       5.48 ms /    58 runs   (    0.09 ms per token, 10580.08 tokens per second)\n",
      "llama_print_timings: prompt eval time =     190.21 ms /    20 tokens (    9.51 ms per token,   105.15 tokens per second)\n",
      "llama_print_timings:        eval time =    2925.59 ms /    57 runs   (   51.33 ms per token,    19.48 tokens per second)\n",
      "llama_print_timings:       total time =    3194.08 ms\n",
      "Llama.generate: prefix-match hit\n"
     ]
    },
    {
     "name": "stdout",
     "output_type": "stream",
     "text": [
      "200 -- 1\n"
     ]
    },
    {
     "name": "stderr",
     "output_type": "stream",
     "text": [
      "\n",
      "llama_print_timings:        load time =    3598.42 ms\n",
      "llama_print_timings:      sample time =       5.48 ms /    54 runs   (    0.10 ms per token,  9855.81 tokens per second)\n",
      "llama_print_timings: prompt eval time =     189.58 ms /    21 tokens (    9.03 ms per token,   110.77 tokens per second)\n",
      "llama_print_timings:        eval time =    2722.19 ms /    53 runs   (   51.36 ms per token,    19.47 tokens per second)\n",
      "llama_print_timings:       total time =    2988.16 ms\n",
      "Llama.generate: prefix-match hit\n"
     ]
    },
    {
     "name": "stdout",
     "output_type": "stream",
     "text": [
      "201 -- 1\n"
     ]
    },
    {
     "name": "stderr",
     "output_type": "stream",
     "text": [
      "\n",
      "llama_print_timings:        load time =    3598.42 ms\n",
      "llama_print_timings:      sample time =       5.36 ms /    56 runs   (    0.10 ms per token, 10451.66 tokens per second)\n",
      "llama_print_timings: prompt eval time =     180.78 ms /    13 tokens (   13.91 ms per token,    71.91 tokens per second)\n",
      "llama_print_timings:        eval time =    2867.83 ms /    55 runs   (   52.14 ms per token,    19.18 tokens per second)\n",
      "llama_print_timings:       total time =    3126.47 ms\n",
      "Llama.generate: prefix-match hit\n"
     ]
    },
    {
     "name": "stdout",
     "output_type": "stream",
     "text": [
      "202 -- 1\n"
     ]
    },
    {
     "name": "stderr",
     "output_type": "stream",
     "text": [
      "\n",
      "llama_print_timings:        load time =    3598.42 ms\n",
      "llama_print_timings:      sample time =       5.29 ms /    55 runs   (    0.10 ms per token, 10404.84 tokens per second)\n",
      "llama_print_timings: prompt eval time =     188.33 ms /    20 tokens (    9.42 ms per token,   106.19 tokens per second)\n",
      "llama_print_timings:        eval time =    2770.22 ms /    54 runs   (   51.30 ms per token,    19.49 tokens per second)\n",
      "llama_print_timings:       total time =    3033.15 ms\n",
      "Llama.generate: prefix-match hit\n"
     ]
    },
    {
     "name": "stdout",
     "output_type": "stream",
     "text": [
      "203 -- 1\n"
     ]
    },
    {
     "name": "stderr",
     "output_type": "stream",
     "text": [
      "\n",
      "llama_print_timings:        load time =    3598.42 ms\n",
      "llama_print_timings:      sample time =       5.05 ms /    53 runs   (    0.10 ms per token, 10497.13 tokens per second)\n",
      "llama_print_timings: prompt eval time =     182.78 ms /    13 tokens (   14.06 ms per token,    71.12 tokens per second)\n",
      "llama_print_timings:        eval time =    2705.57 ms /    52 runs   (   52.03 ms per token,    19.22 tokens per second)\n",
      "llama_print_timings:       total time =    2962.09 ms\n",
      "Llama.generate: prefix-match hit\n"
     ]
    },
    {
     "name": "stdout",
     "output_type": "stream",
     "text": [
      "204 -- 1\n"
     ]
    },
    {
     "name": "stderr",
     "output_type": "stream",
     "text": [
      "\n",
      "llama_print_timings:        load time =    3598.42 ms\n",
      "llama_print_timings:      sample time =       5.80 ms /    52 runs   (    0.11 ms per token,  8965.52 tokens per second)\n",
      "llama_print_timings: prompt eval time =     189.13 ms /    21 tokens (    9.01 ms per token,   111.04 tokens per second)\n",
      "llama_print_timings:        eval time =    2618.77 ms /    51 runs   (   51.35 ms per token,    19.47 tokens per second)\n",
      "llama_print_timings:       total time =    2891.09 ms\n",
      "Llama.generate: prefix-match hit\n"
     ]
    },
    {
     "name": "stdout",
     "output_type": "stream",
     "text": [
      "205 -- 1\n"
     ]
    },
    {
     "name": "stderr",
     "output_type": "stream",
     "text": [
      "\n",
      "llama_print_timings:        load time =    3598.42 ms\n",
      "llama_print_timings:      sample time =       5.07 ms /    52 runs   (    0.10 ms per token, 10264.51 tokens per second)\n",
      "llama_print_timings: prompt eval time =     189.78 ms /    21 tokens (    9.04 ms per token,   110.66 tokens per second)\n",
      "llama_print_timings:        eval time =    2612.92 ms /    51 runs   (   51.23 ms per token,    19.52 tokens per second)\n",
      "llama_print_timings:       total time =    2872.70 ms\n",
      "Llama.generate: prefix-match hit\n",
      "\n",
      "llama_print_timings:        load time =    3598.42 ms\n",
      "llama_print_timings:      sample time =       5.79 ms /    59 runs   (    0.10 ms per token, 10189.98 tokens per second)\n",
      "llama_print_timings: prompt eval time =     195.75 ms /    28 tokens (    6.99 ms per token,   143.04 tokens per second)\n",
      "llama_print_timings:        eval time =    2982.09 ms /    58 runs   (   51.42 ms per token,    19.45 tokens per second)\n",
      "llama_print_timings:       total time =    3259.58 ms\n",
      "Llama.generate: prefix-match hit\n"
     ]
    },
    {
     "name": "stdout",
     "output_type": "stream",
     "text": [
      "206 -- 1\n",
      "207 -- 1\n"
     ]
    },
    {
     "name": "stderr",
     "output_type": "stream",
     "text": [
      "\n",
      "llama_print_timings:        load time =    3598.42 ms\n",
      "llama_print_timings:      sample time =       6.27 ms /    60 runs   (    0.10 ms per token,  9575.49 tokens per second)\n",
      "llama_print_timings: prompt eval time =     191.70 ms /    27 tokens (    7.10 ms per token,   140.84 tokens per second)\n",
      "llama_print_timings:        eval time =    3114.28 ms /    59 runs   (   52.78 ms per token,    18.94 tokens per second)\n",
      "llama_print_timings:       total time =    3392.78 ms\n",
      "Llama.generate: prefix-match hit\n"
     ]
    },
    {
     "name": "stdout",
     "output_type": "stream",
     "text": [
      "208 -- 1\n"
     ]
    },
    {
     "name": "stderr",
     "output_type": "stream",
     "text": [
      "\n",
      "llama_print_timings:        load time =    3598.42 ms\n",
      "llama_print_timings:      sample time =       5.26 ms /    55 runs   (    0.10 ms per token, 10464.23 tokens per second)\n",
      "llama_print_timings: prompt eval time =     193.98 ms /    26 tokens (    7.46 ms per token,   134.03 tokens per second)\n",
      "llama_print_timings:        eval time =    2776.96 ms /    54 runs   (   51.43 ms per token,    19.45 tokens per second)\n",
      "llama_print_timings:       total time =    3046.21 ms\n",
      "Llama.generate: prefix-match hit\n"
     ]
    },
    {
     "name": "stdout",
     "output_type": "stream",
     "text": [
      "209 -- 1\n"
     ]
    },
    {
     "name": "stderr",
     "output_type": "stream",
     "text": [
      "\n",
      "llama_print_timings:        load time =    3598.42 ms\n",
      "llama_print_timings:      sample time =       5.22 ms /    54 runs   (    0.10 ms per token, 10340.87 tokens per second)\n",
      "llama_print_timings: prompt eval time =     184.97 ms /    17 tokens (   10.88 ms per token,    91.91 tokens per second)\n",
      "llama_print_timings:        eval time =    2718.70 ms /    53 runs   (   51.30 ms per token,    19.49 tokens per second)\n",
      "llama_print_timings:       total time =    2977.38 ms\n",
      "Llama.generate: prefix-match hit\n"
     ]
    },
    {
     "name": "stdout",
     "output_type": "stream",
     "text": [
      "210 -- 1\n"
     ]
    },
    {
     "name": "stderr",
     "output_type": "stream",
     "text": [
      "\n",
      "llama_print_timings:        load time =    3598.42 ms\n",
      "llama_print_timings:      sample time =       5.73 ms /    57 runs   (    0.10 ms per token,  9940.70 tokens per second)\n",
      "llama_print_timings: prompt eval time =     189.52 ms /    21 tokens (    9.02 ms per token,   110.81 tokens per second)\n",
      "llama_print_timings:        eval time =    3044.81 ms /    56 runs   (   54.37 ms per token,    18.39 tokens per second)\n",
      "llama_print_timings:       total time =    3320.27 ms\n",
      "Llama.generate: prefix-match hit\n",
      "\n",
      "llama_print_timings:        load time =    3598.42 ms\n",
      "llama_print_timings:      sample time =       5.46 ms /    54 runs   (    0.10 ms per token,  9881.06 tokens per second)\n",
      "llama_print_timings: prompt eval time =     190.85 ms /    21 tokens (    9.09 ms per token,   110.03 tokens per second)\n",
      "llama_print_timings:        eval time =    2734.94 ms /    53 runs   (   51.60 ms per token,    19.38 tokens per second)\n",
      "llama_print_timings:       total time =    3003.50 ms\n",
      "Llama.generate: prefix-match hit\n"
     ]
    },
    {
     "name": "stdout",
     "output_type": "stream",
     "text": [
      "211 -- 1\n",
      "212 -- 1\n"
     ]
    },
    {
     "name": "stderr",
     "output_type": "stream",
     "text": [
      "\n",
      "llama_print_timings:        load time =    3598.42 ms\n",
      "llama_print_timings:      sample time =       5.47 ms /    56 runs   (    0.10 ms per token, 10235.79 tokens per second)\n",
      "llama_print_timings: prompt eval time =     189.23 ms /    18 tokens (   10.51 ms per token,    95.12 tokens per second)\n",
      "llama_print_timings:        eval time =    2865.64 ms /    55 runs   (   52.10 ms per token,    19.19 tokens per second)\n",
      "llama_print_timings:       total time =    3135.60 ms\n",
      "Llama.generate: prefix-match hit\n"
     ]
    },
    {
     "name": "stdout",
     "output_type": "stream",
     "text": [
      "213 -- 1\n"
     ]
    },
    {
     "name": "stderr",
     "output_type": "stream",
     "text": [
      "\n",
      "llama_print_timings:        load time =    3598.42 ms\n",
      "llama_print_timings:      sample time =       5.62 ms /    53 runs   (    0.11 ms per token,  9427.25 tokens per second)\n",
      "llama_print_timings: prompt eval time =     331.88 ms /    33 tokens (   10.06 ms per token,    99.43 tokens per second)\n",
      "llama_print_timings:        eval time =    2701.56 ms /    52 runs   (   51.95 ms per token,    19.25 tokens per second)\n",
      "llama_print_timings:       total time =    3115.12 ms\n",
      "Llama.generate: prefix-match hit\n"
     ]
    },
    {
     "name": "stdout",
     "output_type": "stream",
     "text": [
      "214 -- 1\n"
     ]
    },
    {
     "name": "stderr",
     "output_type": "stream",
     "text": [
      "\n",
      "llama_print_timings:        load time =    3598.42 ms\n",
      "llama_print_timings:      sample time =       6.19 ms /    58 runs   (    0.11 ms per token,  9376.01 tokens per second)\n",
      "llama_print_timings: prompt eval time =     191.21 ms /    24 tokens (    7.97 ms per token,   125.52 tokens per second)\n",
      "llama_print_timings:        eval time =    2941.00 ms /    57 runs   (   51.60 ms per token,    19.38 tokens per second)\n",
      "llama_print_timings:       total time =    3220.23 ms\n",
      "Llama.generate: prefix-match hit\n"
     ]
    },
    {
     "name": "stdout",
     "output_type": "stream",
     "text": [
      "215 -- 1\n"
     ]
    },
    {
     "name": "stderr",
     "output_type": "stream",
     "text": [
      "\n",
      "llama_print_timings:        load time =    3598.42 ms\n",
      "llama_print_timings:      sample time =       5.17 ms /    54 runs   (    0.10 ms per token, 10446.89 tokens per second)\n",
      "llama_print_timings: prompt eval time =     189.01 ms /    23 tokens (    8.22 ms per token,   121.69 tokens per second)\n",
      "llama_print_timings:        eval time =    2720.60 ms /    53 runs   (   51.33 ms per token,    19.48 tokens per second)\n",
      "llama_print_timings:       total time =    2983.50 ms\n",
      "Llama.generate: prefix-match hit\n"
     ]
    },
    {
     "name": "stdout",
     "output_type": "stream",
     "text": [
      "216 -- 1\n"
     ]
    },
    {
     "name": "stderr",
     "output_type": "stream",
     "text": [
      "\n",
      "llama_print_timings:        load time =    3598.42 ms\n",
      "llama_print_timings:      sample time =       4.68 ms /    53 runs   (    0.09 ms per token, 11334.47 tokens per second)\n",
      "llama_print_timings: prompt eval time =     347.64 ms /    52 tokens (    6.69 ms per token,   149.58 tokens per second)\n",
      "llama_print_timings:        eval time =    2676.72 ms /    52 runs   (   51.48 ms per token,    19.43 tokens per second)\n",
      "llama_print_timings:       total time =    3096.41 ms\n",
      "Llama.generate: prefix-match hit\n"
     ]
    },
    {
     "name": "stdout",
     "output_type": "stream",
     "text": [
      "217 -- 1\n"
     ]
    },
    {
     "name": "stderr",
     "output_type": "stream",
     "text": [
      "\n",
      "llama_print_timings:        load time =    3598.42 ms\n",
      "llama_print_timings:      sample time =       5.61 ms /    54 runs   (    0.10 ms per token,  9629.10 tokens per second)\n",
      "llama_print_timings: prompt eval time =     330.40 ms /    33 tokens (   10.01 ms per token,    99.88 tokens per second)\n",
      "llama_print_timings:        eval time =    2738.80 ms /    53 runs   (   51.68 ms per token,    19.35 tokens per second)\n",
      "llama_print_timings:       total time =    3148.18 ms\n",
      "Llama.generate: prefix-match hit\n"
     ]
    },
    {
     "name": "stdout",
     "output_type": "stream",
     "text": [
      "218 -- 1\n"
     ]
    },
    {
     "name": "stderr",
     "output_type": "stream",
     "text": [
      "\n",
      "llama_print_timings:        load time =    3598.42 ms\n",
      "llama_print_timings:      sample time =       5.26 ms /    53 runs   (    0.10 ms per token, 10077.96 tokens per second)\n",
      "llama_print_timings: prompt eval time =     198.11 ms /    29 tokens (    6.83 ms per token,   146.38 tokens per second)\n",
      "llama_print_timings:        eval time =    2673.79 ms /    52 runs   (   51.42 ms per token,    19.45 tokens per second)\n",
      "llama_print_timings:       total time =    2947.56 ms\n",
      "Llama.generate: prefix-match hit\n"
     ]
    },
    {
     "name": "stdout",
     "output_type": "stream",
     "text": [
      "219 -- 1\n"
     ]
    },
    {
     "name": "stderr",
     "output_type": "stream",
     "text": [
      "\n",
      "llama_print_timings:        load time =    3598.42 ms\n",
      "llama_print_timings:      sample time =       5.11 ms /    55 runs   (    0.09 ms per token, 10767.42 tokens per second)\n",
      "llama_print_timings: prompt eval time =     182.97 ms /    16 tokens (   11.44 ms per token,    87.44 tokens per second)\n",
      "llama_print_timings:        eval time =    2769.19 ms /    54 runs   (   51.28 ms per token,    19.50 tokens per second)\n",
      "llama_print_timings:       total time =    3027.89 ms\n",
      "Llama.generate: prefix-match hit\n"
     ]
    },
    {
     "name": "stdout",
     "output_type": "stream",
     "text": [
      "220 -- 1\n"
     ]
    },
    {
     "name": "stderr",
     "output_type": "stream",
     "text": [
      "\n",
      "llama_print_timings:        load time =    3598.42 ms\n",
      "llama_print_timings:      sample time =       5.30 ms /    51 runs   (    0.10 ms per token,  9629.91 tokens per second)\n",
      "llama_print_timings: prompt eval time =     189.49 ms /    21 tokens (    9.02 ms per token,   110.82 tokens per second)\n",
      "llama_print_timings:        eval time =    2576.74 ms /    50 runs   (   51.53 ms per token,    19.40 tokens per second)\n",
      "llama_print_timings:       total time =    2839.73 ms\n",
      "Llama.generate: prefix-match hit\n"
     ]
    },
    {
     "name": "stdout",
     "output_type": "stream",
     "text": [
      "221 -- 1\n"
     ]
    },
    {
     "name": "stderr",
     "output_type": "stream",
     "text": [
      "\n",
      "llama_print_timings:        load time =    3598.42 ms\n",
      "llama_print_timings:      sample time =       5.44 ms /    53 runs   (    0.10 ms per token,  9742.65 tokens per second)\n",
      "llama_print_timings: prompt eval time =     180.22 ms /    15 tokens (   12.01 ms per token,    83.23 tokens per second)\n",
      "llama_print_timings:        eval time =    2676.14 ms /    52 runs   (   51.46 ms per token,    19.43 tokens per second)\n",
      "llama_print_timings:       total time =    2935.18 ms\n",
      "Llama.generate: prefix-match hit\n",
      "\n",
      "llama_print_timings:        load time =    3598.42 ms\n",
      "llama_print_timings:      sample time =       9.88 ms /    98 runs   (    0.10 ms per token,  9919.03 tokens per second)\n",
      "llama_print_timings: prompt eval time =     335.39 ms /    36 tokens (    9.32 ms per token,   107.34 tokens per second)\n",
      "llama_print_timings:        eval time =    5015.01 ms /    97 runs   (   51.70 ms per token,    19.34 tokens per second)\n",
      "llama_print_timings:       total time =    5494.21 ms\n",
      "Llama.generate: prefix-match hit\n"
     ]
    },
    {
     "name": "stdout",
     "output_type": "stream",
     "text": [
      "222 -- 1\n",
      "222 -- 2\n"
     ]
    },
    {
     "name": "stderr",
     "output_type": "stream",
     "text": [
      "\n",
      "llama_print_timings:        load time =    3598.42 ms\n",
      "llama_print_timings:      sample time =       5.83 ms /    57 runs   (    0.10 ms per token,  9783.73 tokens per second)\n",
      "llama_print_timings: prompt eval time =       0.00 ms /     1 tokens (    0.00 ms per token,      inf tokens per second)\n",
      "llama_print_timings:        eval time =    2935.66 ms /    57 runs   (   51.50 ms per token,    19.42 tokens per second)\n",
      "llama_print_timings:       total time =    3017.46 ms\n",
      "Llama.generate: prefix-match hit\n"
     ]
    },
    {
     "name": "stdout",
     "output_type": "stream",
     "text": [
      "223 -- 1\n"
     ]
    },
    {
     "name": "stderr",
     "output_type": "stream",
     "text": [
      "\n",
      "llama_print_timings:        load time =    3598.42 ms\n",
      "llama_print_timings:      sample time =       5.21 ms /    53 runs   (    0.10 ms per token, 10182.52 tokens per second)\n",
      "llama_print_timings: prompt eval time =     185.36 ms /    19 tokens (    9.76 ms per token,   102.50 tokens per second)\n",
      "llama_print_timings:        eval time =    2680.89 ms /    52 runs   (   51.56 ms per token,    19.40 tokens per second)\n",
      "llama_print_timings:       total time =    2941.72 ms\n",
      "Llama.generate: prefix-match hit\n"
     ]
    },
    {
     "name": "stdout",
     "output_type": "stream",
     "text": [
      "224 -- 1\n"
     ]
    },
    {
     "name": "stderr",
     "output_type": "stream",
     "text": [
      "\n",
      "llama_print_timings:        load time =    3598.42 ms\n",
      "llama_print_timings:      sample time =       5.20 ms /    53 runs   (    0.10 ms per token, 10188.39 tokens per second)\n",
      "llama_print_timings: prompt eval time =     180.91 ms /    15 tokens (   12.06 ms per token,    82.92 tokens per second)\n",
      "llama_print_timings:        eval time =    2687.25 ms /    52 runs   (   51.68 ms per token,    19.35 tokens per second)\n",
      "llama_print_timings:       total time =    2944.12 ms\n",
      "Llama.generate: prefix-match hit\n"
     ]
    },
    {
     "name": "stdout",
     "output_type": "stream",
     "text": [
      "225 -- 1\n"
     ]
    },
    {
     "name": "stderr",
     "output_type": "stream",
     "text": [
      "\n",
      "llama_print_timings:        load time =    3598.42 ms\n",
      "llama_print_timings:      sample time =       5.58 ms /    56 runs   (    0.10 ms per token, 10041.24 tokens per second)\n",
      "llama_print_timings: prompt eval time =     187.58 ms /    20 tokens (    9.38 ms per token,   106.62 tokens per second)\n",
      "llama_print_timings:        eval time =    2828.03 ms /    55 runs   (   51.42 ms per token,    19.45 tokens per second)\n",
      "llama_print_timings:       total time =    3097.00 ms\n",
      "Llama.generate: prefix-match hit\n"
     ]
    },
    {
     "name": "stdout",
     "output_type": "stream",
     "text": [
      "226 -- 1\n"
     ]
    },
    {
     "name": "stderr",
     "output_type": "stream",
     "text": [
      "\n",
      "llama_print_timings:        load time =    3598.42 ms\n",
      "llama_print_timings:      sample time =       5.53 ms /    56 runs   (    0.10 ms per token, 10124.75 tokens per second)\n",
      "llama_print_timings: prompt eval time =     184.91 ms /    17 tokens (   10.88 ms per token,    91.94 tokens per second)\n",
      "llama_print_timings:        eval time =    2858.23 ms /    55 runs   (   51.97 ms per token,    19.24 tokens per second)\n",
      "llama_print_timings:       total time =    3122.83 ms\n",
      "Llama.generate: prefix-match hit\n"
     ]
    },
    {
     "name": "stdout",
     "output_type": "stream",
     "text": [
      "227 -- 1\n"
     ]
    },
    {
     "name": "stderr",
     "output_type": "stream",
     "text": [
      "\n",
      "llama_print_timings:        load time =    3598.42 ms\n",
      "llama_print_timings:      sample time =       5.77 ms /    59 runs   (    0.10 ms per token, 10230.62 tokens per second)\n",
      "llama_print_timings: prompt eval time =     350.56 ms /    50 tokens (    7.01 ms per token,   142.63 tokens per second)\n",
      "llama_print_timings:        eval time =    3014.87 ms /    58 runs   (   51.98 ms per token,    19.24 tokens per second)\n",
      "llama_print_timings:       total time =    3453.17 ms\n",
      "Llama.generate: prefix-match hit\n"
     ]
    },
    {
     "name": "stdout",
     "output_type": "stream",
     "text": [
      "228 -- 1\n"
     ]
    },
    {
     "name": "stderr",
     "output_type": "stream",
     "text": [
      "\n",
      "llama_print_timings:        load time =    3598.42 ms\n",
      "llama_print_timings:      sample time =       5.30 ms /    54 runs   (    0.10 ms per token, 10192.53 tokens per second)\n",
      "llama_print_timings: prompt eval time =     185.00 ms /    17 tokens (   10.88 ms per token,    91.89 tokens per second)\n",
      "llama_print_timings:        eval time =    2722.40 ms /    53 runs   (   51.37 ms per token,    19.47 tokens per second)\n",
      "llama_print_timings:       total time =    2984.03 ms\n",
      "Llama.generate: prefix-match hit\n"
     ]
    },
    {
     "name": "stdout",
     "output_type": "stream",
     "text": [
      "229 -- 1\n"
     ]
    },
    {
     "name": "stderr",
     "output_type": "stream",
     "text": [
      "\n",
      "llama_print_timings:        load time =    3598.42 ms\n",
      "llama_print_timings:      sample time =       5.58 ms /    55 runs   (    0.10 ms per token,  9854.86 tokens per second)\n",
      "llama_print_timings: prompt eval time =     190.83 ms /    24 tokens (    7.95 ms per token,   125.77 tokens per second)\n",
      "llama_print_timings:        eval time =    2774.96 ms /    54 runs   (   51.39 ms per token,    19.46 tokens per second)\n",
      "llama_print_timings:       total time =    3044.39 ms\n",
      "Llama.generate: prefix-match hit\n"
     ]
    },
    {
     "name": "stdout",
     "output_type": "stream",
     "text": [
      "230 -- 1\n"
     ]
    },
    {
     "name": "stderr",
     "output_type": "stream",
     "text": [
      "\n",
      "llama_print_timings:        load time =    3598.42 ms\n",
      "llama_print_timings:      sample time =       5.95 ms /    60 runs   (    0.10 ms per token, 10078.95 tokens per second)\n",
      "llama_print_timings: prompt eval time =     332.12 ms /    34 tokens (    9.77 ms per token,   102.37 tokens per second)\n",
      "llama_print_timings:        eval time =    3072.66 ms /    59 runs   (   52.08 ms per token,    19.20 tokens per second)\n",
      "llama_print_timings:       total time =    3493.22 ms\n",
      "Llama.generate: prefix-match hit\n"
     ]
    },
    {
     "name": "stdout",
     "output_type": "stream",
     "text": [
      "231 -- 1\n"
     ]
    },
    {
     "name": "stderr",
     "output_type": "stream",
     "text": [
      "\n",
      "llama_print_timings:        load time =    3598.42 ms\n",
      "llama_print_timings:      sample time =       5.17 ms /    53 runs   (    0.10 ms per token, 10241.55 tokens per second)\n",
      "llama_print_timings: prompt eval time =     188.89 ms /    23 tokens (    8.21 ms per token,   121.76 tokens per second)\n",
      "llama_print_timings:        eval time =    2673.86 ms /    52 runs   (   51.42 ms per token,    19.45 tokens per second)\n",
      "llama_print_timings:       total time =    2944.79 ms\n",
      "Llama.generate: prefix-match hit\n"
     ]
    },
    {
     "name": "stdout",
     "output_type": "stream",
     "text": [
      "232 -- 1\n"
     ]
    },
    {
     "name": "stderr",
     "output_type": "stream",
     "text": [
      "\n",
      "llama_print_timings:        load time =    3598.42 ms\n",
      "llama_print_timings:      sample time =       5.54 ms /    59 runs   (    0.09 ms per token, 10644.06 tokens per second)\n",
      "llama_print_timings: prompt eval time =     464.51 ms /    67 tokens (    6.93 ms per token,   144.24 tokens per second)\n",
      "llama_print_timings:        eval time =    2999.22 ms /    58 runs   (   51.71 ms per token,    19.34 tokens per second)\n",
      "llama_print_timings:       total time =    3546.55 ms\n",
      "Llama.generate: prefix-match hit\n"
     ]
    },
    {
     "name": "stdout",
     "output_type": "stream",
     "text": [
      "233 -- 1\n"
     ]
    },
    {
     "name": "stderr",
     "output_type": "stream",
     "text": [
      "\n",
      "llama_print_timings:        load time =    3598.42 ms\n",
      "llama_print_timings:      sample time =       5.44 ms /    54 runs   (    0.10 ms per token,  9926.47 tokens per second)\n",
      "llama_print_timings: prompt eval time =     186.58 ms /    18 tokens (   10.37 ms per token,    96.47 tokens per second)\n",
      "llama_print_timings:        eval time =    2741.98 ms /    53 runs   (   51.74 ms per token,    19.33 tokens per second)\n",
      "llama_print_timings:       total time =    3006.21 ms\n",
      "Llama.generate: prefix-match hit\n"
     ]
    },
    {
     "name": "stdout",
     "output_type": "stream",
     "text": [
      "234 -- 1\n"
     ]
    },
    {
     "name": "stderr",
     "output_type": "stream",
     "text": [
      "\n",
      "llama_print_timings:        load time =    3598.42 ms\n",
      "llama_print_timings:      sample time =       5.54 ms /    56 runs   (    0.10 ms per token, 10117.43 tokens per second)\n",
      "llama_print_timings: prompt eval time =     184.90 ms /    19 tokens (    9.73 ms per token,   102.76 tokens per second)\n",
      "llama_print_timings:        eval time =    2827.14 ms /    55 runs   (   51.40 ms per token,    19.45 tokens per second)\n",
      "llama_print_timings:       total time =    3092.83 ms\n",
      "Llama.generate: prefix-match hit\n"
     ]
    },
    {
     "name": "stdout",
     "output_type": "stream",
     "text": [
      "235 -- 1\n"
     ]
    },
    {
     "name": "stderr",
     "output_type": "stream",
     "text": [
      "\n",
      "llama_print_timings:        load time =    3598.42 ms\n",
      "llama_print_timings:      sample time =       5.42 ms /    54 runs   (    0.10 ms per token,  9964.94 tokens per second)\n",
      "llama_print_timings: prompt eval time =     186.82 ms /    20 tokens (    9.34 ms per token,   107.05 tokens per second)\n",
      "llama_print_timings:        eval time =    2730.88 ms /    53 runs   (   51.53 ms per token,    19.41 tokens per second)\n",
      "llama_print_timings:       total time =    2995.27 ms\n",
      "Llama.generate: prefix-match hit\n"
     ]
    },
    {
     "name": "stdout",
     "output_type": "stream",
     "text": [
      "236 -- 1\n"
     ]
    },
    {
     "name": "stderr",
     "output_type": "stream",
     "text": [
      "\n",
      "llama_print_timings:        load time =    3598.42 ms\n",
      "llama_print_timings:      sample time =       5.30 ms /    56 runs   (    0.09 ms per token, 10560.06 tokens per second)\n",
      "llama_print_timings: prompt eval time =     182.34 ms /    14 tokens (   13.02 ms per token,    76.78 tokens per second)\n",
      "llama_print_timings:        eval time =    2826.72 ms /    55 runs   (   51.39 ms per token,    19.46 tokens per second)\n",
      "llama_print_timings:       total time =    3089.32 ms\n",
      "Llama.generate: prefix-match hit\n",
      "\n",
      "llama_print_timings:        load time =    3598.42 ms\n",
      "llama_print_timings:      sample time =       5.57 ms /    58 runs   (    0.10 ms per token, 10411.06 tokens per second)\n",
      "llama_print_timings: prompt eval time =     185.30 ms /    19 tokens (    9.75 ms per token,   102.54 tokens per second)\n",
      "llama_print_timings:        eval time =    2953.13 ms /    57 runs   (   51.81 ms per token,    19.30 tokens per second)\n",
      "llama_print_timings:       total time =    3221.94 ms\n",
      "Llama.generate: prefix-match hit\n"
     ]
    },
    {
     "name": "stdout",
     "output_type": "stream",
     "text": [
      "237 -- 1\n"
     ]
    },
    {
     "name": "stderr",
     "output_type": "stream",
     "text": [
      "\n",
      "llama_print_timings:        load time =    3598.42 ms\n",
      "llama_print_timings:      sample time =       5.12 ms /    51 runs   (    0.10 ms per token,  9957.05 tokens per second)\n",
      "llama_print_timings: prompt eval time =     188.22 ms /    19 tokens (    9.91 ms per token,   100.95 tokens per second)\n",
      "llama_print_timings:        eval time =    2640.22 ms /    50 runs   (   52.80 ms per token,    18.94 tokens per second)\n",
      "llama_print_timings:       total time =    2904.51 ms\n",
      "Llama.generate: prefix-match hit\n"
     ]
    },
    {
     "name": "stdout",
     "output_type": "stream",
     "text": [
      "238 -- 1\n",
      "239 -- 1\n"
     ]
    },
    {
     "name": "stderr",
     "output_type": "stream",
     "text": [
      "\n",
      "llama_print_timings:        load time =    3598.42 ms\n",
      "llama_print_timings:      sample time =       5.45 ms /    50 runs   (    0.11 ms per token,  9182.74 tokens per second)\n",
      "llama_print_timings: prompt eval time =     199.09 ms /    31 tokens (    6.42 ms per token,   155.70 tokens per second)\n",
      "llama_print_timings:        eval time =    2638.72 ms /    49 runs   (   53.85 ms per token,    18.57 tokens per second)\n",
      "llama_print_timings:       total time =    2919.61 ms\n",
      "Llama.generate: prefix-match hit\n"
     ]
    },
    {
     "name": "stdout",
     "output_type": "stream",
     "text": [
      "240 -- 1\n"
     ]
    },
    {
     "name": "stderr",
     "output_type": "stream",
     "text": [
      "\n",
      "llama_print_timings:        load time =    3598.42 ms\n",
      "llama_print_timings:      sample time =       6.19 ms /    56 runs   (    0.11 ms per token,  9046.85 tokens per second)\n",
      "llama_print_timings: prompt eval time =     192.38 ms /    27 tokens (    7.13 ms per token,   140.35 tokens per second)\n",
      "llama_print_timings:        eval time =    2856.35 ms /    55 runs   (   51.93 ms per token,    19.26 tokens per second)\n",
      "llama_print_timings:       total time =    3133.06 ms\n",
      "Llama.generate: prefix-match hit\n"
     ]
    },
    {
     "name": "stdout",
     "output_type": "stream",
     "text": [
      "241 -- 1\n"
     ]
    },
    {
     "name": "stderr",
     "output_type": "stream",
     "text": [
      "\n",
      "llama_print_timings:        load time =    3598.42 ms\n",
      "llama_print_timings:      sample time =       4.90 ms /    50 runs   (    0.10 ms per token, 10204.08 tokens per second)\n",
      "llama_print_timings: prompt eval time =     188.41 ms /    18 tokens (   10.47 ms per token,    95.54 tokens per second)\n",
      "llama_print_timings:        eval time =    2533.42 ms /    49 runs   (   51.70 ms per token,    19.34 tokens per second)\n",
      "llama_print_timings:       total time =    2792.93 ms\n",
      "Llama.generate: prefix-match hit\n"
     ]
    },
    {
     "name": "stdout",
     "output_type": "stream",
     "text": [
      "242 -- 1\n"
     ]
    },
    {
     "name": "stderr",
     "output_type": "stream",
     "text": [
      "\n",
      "llama_print_timings:        load time =    3598.42 ms\n",
      "llama_print_timings:      sample time =       4.85 ms /    49 runs   (    0.10 ms per token, 10111.43 tokens per second)\n",
      "llama_print_timings: prompt eval time =     184.98 ms /    19 tokens (    9.74 ms per token,   102.71 tokens per second)\n",
      "llama_print_timings:        eval time =    2465.33 ms /    48 runs   (   51.36 ms per token,    19.47 tokens per second)\n",
      "llama_print_timings:       total time =    2719.59 ms\n",
      "Llama.generate: prefix-match hit\n"
     ]
    },
    {
     "name": "stdout",
     "output_type": "stream",
     "text": [
      "243 -- 1\n"
     ]
    },
    {
     "name": "stderr",
     "output_type": "stream",
     "text": [
      "\n",
      "llama_print_timings:        load time =    3598.42 ms\n",
      "llama_print_timings:      sample time =       6.62 ms /    56 runs   (    0.12 ms per token,  8463.05 tokens per second)\n",
      "llama_print_timings: prompt eval time =     197.45 ms /    18 tokens (   10.97 ms per token,    91.16 tokens per second)\n",
      "llama_print_timings:        eval time =    2872.70 ms /    55 runs   (   52.23 ms per token,    19.15 tokens per second)\n",
      "llama_print_timings:       total time =    3163.62 ms\n",
      "Llama.generate: prefix-match hit\n"
     ]
    },
    {
     "name": "stdout",
     "output_type": "stream",
     "text": [
      "244 -- 1\n"
     ]
    },
    {
     "name": "stderr",
     "output_type": "stream",
     "text": [
      "\n",
      "llama_print_timings:        load time =    3598.42 ms\n",
      "llama_print_timings:      sample time =       5.20 ms /    52 runs   (    0.10 ms per token, 10005.77 tokens per second)\n",
      "llama_print_timings: prompt eval time =     185.55 ms /    19 tokens (    9.77 ms per token,   102.40 tokens per second)\n",
      "llama_print_timings:        eval time =    2636.78 ms /    51 runs   (   51.70 ms per token,    19.34 tokens per second)\n",
      "llama_print_timings:       total time =    2897.65 ms\n",
      "Llama.generate: prefix-match hit\n"
     ]
    },
    {
     "name": "stdout",
     "output_type": "stream",
     "text": [
      "245 -- 1\n"
     ]
    },
    {
     "name": "stderr",
     "output_type": "stream",
     "text": [
      "\n",
      "llama_print_timings:        load time =    3598.42 ms\n",
      "llama_print_timings:      sample time =       5.01 ms /    51 runs   (    0.10 ms per token, 10177.61 tokens per second)\n",
      "llama_print_timings: prompt eval time =     184.13 ms /    16 tokens (   11.51 ms per token,    86.89 tokens per second)\n",
      "llama_print_timings:        eval time =    2616.24 ms /    50 runs   (   52.32 ms per token,    19.11 tokens per second)\n",
      "llama_print_timings:       total time =    2873.39 ms\n",
      "Llama.generate: prefix-match hit\n"
     ]
    },
    {
     "name": "stdout",
     "output_type": "stream",
     "text": [
      "246 -- 1\n"
     ]
    },
    {
     "name": "stderr",
     "output_type": "stream",
     "text": [
      "\n",
      "llama_print_timings:        load time =    3598.42 ms\n",
      "llama_print_timings:      sample time =      12.16 ms /    56 runs   (    0.22 ms per token,  4605.64 tokens per second)\n",
      "llama_print_timings: prompt eval time =     196.69 ms /    24 tokens (    8.20 ms per token,   122.02 tokens per second)\n",
      "llama_print_timings:        eval time =    2883.94 ms /    55 runs   (   52.44 ms per token,    19.07 tokens per second)\n",
      "llama_print_timings:       total time =    3245.99 ms\n",
      "Llama.generate: prefix-match hit\n"
     ]
    },
    {
     "name": "stdout",
     "output_type": "stream",
     "text": [
      "247 -- 1\n"
     ]
    },
    {
     "name": "stderr",
     "output_type": "stream",
     "text": [
      "\n",
      "llama_print_timings:        load time =    3598.42 ms\n",
      "llama_print_timings:      sample time =      11.74 ms /    56 runs   (    0.21 ms per token,  4769.61 tokens per second)\n",
      "llama_print_timings: prompt eval time =     343.12 ms /    41 tokens (    8.37 ms per token,   119.49 tokens per second)\n",
      "llama_print_timings:        eval time =    2906.42 ms /    55 runs   (   52.84 ms per token,    18.92 tokens per second)\n",
      "llama_print_timings:       total time =    3436.70 ms\n",
      "Llama.generate: prefix-match hit\n"
     ]
    },
    {
     "name": "stdout",
     "output_type": "stream",
     "text": [
      "248 -- 1\n"
     ]
    },
    {
     "name": "stderr",
     "output_type": "stream",
     "text": [
      "\n",
      "llama_print_timings:        load time =    3598.42 ms\n",
      "llama_print_timings:      sample time =      11.48 ms /    60 runs   (    0.19 ms per token,  5227.85 tokens per second)\n",
      "llama_print_timings: prompt eval time =     200.67 ms /    23 tokens (    8.72 ms per token,   114.61 tokens per second)\n",
      "llama_print_timings:        eval time =    3074.90 ms /    59 runs   (   52.12 ms per token,    19.19 tokens per second)\n",
      "llama_print_timings:       total time =    3426.69 ms\n",
      "Llama.generate: prefix-match hit\n"
     ]
    },
    {
     "name": "stdout",
     "output_type": "stream",
     "text": [
      "249 -- 1\n"
     ]
    },
    {
     "name": "stderr",
     "output_type": "stream",
     "text": [
      "\n",
      "llama_print_timings:        load time =    3598.42 ms\n",
      "llama_print_timings:      sample time =       6.68 ms /    58 runs   (    0.12 ms per token,  8677.44 tokens per second)\n",
      "llama_print_timings: prompt eval time =     184.98 ms /    19 tokens (    9.74 ms per token,   102.72 tokens per second)\n",
      "llama_print_timings:        eval time =    2928.71 ms /    57 runs   (   51.38 ms per token,    19.46 tokens per second)\n",
      "llama_print_timings:       total time =    3208.45 ms\n",
      "Llama.generate: prefix-match hit\n"
     ]
    },
    {
     "name": "stdout",
     "output_type": "stream",
     "text": [
      "250 -- 1\n"
     ]
    },
    {
     "name": "stderr",
     "output_type": "stream",
     "text": [
      "\n",
      "llama_print_timings:        load time =    3598.42 ms\n",
      "llama_print_timings:      sample time =       6.69 ms /    52 runs   (    0.13 ms per token,  7776.28 tokens per second)\n",
      "llama_print_timings: prompt eval time =     185.26 ms /    19 tokens (    9.75 ms per token,   102.56 tokens per second)\n",
      "llama_print_timings:        eval time =    2629.21 ms /    51 runs   (   51.55 ms per token,    19.40 tokens per second)\n",
      "llama_print_timings:       total time =    2920.48 ms\n",
      "Llama.generate: prefix-match hit\n"
     ]
    },
    {
     "name": "stdout",
     "output_type": "stream",
     "text": [
      "251 -- 1\n"
     ]
    },
    {
     "name": "stderr",
     "output_type": "stream",
     "text": [
      "\n",
      "llama_print_timings:        load time =    3598.42 ms\n",
      "llama_print_timings:      sample time =      22.94 ms /    58 runs   (    0.40 ms per token,  2528.22 tokens per second)\n",
      "llama_print_timings: prompt eval time =     189.81 ms /    22 tokens (    8.63 ms per token,   115.90 tokens per second)\n",
      "llama_print_timings:        eval time =    3038.18 ms /    57 runs   (   53.30 ms per token,    18.76 tokens per second)\n",
      "llama_print_timings:       total time =    3559.67 ms\n",
      "Llama.generate: prefix-match hit\n"
     ]
    },
    {
     "name": "stdout",
     "output_type": "stream",
     "text": [
      "252 -- 1\n"
     ]
    },
    {
     "name": "stderr",
     "output_type": "stream",
     "text": [
      "\n",
      "llama_print_timings:        load time =    3598.42 ms\n",
      "llama_print_timings:      sample time =       6.72 ms /    50 runs   (    0.13 ms per token,  7444.91 tokens per second)\n",
      "llama_print_timings: prompt eval time =     191.11 ms /    22 tokens (    8.69 ms per token,   115.12 tokens per second)\n",
      "llama_print_timings:        eval time =    2518.13 ms /    49 runs   (   51.39 ms per token,    19.46 tokens per second)\n",
      "llama_print_timings:       total time =    2800.32 ms\n",
      "Llama.generate: prefix-match hit\n"
     ]
    },
    {
     "name": "stdout",
     "output_type": "stream",
     "text": [
      "253 -- 1\n"
     ]
    },
    {
     "name": "stderr",
     "output_type": "stream",
     "text": [
      "\n",
      "llama_print_timings:        load time =    3598.42 ms\n",
      "llama_print_timings:      sample time =       6.66 ms /    57 runs   (    0.12 ms per token,  8564.99 tokens per second)\n",
      "llama_print_timings: prompt eval time =     189.61 ms /    22 tokens (    8.62 ms per token,   116.03 tokens per second)\n",
      "llama_print_timings:        eval time =    2879.89 ms /    56 runs   (   51.43 ms per token,    19.45 tokens per second)\n",
      "llama_print_timings:       total time =    3161.22 ms\n",
      "Llama.generate: prefix-match hit\n"
     ]
    },
    {
     "name": "stdout",
     "output_type": "stream",
     "text": [
      "254 -- 1\n"
     ]
    },
    {
     "name": "stderr",
     "output_type": "stream",
     "text": [
      "\n",
      "llama_print_timings:        load time =    3598.42 ms\n",
      "llama_print_timings:      sample time =       6.92 ms /    55 runs   (    0.13 ms per token,  7947.98 tokens per second)\n",
      "llama_print_timings: prompt eval time =     186.34 ms /    18 tokens (   10.35 ms per token,    96.60 tokens per second)\n",
      "llama_print_timings:        eval time =    2780.65 ms /    54 runs   (   51.49 ms per token,    19.42 tokens per second)\n",
      "llama_print_timings:       total time =    3064.88 ms\n",
      "Llama.generate: prefix-match hit\n"
     ]
    },
    {
     "name": "stdout",
     "output_type": "stream",
     "text": [
      "255 -- 1\n"
     ]
    },
    {
     "name": "stderr",
     "output_type": "stream",
     "text": [
      "\n",
      "llama_print_timings:        load time =    3598.42 ms\n",
      "llama_print_timings:      sample time =       6.30 ms /    55 runs   (    0.11 ms per token,  8724.62 tokens per second)\n",
      "llama_print_timings: prompt eval time =     180.46 ms /    15 tokens (   12.03 ms per token,    83.12 tokens per second)\n",
      "llama_print_timings:        eval time =    2777.87 ms /    54 runs   (   51.44 ms per token,    19.44 tokens per second)\n",
      "llama_print_timings:       total time =    3048.66 ms\n",
      "Llama.generate: prefix-match hit\n"
     ]
    },
    {
     "name": "stdout",
     "output_type": "stream",
     "text": [
      "256 -- 1\n"
     ]
    },
    {
     "name": "stderr",
     "output_type": "stream",
     "text": [
      "\n",
      "llama_print_timings:        load time =    3598.42 ms\n",
      "llama_print_timings:      sample time =       7.42 ms /    52 runs   (    0.14 ms per token,  7004.31 tokens per second)\n",
      "llama_print_timings: prompt eval time =     189.80 ms /    22 tokens (    8.63 ms per token,   115.91 tokens per second)\n",
      "llama_print_timings:        eval time =    2624.05 ms /    51 runs   (   51.45 ms per token,    19.44 tokens per second)\n",
      "llama_print_timings:       total time =    2901.73 ms\n",
      "Llama.generate: prefix-match hit\n"
     ]
    },
    {
     "name": "stdout",
     "output_type": "stream",
     "text": [
      "257 -- 1\n"
     ]
    },
    {
     "name": "stderr",
     "output_type": "stream",
     "text": [
      "\n",
      "llama_print_timings:        load time =    3598.42 ms\n",
      "llama_print_timings:      sample time =      21.66 ms /    52 runs   (    0.42 ms per token,  2400.96 tokens per second)\n",
      "llama_print_timings: prompt eval time =     191.93 ms /    27 tokens (    7.11 ms per token,   140.68 tokens per second)\n",
      "llama_print_timings:        eval time =    2697.65 ms /    51 runs   (   52.90 ms per token,    18.91 tokens per second)\n",
      "llama_print_timings:       total time =    3138.60 ms\n",
      "Llama.generate: prefix-match hit\n"
     ]
    },
    {
     "name": "stdout",
     "output_type": "stream",
     "text": [
      "258 -- 1\n"
     ]
    },
    {
     "name": "stderr",
     "output_type": "stream",
     "text": [
      "\n",
      "llama_print_timings:        load time =    3598.42 ms\n",
      "llama_print_timings:      sample time =       6.98 ms /    51 runs   (    0.14 ms per token,  7304.50 tokens per second)\n",
      "llama_print_timings: prompt eval time =     192.57 ms /    22 tokens (    8.75 ms per token,   114.24 tokens per second)\n",
      "llama_print_timings:        eval time =    2571.87 ms /    50 runs   (   51.44 ms per token,    19.44 tokens per second)\n",
      "llama_print_timings:       total time =    2864.47 ms\n",
      "Llama.generate: prefix-match hit\n"
     ]
    },
    {
     "name": "stdout",
     "output_type": "stream",
     "text": [
      "259 -- 1\n"
     ]
    },
    {
     "name": "stderr",
     "output_type": "stream",
     "text": [
      "\n",
      "llama_print_timings:        load time =    3598.42 ms\n",
      "llama_print_timings:      sample time =       6.37 ms /    55 runs   (    0.12 ms per token,  8630.16 tokens per second)\n",
      "llama_print_timings: prompt eval time =     186.22 ms /    18 tokens (   10.35 ms per token,    96.66 tokens per second)\n",
      "llama_print_timings:        eval time =    2773.79 ms /    54 runs   (   51.37 ms per token,    19.47 tokens per second)\n",
      "llama_print_timings:       total time =    3052.39 ms\n",
      "Llama.generate: prefix-match hit\n"
     ]
    },
    {
     "name": "stdout",
     "output_type": "stream",
     "text": [
      "260 -- 1\n"
     ]
    },
    {
     "name": "stderr",
     "output_type": "stream",
     "text": [
      "\n",
      "llama_print_timings:        load time =    3598.42 ms\n",
      "llama_print_timings:      sample time =       9.01 ms /    53 runs   (    0.17 ms per token,  5881.70 tokens per second)\n",
      "llama_print_timings: prompt eval time =     192.72 ms /    32 tokens (    6.02 ms per token,   166.05 tokens per second)\n",
      "llama_print_timings:        eval time =    2695.91 ms /    52 runs   (   51.84 ms per token,    19.29 tokens per second)\n",
      "llama_print_timings:       total time =    3010.72 ms\n",
      "Llama.generate: prefix-match hit\n"
     ]
    },
    {
     "name": "stdout",
     "output_type": "stream",
     "text": [
      "261 -- 1\n"
     ]
    },
    {
     "name": "stderr",
     "output_type": "stream",
     "text": [
      "\n",
      "llama_print_timings:        load time =    3598.42 ms\n",
      "llama_print_timings:      sample time =       6.19 ms /    53 runs   (    0.12 ms per token,  8562.20 tokens per second)\n",
      "llama_print_timings: prompt eval time =     186.62 ms /    20 tokens (    9.33 ms per token,   107.17 tokens per second)\n",
      "llama_print_timings:        eval time =    2669.22 ms /    52 runs   (   51.33 ms per token,    19.48 tokens per second)\n",
      "llama_print_timings:       total time =    2941.88 ms\n",
      "Llama.generate: prefix-match hit\n"
     ]
    },
    {
     "name": "stdout",
     "output_type": "stream",
     "text": [
      "262 -- 1\n"
     ]
    },
    {
     "name": "stderr",
     "output_type": "stream",
     "text": [
      "\n",
      "llama_print_timings:        load time =    3598.42 ms\n",
      "llama_print_timings:      sample time =       9.70 ms /    57 runs   (    0.17 ms per token,  5878.71 tokens per second)\n",
      "llama_print_timings: prompt eval time =     195.75 ms /    28 tokens (    6.99 ms per token,   143.04 tokens per second)\n",
      "llama_print_timings:        eval time =    2894.09 ms /    56 runs   (   51.68 ms per token,    19.35 tokens per second)\n",
      "llama_print_timings:       total time =    3209.26 ms\n",
      "Llama.generate: prefix-match hit\n"
     ]
    },
    {
     "name": "stdout",
     "output_type": "stream",
     "text": [
      "263 -- 1\n"
     ]
    },
    {
     "name": "stderr",
     "output_type": "stream",
     "text": [
      "\n",
      "llama_print_timings:        load time =    3598.42 ms\n",
      "llama_print_timings:      sample time =      11.98 ms /    51 runs   (    0.23 ms per token,  4258.16 tokens per second)\n",
      "llama_print_timings: prompt eval time =     182.92 ms /    16 tokens (   11.43 ms per token,    87.47 tokens per second)\n",
      "llama_print_timings:        eval time =    2591.25 ms /    50 runs   (   51.83 ms per token,    19.30 tokens per second)\n",
      "llama_print_timings:       total time =    2917.00 ms\n",
      "Llama.generate: prefix-match hit\n"
     ]
    },
    {
     "name": "stdout",
     "output_type": "stream",
     "text": [
      "264 -- 1\n"
     ]
    },
    {
     "name": "stderr",
     "output_type": "stream",
     "text": [
      "\n",
      "llama_print_timings:        load time =    3598.42 ms\n",
      "llama_print_timings:      sample time =       5.80 ms /    50 runs   (    0.12 ms per token,  8623.66 tokens per second)\n",
      "llama_print_timings: prompt eval time =     190.93 ms /    24 tokens (    7.96 ms per token,   125.70 tokens per second)\n",
      "llama_print_timings:        eval time =    2516.19 ms /    49 runs   (   51.35 ms per token,    19.47 tokens per second)\n",
      "llama_print_timings:       total time =    2786.60 ms\n",
      "Llama.generate: prefix-match hit\n"
     ]
    },
    {
     "name": "stdout",
     "output_type": "stream",
     "text": [
      "265 -- 1\n"
     ]
    },
    {
     "name": "stderr",
     "output_type": "stream",
     "text": [
      "\n",
      "llama_print_timings:        load time =    3598.42 ms\n",
      "llama_print_timings:      sample time =       6.49 ms /    57 runs   (    0.11 ms per token,  8782.74 tokens per second)\n",
      "llama_print_timings: prompt eval time =     190.34 ms /    22 tokens (    8.65 ms per token,   115.59 tokens per second)\n",
      "llama_print_timings:        eval time =    2883.34 ms /    56 runs   (   51.49 ms per token,    19.42 tokens per second)\n",
      "llama_print_timings:       total time =    3174.15 ms\n",
      "Llama.generate: prefix-match hit\n"
     ]
    },
    {
     "name": "stdout",
     "output_type": "stream",
     "text": [
      "266 -- 1\n"
     ]
    },
    {
     "name": "stderr",
     "output_type": "stream",
     "text": [
      "\n",
      "llama_print_timings:        load time =    3598.42 ms\n",
      "llama_print_timings:      sample time =      14.55 ms /    56 runs   (    0.26 ms per token,  3848.00 tokens per second)\n",
      "llama_print_timings: prompt eval time =     184.95 ms /    19 tokens (    9.73 ms per token,   102.73 tokens per second)\n",
      "llama_print_timings:        eval time =    2868.85 ms /    55 runs   (   52.16 ms per token,    19.17 tokens per second)\n",
      "llama_print_timings:       total time =    3241.64 ms\n",
      "Llama.generate: prefix-match hit\n"
     ]
    },
    {
     "name": "stdout",
     "output_type": "stream",
     "text": [
      "267 -- 1\n"
     ]
    },
    {
     "name": "stderr",
     "output_type": "stream",
     "text": [
      "\n",
      "llama_print_timings:        load time =    3598.42 ms\n",
      "llama_print_timings:      sample time =       5.99 ms /    57 runs   (    0.11 ms per token,  9512.68 tokens per second)\n",
      "llama_print_timings: prompt eval time =     337.11 ms /    43 tokens (    7.84 ms per token,   127.56 tokens per second)\n",
      "llama_print_timings:        eval time =    2886.43 ms /    56 runs   (   51.54 ms per token,    19.40 tokens per second)\n",
      "llama_print_timings:       total time =    3316.28 ms\n",
      "Llama.generate: prefix-match hit\n"
     ]
    },
    {
     "name": "stdout",
     "output_type": "stream",
     "text": [
      "268 -- 1\n"
     ]
    },
    {
     "name": "stderr",
     "output_type": "stream",
     "text": [
      "\n",
      "llama_print_timings:        load time =    3598.42 ms\n",
      "llama_print_timings:      sample time =      13.54 ms /    52 runs   (    0.26 ms per token,  3841.61 tokens per second)\n",
      "llama_print_timings: prompt eval time =     184.94 ms /    19 tokens (    9.73 ms per token,   102.73 tokens per second)\n",
      "llama_print_timings:        eval time =    2632.97 ms /    51 runs   (   51.63 ms per token,    19.37 tokens per second)\n",
      "llama_print_timings:       total time =    2951.98 ms\n",
      "Llama.generate: prefix-match hit\n"
     ]
    },
    {
     "name": "stdout",
     "output_type": "stream",
     "text": [
      "269 -- 1\n"
     ]
    },
    {
     "name": "stderr",
     "output_type": "stream",
     "text": [
      "\n",
      "llama_print_timings:        load time =    3598.42 ms\n",
      "llama_print_timings:      sample time =       5.46 ms /    58 runs   (    0.09 ms per token, 10620.77 tokens per second)\n",
      "llama_print_timings: prompt eval time =     319.17 ms /    35 tokens (    9.12 ms per token,   109.66 tokens per second)\n",
      "llama_print_timings:        eval time =    2927.72 ms /    57 runs   (   51.36 ms per token,    19.47 tokens per second)\n",
      "llama_print_timings:       total time =    3325.10 ms\n",
      "Llama.generate: prefix-match hit\n"
     ]
    },
    {
     "name": "stdout",
     "output_type": "stream",
     "text": [
      "270 -- 1\n"
     ]
    },
    {
     "name": "stderr",
     "output_type": "stream",
     "text": [
      "\n",
      "llama_print_timings:        load time =    3598.42 ms\n",
      "llama_print_timings:      sample time =       9.05 ms /    57 runs   (    0.16 ms per token,  6301.13 tokens per second)\n",
      "llama_print_timings: prompt eval time =     188.83 ms /    23 tokens (    8.21 ms per token,   121.80 tokens per second)\n",
      "llama_print_timings:        eval time =    2902.87 ms /    56 runs   (   51.84 ms per token,    19.29 tokens per second)\n",
      "llama_print_timings:       total time =    3245.94 ms\n",
      "Llama.generate: prefix-match hit\n"
     ]
    },
    {
     "name": "stdout",
     "output_type": "stream",
     "text": [
      "271 -- 1\n"
     ]
    },
    {
     "name": "stderr",
     "output_type": "stream",
     "text": [
      "\n",
      "llama_print_timings:        load time =    3598.42 ms\n",
      "llama_print_timings:      sample time =       4.61 ms /    50 runs   (    0.09 ms per token, 10845.99 tokens per second)\n",
      "llama_print_timings: prompt eval time =     334.89 ms /    37 tokens (    9.05 ms per token,   110.48 tokens per second)\n",
      "llama_print_timings:        eval time =    2520.73 ms /    49 runs   (   51.44 ms per token,    19.44 tokens per second)\n",
      "llama_print_timings:       total time =    2922.00 ms\n",
      "Llama.generate: prefix-match hit\n"
     ]
    },
    {
     "name": "stdout",
     "output_type": "stream",
     "text": [
      "272 -- 1\n"
     ]
    },
    {
     "name": "stderr",
     "output_type": "stream",
     "text": [
      "\n",
      "llama_print_timings:        load time =    3598.42 ms\n",
      "llama_print_timings:      sample time =       5.08 ms /    51 runs   (    0.10 ms per token, 10049.26 tokens per second)\n",
      "llama_print_timings: prompt eval time =     192.84 ms /    32 tokens (    6.03 ms per token,   165.94 tokens per second)\n",
      "llama_print_timings:        eval time =    2569.76 ms /    50 runs   (   51.40 ms per token,    19.46 tokens per second)\n",
      "llama_print_timings:       total time =    2830.42 ms\n",
      "Llama.generate: prefix-match hit\n"
     ]
    },
    {
     "name": "stdout",
     "output_type": "stream",
     "text": [
      "273 -- 1\n"
     ]
    },
    {
     "name": "stderr",
     "output_type": "stream",
     "text": [
      "\n",
      "llama_print_timings:        load time =    3598.42 ms\n",
      "llama_print_timings:      sample time =       5.82 ms /    56 runs   (    0.10 ms per token,  9630.27 tokens per second)\n",
      "llama_print_timings: prompt eval time =     186.70 ms /    20 tokens (    9.34 ms per token,   107.12 tokens per second)\n",
      "llama_print_timings:        eval time =    2821.14 ms /    55 runs   (   51.29 ms per token,    19.50 tokens per second)\n",
      "llama_print_timings:       total time =    3089.69 ms\n",
      "Llama.generate: prefix-match hit\n"
     ]
    },
    {
     "name": "stdout",
     "output_type": "stream",
     "text": [
      "274 -- 1\n"
     ]
    },
    {
     "name": "stderr",
     "output_type": "stream",
     "text": [
      "\n",
      "llama_print_timings:        load time =    3598.42 ms\n",
      "llama_print_timings:      sample time =       5.35 ms /    57 runs   (    0.09 ms per token, 10662.18 tokens per second)\n",
      "llama_print_timings: prompt eval time =     336.38 ms /    43 tokens (    7.82 ms per token,   127.83 tokens per second)\n",
      "llama_print_timings:        eval time =    2885.75 ms /    56 runs   (   51.53 ms per token,    19.41 tokens per second)\n",
      "llama_print_timings:       total time =    3302.72 ms\n",
      "Llama.generate: prefix-match hit\n"
     ]
    },
    {
     "name": "stdout",
     "output_type": "stream",
     "text": [
      "275 -- 1\n"
     ]
    },
    {
     "name": "stderr",
     "output_type": "stream",
     "text": [
      "\n",
      "llama_print_timings:        load time =    3598.42 ms\n",
      "llama_print_timings:      sample time =       5.20 ms /    54 runs   (    0.10 ms per token, 10382.62 tokens per second)\n",
      "llama_print_timings: prompt eval time =     196.77 ms /    29 tokens (    6.79 ms per token,   147.38 tokens per second)\n",
      "llama_print_timings:        eval time =    2725.89 ms /    53 runs   (   51.43 ms per token,    19.44 tokens per second)\n",
      "llama_print_timings:       total time =    2995.03 ms\n",
      "Llama.generate: prefix-match hit\n"
     ]
    },
    {
     "name": "stdout",
     "output_type": "stream",
     "text": [
      "276 -- 1\n"
     ]
    },
    {
     "name": "stderr",
     "output_type": "stream",
     "text": [
      "\n",
      "llama_print_timings:        load time =    3598.42 ms\n",
      "llama_print_timings:      sample time =       4.90 ms /    52 runs   (    0.09 ms per token, 10614.41 tokens per second)\n",
      "llama_print_timings: prompt eval time =     189.54 ms /    21 tokens (    9.03 ms per token,   110.79 tokens per second)\n",
      "llama_print_timings:        eval time =    2611.80 ms /    51 runs   (   51.21 ms per token,    19.53 tokens per second)\n",
      "llama_print_timings:       total time =    2871.35 ms\n",
      "Llama.generate: prefix-match hit\n"
     ]
    },
    {
     "name": "stdout",
     "output_type": "stream",
     "text": [
      "277 -- 1\n"
     ]
    },
    {
     "name": "stderr",
     "output_type": "stream",
     "text": [
      "\n",
      "llama_print_timings:        load time =    3598.42 ms\n",
      "llama_print_timings:      sample time =       4.93 ms /    52 runs   (    0.09 ms per token, 10551.95 tokens per second)\n",
      "llama_print_timings: prompt eval time =     189.92 ms /    22 tokens (    8.63 ms per token,   115.84 tokens per second)\n",
      "llama_print_timings:        eval time =    2607.48 ms /    51 runs   (   51.13 ms per token,    19.56 tokens per second)\n",
      "llama_print_timings:       total time =    2866.88 ms\n",
      "Llama.generate: prefix-match hit\n"
     ]
    },
    {
     "name": "stdout",
     "output_type": "stream",
     "text": [
      "278 -- 1\n"
     ]
    },
    {
     "name": "stderr",
     "output_type": "stream",
     "text": [
      "\n",
      "llama_print_timings:        load time =    3598.42 ms\n",
      "llama_print_timings:      sample time =       5.69 ms /    56 runs   (    0.10 ms per token,  9838.37 tokens per second)\n",
      "llama_print_timings: prompt eval time =     191.10 ms /    24 tokens (    7.96 ms per token,   125.59 tokens per second)\n",
      "llama_print_timings:        eval time =    2820.28 ms /    55 runs   (   51.28 ms per token,    19.50 tokens per second)\n",
      "llama_print_timings:       total time =    3090.30 ms\n",
      "Llama.generate: prefix-match hit\n"
     ]
    },
    {
     "name": "stdout",
     "output_type": "stream",
     "text": [
      "279 -- 1\n"
     ]
    },
    {
     "name": "stderr",
     "output_type": "stream",
     "text": [
      "\n",
      "llama_print_timings:        load time =    3598.42 ms\n",
      "llama_print_timings:      sample time =       5.27 ms /    57 runs   (    0.09 ms per token, 10807.74 tokens per second)\n",
      "llama_print_timings: prompt eval time =     186.09 ms /    19 tokens (    9.79 ms per token,   102.10 tokens per second)\n",
      "llama_print_timings:        eval time =    2870.98 ms /    56 runs   (   51.27 ms per token,    19.51 tokens per second)\n",
      "llama_print_timings:       total time =    3132.78 ms\n",
      "Llama.generate: prefix-match hit\n"
     ]
    },
    {
     "name": "stdout",
     "output_type": "stream",
     "text": [
      "280 -- 1\n"
     ]
    },
    {
     "name": "stderr",
     "output_type": "stream",
     "text": [
      "\n",
      "llama_print_timings:        load time =    3598.42 ms\n",
      "llama_print_timings:      sample time =       5.37 ms /    57 runs   (    0.09 ms per token, 10620.46 tokens per second)\n",
      "llama_print_timings: prompt eval time =     182.78 ms /    16 tokens (   11.42 ms per token,    87.54 tokens per second)\n",
      "llama_print_timings:        eval time =    2870.21 ms /    56 runs   (   51.25 ms per token,    19.51 tokens per second)\n",
      "llama_print_timings:       total time =    3128.49 ms\n",
      "Llama.generate: prefix-match hit\n"
     ]
    },
    {
     "name": "stdout",
     "output_type": "stream",
     "text": [
      "281 -- 1\n"
     ]
    },
    {
     "name": "stderr",
     "output_type": "stream",
     "text": [
      "\n",
      "llama_print_timings:        load time =    3598.42 ms\n",
      "llama_print_timings:      sample time =       4.74 ms /    51 runs   (    0.09 ms per token, 10759.49 tokens per second)\n",
      "llama_print_timings: prompt eval time =     180.38 ms /    15 tokens (   12.03 ms per token,    83.16 tokens per second)\n",
      "llama_print_timings:        eval time =    2565.45 ms /    50 runs   (   51.31 ms per token,    19.49 tokens per second)\n",
      "llama_print_timings:       total time =    2814.21 ms\n",
      "Llama.generate: prefix-match hit\n"
     ]
    },
    {
     "name": "stdout",
     "output_type": "stream",
     "text": [
      "282 -- 1\n"
     ]
    },
    {
     "name": "stderr",
     "output_type": "stream",
     "text": [
      "\n",
      "llama_print_timings:        load time =    3598.42 ms\n",
      "llama_print_timings:      sample time =       5.54 ms /    52 runs   (    0.11 ms per token,  9384.59 tokens per second)\n",
      "llama_print_timings: prompt eval time =     180.64 ms /    15 tokens (   12.04 ms per token,    83.04 tokens per second)\n",
      "llama_print_timings:        eval time =    2617.14 ms /    51 runs   (   51.32 ms per token,    19.49 tokens per second)\n",
      "llama_print_timings:       total time =    2875.06 ms\n",
      "Llama.generate: prefix-match hit\n"
     ]
    },
    {
     "name": "stdout",
     "output_type": "stream",
     "text": [
      "283 -- 1\n"
     ]
    },
    {
     "name": "stderr",
     "output_type": "stream",
     "text": [
      "\n",
      "llama_print_timings:        load time =    3598.42 ms\n",
      "llama_print_timings:      sample time =       5.14 ms /    54 runs   (    0.10 ms per token, 10509.93 tokens per second)\n",
      "llama_print_timings: prompt eval time =     189.47 ms /    22 tokens (    8.61 ms per token,   116.11 tokens per second)\n",
      "llama_print_timings:        eval time =    2718.91 ms /    53 runs   (   51.30 ms per token,    19.49 tokens per second)\n",
      "llama_print_timings:       total time =    2980.39 ms\n",
      "Llama.generate: prefix-match hit\n"
     ]
    },
    {
     "name": "stdout",
     "output_type": "stream",
     "text": [
      "284 -- 1\n"
     ]
    },
    {
     "name": "stderr",
     "output_type": "stream",
     "text": [
      "\n",
      "llama_print_timings:        load time =    3598.42 ms\n",
      "llama_print_timings:      sample time =       4.89 ms /    52 runs   (    0.09 ms per token, 10633.95 tokens per second)\n",
      "llama_print_timings: prompt eval time =     189.25 ms /    21 tokens (    9.01 ms per token,   110.97 tokens per second)\n",
      "llama_print_timings:        eval time =    2616.26 ms /    51 runs   (   51.30 ms per token,    19.49 tokens per second)\n",
      "llama_print_timings:       total time =    2874.53 ms\n",
      "Llama.generate: prefix-match hit\n"
     ]
    },
    {
     "name": "stdout",
     "output_type": "stream",
     "text": [
      "285 -- 1\n"
     ]
    },
    {
     "name": "stderr",
     "output_type": "stream",
     "text": [
      "\n",
      "llama_print_timings:        load time =    3598.42 ms\n",
      "llama_print_timings:      sample time =       4.81 ms /    50 runs   (    0.10 ms per token, 10390.69 tokens per second)\n",
      "llama_print_timings: prompt eval time =     189.81 ms /    22 tokens (    8.63 ms per token,   115.91 tokens per second)\n",
      "llama_print_timings:        eval time =    2511.37 ms /    49 runs   (   51.25 ms per token,    19.51 tokens per second)\n",
      "llama_print_timings:       total time =    2767.52 ms\n",
      "Llama.generate: prefix-match hit\n"
     ]
    },
    {
     "name": "stdout",
     "output_type": "stream",
     "text": [
      "286 -- 1\n"
     ]
    },
    {
     "name": "stderr",
     "output_type": "stream",
     "text": [
      "\n",
      "llama_print_timings:        load time =    3598.42 ms\n",
      "llama_print_timings:      sample time =       5.69 ms /    55 runs   (    0.10 ms per token,  9666.08 tokens per second)\n",
      "llama_print_timings: prompt eval time =     180.44 ms /    15 tokens (   12.03 ms per token,    83.13 tokens per second)\n",
      "llama_print_timings:        eval time =    2771.83 ms /    54 runs   (   51.33 ms per token,    19.48 tokens per second)\n",
      "llama_print_timings:       total time =    3032.19 ms\n",
      "Llama.generate: prefix-match hit\n"
     ]
    },
    {
     "name": "stdout",
     "output_type": "stream",
     "text": [
      "287 -- 1\n"
     ]
    },
    {
     "name": "stderr",
     "output_type": "stream",
     "text": [
      "\n",
      "llama_print_timings:        load time =    3598.42 ms\n",
      "llama_print_timings:      sample time =       4.93 ms /    52 runs   (    0.09 ms per token, 10556.23 tokens per second)\n",
      "llama_print_timings: prompt eval time =     185.90 ms /    18 tokens (   10.33 ms per token,    96.82 tokens per second)\n",
      "llama_print_timings:        eval time =    2615.74 ms /    51 runs   (   51.29 ms per token,    19.50 tokens per second)\n",
      "llama_print_timings:       total time =    2870.91 ms\n",
      "Llama.generate: prefix-match hit\n"
     ]
    },
    {
     "name": "stdout",
     "output_type": "stream",
     "text": [
      "288 -- 1\n"
     ]
    },
    {
     "name": "stderr",
     "output_type": "stream",
     "text": [
      "\n",
      "llama_print_timings:        load time =    3598.42 ms\n",
      "llama_print_timings:      sample time =       5.15 ms /    52 runs   (    0.10 ms per token, 10106.90 tokens per second)\n",
      "llama_print_timings: prompt eval time =     185.06 ms /    19 tokens (    9.74 ms per token,   102.67 tokens per second)\n",
      "llama_print_timings:        eval time =    2615.64 ms /    51 runs   (   51.29 ms per token,    19.50 tokens per second)\n",
      "llama_print_timings:       total time =    2872.59 ms\n",
      "Llama.generate: prefix-match hit\n"
     ]
    },
    {
     "name": "stdout",
     "output_type": "stream",
     "text": [
      "289 -- 1\n"
     ]
    },
    {
     "name": "stderr",
     "output_type": "stream",
     "text": [
      "\n",
      "llama_print_timings:        load time =    3598.42 ms\n",
      "llama_print_timings:      sample time =       5.35 ms /    58 runs   (    0.09 ms per token, 10843.15 tokens per second)\n",
      "llama_print_timings: prompt eval time =     186.19 ms /    18 tokens (   10.34 ms per token,    96.68 tokens per second)\n",
      "llama_print_timings:        eval time =    2921.61 ms /    57 runs   (   51.26 ms per token,    19.51 tokens per second)\n",
      "llama_print_timings:       total time =    3184.35 ms\n",
      "Llama.generate: prefix-match hit\n"
     ]
    },
    {
     "name": "stdout",
     "output_type": "stream",
     "text": [
      "290 -- 1\n"
     ]
    },
    {
     "name": "stderr",
     "output_type": "stream",
     "text": [
      "\n",
      "llama_print_timings:        load time =    3598.42 ms\n",
      "llama_print_timings:      sample time =       5.53 ms /    55 runs   (    0.10 ms per token,  9954.75 tokens per second)\n",
      "llama_print_timings: prompt eval time =     186.57 ms /    18 tokens (   10.37 ms per token,    96.48 tokens per second)\n",
      "llama_print_timings:        eval time =    2770.45 ms /    54 runs   (   51.30 ms per token,    19.49 tokens per second)\n",
      "llama_print_timings:       total time =    3034.51 ms\n",
      "Llama.generate: prefix-match hit\n"
     ]
    },
    {
     "name": "stdout",
     "output_type": "stream",
     "text": [
      "291 -- 1\n"
     ]
    },
    {
     "name": "stderr",
     "output_type": "stream",
     "text": [
      "\n",
      "llama_print_timings:        load time =    3598.42 ms\n",
      "llama_print_timings:      sample time =       5.22 ms /    55 runs   (    0.09 ms per token, 10530.35 tokens per second)\n",
      "llama_print_timings: prompt eval time =     189.72 ms /    22 tokens (    8.62 ms per token,   115.96 tokens per second)\n",
      "llama_print_timings:        eval time =    2771.89 ms /    54 runs   (   51.33 ms per token,    19.48 tokens per second)\n",
      "llama_print_timings:       total time =    3034.51 ms\n",
      "Llama.generate: prefix-match hit\n"
     ]
    },
    {
     "name": "stdout",
     "output_type": "stream",
     "text": [
      "292 -- 1\n"
     ]
    },
    {
     "name": "stderr",
     "output_type": "stream",
     "text": [
      "\n",
      "llama_print_timings:        load time =    3598.42 ms\n",
      "llama_print_timings:      sample time =       4.84 ms /    50 runs   (    0.10 ms per token, 10324.18 tokens per second)\n",
      "llama_print_timings: prompt eval time =     188.93 ms /    23 tokens (    8.21 ms per token,   121.74 tokens per second)\n",
      "llama_print_timings:        eval time =    2512.65 ms /    49 runs   (   51.28 ms per token,    19.50 tokens per second)\n",
      "llama_print_timings:       total time =    2767.40 ms\n",
      "Llama.generate: prefix-match hit\n"
     ]
    },
    {
     "name": "stdout",
     "output_type": "stream",
     "text": [
      "293 -- 1\n"
     ]
    },
    {
     "name": "stderr",
     "output_type": "stream",
     "text": [
      "\n",
      "llama_print_timings:        load time =    3598.42 ms\n",
      "llama_print_timings:      sample time =       5.14 ms /    54 runs   (    0.10 ms per token, 10499.71 tokens per second)\n",
      "llama_print_timings: prompt eval time =     184.80 ms /    19 tokens (    9.73 ms per token,   102.81 tokens per second)\n",
      "llama_print_timings:        eval time =    2720.56 ms /    53 runs   (   51.33 ms per token,    19.48 tokens per second)\n",
      "llama_print_timings:       total time =    2981.14 ms\n",
      "Llama.generate: prefix-match hit\n"
     ]
    },
    {
     "name": "stdout",
     "output_type": "stream",
     "text": [
      "294 -- 1\n"
     ]
    },
    {
     "name": "stderr",
     "output_type": "stream",
     "text": [
      "\n",
      "llama_print_timings:        load time =    3598.42 ms\n",
      "llama_print_timings:      sample time =       4.67 ms /    52 runs   (    0.09 ms per token, 11127.76 tokens per second)\n",
      "llama_print_timings: prompt eval time =     182.70 ms /    16 tokens (   11.42 ms per token,    87.57 tokens per second)\n",
      "llama_print_timings:        eval time =    2613.92 ms /    51 runs   (   51.25 ms per token,    19.51 tokens per second)\n",
      "llama_print_timings:       total time =    2865.04 ms\n",
      "Llama.generate: prefix-match hit\n"
     ]
    },
    {
     "name": "stdout",
     "output_type": "stream",
     "text": [
      "295 -- 1\n"
     ]
    },
    {
     "name": "stderr",
     "output_type": "stream",
     "text": [
      "\n",
      "llama_print_timings:        load time =    3598.42 ms\n",
      "llama_print_timings:      sample time =       5.13 ms /    55 runs   (    0.09 ms per token, 10710.81 tokens per second)\n",
      "llama_print_timings: prompt eval time =     182.63 ms /    16 tokens (   11.41 ms per token,    87.61 tokens per second)\n",
      "llama_print_timings:        eval time =    2767.69 ms /    54 runs   (   51.25 ms per token,    19.51 tokens per second)\n",
      "llama_print_timings:       total time =    3024.27 ms\n",
      "Llama.generate: prefix-match hit\n"
     ]
    },
    {
     "name": "stdout",
     "output_type": "stream",
     "text": [
      "296 -- 1\n"
     ]
    },
    {
     "name": "stderr",
     "output_type": "stream",
     "text": [
      "\n",
      "llama_print_timings:        load time =    3598.42 ms\n",
      "llama_print_timings:      sample time =       5.57 ms /    59 runs   (    0.09 ms per token, 10592.46 tokens per second)\n",
      "llama_print_timings: prompt eval time =     185.05 ms /    19 tokens (    9.74 ms per token,   102.68 tokens per second)\n",
      "llama_print_timings:        eval time =    2972.14 ms /    58 runs   (   51.24 ms per token,    19.51 tokens per second)\n",
      "llama_print_timings:       total time =    3235.35 ms\n",
      "Llama.generate: prefix-match hit\n"
     ]
    },
    {
     "name": "stdout",
     "output_type": "stream",
     "text": [
      "297 -- 1\n"
     ]
    },
    {
     "name": "stderr",
     "output_type": "stream",
     "text": [
      "\n",
      "llama_print_timings:        load time =    3598.42 ms\n",
      "llama_print_timings:      sample time =       5.39 ms /    56 runs   (    0.10 ms per token, 10381.91 tokens per second)\n",
      "llama_print_timings: prompt eval time =     186.72 ms /    22 tokens (    8.49 ms per token,   117.82 tokens per second)\n",
      "llama_print_timings:        eval time =    2825.24 ms /    55 runs   (   51.37 ms per token,    19.47 tokens per second)\n",
      "llama_print_timings:       total time =    3089.37 ms\n",
      "Llama.generate: prefix-match hit\n"
     ]
    },
    {
     "name": "stdout",
     "output_type": "stream",
     "text": [
      "298 -- 1\n"
     ]
    },
    {
     "name": "stderr",
     "output_type": "stream",
     "text": [
      "\n",
      "llama_print_timings:        load time =    3598.42 ms\n",
      "llama_print_timings:      sample time =       5.41 ms /    56 runs   (    0.10 ms per token, 10358.86 tokens per second)\n",
      "llama_print_timings: prompt eval time =     189.22 ms /    23 tokens (    8.23 ms per token,   121.55 tokens per second)\n",
      "llama_print_timings:        eval time =    2822.99 ms /    55 runs   (   51.33 ms per token,    19.48 tokens per second)\n",
      "llama_print_timings:       total time =    3087.05 ms\n",
      "Llama.generate: prefix-match hit\n"
     ]
    },
    {
     "name": "stdout",
     "output_type": "stream",
     "text": [
      "299 -- 1\n"
     ]
    },
    {
     "name": "stderr",
     "output_type": "stream",
     "text": [
      "\n",
      "llama_print_timings:        load time =    3598.42 ms\n",
      "llama_print_timings:      sample time =       5.81 ms /    60 runs   (    0.10 ms per token, 10319.92 tokens per second)\n",
      "llama_print_timings: prompt eval time =     189.44 ms /    23 tokens (    8.24 ms per token,   121.41 tokens per second)\n",
      "llama_print_timings:        eval time =    3031.09 ms /    59 runs   (   51.37 ms per token,    19.46 tokens per second)\n",
      "llama_print_timings:       total time =    3300.72 ms\n",
      "Llama.generate: prefix-match hit\n"
     ]
    },
    {
     "name": "stdout",
     "output_type": "stream",
     "text": [
      "300 -- 1\n"
     ]
    },
    {
     "name": "stderr",
     "output_type": "stream",
     "text": [
      "\n",
      "llama_print_timings:        load time =    3598.42 ms\n",
      "llama_print_timings:      sample time =       5.04 ms /    53 runs   (    0.10 ms per token, 10515.87 tokens per second)\n",
      "llama_print_timings: prompt eval time =     183.26 ms /    16 tokens (   11.45 ms per token,    87.31 tokens per second)\n",
      "llama_print_timings:        eval time =    2665.40 ms /    52 runs   (   51.26 ms per token,    19.51 tokens per second)\n",
      "llama_print_timings:       total time =    2919.46 ms\n",
      "Llama.generate: prefix-match hit\n"
     ]
    },
    {
     "name": "stdout",
     "output_type": "stream",
     "text": [
      "301 -- 1\n"
     ]
    },
    {
     "name": "stderr",
     "output_type": "stream",
     "text": [
      "\n",
      "llama_print_timings:        load time =    3598.42 ms\n",
      "llama_print_timings:      sample time =       5.33 ms /    55 runs   (    0.10 ms per token, 10311.21 tokens per second)\n",
      "llama_print_timings: prompt eval time =     330.77 ms /    33 tokens (   10.02 ms per token,    99.77 tokens per second)\n",
      "llama_print_timings:        eval time =    2774.83 ms /    54 runs   (   51.39 ms per token,    19.46 tokens per second)\n",
      "llama_print_timings:       total time =    3179.36 ms\n",
      "Llama.generate: prefix-match hit\n"
     ]
    },
    {
     "name": "stdout",
     "output_type": "stream",
     "text": [
      "302 -- 1\n"
     ]
    },
    {
     "name": "stderr",
     "output_type": "stream",
     "text": [
      "\n",
      "llama_print_timings:        load time =    3598.42 ms\n",
      "llama_print_timings:      sample time =       5.38 ms /    54 runs   (    0.10 ms per token, 10039.04 tokens per second)\n",
      "llama_print_timings: prompt eval time =     189.43 ms /    21 tokens (    9.02 ms per token,   110.86 tokens per second)\n",
      "llama_print_timings:        eval time =    2717.67 ms /    53 runs   (   51.28 ms per token,    19.50 tokens per second)\n",
      "llama_print_timings:       total time =    2981.70 ms\n",
      "Llama.generate: prefix-match hit\n"
     ]
    },
    {
     "name": "stdout",
     "output_type": "stream",
     "text": [
      "303 -- 1\n"
     ]
    },
    {
     "name": "stderr",
     "output_type": "stream",
     "text": [
      "\n",
      "llama_print_timings:        load time =    3598.42 ms\n",
      "llama_print_timings:      sample time =       4.52 ms /    50 runs   (    0.09 ms per token, 11054.61 tokens per second)\n",
      "llama_print_timings: prompt eval time =     194.42 ms /    26 tokens (    7.48 ms per token,   133.73 tokens per second)\n",
      "llama_print_timings:        eval time =    2514.78 ms /    49 runs   (   51.32 ms per token,    19.48 tokens per second)\n",
      "llama_print_timings:       total time =    2775.05 ms\n",
      "Llama.generate: prefix-match hit\n"
     ]
    },
    {
     "name": "stdout",
     "output_type": "stream",
     "text": [
      "304 -- 1\n"
     ]
    },
    {
     "name": "stderr",
     "output_type": "stream",
     "text": [
      "\n",
      "llama_print_timings:        load time =    3598.42 ms\n",
      "llama_print_timings:      sample time =       6.32 ms /    60 runs   (    0.11 ms per token,  9493.67 tokens per second)\n",
      "llama_print_timings: prompt eval time =     190.84 ms /    24 tokens (    7.95 ms per token,   125.76 tokens per second)\n",
      "llama_print_timings:        eval time =    3033.07 ms /    59 runs   (   51.41 ms per token,    19.45 tokens per second)\n",
      "llama_print_timings:       total time =    3310.16 ms\n",
      "Llama.generate: prefix-match hit\n"
     ]
    },
    {
     "name": "stdout",
     "output_type": "stream",
     "text": [
      "305 -- 1\n"
     ]
    },
    {
     "name": "stderr",
     "output_type": "stream",
     "text": [
      "\n",
      "llama_print_timings:        load time =    3598.42 ms\n",
      "llama_print_timings:      sample time =       5.30 ms /    56 runs   (    0.09 ms per token, 10574.02 tokens per second)\n",
      "llama_print_timings: prompt eval time =     186.39 ms /    18 tokens (   10.36 ms per token,    96.57 tokens per second)\n",
      "llama_print_timings:        eval time =    2818.90 ms /    55 runs   (   51.25 ms per token,    19.51 tokens per second)\n",
      "llama_print_timings:       total time =    3079.09 ms\n",
      "Llama.generate: prefix-match hit\n"
     ]
    },
    {
     "name": "stdout",
     "output_type": "stream",
     "text": [
      "306 -- 1\n"
     ]
    },
    {
     "name": "stderr",
     "output_type": "stream",
     "text": [
      "\n",
      "llama_print_timings:        load time =    3598.42 ms\n",
      "llama_print_timings:      sample time =       5.13 ms /    54 runs   (    0.09 ms per token, 10530.42 tokens per second)\n",
      "llama_print_timings: prompt eval time =     189.05 ms /    21 tokens (    9.00 ms per token,   111.08 tokens per second)\n",
      "llama_print_timings:        eval time =    2720.21 ms /    53 runs   (   51.32 ms per token,    19.48 tokens per second)\n",
      "llama_print_timings:       total time =    2981.07 ms\n",
      "Llama.generate: prefix-match hit\n"
     ]
    },
    {
     "name": "stdout",
     "output_type": "stream",
     "text": [
      "307 -- 1\n"
     ]
    },
    {
     "name": "stderr",
     "output_type": "stream",
     "text": [
      "\n",
      "llama_print_timings:        load time =    3598.42 ms\n",
      "llama_print_timings:      sample time =       5.21 ms /    54 runs   (    0.10 ms per token, 10354.75 tokens per second)\n",
      "llama_print_timings: prompt eval time =     189.57 ms /    22 tokens (    8.62 ms per token,   116.05 tokens per second)\n",
      "llama_print_timings:        eval time =    2719.83 ms /    53 runs   (   51.32 ms per token,    19.49 tokens per second)\n",
      "llama_print_timings:       total time =    2982.47 ms\n",
      "Llama.generate: prefix-match hit\n"
     ]
    },
    {
     "name": "stdout",
     "output_type": "stream",
     "text": [
      "308 -- 1\n"
     ]
    },
    {
     "name": "stderr",
     "output_type": "stream",
     "text": [
      "\n",
      "llama_print_timings:        load time =    3598.42 ms\n",
      "llama_print_timings:      sample time =       5.15 ms /    56 runs   (    0.09 ms per token, 10869.57 tokens per second)\n",
      "llama_print_timings: prompt eval time =     186.48 ms /    18 tokens (   10.36 ms per token,    96.53 tokens per second)\n",
      "llama_print_timings:        eval time =    2820.51 ms /    55 runs   (   51.28 ms per token,    19.50 tokens per second)\n",
      "llama_print_timings:       total time =    3081.34 ms\n",
      "Llama.generate: prefix-match hit\n"
     ]
    },
    {
     "name": "stdout",
     "output_type": "stream",
     "text": [
      "309 -- 1\n"
     ]
    },
    {
     "name": "stderr",
     "output_type": "stream",
     "text": [
      "\n",
      "llama_print_timings:        load time =    3598.42 ms\n",
      "llama_print_timings:      sample time =       5.01 ms /    52 runs   (    0.10 ms per token, 10379.24 tokens per second)\n",
      "llama_print_timings: prompt eval time =     195.57 ms /    31 tokens (    6.31 ms per token,   158.51 tokens per second)\n",
      "llama_print_timings:        eval time =    2621.45 ms /    51 runs   (   51.40 ms per token,    19.45 tokens per second)\n",
      "llama_print_timings:       total time =    2885.59 ms\n",
      "Llama.generate: prefix-match hit\n"
     ]
    },
    {
     "name": "stdout",
     "output_type": "stream",
     "text": [
      "310 -- 1\n"
     ]
    },
    {
     "name": "stderr",
     "output_type": "stream",
     "text": [
      "\n",
      "llama_print_timings:        load time =    3598.42 ms\n",
      "llama_print_timings:      sample time =       5.49 ms /    55 runs   (    0.10 ms per token, 10010.92 tokens per second)\n",
      "llama_print_timings: prompt eval time =     190.02 ms /    22 tokens (    8.64 ms per token,   115.78 tokens per second)\n",
      "llama_print_timings:        eval time =    2770.28 ms /    54 runs   (   51.30 ms per token,    19.49 tokens per second)\n",
      "llama_print_timings:       total time =    3036.10 ms\n",
      "Llama.generate: prefix-match hit\n"
     ]
    },
    {
     "name": "stdout",
     "output_type": "stream",
     "text": [
      "311 -- 1\n"
     ]
    },
    {
     "name": "stderr",
     "output_type": "stream",
     "text": [
      "\n",
      "llama_print_timings:        load time =    3598.42 ms\n",
      "llama_print_timings:      sample time =       5.24 ms /    57 runs   (    0.09 ms per token, 10882.02 tokens per second)\n",
      "llama_print_timings: prompt eval time =     188.22 ms /    23 tokens (    8.18 ms per token,   122.19 tokens per second)\n",
      "llama_print_timings:        eval time =    2874.98 ms /    56 runs   (   51.34 ms per token,    19.48 tokens per second)\n",
      "llama_print_timings:       total time =    3138.96 ms\n",
      "Llama.generate: prefix-match hit\n"
     ]
    },
    {
     "name": "stdout",
     "output_type": "stream",
     "text": [
      "312 -- 1\n"
     ]
    },
    {
     "name": "stderr",
     "output_type": "stream",
     "text": [
      "\n",
      "llama_print_timings:        load time =    3598.42 ms\n",
      "llama_print_timings:      sample time =       5.34 ms /    57 runs   (    0.09 ms per token, 10664.17 tokens per second)\n",
      "llama_print_timings: prompt eval time =     186.66 ms /    20 tokens (    9.33 ms per token,   107.15 tokens per second)\n",
      "llama_print_timings:        eval time =    2871.84 ms /    56 runs   (   51.28 ms per token,    19.50 tokens per second)\n",
      "llama_print_timings:       total time =    3133.40 ms\n",
      "Llama.generate: prefix-match hit\n"
     ]
    },
    {
     "name": "stdout",
     "output_type": "stream",
     "text": [
      "313 -- 1\n"
     ]
    },
    {
     "name": "stderr",
     "output_type": "stream",
     "text": [
      "\n",
      "llama_print_timings:        load time =    3598.42 ms\n",
      "llama_print_timings:      sample time =       5.68 ms /    60 runs   (    0.09 ms per token, 10557.80 tokens per second)\n",
      "llama_print_timings: prompt eval time =     185.17 ms /    19 tokens (    9.75 ms per token,   102.61 tokens per second)\n",
      "llama_print_timings:        eval time =    3027.59 ms /    59 runs   (   51.32 ms per token,    19.49 tokens per second)\n",
      "llama_print_timings:       total time =    3294.09 ms\n",
      "Llama.generate: prefix-match hit\n"
     ]
    },
    {
     "name": "stdout",
     "output_type": "stream",
     "text": [
      "314 -- 1\n"
     ]
    },
    {
     "name": "stderr",
     "output_type": "stream",
     "text": [
      "\n",
      "llama_print_timings:        load time =    3598.42 ms\n",
      "llama_print_timings:      sample time =       4.50 ms /    50 runs   (    0.09 ms per token, 11121.00 tokens per second)\n",
      "llama_print_timings: prompt eval time =     178.04 ms /    10 tokens (   17.80 ms per token,    56.17 tokens per second)\n",
      "llama_print_timings:        eval time =    2510.50 ms /    49 runs   (   51.23 ms per token,    19.52 tokens per second)\n",
      "llama_print_timings:       total time =    2755.38 ms\n",
      "Llama.generate: prefix-match hit\n"
     ]
    },
    {
     "name": "stdout",
     "output_type": "stream",
     "text": [
      "315 -- 1\n"
     ]
    },
    {
     "name": "stderr",
     "output_type": "stream",
     "text": [
      "\n",
      "llama_print_timings:        load time =    3598.42 ms\n",
      "llama_print_timings:      sample time =       5.18 ms /    54 runs   (    0.10 ms per token, 10428.74 tokens per second)\n",
      "llama_print_timings: prompt eval time =     189.77 ms /    22 tokens (    8.63 ms per token,   115.93 tokens per second)\n",
      "llama_print_timings:        eval time =    2722.36 ms /    53 runs   (   51.37 ms per token,    19.47 tokens per second)\n",
      "llama_print_timings:       total time =    2984.85 ms\n",
      "Llama.generate: prefix-match hit\n"
     ]
    },
    {
     "name": "stdout",
     "output_type": "stream",
     "text": [
      "316 -- 1\n"
     ]
    },
    {
     "name": "stderr",
     "output_type": "stream",
     "text": [
      "\n",
      "llama_print_timings:        load time =    3598.42 ms\n",
      "llama_print_timings:      sample time =       5.33 ms /    53 runs   (    0.10 ms per token,  9945.58 tokens per second)\n",
      "llama_print_timings: prompt eval time =     199.12 ms /    30 tokens (    6.64 ms per token,   150.66 tokens per second)\n",
      "llama_print_timings:        eval time =    2674.55 ms /    52 runs   (   51.43 ms per token,    19.44 tokens per second)\n",
      "llama_print_timings:       total time =    2947.98 ms\n",
      "Llama.generate: prefix-match hit\n"
     ]
    },
    {
     "name": "stdout",
     "output_type": "stream",
     "text": [
      "317 -- 1\n"
     ]
    },
    {
     "name": "stderr",
     "output_type": "stream",
     "text": [
      "\n",
      "llama_print_timings:        load time =    3598.42 ms\n",
      "llama_print_timings:      sample time =       5.78 ms /    56 runs   (    0.10 ms per token,  9681.88 tokens per second)\n",
      "llama_print_timings: prompt eval time =     195.32 ms /    28 tokens (    6.98 ms per token,   143.35 tokens per second)\n",
      "llama_print_timings:        eval time =    2826.93 ms /    55 runs   (   51.40 ms per token,    19.46 tokens per second)\n",
      "llama_print_timings:       total time =    3103.62 ms\n"
     ]
    }
   ],
   "source": [
    "results = []\n",
    "i = 0\n",
    "for _, row in test.iterrows():\n",
    "  prepared_prompt = prompt + row['text'] + \"\\n### OUTPUT:\\n\"\n",
    "  json_out = ''\n",
    "  attempt = 0\n",
    "  while True:\n",
    "    attempt += 1\n",
    "    json_out = generate(prepared_prompt, attempt)\n",
    "    parsedJson = parseResult(json_out, row)\n",
    "    print(f\"{i} -- {attempt}\")\n",
    "    if parsedJson is not None:\n",
    "      parsedJson['text'] = row['text']\n",
    "      results.append(parsedJson)\n",
    "      i+=1\n",
    "      break"
   ]
  },
  {
   "cell_type": "code",
   "execution_count": 19,
   "metadata": {},
   "outputs": [
    {
     "data": {
      "text/plain": [
       "318"
      ]
     },
     "execution_count": 19,
     "metadata": {},
     "output_type": "execute_result"
    }
   ],
   "source": [
    "results_df = pd.DataFrame(results, columns=['text', 'pun_word', 'target_word', 'source_sense', 'target_sense'])\n",
    "results_df.to_json('outputs-task2-hetero-openocra7b-nohumor.json', orient=\"records\")\n",
    "len(results_df)"
   ]
  },
  {
   "cell_type": "code",
   "execution_count": 20,
   "metadata": {},
   "outputs": [],
   "source": [
    "def cprf(true, pred):\n",
    "  correct = (true['pun_word'].str.strip().str.lower() == pred['pun_word'].str.strip().str.lower()).sum()\n",
    "  coverage = len(pred) / len(true)\n",
    "  precision = correct / len(pred)\n",
    "  recall = correct / len(true)\n",
    "  f1 = (2 * precision * recall) / (precision + recall)\n",
    "  return coverage, precision, recall, f1"
   ]
  },
  {
   "cell_type": "code",
   "execution_count": 21,
   "metadata": {},
   "outputs": [
    {
     "name": "stdout",
     "output_type": "stream",
     "text": [
      "Coverage: 1.0000\n",
      "Precision: 0.6730\n",
      "Recall: 0.6730\n",
      "F1-Score: 0.6730\n"
     ]
    }
   ],
   "source": [
    "c, p, r, f1 = cprf(test, results_df)\n",
    "print(f\"Coverage: {c:.4f}\")\n",
    "print(f\"Precision: {p:.4f}\")\n",
    "print(f\"Recall: {r:.4f}\")\n",
    "print(f\"F1-Score: {f1:.4f}\")"
   ]
  },
  {
   "cell_type": "code",
   "execution_count": null,
   "metadata": {},
   "outputs": [],
   "source": []
  }
 ],
 "metadata": {
  "kernelspec": {
   "display_name": "llama",
   "language": "python",
   "name": "python3"
  },
  "language_info": {
   "codemirror_mode": {
    "name": "ipython",
    "version": 3
   },
   "file_extension": ".py",
   "mimetype": "text/x-python",
   "name": "python",
   "nbconvert_exporter": "python",
   "pygments_lexer": "ipython3",
   "version": "3.9.18"
  }
 },
 "nbformat": 4,
 "nbformat_minor": 2
}
